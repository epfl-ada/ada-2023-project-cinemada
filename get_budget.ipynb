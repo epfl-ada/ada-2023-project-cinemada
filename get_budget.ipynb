{
 "cells": [
  {
   "cell_type": "markdown",
   "id": "47d47219-2fc5-49b0-a3c0-582e61064c08",
   "metadata": {
    "tags": []
   },
   "source": [
    "# Data preperation step for Budget Analysis"
   ]
  },
  {
   "cell_type": "markdown",
   "id": "7fd014c7-c34d-458e-90df-1b4ae9f0688d",
   "metadata": {},
   "source": [
    "## Initial dataset expansion trial using TMDB API"
   ]
  },
  {
   "cell_type": "markdown",
   "id": "7e4e8d0f-0b75-48bd-8d52-133735bd0458",
   "metadata": {
    "jp-MarkdownHeadingCollapsed": true,
    "tags": []
   },
   "source": [
    "### Step 1. Making mapping by searching the function of TMDB API\n",
    "There are Wikipedia IDs and Freebase IDs as an indicator for the movie on our original CMU Movie datasets. As the freebase deprecated and the wiki-data project began, both those IDs are deprecated to the current movie DB database. We failed to find an exact mapping for Freebase ID and IMDB ID. Hence, we manually made a mapper for the TMDB movie ID, by using search API with the query of movie name. The API returns the list of the movies searched by the query. To guarantee the reliability of the matching, we checked the release year of the searched movies. If there are more than 2 results that have the same released year, we only chose the case in which only one of them has exactly the same release date as our CMU dataset. Among 81,741 movie data of the original CMU dataset, 57,354 movies have matched successfully. "
   ]
  },
  {
   "cell_type": "code",
   "execution_count": 1,
   "id": "3db6f0af-2ad2-49ad-86a5-1c4c8fa39a81",
   "metadata": {
    "tags": []
   },
   "outputs": [],
   "source": [
    "from pathlib import Path\n",
    "from tqdm import tqdm\n",
    "from urllib.parse import quote\n",
    "import pandas as pd\n",
    "import json\n",
    "import requests\n",
    "import threading"
   ]
  },
  {
   "cell_type": "markdown",
   "id": "f20c79b0-28d8-4ed3-8073-6ff14f390a59",
   "metadata": {},
   "source": [
    "You need to put your own token to re-implement.\n",
    "```python\n",
    "token = your_tmdb_private_token\n",
    "```"
   ]
  },
  {
   "cell_type": "code",
   "execution_count": 2,
   "id": "08cd7c31-15fe-48ac-a089-1f34d9699404",
   "metadata": {
    "tags": []
   },
   "outputs": [],
   "source": [
    "moviesum_path = Path('MovieSummaries/')\n",
    "act_col = [\"Wikipedia movie ID\", \"Freebase movie ID\", \"Movie release date\", \"Character name\", \"Actor date of birth\", \"Actor gender\", \"Actor height (in meters)\", \"Actor ethnicity (Freebase ID)\", \"Actor name\", \"Actor age at movie release\", \"Freebase character/actor map ID\", \"Freebase character ID\", \"Freebase actor ID\"]\n",
    "movie_col = [\"Wikipedia movie ID\",\"Freebase movie ID\",\"Movie name\",\"Movie release date\",\"Movie box office revenue\",\"Movie runtime\",\"Movie languages\",\"Movie countries\",\"Movie genres\"]\n",
    "character_data = pd.read_csv(moviesum_path / 'character.metadata.tsv',delimiter='\\t',header=None, names = act_col)\n",
    "movie_data = pd.read_csv(moviesum_path/ 'movie.metadata.tsv',delimiter='\\t',header=None, names = movie_col)"
   ]
  },
  {
   "cell_type": "code",
   "execution_count": null,
   "id": "b7a0012e-1c34-4fcf-9642-20c5d8411cb8",
   "metadata": {},
   "outputs": [],
   "source": [
    "movie2tmdb_id = {}\n",
    "movie2response = {}"
   ]
  },
  {
   "cell_type": "code",
   "execution_count": null,
   "id": "b5dab682-6faa-4f92-bc6f-b07a50b52250",
   "metadata": {},
   "outputs": [],
   "source": [
    "for i,x in tqdm(movie_data.iterrows(),total=movie_data.shape[0]):\n",
    "    url = f\"https://api.themoviedb.org/3/search/movie?query={url_encode_string(x['Movie name'])}&page=1\"\n",
    "    headers = {\n",
    "        \"accept\": \"application/json\",\n",
    "        \"Authorization\": token\n",
    "    }\n",
    "    response = requests.get(url, headers=headers)\n",
    "    res_json = json.loads(response.text)\n",
    "    if len(res_json['results']) == 0:\n",
    "        continue\n",
    "    movie2tmdb_id[i]=res_json['results'][0]['id']\n",
    "    movie2response[i] = res_json\n",
    "    movie2response[i]['Wikipedia movie ID'] = x['Wikipedia movie ID']\n",
    "    if i % 1000 == 999:\n",
    "        json.dump(movie2response, open('movie2res.json','w'))"
   ]
  },
  {
   "cell_type": "code",
   "execution_count": 43,
   "id": "727f96df-e103-4c14-bc84-431e0bc45565",
   "metadata": {
    "tags": []
   },
   "outputs": [
    {
     "name": "stderr",
     "output_type": "stream",
     "text": [
      "100%|██████████| 81741/81741 [1:05:33<00:00, 20.78it/s]\n"
     ]
    }
   ],
   "source": [
    "def fetch_movie_data(row, movie2tmdb_id, movie2response, lock):\n",
    "    url = f\"https://api.themoviedb.org/3/search/movie?query={quote(row['Movie name'])}&page=1\"\n",
    "    headers = {\n",
    "        \"accept\": \"application/json\",\n",
    "        \"Authorization\": token\n",
    "    }\n",
    "    response = requests.get(url, headers=headers)\n",
    "    try:\n",
    "        res_json = json.loads(response.text)\n",
    "    except json.decoder.JSONDecodeError:\n",
    "        movie2response[row.name] = {}\n",
    "        pass\n",
    "    \n",
    "    if len(res_json['results']) > 0:\n",
    "        with lock:\n",
    "            movie2tmdb_id[row.name] = res_json['results'][0]['id']\n",
    "            movie2response[row.name] = res_json\n",
    "            movie2response[row.name]['Wikipedia movie ID'] = row['Wikipedia movie ID']\n",
    "            \n",
    "movie2tmdb_id = {}\n",
    "movie2response = {}\n",
    "lock = threading.Lock()\n",
    "threads = []\n",
    "for i, row in tqdm(movie_data.iterrows(), total=movie_data.shape[0]):\n",
    "    if row.name in movie2tmdb_id:\n",
    "        continue\n",
    "    t = threading.Thread(target=fetch_movie_data, args=(row, movie2tmdb_id, movie2response, lock))\n",
    "    threads.append(t)\n",
    "    t.start()\n",
    "\n",
    "    if len(threads) >= 20:\n",
    "        threads[0].join()\n",
    "        threads.pop(0)\n",
    "\n",
    "for t in threads:\n",
    "    t.join()\n",
    "    \n",
    "with open('movie2res.json', 'w') as f:\n",
    "    json.dump(movie2response, f)"
   ]
  },
  {
   "cell_type": "code",
   "execution_count": 44,
   "id": "68b69f9d-ca0b-4f48-9496-4b438595960f",
   "metadata": {
    "tags": []
   },
   "outputs": [],
   "source": [
    "with open('movie2res.json', 'w') as f:\n",
    "    json.dump(movie2response, f)"
   ]
  },
  {
   "cell_type": "code",
   "execution_count": 87,
   "id": "127231d0-fbdc-4a22-aee1-eda1a3b81726",
   "metadata": {
    "tags": []
   },
   "outputs": [
    {
     "name": "stderr",
     "output_type": "stream",
     "text": [
      "100%|██████████| 81741/81741 [00:01<00:00, 71849.04it/s]\n"
     ]
    }
   ],
   "source": [
    "wid2matched_id = {}\n",
    "cnt =0\n",
    "for i, row in tqdm(movie_data.iterrows(), total=movie_data.shape[0]):\n",
    "    # match with Movie release date\n",
    "    if row.name not in movie2response or not movie2response[row.name]:\n",
    "        continue\n",
    "    wid = movie2response[row.name]['Wikipedia movie ID']\n",
    "    res = movie2response[row.name]['results']\n",
    "    matched_year = [i for i in res if str(i.get('release_date')).split('-')[0] == str(row['Movie release date']).split('-')[0]]\n",
    "    if len(matched_year) == 1:\n",
    "        wid2matched_id[wid] = matched_year[0]['id']\n",
    "    elif len(matched_year) > 1:\n",
    "        # 1552 samples can be identified by perfect matching.\n",
    "        perfect_matched = [i for i in res if str(i.get('release_date')) == str(row['Movie release date'])]\n",
    "        if len(perfect_matched) == 1:\n",
    "            wid2matched_id[wid] = perfect_matched[0]['id']\n",
    "    # 1812 samples cannot be matched by year."
   ]
  },
  {
   "cell_type": "code",
   "execution_count": 88,
   "id": "070257bd-4855-4600-bea6-1b71eff18536",
   "metadata": {
    "tags": []
   },
   "outputs": [],
   "source": [
    "with open('wikipedia_id2tmdb_id.json', 'w') as f:\n",
    "    json.dump(wid2matched_id, f)"
   ]
  },
  {
   "cell_type": "markdown",
   "id": "3a1da16d-7370-4a9c-a196-4b937b3da605",
   "metadata": {
    "jp-MarkdownHeadingCollapsed": true,
    "tags": []
   },
   "source": [
    "### Step 2. Get movie detail information\n",
    "With 57,354 TMDB movie ids, we use movie detail API(https://developer.themoviedb.org/reference/movie-details) to obtain the information of the movie, especially the budget and revenue data. Since not all of the movie contains that data, we need to check how much data exists which contains both budget and revenue data. \n",
    "The results are as follows.\n",
    "- Available budget field count: 8631\n",
    "- Available revenue field count: 7760\n",
    "- Both fields are available: 5756\n",
    "\n",
    "Below is an example schema of the response object.\n",
    "```json\n",
    "{\n",
    "  \"adult\": false,\n",
    "  \"backdrop_path\": \"/anSbunnEMI0TSmizqUSRACoe18l.jpg\",\n",
    "  \"belongs_to_collection\": null,\n",
    "  \"budget\": 28000000,\n",
    "  \"genres\": [\n",
    "    {\n",
    "      \"id\": 28,\n",
    "      \"name\": \"Action\"\n",
    "    },\n",
    "    {\n",
    "      \"id\": 27,\n",
    "      \"name\": \"Horror\"\n",
    "    },\n",
    "    {\n",
    "      \"id\": 878,\n",
    "      \"name\": \"Science Fiction\"\n",
    "    }\n",
    "  ],\n",
    "  \"homepage\": \"http://www.theofficialjohncarpenter.com/ghost-of-mars/\",\n",
    "  \"id\": 10016,\n",
    "  \"imdb_id\": \"tt0228333\",\n",
    "  \"original_language\": \"en\",\n",
    "  \"original_title\": \"Ghosts of Mars\",\n",
    "  \"overview\": \"In 2176, a Martian police unit is sent to pick up a highly dangerous criminal at a remote mining post. Upon arrival, the cops find the post deserted and something far more dangerous than any criminal — the original inhabitants of Mars, hellbent on getting their planet back.\",\n",
    "  \"popularity\": 22.264,\n",
    "  \"poster_path\": \"/i2zztssCIbahGES1fdfWFmDXian.jpg\",\n",
    "  \"production_companies\": [\n",
    "    {\n",
    "      \"id\": 51312,\n",
    "      \"logo_path\": null,\n",
    "      \"name\": \"Animationwerks\",\n",
    "      \"origin_country\": \"\"\n",
    "    },\n",
    "    {\n",
    "      \"id\": 3287,\n",
    "      \"logo_path\": \"/bz6GbCQQXGNE56LTW9dwgksW0Iw.png\",\n",
    "      \"name\": \"Screen Gems\",\n",
    "      \"origin_country\": \"US\"\n",
    "    },\n",
    "    {\n",
    "      \"id\": 23895,\n",
    "      \"logo_path\": null,\n",
    "      \"name\": \"Storm King Productions\",\n",
    "      \"origin_country\": \"\"\n",
    "    }\n",
    "  ],\n",
    "  \"production_countries\": [\n",
    "    {\n",
    "      \"iso_3166_1\": \"US\",\n",
    "      \"name\": \"United States of America\"\n",
    "    }\n",
    "  ],\n",
    "  \"release_date\": \"2001-08-24\",\n",
    "  \"revenue\": 14010832,\n",
    "  \"runtime\": 98,\n",
    "  \"spoken_languages\": [\n",
    "    {\n",
    "      \"english_name\": \"English\",\n",
    "      \"iso_639_1\": \"en\",\n",
    "      \"name\": \"English\"\n",
    "    }\n",
    "  ],\n",
    "  \"status\": \"Released\",\n",
    "  \"tagline\": \"Terror is the same on any planet.\",\n",
    "  \"title\": \"Ghosts of Mars\",\n",
    "  \"video\": false,\n",
    "  \"vote_average\": 5.125,\n",
    "  \"vote_count\": 982\n",
    "}\n",
    "```"
   ]
  },
  {
   "cell_type": "code",
   "execution_count": null,
   "id": "83c7b127-408e-407f-88cc-16c7db4e6071",
   "metadata": {},
   "outputs": [],
   "source": [
    "def fetch_detail(tmdb_id, tmdb_id2detail, lock):\n",
    "    url = f\"https://api.themoviedb.org/3/movie/{tmdb_id}?language=en-US\"\n",
    "    headers = {\n",
    "        \"accept\": \"application/json\",\n",
    "        \"Authorization\": token\n",
    "    }\n",
    "    response = requests.get(url, headers=headers)\n",
    "    \n",
    "    with lock:\n",
    "        tmdb_id2detail[tmdb_id] = response.text\n",
    "\n",
    "tmdb_id2detail = {}\n",
    "lock = threading.Lock()\n",
    "threads = []\n",
    "for tmdb_id in tqdm(wid2matched_id.values()):\n",
    "    t = threading.Thread(target=fetch_detail, args=(tmdb_id, tmdb_id2detail, lock))\n",
    "    threads.append(t)\n",
    "    t.start()\n",
    "\n",
    "    if len(threads) >= 10:\n",
    "        threads[0].join()\n",
    "        threads.pop(0)\n",
    "\n",
    "for t in threads:\n",
    "    t.join()"
   ]
  },
  {
   "cell_type": "code",
   "execution_count": null,
   "id": "f1573445-9581-43be-a27f-e57ebd667522",
   "metadata": {},
   "outputs": [],
   "source": [
    "with open('tmdb_id2detail.json', 'w') as f:\n",
    "    json.dump(tmdb_id2detail, f)"
   ]
  },
  {
   "cell_type": "code",
   "execution_count": 152,
   "id": "bcd350ac-bf2b-4eb2-bdda-26de023be629",
   "metadata": {
    "tags": []
   },
   "outputs": [],
   "source": [
    "budgets = []\n",
    "revenues = []\n",
    "valid_details = {}\n",
    "for k,v in tmdb_id2detail.items():\n",
    "    budget = json.loads(v)['budget']\n",
    "    revenue = json.loads(v)['revenue']\n",
    "    budgets.append(budget)\n",
    "    revenues.append(revenue)\n",
    "    if budget > 0 and revenue > 0:\n",
    "        valid_details[k]=json.loads(v)"
   ]
  },
  {
   "cell_type": "code",
   "execution_count": 137,
   "id": "ffa308b0-1d90-4eef-94a7-48382e63f479",
   "metadata": {
    "tags": []
   },
   "outputs": [],
   "source": [
    "budgets_valid = [x for x in budgets if x > 0]\n",
    "revenues_valid = [x for x in revenues if x > 0]"
   ]
  },
  {
   "cell_type": "code",
   "execution_count": 147,
   "id": "8254af58-45be-42ae-a8cc-de1ca4b943bd",
   "metadata": {
    "tags": []
   },
   "outputs": [
    {
     "data": {
      "text/plain": [
       "(8631, 7760, 5756)"
      ]
     },
     "execution_count": 147,
     "metadata": {},
     "output_type": "execute_result"
    }
   ],
   "source": [
    "len(budgets_valid), len(revenues_valid), len(list(valid_details.values()))"
   ]
  },
  {
   "cell_type": "markdown",
   "id": "1782de5d-fe0b-4c44-a2de-78a21ffc6be1",
   "metadata": {
    "jp-MarkdownHeadingCollapsed": true,
    "tags": []
   },
   "source": [
    "### 3. The decision to expand to the entire TMDB dataset\n",
    "We concluded 5.7K data point is too sparse to analyze the career of the actor. Even if we focus on the most-appeared actors, more than 60% of his/her movies won't have budget and revenue data. In order to address this issue, we decided to get all movie information from TMDB. According to the latest database dump(https://developer.themoviedb.org/docs/daily-id-exports) on Nov 14th, there are total of 863,167 movies, which is 15 times bigger than our original dataset. \n",
    "```bash\n",
    "python download_data.py\n",
    "```\n",
    "This code is used to obtain our dataset, which is available in this link (link to Google Drive). 34 hours computation of full CPU load is required to finish the dataset construction. \n",
    "\n",
    "(values need to be changed after processing) Among a total of 741,993 datasets, 11,481 data have both budgets and revenues fields."
   ]
  },
  {
   "cell_type": "code",
   "execution_count": 3,
   "id": "7a31ae07-22f9-4d20-9a1b-467e84bd256e",
   "metadata": {
    "tags": []
   },
   "outputs": [
    {
     "name": "stdout",
     "output_type": "stream",
     "text": [
      "39630 17251 11481 741993\n"
     ]
    }
   ],
   "source": [
    "import pandas as pd\n",
    "import json\n",
    "import os\n",
    "\n",
    "data_path = 'tmdb_resources/tmdb_id2detail.json'\n",
    "if not os.path.exists(data_path):\n",
    "    tmdb_id2detail = {}\n",
    "else:\n",
    "    tmdb_id2detail = json.load(open(data_path,'r'))\n",
    "\n",
    "budgets = []\n",
    "revenues = []\n",
    "valid_details = {}\n",
    "for k,v in tmdb_id2detail.items():\n",
    "    budget = json.loads(v)['budget']\n",
    "    revenue = json.loads(v)['revenue']\n",
    "    budgets.append(budget)\n",
    "    revenues.append(revenue)\n",
    "    if budget > 0 and revenue > 0:\n",
    "        valid_details[k]=json.loads(v)\n",
    "        \n",
    "budgets_valid = [x for x in budgets if x > 0]\n",
    "revenues_valid = [x for x in revenues if x > 0]\n",
    "\n",
    "print(len(budgets_valid), len(revenues_valid), len(list(valid_details.values())), len(list(tmdb_id2detail.keys())))"
   ]
  },
  {
   "cell_type": "markdown",
   "id": "ccc6aff5-11a7-4a55-9af9-a98fc8129cda",
   "metadata": {
    "jp-MarkdownHeadingCollapsed": true,
    "tags": []
   },
   "source": [
    "### 4. Get credit data\n",
    "\n",
    "For the movies with both budget and revenue fields, we received the credit data by using movie/credits API(https://developer.themoviedb.org/reference/movie-credits) on TMDB. This response contains information of the actors and crews, including their role. Same as detail API, download_data.py contains the execution code for downloading credit data.\n",
    "Below is an example schema of the return object of the API.\n",
    "\n",
    "```json\n",
    "{\n",
    "  \"id\": 10016,\n",
    "  \"cast\": [\n",
    "    {\n",
    "      \"adult\": false,\n",
    "      \"gender\": 1,\n",
    "      \"id\": 57395,\n",
    "      \"known_for_department\": \"Acting\",\n",
    "      \"name\": \"Natasha Henstridge\",\n",
    "      \"original_name\": \"Natasha Henstridge\",\n",
    "      \"popularity\": 49.626,\n",
    "      \"profile_path\": \"/lfRFm3MLOGPtaDHWTstoQfKAyLM.jpg\",\n",
    "      \"cast_id\": 10,\n",
    "      \"character\": \"Lt. Melanie Ballard\",\n",
    "      \"credit_id\": \"52fe43089251416c75000d71\",\n",
    "      \"order\": 0\n",
    "    },\n",
    "    {\n",
    "      \"adult\": false,\n",
    "      \"gender\": 2,\n",
    "      \"id\": 1368878,\n",
    "      \"known_for_department\": \"Crew\",\n",
    "      \"name\": \"Damon Caro\",\n",
    "      \"original_name\": \"Damon Caro\",\n",
    "      \"popularity\": 2.995,\n",
    "      \"profile_path\": \"/7uw119r2YmsQYIduvSSP3hxIT94.jpg\",\n",
    "      \"cast_id\": 67,\n",
    "      \"character\": \"Shape-Male Intern (uncredited)\",\n",
    "      \"credit_id\": \"5ff26ade1108a800418987bb\",\n",
    "      \"order\": 25\n",
    "    },\n",
    "  ]\n",
    "}\n",
    "```"
   ]
  },
  {
   "cell_type": "code",
   "execution_count": 4,
   "id": "037f26ed-2da9-4c0b-9c7a-fd9524b66385",
   "metadata": {
    "tags": []
   },
   "outputs": [],
   "source": [
    "data_path = 'tmdb_resources/tmdb_id2credit.json'\n",
    "tmdb_id2credit = json.load(open(data_path,'r')) if os.path.exists(data_path) else {}"
   ]
  },
  {
   "cell_type": "code",
   "execution_count": 11,
   "id": "65486c5b-3ece-4469-a011-5af668935487",
   "metadata": {
    "tags": []
   },
   "outputs": [
    {
     "name": "stderr",
     "output_type": "stream",
     "text": [
      "100%|██████████| 11728/11728 [00:00<00:00, 12468.20it/s]\n"
     ]
    }
   ],
   "source": [
    "from collections import defaultdict\n",
    "from tqdm import tqdm\n",
    "\n",
    "actor_cnt = defaultdict(int)\n",
    "for k,v in tqdm(tmdb_id2credit.items()):\n",
    "    res = json.loads(v)['cast']\n",
    "    for x in res:\n",
    "        if x['known_for_department'] == 'Acting':\n",
    "            actor_cnt[x['id']] += 1"
   ]
  },
  {
   "cell_type": "code",
   "execution_count": 13,
   "id": "e51c0278-efdb-4cc2-8b37-c507a0ee4c0a",
   "metadata": {
    "tags": []
   },
   "outputs": [
    {
     "name": "stdout",
     "output_type": "stream",
     "text": [
      "161797\n"
     ]
    },
    {
     "data": {
      "text/plain": [
       "(array([1.15082e+05, 2.14790e+04, 8.93300e+03, 9.72600e+03, 2.97500e+03,\n",
       "        2.14400e+03, 9.31000e+02, 4.18000e+02, 9.90000e+01, 1.00000e+01]),\n",
       " array([0.        , 0.45538769, 0.91077538, 1.36616307, 1.82155076,\n",
       "        2.27693845, 2.73232613, 3.18771382, 3.64310151, 4.0984892 ,\n",
       "        4.55387689]),\n",
       " <BarContainer object of 10 artists>)"
      ]
     },
     "execution_count": 13,
     "metadata": {},
     "output_type": "execute_result"
    },
    {
     "data": {
      "image/png": "[encoded data removed]",
      "text/plain": [
       "<Figure size 640x480 with 1 Axes>"
      ]
     },
     "metadata": {},
     "output_type": "display_data"
    }
   ],
   "source": [
    "import matplotlib.pyplot as plt\n",
    "import math\n",
    "print(len(list(actor_cnt.keys())))\n",
    "plt.hist([math.log(v) for v in actor_cnt.values()])"
   ]
  },
  {
   "cell_type": "markdown",
   "id": "79703eaa-faf1-49c4-9998-18fda8692717",
   "metadata": {},
   "source": [
    "### Summary of data processing\n",
    "We decided that the CMU movie dataset was not large enough to test our hypothesis, so we expanded the data with recently released data from the TMDB. We have 716K movie data, 10K budget and revenue data, and 161K actor data."
   ]
  }
 ],
 "metadata": {
  "kernelspec": {
   "display_name": "Python 3 (ipykernel)",
   "language": "python",
   "name": "python3"
  },
  "language_info": {
   "codemirror_mode": {
    "name": "ipython",
    "version": 3
   },
   "file_extension": ".py",
   "mimetype": "text/x-python",
   "name": "python",
   "nbconvert_exporter": "python",
   "pygments_lexer": "ipython3",
   "version": "3.11.5"
  }
 },
 "nbformat": 4,
 "nbformat_minor": 5
}
