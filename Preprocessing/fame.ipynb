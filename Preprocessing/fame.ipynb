{
 "cells": [
  {
   "cell_type": "code",
   "execution_count": 1,
   "metadata": {},
   "outputs": [],
   "source": [
    "import requests\n",
    "from bs4 import BeautifulSoup\n",
    "import pandas as pd\n",
    "\n",
    "from selenium import webdriver\n",
    "from selenium.webdriver.common.by import By\n",
    "from selenium.webdriver.common.keys import Keys\n",
    "from selenium.webdriver.support.ui import WebDriverWait\n",
    "from selenium.webdriver.support import expected_conditions as EC\n",
    "from selenium.webdriver.chrome.service import Service\n",
    "from selenium.webdriver.chrome.options import Options\n",
    "from selenium.common.exceptions import TimeoutException\n",
    "\n",
    "import time"
   ]
  },
  {
   "cell_type": "code",
   "execution_count": 17,
   "metadata": {},
   "outputs": [
    {
     "name": "stdout",
     "output_type": "stream",
     "text": [
      "             Actor Name Popularity (%) Fame (%)\n",
      "0        Morgan Freeman             98       86\n",
      "1           Betty White             95       83\n",
      "2        Robin Williams             96       83\n",
      "3        Michael J. Fox             96       81\n",
      "4     Denzel Washington             97       79\n",
      "...                 ...            ...      ...\n",
      "1495       Merve Dizdar             32       18\n",
      "1496    Adriana Barraza             35       18\n",
      "1497           Mohanlal             32       17\n",
      "1498   Yalitza Aparicio             32       17\n",
      "1499       Romain Duris             31       17\n",
      "\n",
      "[1500 rows x 3 columns]\n"
     ]
    }
   ],
   "source": [
    "url = 'https://today.yougov.com/ratings/entertainment/popularity/all-time-actors-actresses/all'\n",
    "path = \"Path\" # Path to webdriver executable\n",
    "\n",
    "chrome_options = Options()\n",
    "chrome_options.binary_location = r\"C:\\Program Files\\Google\\Chrome\\Application\\chrome.exe\"\n",
    "\n",
    "# Use only chrome_options, not executable_path\n",
    "driver = webdriver.Chrome(options=chrome_options)\n",
    "\n",
    "driver.get(url)\n",
    "\n",
    "\n",
    "# Decline cookies settings\n",
    "try:\n",
    "    decline_button = WebDriverWait(driver, 10).until(\n",
    "        EC.presence_of_element_located((By.ID, 'onetrust-reject-all-handler'))\n",
    "    )\n",
    "\n",
    "    decline_button.click()\n",
    "except Exception as e:\n",
    "    pass\n",
    "\n",
    "# Scroll down to load more data\n",
    "while True:\n",
    "    # Scroll to the bottom of the page\n",
    "    driver.find_element(By.TAG_NAME, 'body').send_keys(Keys.END)\n",
    "\n",
    "    # Wait for a short interval to allow the content to load\n",
    "    time.sleep(2)\n",
    "\n",
    "    # Check if there are more actors loaded\n",
    "    try:\n",
    "        load_more_button = WebDriverWait(driver, 100).until(\n",
    "            EC.element_to_be_clickable((By.CLASS_NAME, 'load-more-button'))\n",
    "        )\n",
    "        \n",
    "        load_more_button.click()\n",
    "    except TimeoutException:\n",
    "        break\n",
    "\n",
    "html = driver.page_source\n",
    "driver.quit()\n",
    "\n",
    "# Parse the HTML with BeautifulSoup\n",
    "soup = BeautifulSoup(html, 'html.parser')\n",
    "\n",
    "# Element containing the list of actors\n",
    "actors_container = soup.find('div', class_='rankings-entities-list-container')\n",
    "\n",
    "# Actor's list items\n",
    "actor_items = actors_container.find_all('li', class_='ng-star-inserted')\n",
    "\n",
    "# Create lists to store data\n",
    "actor_names = []\n",
    "popularity_percentages = []\n",
    "fame_percentages = []\n",
    "\n",
    "for actor_item in actor_items:\n",
    "    # Extract the actor name\n",
    "    actor_name = actor_item.find('img', class_='ng-star-inserted')['alt'] if actor_item.find('img', class_='ng-star-inserted') else None\n",
    "\n",
    "    # Extract popularity percentage\n",
    "    popularity_element = actor_item.find('span', class_='compact')\n",
    "    popularity_percentage = popularity_element.text.split('%')[0] if popularity_element else None\n",
    "\n",
    "    # Extract fame percentage\n",
    "    fame_element = actor_item.find('span', class_='rankings-item-active')\n",
    "    fame_percentage = fame_element.text.split('%')[0] if fame_element else None\n",
    "\n",
    "    actor_names.append(actor_name)\n",
    "    popularity_percentages.append(popularity_percentage)\n",
    "    fame_percentages.append(fame_percentage)\n",
    "\n",
    "data = {\n",
    "    'Actor Name': actor_names,\n",
    "    'Popularity (%)': popularity_percentages,\n",
    "    'Fame (%)': fame_percentages\n",
    "}\n",
    "\n",
    "famous_actors = pd.DataFrame(data)\n",
    "\n",
    "print(famous_actors)\n",
    "famous_actors.to_csv('../Data/preprocessed_data/famous_actors_db.csv', index=False)\n"
   ]
  },
  {
   "cell_type": "markdown",
   "metadata": {},
   "source": [
    "### 1. Find relationship between fame and popularity"
   ]
  },
  {
   "cell_type": "code",
   "execution_count": 21,
   "metadata": {},
   "outputs": [],
   "source": [
    "actors_db = pd.read_csv('../Data/preprocessed_data/actors_db.csv')\n",
    "famous_actors_db = pd.read_csv('../Data/preprocessed_data/famous_actors_db.csv')"
   ]
  },
  {
   "cell_type": "code",
   "execution_count": 27,
   "metadata": {},
   "outputs": [
    {
     "name": "stdout",
     "output_type": "stream",
     "text": [
      "name                 0\n",
      "gender               0\n",
      "popularity           0\n",
      "original_language    0\n",
      "genre_ids            0\n",
      "known_for            0\n",
      "id                   0\n",
      "Actor Name           0\n",
      "Popularity (%)       0\n",
      "Fame (%)             0\n",
      "dtype: int64\n",
      "Correlation Coefficient: 0.21853557565634227\n"
     ]
    }
   ],
   "source": [
    "# Merge DataFrames on actor name\n",
    "merged_data = pd.merge(actors_db, famous_actors_db, left_on='name', right_on='Actor Name', how='inner')\n",
    "\n",
    "# Check for missing values\n",
    "print(merged_data.isnull().sum())\n",
    "\n",
    "# Calculate the correlation coefficient\n",
    "correlation_coefficient = merged_data['Popularity (%)'].corr(merged_data['popularity'], method='pearson')\n",
    "print(f'Correlation Coefficient: {correlation_coefficient}')"
   ]
  },
  {
   "cell_type": "code",
   "execution_count": 26,
   "metadata": {},
   "outputs": [
    {
     "data": {
      "image/png": "[encoded data removed]",
      "text/plain": [
       "<Figure size 640x480 with 1 Axes>"
      ]
     },
     "metadata": {},
     "output_type": "display_data"
    }
   ],
   "source": [
    "import matplotlib.pyplot as plt\n",
    "\n",
    "# Not considered low\n",
    "# Scatter plot\n",
    "plt.scatter(merged_data['Popularity (%)'], merged_data['popularity'])\n",
    "plt.xlabel('YouGov popularity (%)')\n",
    "plt.ylabel('Tmdb Popularity')\n",
    "plt.yscale('log')\n",
    "plt.title('Relationship between Fame and Popularity')\n",
    "plt.show()\n"
   ]
  },
  {
   "cell_type": "markdown",
   "metadata": {},
   "source": [
    "Unfortunately, we cannot conclude a relationship between fame and popularity. We originally wanted to explore the relationship between fame and popularity for actors who have both features and determine if it's reasonable to extend the fame feature to other actors.  \n",
    "But following the results we obtained, the correlation coefficient that is too weak (0.2) and the graph showing the relationship between both, we cannot conclude this latter."
   ]
  },
  {
   "cell_type": "markdown",
   "metadata": {},
   "source": [
    "## Movie trajectory for actors"
   ]
  },
  {
   "cell_type": "code",
   "execution_count": 3,
   "metadata": {},
   "outputs": [],
   "source": [
    "# extract a json file and transform it into a dataframe\n",
    "import requests\n",
    "import pandas as pd\n",
    "import json\n",
    "\n",
    "tmdb_id2credit = json.load(open('../Data/tmdb_resources/tmdb_id2credit_full.json'))\n",
    "id2credit_df = pd.DataFrame.from_dict(tmdb_id2credit, orient='index')\n",
    "id2credit_df = id2credit_df.drop(columns='crew')\n",
    "\n",
    "tmdb_id2credit_imdb_rating = json.load(open('../Data/tmdb_resources/tmdb_id2detail_imdb_rating.json'))\n",
    "imdb_rating_df = pd.DataFrame.from_dict(tmdb_id2credit_imdb_rating, orient='index')"
   ]
  },
  {
   "cell_type": "code",
   "execution_count": 4,
   "metadata": {},
   "outputs": [
    {
     "name": "stdout",
     "output_type": "stream",
     "text": [
      "The number of movies with revenue is 18,904\n",
      "The number of movies with imdb ratings is 393,909\n"
     ]
    },
    {
     "data": {
      "text/html": [
       "<div>\n",
       "<style scoped>\n",
       "    .dataframe tbody tr th:only-of-type {\n",
       "        vertical-align: middle;\n",
       "    }\n",
       "\n",
       "    .dataframe tbody tr th {\n",
       "        vertical-align: top;\n",
       "    }\n",
       "\n",
       "    .dataframe thead th {\n",
       "        text-align: right;\n",
       "    }\n",
       "</style>\n",
       "<table border=\"1\" class=\"dataframe\">\n",
       "  <thead>\n",
       "    <tr style=\"text-align: right;\">\n",
       "      <th></th>\n",
       "      <th>id</th>\n",
       "      <th>original_title</th>\n",
       "      <th>release_date</th>\n",
       "      <th>original_language</th>\n",
       "      <th>genres</th>\n",
       "      <th>budget</th>\n",
       "      <th>revenue</th>\n",
       "      <th>imdb_average_rating</th>\n",
       "    </tr>\n",
       "  </thead>\n",
       "  <tbody>\n",
       "    <tr>\n",
       "      <th>0</th>\n",
       "      <td>10016</td>\n",
       "      <td>Ghosts of Mars</td>\n",
       "      <td>2001-08-24</td>\n",
       "      <td>en</td>\n",
       "      <td>[{'id': 28, 'name': 'Action'}, {'id': 27, 'nam...</td>\n",
       "      <td>28000000</td>\n",
       "      <td>14010832</td>\n",
       "      <td>4.9</td>\n",
       "    </tr>\n",
       "    <tr>\n",
       "      <th>1</th>\n",
       "      <td>263493</td>\n",
       "      <td>The Gangsters</td>\n",
       "      <td>1913-05-29</td>\n",
       "      <td>en</td>\n",
       "      <td>[{'id': 35, 'name': 'Comedy'}]</td>\n",
       "      <td>0</td>\n",
       "      <td>0</td>\n",
       "      <td>6.8</td>\n",
       "    </tr>\n",
       "    <tr>\n",
       "      <th>2</th>\n",
       "      <td>50944</td>\n",
       "      <td>The Sorcerer's Apprentice</td>\n",
       "      <td>2002-04-12</td>\n",
       "      <td>en</td>\n",
       "      <td>[{'id': 12, 'name': 'Adventure'}, {'id': 10751...</td>\n",
       "      <td>0</td>\n",
       "      <td>0</td>\n",
       "      <td>4.2</td>\n",
       "    </tr>\n",
       "    <tr>\n",
       "      <th>3</th>\n",
       "      <td>33592</td>\n",
       "      <td>White of the Eye</td>\n",
       "      <td>1987-06-19</td>\n",
       "      <td>en</td>\n",
       "      <td>[{'id': 27, 'name': 'Horror'}, {'id': 53, 'nam...</td>\n",
       "      <td>0</td>\n",
       "      <td>0</td>\n",
       "      <td>6.1</td>\n",
       "    </tr>\n",
       "    <tr>\n",
       "      <th>4</th>\n",
       "      <td>43839</td>\n",
       "      <td>Alexander's Ragtime Band</td>\n",
       "      <td>1938-05-24</td>\n",
       "      <td>en</td>\n",
       "      <td>[{'id': 18, 'name': 'Drama'}, {'id': 10402, 'n...</td>\n",
       "      <td>2000000</td>\n",
       "      <td>4000000</td>\n",
       "      <td>6.8</td>\n",
       "    </tr>\n",
       "    <tr>\n",
       "      <th>...</th>\n",
       "      <td>...</td>\n",
       "      <td>...</td>\n",
       "      <td>...</td>\n",
       "      <td>...</td>\n",
       "      <td>...</td>\n",
       "      <td>...</td>\n",
       "      <td>...</td>\n",
       "      <td>...</td>\n",
       "    </tr>\n",
       "    <tr>\n",
       "      <th>863077</th>\n",
       "      <td>1096279</td>\n",
       "      <td>Eva</td>\n",
       "      <td>2021-01-01</td>\n",
       "      <td>id</td>\n",
       "      <td>[{'id': 99, 'name': 'Documentary'}]</td>\n",
       "      <td>0</td>\n",
       "      <td>0</td>\n",
       "      <td>NaN</td>\n",
       "    </tr>\n",
       "    <tr>\n",
       "      <th>863078</th>\n",
       "      <td>1001995</td>\n",
       "      <td>勾魂令</td>\n",
       "      <td>2018-02-02</td>\n",
       "      <td>zh</td>\n",
       "      <td>[{'id': 27, 'name': 'Horror'}]</td>\n",
       "      <td>0</td>\n",
       "      <td>0</td>\n",
       "      <td>NaN</td>\n",
       "    </tr>\n",
       "    <tr>\n",
       "      <th>863079</th>\n",
       "      <td>823988</td>\n",
       "      <td>La Voix Humaine / L’Heure Espagnole</td>\n",
       "      <td>2021-03-26</td>\n",
       "      <td>en</td>\n",
       "      <td>[]</td>\n",
       "      <td>0</td>\n",
       "      <td>0</td>\n",
       "      <td>NaN</td>\n",
       "    </tr>\n",
       "    <tr>\n",
       "      <th>863080</th>\n",
       "      <td>1022210</td>\n",
       "      <td>How Science Changed Our World</td>\n",
       "      <td>2010-12-23</td>\n",
       "      <td>en</td>\n",
       "      <td>[{'id': 99, 'name': 'Documentary'}]</td>\n",
       "      <td>0</td>\n",
       "      <td>0</td>\n",
       "      <td>NaN</td>\n",
       "    </tr>\n",
       "    <tr>\n",
       "      <th>863081</th>\n",
       "      <td>854628</td>\n",
       "      <td>与父与子</td>\n",
       "      <td>2021-06-18</td>\n",
       "      <td>zh</td>\n",
       "      <td>[{'id': 18, 'name': 'Drama'}]</td>\n",
       "      <td>0</td>\n",
       "      <td>0</td>\n",
       "      <td>NaN</td>\n",
       "    </tr>\n",
       "  </tbody>\n",
       "</table>\n",
       "<p>863082 rows × 8 columns</p>\n",
       "</div>"
      ],
      "text/plain": [
       "             id                       original_title release_date  \\\n",
       "0         10016                       Ghosts of Mars   2001-08-24   \n",
       "1        263493                        The Gangsters   1913-05-29   \n",
       "2         50944            The Sorcerer's Apprentice   2002-04-12   \n",
       "3         33592                     White of the Eye   1987-06-19   \n",
       "4         43839             Alexander's Ragtime Band   1938-05-24   \n",
       "...         ...                                  ...          ...   \n",
       "863077  1096279                                  Eva   2021-01-01   \n",
       "863078  1001995                                  勾魂令   2018-02-02   \n",
       "863079   823988  La Voix Humaine / L’Heure Espagnole   2021-03-26   \n",
       "863080  1022210        How Science Changed Our World   2010-12-23   \n",
       "863081   854628                                 与父与子   2021-06-18   \n",
       "\n",
       "       original_language                                             genres  \\\n",
       "0                     en  [{'id': 28, 'name': 'Action'}, {'id': 27, 'nam...   \n",
       "1                     en                     [{'id': 35, 'name': 'Comedy'}]   \n",
       "2                     en  [{'id': 12, 'name': 'Adventure'}, {'id': 10751...   \n",
       "3                     en  [{'id': 27, 'name': 'Horror'}, {'id': 53, 'nam...   \n",
       "4                     en  [{'id': 18, 'name': 'Drama'}, {'id': 10402, 'n...   \n",
       "...                  ...                                                ...   \n",
       "863077                id                [{'id': 99, 'name': 'Documentary'}]   \n",
       "863078                zh                     [{'id': 27, 'name': 'Horror'}]   \n",
       "863079                en                                                 []   \n",
       "863080                en                [{'id': 99, 'name': 'Documentary'}]   \n",
       "863081                zh                      [{'id': 18, 'name': 'Drama'}]   \n",
       "\n",
       "          budget   revenue  imdb_average_rating  \n",
       "0       28000000  14010832                  4.9  \n",
       "1              0         0                  6.8  \n",
       "2              0         0                  4.2  \n",
       "3              0         0                  6.1  \n",
       "4        2000000   4000000                  6.8  \n",
       "...          ...       ...                  ...  \n",
       "863077         0         0                  NaN  \n",
       "863078         0         0                  NaN  \n",
       "863079         0         0                  NaN  \n",
       "863080         0         0                  NaN  \n",
       "863081         0         0                  NaN  \n",
       "\n",
       "[863082 rows x 8 columns]"
      ]
     },
     "metadata": {},
     "output_type": "display_data"
    }
   ],
   "source": [
    "columns_to_keep = ['id', 'original_title', 'release_date', 'original_language', 'genres', 'budget', 'revenue', 'imdb_average_rating']\n",
    "imdb_rating_filtered_df = imdb_rating_df[columns_to_keep]\n",
    "imdb_rating_filtered_df.reset_index(drop=True, inplace=True)\n",
    "\n",
    "# Creating a dataframe with revenue that is different from 0\n",
    "revenue_non_zero_df = imdb_rating_filtered_df[imdb_rating_filtered_df['revenue'] != 0]\n",
    "print(f'The number of movies with revenue is {revenue_non_zero_df.shape[0]:,}')\n",
    "\n",
    "# Creating a dataframe with imdb_average_rating different from NaN\n",
    "rating_not_nan_df = imdb_rating_filtered_df.dropna(subset=['imdb_average_rating'])\n",
    "print(f'The number of movies with imdb ratings is {rating_not_nan_df.shape[0]:,}')\n",
    "\n",
    "# Display the updated DataFrame\n",
    "display(imdb_rating_filtered_df)"
   ]
  },
  {
   "cell_type": "markdown",
   "metadata": {},
   "source": [
    "Cast preprocessing"
   ]
  },
  {
   "cell_type": "code",
   "execution_count": 5,
   "metadata": {},
   "outputs": [
    {
     "name": "stdout",
     "output_type": "stream",
     "text": [
      "The number of movies with revenue or imdb ratings is 396,556\n"
     ]
    },
    {
     "data": {
      "text/html": [
       "<div>\n",
       "<style scoped>\n",
       "    .dataframe tbody tr th:only-of-type {\n",
       "        vertical-align: middle;\n",
       "    }\n",
       "\n",
       "    .dataframe tbody tr th {\n",
       "        vertical-align: top;\n",
       "    }\n",
       "\n",
       "    .dataframe thead th {\n",
       "        text-align: right;\n",
       "    }\n",
       "</style>\n",
       "<table border=\"1\" class=\"dataframe\">\n",
       "  <thead>\n",
       "    <tr style=\"text-align: right;\">\n",
       "      <th></th>\n",
       "      <th>movie_id</th>\n",
       "      <th>original_title</th>\n",
       "      <th>release_date</th>\n",
       "      <th>original_language</th>\n",
       "      <th>genres</th>\n",
       "      <th>budget</th>\n",
       "      <th>revenue</th>\n",
       "      <th>imdb_average_rating</th>\n",
       "      <th>cast</th>\n",
       "    </tr>\n",
       "  </thead>\n",
       "  <tbody>\n",
       "    <tr>\n",
       "      <th>0</th>\n",
       "      <td>10016</td>\n",
       "      <td>Ghosts of Mars</td>\n",
       "      <td>2001-08-24</td>\n",
       "      <td>en</td>\n",
       "      <td>[{'id': 28, 'name': 'Action'}, {'id': 27, 'nam...</td>\n",
       "      <td>28000000</td>\n",
       "      <td>14010832</td>\n",
       "      <td>4.9</td>\n",
       "      <td>[{'adult': False, 'gender': 1, 'id': 57395, 'k...</td>\n",
       "    </tr>\n",
       "    <tr>\n",
       "      <th>1</th>\n",
       "      <td>263493</td>\n",
       "      <td>The Gangsters</td>\n",
       "      <td>1913-05-29</td>\n",
       "      <td>en</td>\n",
       "      <td>[{'id': 35, 'name': 'Comedy'}]</td>\n",
       "      <td>0</td>\n",
       "      <td>0</td>\n",
       "      <td>6.8</td>\n",
       "      <td>[{'adult': False, 'gender': 2, 'id': 1086663, ...</td>\n",
       "    </tr>\n",
       "    <tr>\n",
       "      <th>2</th>\n",
       "      <td>50944</td>\n",
       "      <td>The Sorcerer's Apprentice</td>\n",
       "      <td>2002-04-12</td>\n",
       "      <td>en</td>\n",
       "      <td>[{'id': 12, 'name': 'Adventure'}, {'id': 10751...</td>\n",
       "      <td>0</td>\n",
       "      <td>0</td>\n",
       "      <td>4.2</td>\n",
       "      <td>[{'adult': False, 'gender': 1, 'id': 46948, 'k...</td>\n",
       "    </tr>\n",
       "    <tr>\n",
       "      <th>3</th>\n",
       "      <td>33592</td>\n",
       "      <td>White of the Eye</td>\n",
       "      <td>1987-06-19</td>\n",
       "      <td>en</td>\n",
       "      <td>[{'id': 27, 'name': 'Horror'}, {'id': 53, 'nam...</td>\n",
       "      <td>0</td>\n",
       "      <td>0</td>\n",
       "      <td>6.1</td>\n",
       "      <td>[{'adult': False, 'gender': 2, 'id': 18181, 'k...</td>\n",
       "    </tr>\n",
       "    <tr>\n",
       "      <th>4</th>\n",
       "      <td>43839</td>\n",
       "      <td>Alexander's Ragtime Band</td>\n",
       "      <td>1938-05-24</td>\n",
       "      <td>en</td>\n",
       "      <td>[{'id': 18, 'name': 'Drama'}, {'id': 10402, 'n...</td>\n",
       "      <td>2000000</td>\n",
       "      <td>4000000</td>\n",
       "      <td>6.8</td>\n",
       "      <td>[{'adult': False, 'gender': 2, 'id': 10922, 'k...</td>\n",
       "    </tr>\n",
       "    <tr>\n",
       "      <th>...</th>\n",
       "      <td>...</td>\n",
       "      <td>...</td>\n",
       "      <td>...</td>\n",
       "      <td>...</td>\n",
       "      <td>...</td>\n",
       "      <td>...</td>\n",
       "      <td>...</td>\n",
       "      <td>...</td>\n",
       "      <td>...</td>\n",
       "    </tr>\n",
       "    <tr>\n",
       "      <th>396551</th>\n",
       "      <td>770135</td>\n",
       "      <td>Scandal in 97</td>\n",
       "      <td>2020-11-29</td>\n",
       "      <td>en</td>\n",
       "      <td>[{'id': 53, 'name': 'Thriller'}]</td>\n",
       "      <td>0</td>\n",
       "      <td>0</td>\n",
       "      <td>4.9</td>\n",
       "      <td>[{'adult': False, 'gender': 2, 'id': 1232652, ...</td>\n",
       "    </tr>\n",
       "    <tr>\n",
       "      <th>396552</th>\n",
       "      <td>472471</td>\n",
       "      <td>Sniff!!!</td>\n",
       "      <td>2017-08-25</td>\n",
       "      <td>hi</td>\n",
       "      <td>[{'id': 12, 'name': 'Adventure'}, {'id': 35, '...</td>\n",
       "      <td>0</td>\n",
       "      <td>0</td>\n",
       "      <td>5.3</td>\n",
       "      <td>[{'adult': False, 'gender': 0, 'id': 1963881, ...</td>\n",
       "    </tr>\n",
       "    <tr>\n",
       "      <th>396553</th>\n",
       "      <td>707790</td>\n",
       "      <td>マッハ’78</td>\n",
       "      <td>1978-02-25</td>\n",
       "      <td>ja</td>\n",
       "      <td>[{'id': 28, 'name': 'Action'}]</td>\n",
       "      <td>0</td>\n",
       "      <td>0</td>\n",
       "      <td>6.1</td>\n",
       "      <td>[{'adult': False, 'gender': 0, 'id': 2767640, ...</td>\n",
       "    </tr>\n",
       "    <tr>\n",
       "      <th>396554</th>\n",
       "      <td>267899</td>\n",
       "      <td>El fuego inolvidable</td>\n",
       "      <td>2014-09-11</td>\n",
       "      <td>es</td>\n",
       "      <td>[{'id': 18, 'name': 'Drama'}]</td>\n",
       "      <td>0</td>\n",
       "      <td>865</td>\n",
       "      <td>7.8</td>\n",
       "      <td>[{'adult': False, 'gender': 2, 'id': 91251, 'k...</td>\n",
       "    </tr>\n",
       "    <tr>\n",
       "      <th>396555</th>\n",
       "      <td>270997</td>\n",
       "      <td>Szilveszter</td>\n",
       "      <td>1974-01-01</td>\n",
       "      <td>en</td>\n",
       "      <td>[]</td>\n",
       "      <td>0</td>\n",
       "      <td>0</td>\n",
       "      <td>5.8</td>\n",
       "      <td>[]</td>\n",
       "    </tr>\n",
       "  </tbody>\n",
       "</table>\n",
       "<p>396556 rows × 9 columns</p>\n",
       "</div>"
      ],
      "text/plain": [
       "        movie_id             original_title release_date original_language  \\\n",
       "0          10016             Ghosts of Mars   2001-08-24                en   \n",
       "1         263493              The Gangsters   1913-05-29                en   \n",
       "2          50944  The Sorcerer's Apprentice   2002-04-12                en   \n",
       "3          33592           White of the Eye   1987-06-19                en   \n",
       "4          43839   Alexander's Ragtime Band   1938-05-24                en   \n",
       "...          ...                        ...          ...               ...   \n",
       "396551    770135              Scandal in 97   2020-11-29                en   \n",
       "396552    472471                   Sniff!!!   2017-08-25                hi   \n",
       "396553    707790                     マッハ’78   1978-02-25                ja   \n",
       "396554    267899       El fuego inolvidable   2014-09-11                es   \n",
       "396555    270997                Szilveszter   1974-01-01                en   \n",
       "\n",
       "                                                   genres    budget   revenue  \\\n",
       "0       [{'id': 28, 'name': 'Action'}, {'id': 27, 'nam...  28000000  14010832   \n",
       "1                          [{'id': 35, 'name': 'Comedy'}]         0         0   \n",
       "2       [{'id': 12, 'name': 'Adventure'}, {'id': 10751...         0         0   \n",
       "3       [{'id': 27, 'name': 'Horror'}, {'id': 53, 'nam...         0         0   \n",
       "4       [{'id': 18, 'name': 'Drama'}, {'id': 10402, 'n...   2000000   4000000   \n",
       "...                                                   ...       ...       ...   \n",
       "396551                   [{'id': 53, 'name': 'Thriller'}]         0         0   \n",
       "396552  [{'id': 12, 'name': 'Adventure'}, {'id': 35, '...         0         0   \n",
       "396553                     [{'id': 28, 'name': 'Action'}]         0         0   \n",
       "396554                      [{'id': 18, 'name': 'Drama'}]         0       865   \n",
       "396555                                                 []         0         0   \n",
       "\n",
       "        imdb_average_rating                                               cast  \n",
       "0                       4.9  [{'adult': False, 'gender': 1, 'id': 57395, 'k...  \n",
       "1                       6.8  [{'adult': False, 'gender': 2, 'id': 1086663, ...  \n",
       "2                       4.2  [{'adult': False, 'gender': 1, 'id': 46948, 'k...  \n",
       "3                       6.1  [{'adult': False, 'gender': 2, 'id': 18181, 'k...  \n",
       "4                       6.8  [{'adult': False, 'gender': 2, 'id': 10922, 'k...  \n",
       "...                     ...                                                ...  \n",
       "396551                  4.9  [{'adult': False, 'gender': 2, 'id': 1232652, ...  \n",
       "396552                  5.3  [{'adult': False, 'gender': 0, 'id': 1963881, ...  \n",
       "396553                  6.1  [{'adult': False, 'gender': 0, 'id': 2767640, ...  \n",
       "396554                  7.8  [{'adult': False, 'gender': 2, 'id': 91251, 'k...  \n",
       "396555                  5.8                                                 []  \n",
       "\n",
       "[396556 rows x 9 columns]"
      ]
     },
     "metadata": {},
     "output_type": "display_data"
    }
   ],
   "source": [
    "# Assuming 'id' is the common column between imdb_rating_filtered_df and id2credits\n",
    "merged_df = pd.merge(imdb_rating_filtered_df, id2credit_df, on='id', how='inner')\n",
    "\n",
    "# Filter rows with either revenue not equal to 0 or imdb_average_rating not NaN\n",
    "merged_df_filtered = merged_df[(merged_df['revenue'] != 0) | (~merged_df['imdb_average_rating'].isna())]\n",
    "merged_df_filtered.reset_index(drop=True, inplace=True)\n",
    "merged_df_filtered = merged_df_filtered.rename(columns={'id': 'movie_id'})\n",
    "\n",
    "\n",
    "# Now, you can use merged_df_filtered for further analysis or display the desired information\n",
    "print(f'The number of movies with revenue or imdb ratings is {merged_df_filtered.shape[0]:,}')\n",
    "display(merged_df_filtered)"
   ]
  },
  {
   "cell_type": "code",
   "execution_count": 6,
   "metadata": {},
   "outputs": [
    {
     "name": "stdout",
     "output_type": "stream",
     "text": [
      "[{'adult': False, 'gender': 2, 'id': 91251, 'known_for_department': 'Acting', 'name': 'Luis Fernando Peña', 'original_name': 'Luis Fernando Peña', 'popularity': 3.955, 'profile_path': '/1nooPX0s6Qi03Npt1Wr9AK7gE08.jpg', 'cast_id': 1, 'character': 'Francisco', 'credit_id': '5363fff80e0a261df800373d', 'order': 0}, {'adult': False, 'gender': 0, 'id': 1316106, 'known_for_department': 'Acting', 'name': 'Alejandra Guinea', 'original_name': 'Alejandra Guinea', 'popularity': 0.6, 'profile_path': None, 'cast_id': 2, 'character': 'Adela', 'credit_id': '536400090e0a261dfb003760', 'order': 1}, {'adult': False, 'gender': 0, 'id': 1316107, 'known_for_department': 'Acting', 'name': 'Mariana Urritia', 'original_name': 'Mariana Urritia', 'popularity': 0.6, 'profile_path': None, 'cast_id': 3, 'character': 'Xochitl', 'credit_id': '536400210e0a261dfb00376b', 'order': 2}, {'adult': False, 'gender': 0, 'id': 1316108, 'known_for_department': 'Acting', 'name': 'Francisco Cardoso', 'original_name': 'Francisco Cardoso', 'popularity': 0.6, 'profile_path': None, 'cast_id': 4, 'character': 'Federico', 'credit_id': '5364002f0e0a261e1600366e', 'order': 3}]\n"
     ]
    }
   ],
   "source": [
    "import pandas as pd\n",
    "\n",
    "def get_cast_dataframe(movie_id):\n",
    "    cast = merged_df_filtered[merged_df_filtered['movie_id'] == movie_id]['cast'].values[0]\n",
    "    #cast_df = pd.DataFrame(cast.tolist()).explode('cast', ignore_index=True)\n",
    "    return cast\n",
    "\n",
    "result_df = get_cast_dataframe(267899)\n",
    "print(result_df)\n"
   ]
  },
  {
   "cell_type": "code",
   "execution_count": null,
   "metadata": {},
   "outputs": [],
   "source": []
  },
  {
   "cell_type": "markdown",
   "metadata": {},
   "source": [
    "Movie detail has revenue and imdb ratings   \n",
    "Movie credits has movie-actor pair data  \n",
    "\n",
    "**Objective**: Given an actor's id, return a plot with an x axis of the movies they appread in sorted by year and a y axis of the movies' ratings.\n"
   ]
  },
  {
   "cell_type": "code",
   "execution_count": 19,
   "metadata": {},
   "outputs": [],
   "source": [
    "def get_movies_by_actor(actor_id):\n",
    "    \"\"\"\n",
    "    Retrieves a subset of movies from the DataFrame based on a specified actor_id,\n",
    "    including the order of the actor in each movie.\n",
    "\n",
    "    Parameters:\n",
    "    - actor_id (int): The ID of the actor to filter movies by.\n",
    "\n",
    "    Returns:\n",
    "    - String: The name of the actor.\n",
    "    - DataFrame: A subset of the original DataFrame containing only the movies\n",
    "      where the specified actor is part of the cast, along with the 'order' column\n",
    "      indicating the actor's order in each movie.\n",
    "    \"\"\"\n",
    "\n",
    "    filtered_df = merged_df_filtered[\n",
    "        merged_df_filtered['cast'].apply(\n",
    "            lambda cast: any(\n",
    "                actor_id == actor.get('id', '')\n",
    "                for actor in cast\n",
    "            )\n",
    "        )\n",
    "    ]\n",
    "    filtered_df['order'] = filtered_df['cast'].apply(\n",
    "        lambda cast: next(\n",
    "            actor.get('order', '')\n",
    "            for actor in cast\n",
    "            if actor_id == actor.get('id', '')\n",
    "        )\n",
    "    )\n",
    "\n",
    "    # set the indices to normal\n",
    "    filtered_df.reset_index(drop=True, inplace=True)\n",
    "\n",
    "    actor_name = filtered_df['cast'].apply(\n",
    "        lambda cast: next(\n",
    "            actor.get('name', '')\n",
    "            for actor in cast\n",
    "            if actor_id == actor.get('id', '')\n",
    "        )\n",
    "    ).values[0]\n",
    "    return actor_name, filtered_df\n"
   ]
  },
  {
   "cell_type": "code",
   "execution_count": 7,
   "metadata": {},
   "outputs": [
    {
     "data": {
      "image/png": "[encoded data removed]",
      "text/plain": [
       "<Figure size 2000x600 with 1 Axes>"
      ]
     },
     "metadata": {},
     "output_type": "display_data"
    },
    {
     "data": {
      "image/png": "[encoded data removed]",
      "text/plain": [
       "<Figure size 2000x600 with 1 Axes>"
      ]
     },
     "metadata": {},
     "output_type": "display_data"
    }
   ],
   "source": [
    "import pandas as pd\n",
    "import json\n",
    "import matplotlib.pyplot as plt\n",
    "\n",
    "def get_movies_by_actor(actor_id):\n",
    "    return merged_df_filtered[merged_df_filtered['cast'].apply(lambda cast: any(actor_id == actor.get('id', '') for actor in cast))]\n",
    "\n",
    "def plot_movies_ratings(actor_id):\n",
    "    actor_movies = get_movies_by_actor(actor_id)\n",
    "    actor_movies_sorted = actor_movies.sort_values(by='release_date')\n",
    "\n",
    "    plt.figure(figsize=(20, 6))\n",
    "    plt.plot(actor_movies_sorted['release_date'], actor_movies_sorted['imdb_average_rating'], marker='o')\n",
    "    \n",
    "    # Add genre labels for each data point if genres exist\n",
    "    for index, row in actor_movies_sorted.iterrows():\n",
    "        if row['genres']:\n",
    "            genres_str = ', '.join([genre['name'] for genre in row['genres']])\n",
    "            plt.text(row['release_date'], row['imdb_average_rating'], f\"\\n{genres_str}  \", fontsize=8, ha='right', va='bottom', color='blue')\n",
    "\n",
    "    plt.title(f'IMDb Ratings and Genres of Movies for Actor ID {actor_id}')\n",
    "    plt.xlabel('Release Year')\n",
    "    plt.ylabel('IMDb Rating')\n",
    "    plt.grid(True)\n",
    "    plt.show()\n",
    "\n",
    "# Example: Plot movies for actor with id '46948'\n",
    "plot_movies_ratings(46948)\n",
    "plot_movies_ratings(10922)"
   ]
  },
  {
   "cell_type": "code",
   "execution_count": 21,
   "metadata": {},
   "outputs": [
    {
     "name": "stderr",
     "output_type": "stream",
     "text": [
      "C:\\Users\\anejj\\AppData\\Local\\Temp\\ipykernel_10780\\3470819798.py:24: SettingWithCopyWarning:\n",
      "\n",
      "\n",
      "A value is trying to be set on a copy of a slice from a DataFrame.\n",
      "Try using .loc[row_indexer,col_indexer] = value instead\n",
      "\n",
      "See the caveats in the documentation: https://pandas.pydata.org/pandas-docs/stable/user_guide/indexing.html#returning-a-view-versus-a-copy\n",
      "\n"
     ]
    },
    {
     "data": {
      "application/vnd.plotly.v1+json": {
       "config": {
        "plotlyServerURL": "https://plot.ly"
       },
       "data": [
        {
         "customdata": [
          [
           "The Falling",
           "Drama, Mystery, Horror",
           5
          ],
          [
           "Paradise Lost?",
           "Drama, Fantasy, Thriller",
           0
          ],
          [
           "Lady Macbeth",
           "Drama",
           0
          ],
          [
           "The Commuter",
           "Action, Thriller, Mystery",
           11
          ],
          [
           "Leading Lady Parts",
           "Comedy",
           9
          ],
          [
           "King Lear",
           "Drama, TV Movie",
           4
          ],
          [
           "Outlaw King",
           "Action, History, War",
           2
          ],
          [
           "Malevolent",
           "Horror",
           0
          ],
          [
           "Fighting with My Family",
           "Comedy",
           0
          ],
          [
           "In the Time It Takes to Get There",
           "Comedy",
           0
          ],
          [
           "Midsommar",
           "Horror, Drama, Mystery",
           0
          ],
          [
           "Little Women",
           "Drama, Romance",
           1
          ],
          [
           "Father of the Bride Part 3 (ish)",
           "Comedy",
           3
          ],
          [
           "Black Widow",
           "Action, Adventure, Science Fiction",
           1
          ],
          [
           "Attack of the Hollywood Clichés!",
           "Documentary",
           23
          ],
          [
           "Marvel Studios Assembled: The Making of Hawkeye",
           "Documentary",
           43
          ],
          [
           "Don't Worry Darling",
           "Thriller, Mystery, Drama",
           0
          ],
          [
           "The Wonder",
           "Drama, Mystery",
           0
          ],
          [
           "Puss in Boots: The Last Wish",
           "Adventure, Fantasy, Animation, Comedy, Family, Action",
           4
          ],
          [
           "The Trident",
           "Animation, Action, Fantasy, Comedy, Family",
           2
          ],
          [
           "A Good Person",
           "Drama",
           0
          ],
          [
           "Inside Christopher Nolan's Oppenheimer",
           "Documentary",
           5
          ],
          [
           "Oppenheimer",
           "Drama, History",
           4
          ]
         ],
         "hovertemplate": "Release Year=%{x}<br>IMDb Rating=%{y}<br>Movie name=%{customdata[0]}<br>Genras=%{customdata[1]}<br>Order=%{customdata[2]}<extra></extra>",
         "legendgroup": "",
         "marker": {
          "color": "blue",
          "symbol": "circle"
         },
         "mode": "markers",
         "name": "",
         "orientation": "v",
         "showlegend": false,
         "type": "scatter",
         "x": [
          "2015-04-24",
          "2015-07-26",
          "2016-12-12",
          "2018-01-11",
          "2018-03-08",
          "2018-05-28",
          "2018-09-06",
          "2018-12-13",
          "2019-02-14",
          "2019-04-03",
          "2019-07-03",
          "2019-12-25",
          "2020-09-25",
          "2021-07-07",
          "2021-09-28",
          "2022-02-09",
          "2022-09-21",
          "2022-11-02",
          "2022-12-07",
          "2023-02-28",
          "2023-03-23",
          "2023-07-15",
          "2023-07-19"
         ],
         "xaxis": "x",
         "y": [
          5.3,
          6.3,
          6.8,
          6.3,
          8.4,
          6.2,
          6.9,
          4.8,
          7.1,
          6.8,
          7.1,
          7.8,
          6.8,
          6.7,
          6.1,
          7.6,
          6.3,
          6.6,
          7.8,
          6.5,
          7,
          7.4,
          8.5
         ],
         "yaxis": "y"
        }
       ],
       "layout": {
        "legend": {
         "tracegroupgap": 0
        },
        "template": {
         "data": {
          "bar": [
           {
            "error_x": {
             "color": "#2a3f5f"
            },
            "error_y": {
             "color": "#2a3f5f"
            },
            "marker": {
             "line": {
              "color": "#E5ECF6",
              "width": 0.5
             },
             "pattern": {
              "fillmode": "overlay",
              "size": 10,
              "solidity": 0.2
             }
            },
            "type": "bar"
           }
          ],
          "barpolar": [
           {
            "marker": {
             "line": {
              "color": "#E5ECF6",
              "width": 0.5
             },
             "pattern": {
              "fillmode": "overlay",
              "size": 10,
              "solidity": 0.2
             }
            },
            "type": "barpolar"
           }
          ],
          "carpet": [
           {
            "aaxis": {
             "endlinecolor": "#2a3f5f",
             "gridcolor": "white",
             "linecolor": "white",
             "minorgridcolor": "white",
             "startlinecolor": "#2a3f5f"
            },
            "baxis": {
             "endlinecolor": "#2a3f5f",
             "gridcolor": "white",
             "linecolor": "white",
             "minorgridcolor": "white",
             "startlinecolor": "#2a3f5f"
            },
            "type": "carpet"
           }
          ],
          "choropleth": [
           {
            "colorbar": {
             "outlinewidth": 0,
             "ticks": ""
            },
            "type": "choropleth"
           }
          ],
          "contour": [
           {
            "colorbar": {
             "outlinewidth": 0,
             "ticks": ""
            },
            "colorscale": [
             [
              0,
              "#0d0887"
             ],
             [
              0.1111111111111111,
              "#46039f"
             ],
             [
              0.2222222222222222,
              "#7201a8"
             ],
             [
              0.3333333333333333,
              "#9c179e"
             ],
             [
              0.4444444444444444,
              "#bd3786"
             ],
             [
              0.5555555555555556,
              "#d8576b"
             ],
             [
              0.6666666666666666,
              "#ed7953"
             ],
             [
              0.7777777777777778,
              "#fb9f3a"
             ],
             [
              0.8888888888888888,
              "#fdca26"
             ],
             [
              1,
              "#f0f921"
             ]
            ],
            "type": "contour"
           }
          ],
          "contourcarpet": [
           {
            "colorbar": {
             "outlinewidth": 0,
             "ticks": ""
            },
            "type": "contourcarpet"
           }
          ],
          "heatmap": [
           {
            "colorbar": {
             "outlinewidth": 0,
             "ticks": ""
            },
            "colorscale": [
             [
              0,
              "#0d0887"
             ],
             [
              0.1111111111111111,
              "#46039f"
             ],
             [
              0.2222222222222222,
              "#7201a8"
             ],
             [
              0.3333333333333333,
              "#9c179e"
             ],
             [
              0.4444444444444444,
              "#bd3786"
             ],
             [
              0.5555555555555556,
              "#d8576b"
             ],
             [
              0.6666666666666666,
              "#ed7953"
             ],
             [
              0.7777777777777778,
              "#fb9f3a"
             ],
             [
              0.8888888888888888,
              "#fdca26"
             ],
             [
              1,
              "#f0f921"
             ]
            ],
            "type": "heatmap"
           }
          ],
          "heatmapgl": [
           {
            "colorbar": {
             "outlinewidth": 0,
             "ticks": ""
            },
            "colorscale": [
             [
              0,
              "#0d0887"
             ],
             [
              0.1111111111111111,
              "#46039f"
             ],
             [
              0.2222222222222222,
              "#7201a8"
             ],
             [
              0.3333333333333333,
              "#9c179e"
             ],
             [
              0.4444444444444444,
              "#bd3786"
             ],
             [
              0.5555555555555556,
              "#d8576b"
             ],
             [
              0.6666666666666666,
              "#ed7953"
             ],
             [
              0.7777777777777778,
              "#fb9f3a"
             ],
             [
              0.8888888888888888,
              "#fdca26"
             ],
             [
              1,
              "#f0f921"
             ]
            ],
            "type": "heatmapgl"
           }
          ],
          "histogram": [
           {
            "marker": {
             "pattern": {
              "fillmode": "overlay",
              "size": 10,
              "solidity": 0.2
             }
            },
            "type": "histogram"
           }
          ],
          "histogram2d": [
           {
            "colorbar": {
             "outlinewidth": 0,
             "ticks": ""
            },
            "colorscale": [
             [
              0,
              "#0d0887"
             ],
             [
              0.1111111111111111,
              "#46039f"
             ],
             [
              0.2222222222222222,
              "#7201a8"
             ],
             [
              0.3333333333333333,
              "#9c179e"
             ],
             [
              0.4444444444444444,
              "#bd3786"
             ],
             [
              0.5555555555555556,
              "#d8576b"
             ],
             [
              0.6666666666666666,
              "#ed7953"
             ],
             [
              0.7777777777777778,
              "#fb9f3a"
             ],
             [
              0.8888888888888888,
              "#fdca26"
             ],
             [
              1,
              "#f0f921"
             ]
            ],
            "type": "histogram2d"
           }
          ],
          "histogram2dcontour": [
           {
            "colorbar": {
             "outlinewidth": 0,
             "ticks": ""
            },
            "colorscale": [
             [
              0,
              "#0d0887"
             ],
             [
              0.1111111111111111,
              "#46039f"
             ],
             [
              0.2222222222222222,
              "#7201a8"
             ],
             [
              0.3333333333333333,
              "#9c179e"
             ],
             [
              0.4444444444444444,
              "#bd3786"
             ],
             [
              0.5555555555555556,
              "#d8576b"
             ],
             [
              0.6666666666666666,
              "#ed7953"
             ],
             [
              0.7777777777777778,
              "#fb9f3a"
             ],
             [
              0.8888888888888888,
              "#fdca26"
             ],
             [
              1,
              "#f0f921"
             ]
            ],
            "type": "histogram2dcontour"
           }
          ],
          "mesh3d": [
           {
            "colorbar": {
             "outlinewidth": 0,
             "ticks": ""
            },
            "type": "mesh3d"
           }
          ],
          "parcoords": [
           {
            "line": {
             "colorbar": {
              "outlinewidth": 0,
              "ticks": ""
             }
            },
            "type": "parcoords"
           }
          ],
          "pie": [
           {
            "automargin": true,
            "type": "pie"
           }
          ],
          "scatter": [
           {
            "fillpattern": {
             "fillmode": "overlay",
             "size": 10,
             "solidity": 0.2
            },
            "type": "scatter"
           }
          ],
          "scatter3d": [
           {
            "line": {
             "colorbar": {
              "outlinewidth": 0,
              "ticks": ""
             }
            },
            "marker": {
             "colorbar": {
              "outlinewidth": 0,
              "ticks": ""
             }
            },
            "type": "scatter3d"
           }
          ],
          "scattercarpet": [
           {
            "marker": {
             "colorbar": {
              "outlinewidth": 0,
              "ticks": ""
             }
            },
            "type": "scattercarpet"
           }
          ],
          "scattergeo": [
           {
            "marker": {
             "colorbar": {
              "outlinewidth": 0,
              "ticks": ""
             }
            },
            "type": "scattergeo"
           }
          ],
          "scattergl": [
           {
            "marker": {
             "colorbar": {
              "outlinewidth": 0,
              "ticks": ""
             }
            },
            "type": "scattergl"
           }
          ],
          "scattermapbox": [
           {
            "marker": {
             "colorbar": {
              "outlinewidth": 0,
              "ticks": ""
             }
            },
            "type": "scattermapbox"
           }
          ],
          "scatterpolar": [
           {
            "marker": {
             "colorbar": {
              "outlinewidth": 0,
              "ticks": ""
             }
            },
            "type": "scatterpolar"
           }
          ],
          "scatterpolargl": [
           {
            "marker": {
             "colorbar": {
              "outlinewidth": 0,
              "ticks": ""
             }
            },
            "type": "scatterpolargl"
           }
          ],
          "scatterternary": [
           {
            "marker": {
             "colorbar": {
              "outlinewidth": 0,
              "ticks": ""
             }
            },
            "type": "scatterternary"
           }
          ],
          "surface": [
           {
            "colorbar": {
             "outlinewidth": 0,
             "ticks": ""
            },
            "colorscale": [
             [
              0,
              "#0d0887"
             ],
             [
              0.1111111111111111,
              "#46039f"
             ],
             [
              0.2222222222222222,
              "#7201a8"
             ],
             [
              0.3333333333333333,
              "#9c179e"
             ],
             [
              0.4444444444444444,
              "#bd3786"
             ],
             [
              0.5555555555555556,
              "#d8576b"
             ],
             [
              0.6666666666666666,
              "#ed7953"
             ],
             [
              0.7777777777777778,
              "#fb9f3a"
             ],
             [
              0.8888888888888888,
              "#fdca26"
             ],
             [
              1,
              "#f0f921"
             ]
            ],
            "type": "surface"
           }
          ],
          "table": [
           {
            "cells": {
             "fill": {
              "color": "#EBF0F8"
             },
             "line": {
              "color": "white"
             }
            },
            "header": {
             "fill": {
              "color": "#C8D4E3"
             },
             "line": {
              "color": "white"
             }
            },
            "type": "table"
           }
          ]
         },
         "layout": {
          "annotationdefaults": {
           "arrowcolor": "#2a3f5f",
           "arrowhead": 0,
           "arrowwidth": 1
          },
          "autotypenumbers": "strict",
          "coloraxis": {
           "colorbar": {
            "outlinewidth": 0,
            "ticks": ""
           }
          },
          "colorscale": {
           "diverging": [
            [
             0,
             "#8e0152"
            ],
            [
             0.1,
             "#c51b7d"
            ],
            [
             0.2,
             "#de77ae"
            ],
            [
             0.3,
             "#f1b6da"
            ],
            [
             0.4,
             "#fde0ef"
            ],
            [
             0.5,
             "#f7f7f7"
            ],
            [
             0.6,
             "#e6f5d0"
            ],
            [
             0.7,
             "#b8e186"
            ],
            [
             0.8,
             "#7fbc41"
            ],
            [
             0.9,
             "#4d9221"
            ],
            [
             1,
             "#276419"
            ]
           ],
           "sequential": [
            [
             0,
             "#0d0887"
            ],
            [
             0.1111111111111111,
             "#46039f"
            ],
            [
             0.2222222222222222,
             "#7201a8"
            ],
            [
             0.3333333333333333,
             "#9c179e"
            ],
            [
             0.4444444444444444,
             "#bd3786"
            ],
            [
             0.5555555555555556,
             "#d8576b"
            ],
            [
             0.6666666666666666,
             "#ed7953"
            ],
            [
             0.7777777777777778,
             "#fb9f3a"
            ],
            [
             0.8888888888888888,
             "#fdca26"
            ],
            [
             1,
             "#f0f921"
            ]
           ],
           "sequentialminus": [
            [
             0,
             "#0d0887"
            ],
            [
             0.1111111111111111,
             "#46039f"
            ],
            [
             0.2222222222222222,
             "#7201a8"
            ],
            [
             0.3333333333333333,
             "#9c179e"
            ],
            [
             0.4444444444444444,
             "#bd3786"
            ],
            [
             0.5555555555555556,
             "#d8576b"
            ],
            [
             0.6666666666666666,
             "#ed7953"
            ],
            [
             0.7777777777777778,
             "#fb9f3a"
            ],
            [
             0.8888888888888888,
             "#fdca26"
            ],
            [
             1,
             "#f0f921"
            ]
           ]
          },
          "colorway": [
           "#636efa",
           "#EF553B",
           "#00cc96",
           "#ab63fa",
           "#FFA15A",
           "#19d3f3",
           "#FF6692",
           "#B6E880",
           "#FF97FF",
           "#FECB52"
          ],
          "font": {
           "color": "#2a3f5f"
          },
          "geo": {
           "bgcolor": "white",
           "lakecolor": "white",
           "landcolor": "#E5ECF6",
           "showlakes": true,
           "showland": true,
           "subunitcolor": "white"
          },
          "hoverlabel": {
           "align": "left"
          },
          "hovermode": "closest",
          "mapbox": {
           "style": "light"
          },
          "paper_bgcolor": "white",
          "plot_bgcolor": "#E5ECF6",
          "polar": {
           "angularaxis": {
            "gridcolor": "white",
            "linecolor": "white",
            "ticks": ""
           },
           "bgcolor": "#E5ECF6",
           "radialaxis": {
            "gridcolor": "white",
            "linecolor": "white",
            "ticks": ""
           }
          },
          "scene": {
           "xaxis": {
            "backgroundcolor": "#E5ECF6",
            "gridcolor": "white",
            "gridwidth": 2,
            "linecolor": "white",
            "showbackground": true,
            "ticks": "",
            "zerolinecolor": "white"
           },
           "yaxis": {
            "backgroundcolor": "#E5ECF6",
            "gridcolor": "white",
            "gridwidth": 2,
            "linecolor": "white",
            "showbackground": true,
            "ticks": "",
            "zerolinecolor": "white"
           },
           "zaxis": {
            "backgroundcolor": "#E5ECF6",
            "gridcolor": "white",
            "gridwidth": 2,
            "linecolor": "white",
            "showbackground": true,
            "ticks": "",
            "zerolinecolor": "white"
           }
          },
          "shapedefaults": {
           "line": {
            "color": "#2a3f5f"
           }
          },
          "ternary": {
           "aaxis": {
            "gridcolor": "white",
            "linecolor": "white",
            "ticks": ""
           },
           "baxis": {
            "gridcolor": "white",
            "linecolor": "white",
            "ticks": ""
           },
           "bgcolor": "#E5ECF6",
           "caxis": {
            "gridcolor": "white",
            "linecolor": "white",
            "ticks": ""
           }
          },
          "title": {
           "x": 0.05
          },
          "xaxis": {
           "automargin": true,
           "gridcolor": "white",
           "linecolor": "white",
           "ticks": "",
           "title": {
            "standoff": 15
           },
           "zerolinecolor": "white",
           "zerolinewidth": 2
          },
          "yaxis": {
           "automargin": true,
           "gridcolor": "white",
           "linecolor": "white",
           "ticks": "",
           "title": {
            "standoff": 15
           },
           "zerolinecolor": "white",
           "zerolinewidth": 2
          }
         }
        },
        "title": {
         "text": "IMDb Ratings and Genres of Movies for Actor Florence Pugh"
        },
        "xaxis": {
         "anchor": "y",
         "domain": [
          0,
          1
         ],
         "title": {
          "text": "Release Year"
         }
        },
        "yaxis": {
         "anchor": "x",
         "domain": [
          0,
          1
         ],
         "title": {
          "text": "IMDb Rating"
         }
        }
       }
      }
     },
     "metadata": {},
     "output_type": "display_data"
    }
   ],
   "source": [
    "import plotly.express as px\n",
    "\n",
    "def plot_movies_ratings(actor_id):\n",
    "    actor_name, actor_movies = get_movies_by_actor(actor_id)\n",
    "    actor_movies_sorted = actor_movies.sort_values(by='release_date')\n",
    "\n",
    "    # Convert 'genres' to a formatted string\n",
    "    actor_movies_sorted['genres_str'] = actor_movies_sorted['genres'].apply(lambda genres: ', '.join([genre['name'] for genre in genres]) if genres else '')\n",
    "    \n",
    "    fig = px.scatter(actor_movies_sorted, x='release_date', y='imdb_average_rating',\n",
    "                     hover_data=['original_title', 'genres_str', 'order'],\n",
    "                     labels={'imdb_average_rating': 'IMDb Rating', 'release_date': 'Release Year', 'original_title': 'Movie name', 'genres_str': 'Genras', 'order': 'Order'},\n",
    "                     title=f'IMDb Ratings and Genres of Movies for Actor {actor_name}',\n",
    "                     color_discrete_sequence=['blue'])\n",
    "\n",
    "    fig.show()\n",
    "\n",
    "# Example: Plot movies for actor with id '10922'\n",
    "plot_movies_ratings(1373737)\n",
    "\n",
    "#budget, success of movie, types of roles\n",
    "# divide timeline into 3 parts, 1st part is the beginning of the career, 2nd part is the middle of the career, 3rd part is the end of the career\n"
   ]
  },
  {
   "cell_type": "code",
   "execution_count": 49,
   "metadata": {},
   "outputs": [
    {
     "name": "stderr",
     "output_type": "stream",
     "text": [
      "C:\\Users\\anejj\\AppData\\Local\\Temp\\ipykernel_10780\\3470819798.py:24: SettingWithCopyWarning:\n",
      "\n",
      "\n",
      "A value is trying to be set on a copy of a slice from a DataFrame.\n",
      "Try using .loc[row_indexer,col_indexer] = value instead\n",
      "\n",
      "See the caveats in the documentation: https://pandas.pydata.org/pandas-docs/stable/user_guide/indexing.html#returning-a-view-versus-a-copy\n",
      "\n"
     ]
    },
    {
     "data": {
      "application/vnd.plotly.v1+json": {
       "config": {
        "plotlyServerURL": "https://plot.ly"
       },
       "data": [
        {
         "customdata": [
          [
           "The Falling",
           "Drama, Mystery, Horror",
           5
          ],
          [
           "Paradise Lost?",
           "Drama, Fantasy, Thriller",
           0
          ],
          [
           "Lady Macbeth",
           "Drama",
           0
          ],
          [
           "The Commuter",
           "Action, Thriller, Mystery",
           11
          ],
          [
           "Leading Lady Parts",
           "Comedy",
           9
          ],
          [
           "King Lear",
           "Drama, TV Movie",
           4
          ],
          [
           "Outlaw King",
           "Action, History, War",
           2
          ],
          [
           "Malevolent",
           "Horror",
           0
          ],
          [
           "Fighting with My Family",
           "Comedy",
           0
          ],
          [
           "In the Time It Takes to Get There",
           "Comedy",
           0
          ],
          [
           "Midsommar",
           "Horror, Drama, Mystery",
           0
          ],
          [
           "Little Women",
           "Drama, Romance",
           1
          ],
          [
           "Father of the Bride Part 3 (ish)",
           "Comedy",
           3
          ],
          [
           "Black Widow",
           "Action, Adventure, Science Fiction",
           1
          ],
          [
           "Attack of the Hollywood Clichés!",
           "Documentary",
           23
          ],
          [
           "Marvel Studios Assembled: The Making of Hawkeye",
           "Documentary",
           43
          ],
          [
           "Don't Worry Darling",
           "Thriller, Mystery, Drama",
           0
          ],
          [
           "The Wonder",
           "Drama, Mystery",
           0
          ],
          [
           "Puss in Boots: The Last Wish",
           "Adventure, Fantasy, Animation, Comedy, Family, Action",
           4
          ],
          [
           "The Trident",
           "Animation, Action, Fantasy, Comedy, Family",
           2
          ],
          [
           "A Good Person",
           "Drama",
           0
          ],
          [
           "Inside Christopher Nolan's Oppenheimer",
           "Documentary",
           5
          ],
          [
           "Oppenheimer",
           "Drama, History",
           4
          ]
         ],
         "hovertemplate": "Release Year=%{x}<br>IMDb Rating=%{y}<br>Movie name=%{customdata[0]}<br>Genres=%{customdata[1]}<br>Order=%{customdata[2]}<extra></extra>",
         "legendgroup": "",
         "marker": {
          "color": "blue",
          "symbol": "circle"
         },
         "mode": "markers",
         "name": "",
         "orientation": "v",
         "showlegend": false,
         "type": "scatter",
         "x": [
          "2015-04-24",
          "2015-07-26",
          "2016-12-12",
          "2018-01-11",
          "2018-03-08",
          "2018-05-28",
          "2018-09-06",
          "2018-12-13",
          "2019-02-14",
          "2019-04-03",
          "2019-07-03",
          "2019-12-25",
          "2020-09-25",
          "2021-07-07",
          "2021-09-28",
          "2022-02-09",
          "2022-09-21",
          "2022-11-02",
          "2022-12-07",
          "2023-02-28",
          "2023-03-23",
          "2023-07-15",
          "2023-07-19"
         ],
         "xaxis": "x",
         "y": [
          5.3,
          6.3,
          6.8,
          6.3,
          8.4,
          6.2,
          6.9,
          4.8,
          7.1,
          6.8,
          7.1,
          7.8,
          6.8,
          6.7,
          6.1,
          7.6,
          6.3,
          6.6,
          7.8,
          6.5,
          7,
          7.4,
          8.5
         ],
         "yaxis": "y"
        }
       ],
       "layout": {
        "legend": {
         "tracegroupgap": 0
        },
        "shapes": [
         {
          "fillcolor": "rgba(255, 255, 153, 0.5)",
          "layer": "below",
          "line": {
           "width": 0
          },
          "opacity": 0.5,
          "type": "rect",
          "x0": "2015-04-24",
          "x1": "2018-09-06",
          "y0": 0,
          "y1": 11
         },
         {
          "fillcolor": "rgba(255, 165, 0, 0.5)",
          "layer": "below",
          "line": {
           "width": 0
          },
          "opacity": 0.5,
          "type": "rect",
          "x0": "2018-09-06",
          "x1": "2021-07-07",
          "y0": 0,
          "y1": 11
         },
         {
          "fillcolor": "rgba(240, 128, 128, 0.5)",
          "layer": "below",
          "line": {
           "width": 0
          },
          "opacity": 0.5,
          "type": "rect",
          "x0": "2021-07-07",
          "x1": "2023-07-19",
          "y0": 0,
          "y1": 11
         }
        ],
        "template": {
         "data": {
          "bar": [
           {
            "error_x": {
             "color": "#2a3f5f"
            },
            "error_y": {
             "color": "#2a3f5f"
            },
            "marker": {
             "line": {
              "color": "#E5ECF6",
              "width": 0.5
             },
             "pattern": {
              "fillmode": "overlay",
              "size": 10,
              "solidity": 0.2
             }
            },
            "type": "bar"
           }
          ],
          "barpolar": [
           {
            "marker": {
             "line": {
              "color": "#E5ECF6",
              "width": 0.5
             },
             "pattern": {
              "fillmode": "overlay",
              "size": 10,
              "solidity": 0.2
             }
            },
            "type": "barpolar"
           }
          ],
          "carpet": [
           {
            "aaxis": {
             "endlinecolor": "#2a3f5f",
             "gridcolor": "white",
             "linecolor": "white",
             "minorgridcolor": "white",
             "startlinecolor": "#2a3f5f"
            },
            "baxis": {
             "endlinecolor": "#2a3f5f",
             "gridcolor": "white",
             "linecolor": "white",
             "minorgridcolor": "white",
             "startlinecolor": "#2a3f5f"
            },
            "type": "carpet"
           }
          ],
          "choropleth": [
           {
            "colorbar": {
             "outlinewidth": 0,
             "ticks": ""
            },
            "type": "choropleth"
           }
          ],
          "contour": [
           {
            "colorbar": {
             "outlinewidth": 0,
             "ticks": ""
            },
            "colorscale": [
             [
              0,
              "#0d0887"
             ],
             [
              0.1111111111111111,
              "#46039f"
             ],
             [
              0.2222222222222222,
              "#7201a8"
             ],
             [
              0.3333333333333333,
              "#9c179e"
             ],
             [
              0.4444444444444444,
              "#bd3786"
             ],
             [
              0.5555555555555556,
              "#d8576b"
             ],
             [
              0.6666666666666666,
              "#ed7953"
             ],
             [
              0.7777777777777778,
              "#fb9f3a"
             ],
             [
              0.8888888888888888,
              "#fdca26"
             ],
             [
              1,
              "#f0f921"
             ]
            ],
            "type": "contour"
           }
          ],
          "contourcarpet": [
           {
            "colorbar": {
             "outlinewidth": 0,
             "ticks": ""
            },
            "type": "contourcarpet"
           }
          ],
          "heatmap": [
           {
            "colorbar": {
             "outlinewidth": 0,
             "ticks": ""
            },
            "colorscale": [
             [
              0,
              "#0d0887"
             ],
             [
              0.1111111111111111,
              "#46039f"
             ],
             [
              0.2222222222222222,
              "#7201a8"
             ],
             [
              0.3333333333333333,
              "#9c179e"
             ],
             [
              0.4444444444444444,
              "#bd3786"
             ],
             [
              0.5555555555555556,
              "#d8576b"
             ],
             [
              0.6666666666666666,
              "#ed7953"
             ],
             [
              0.7777777777777778,
              "#fb9f3a"
             ],
             [
              0.8888888888888888,
              "#fdca26"
             ],
             [
              1,
              "#f0f921"
             ]
            ],
            "type": "heatmap"
           }
          ],
          "heatmapgl": [
           {
            "colorbar": {
             "outlinewidth": 0,
             "ticks": ""
            },
            "colorscale": [
             [
              0,
              "#0d0887"
             ],
             [
              0.1111111111111111,
              "#46039f"
             ],
             [
              0.2222222222222222,
              "#7201a8"
             ],
             [
              0.3333333333333333,
              "#9c179e"
             ],
             [
              0.4444444444444444,
              "#bd3786"
             ],
             [
              0.5555555555555556,
              "#d8576b"
             ],
             [
              0.6666666666666666,
              "#ed7953"
             ],
             [
              0.7777777777777778,
              "#fb9f3a"
             ],
             [
              0.8888888888888888,
              "#fdca26"
             ],
             [
              1,
              "#f0f921"
             ]
            ],
            "type": "heatmapgl"
           }
          ],
          "histogram": [
           {
            "marker": {
             "pattern": {
              "fillmode": "overlay",
              "size": 10,
              "solidity": 0.2
             }
            },
            "type": "histogram"
           }
          ],
          "histogram2d": [
           {
            "colorbar": {
             "outlinewidth": 0,
             "ticks": ""
            },
            "colorscale": [
             [
              0,
              "#0d0887"
             ],
             [
              0.1111111111111111,
              "#46039f"
             ],
             [
              0.2222222222222222,
              "#7201a8"
             ],
             [
              0.3333333333333333,
              "#9c179e"
             ],
             [
              0.4444444444444444,
              "#bd3786"
             ],
             [
              0.5555555555555556,
              "#d8576b"
             ],
             [
              0.6666666666666666,
              "#ed7953"
             ],
             [
              0.7777777777777778,
              "#fb9f3a"
             ],
             [
              0.8888888888888888,
              "#fdca26"
             ],
             [
              1,
              "#f0f921"
             ]
            ],
            "type": "histogram2d"
           }
          ],
          "histogram2dcontour": [
           {
            "colorbar": {
             "outlinewidth": 0,
             "ticks": ""
            },
            "colorscale": [
             [
              0,
              "#0d0887"
             ],
             [
              0.1111111111111111,
              "#46039f"
             ],
             [
              0.2222222222222222,
              "#7201a8"
             ],
             [
              0.3333333333333333,
              "#9c179e"
             ],
             [
              0.4444444444444444,
              "#bd3786"
             ],
             [
              0.5555555555555556,
              "#d8576b"
             ],
             [
              0.6666666666666666,
              "#ed7953"
             ],
             [
              0.7777777777777778,
              "#fb9f3a"
             ],
             [
              0.8888888888888888,
              "#fdca26"
             ],
             [
              1,
              "#f0f921"
             ]
            ],
            "type": "histogram2dcontour"
           }
          ],
          "mesh3d": [
           {
            "colorbar": {
             "outlinewidth": 0,
             "ticks": ""
            },
            "type": "mesh3d"
           }
          ],
          "parcoords": [
           {
            "line": {
             "colorbar": {
              "outlinewidth": 0,
              "ticks": ""
             }
            },
            "type": "parcoords"
           }
          ],
          "pie": [
           {
            "automargin": true,
            "type": "pie"
           }
          ],
          "scatter": [
           {
            "fillpattern": {
             "fillmode": "overlay",
             "size": 10,
             "solidity": 0.2
            },
            "type": "scatter"
           }
          ],
          "scatter3d": [
           {
            "line": {
             "colorbar": {
              "outlinewidth": 0,
              "ticks": ""
             }
            },
            "marker": {
             "colorbar": {
              "outlinewidth": 0,
              "ticks": ""
             }
            },
            "type": "scatter3d"
           }
          ],
          "scattercarpet": [
           {
            "marker": {
             "colorbar": {
              "outlinewidth": 0,
              "ticks": ""
             }
            },
            "type": "scattercarpet"
           }
          ],
          "scattergeo": [
           {
            "marker": {
             "colorbar": {
              "outlinewidth": 0,
              "ticks": ""
             }
            },
            "type": "scattergeo"
           }
          ],
          "scattergl": [
           {
            "marker": {
             "colorbar": {
              "outlinewidth": 0,
              "ticks": ""
             }
            },
            "type": "scattergl"
           }
          ],
          "scattermapbox": [
           {
            "marker": {
             "colorbar": {
              "outlinewidth": 0,
              "ticks": ""
             }
            },
            "type": "scattermapbox"
           }
          ],
          "scatterpolar": [
           {
            "marker": {
             "colorbar": {
              "outlinewidth": 0,
              "ticks": ""
             }
            },
            "type": "scatterpolar"
           }
          ],
          "scatterpolargl": [
           {
            "marker": {
             "colorbar": {
              "outlinewidth": 0,
              "ticks": ""
             }
            },
            "type": "scatterpolargl"
           }
          ],
          "scatterternary": [
           {
            "marker": {
             "colorbar": {
              "outlinewidth": 0,
              "ticks": ""
             }
            },
            "type": "scatterternary"
           }
          ],
          "surface": [
           {
            "colorbar": {
             "outlinewidth": 0,
             "ticks": ""
            },
            "colorscale": [
             [
              0,
              "#0d0887"
             ],
             [
              0.1111111111111111,
              "#46039f"
             ],
             [
              0.2222222222222222,
              "#7201a8"
             ],
             [
              0.3333333333333333,
              "#9c179e"
             ],
             [
              0.4444444444444444,
              "#bd3786"
             ],
             [
              0.5555555555555556,
              "#d8576b"
             ],
             [
              0.6666666666666666,
              "#ed7953"
             ],
             [
              0.7777777777777778,
              "#fb9f3a"
             ],
             [
              0.8888888888888888,
              "#fdca26"
             ],
             [
              1,
              "#f0f921"
             ]
            ],
            "type": "surface"
           }
          ],
          "table": [
           {
            "cells": {
             "fill": {
              "color": "#EBF0F8"
             },
             "line": {
              "color": "white"
             }
            },
            "header": {
             "fill": {
              "color": "#C8D4E3"
             },
             "line": {
              "color": "white"
             }
            },
            "type": "table"
           }
          ]
         },
         "layout": {
          "annotationdefaults": {
           "arrowcolor": "#2a3f5f",
           "arrowhead": 0,
           "arrowwidth": 1
          },
          "autotypenumbers": "strict",
          "coloraxis": {
           "colorbar": {
            "outlinewidth": 0,
            "ticks": ""
           }
          },
          "colorscale": {
           "diverging": [
            [
             0,
             "#8e0152"
            ],
            [
             0.1,
             "#c51b7d"
            ],
            [
             0.2,
             "#de77ae"
            ],
            [
             0.3,
             "#f1b6da"
            ],
            [
             0.4,
             "#fde0ef"
            ],
            [
             0.5,
             "#f7f7f7"
            ],
            [
             0.6,
             "#e6f5d0"
            ],
            [
             0.7,
             "#b8e186"
            ],
            [
             0.8,
             "#7fbc41"
            ],
            [
             0.9,
             "#4d9221"
            ],
            [
             1,
             "#276419"
            ]
           ],
           "sequential": [
            [
             0,
             "#0d0887"
            ],
            [
             0.1111111111111111,
             "#46039f"
            ],
            [
             0.2222222222222222,
             "#7201a8"
            ],
            [
             0.3333333333333333,
             "#9c179e"
            ],
            [
             0.4444444444444444,
             "#bd3786"
            ],
            [
             0.5555555555555556,
             "#d8576b"
            ],
            [
             0.6666666666666666,
             "#ed7953"
            ],
            [
             0.7777777777777778,
             "#fb9f3a"
            ],
            [
             0.8888888888888888,
             "#fdca26"
            ],
            [
             1,
             "#f0f921"
            ]
           ],
           "sequentialminus": [
            [
             0,
             "#0d0887"
            ],
            [
             0.1111111111111111,
             "#46039f"
            ],
            [
             0.2222222222222222,
             "#7201a8"
            ],
            [
             0.3333333333333333,
             "#9c179e"
            ],
            [
             0.4444444444444444,
             "#bd3786"
            ],
            [
             0.5555555555555556,
             "#d8576b"
            ],
            [
             0.6666666666666666,
             "#ed7953"
            ],
            [
             0.7777777777777778,
             "#fb9f3a"
            ],
            [
             0.8888888888888888,
             "#fdca26"
            ],
            [
             1,
             "#f0f921"
            ]
           ]
          },
          "colorway": [
           "#636efa",
           "#EF553B",
           "#00cc96",
           "#ab63fa",
           "#FFA15A",
           "#19d3f3",
           "#FF6692",
           "#B6E880",
           "#FF97FF",
           "#FECB52"
          ],
          "font": {
           "color": "#2a3f5f"
          },
          "geo": {
           "bgcolor": "white",
           "lakecolor": "white",
           "landcolor": "#E5ECF6",
           "showlakes": true,
           "showland": true,
           "subunitcolor": "white"
          },
          "hoverlabel": {
           "align": "left"
          },
          "hovermode": "closest",
          "mapbox": {
           "style": "light"
          },
          "paper_bgcolor": "white",
          "plot_bgcolor": "#E5ECF6",
          "polar": {
           "angularaxis": {
            "gridcolor": "white",
            "linecolor": "white",
            "ticks": ""
           },
           "bgcolor": "#E5ECF6",
           "radialaxis": {
            "gridcolor": "white",
            "linecolor": "white",
            "ticks": ""
           }
          },
          "scene": {
           "xaxis": {
            "backgroundcolor": "#E5ECF6",
            "gridcolor": "white",
            "gridwidth": 2,
            "linecolor": "white",
            "showbackground": true,
            "ticks": "",
            "zerolinecolor": "white"
           },
           "yaxis": {
            "backgroundcolor": "#E5ECF6",
            "gridcolor": "white",
            "gridwidth": 2,
            "linecolor": "white",
            "showbackground": true,
            "ticks": "",
            "zerolinecolor": "white"
           },
           "zaxis": {
            "backgroundcolor": "#E5ECF6",
            "gridcolor": "white",
            "gridwidth": 2,
            "linecolor": "white",
            "showbackground": true,
            "ticks": "",
            "zerolinecolor": "white"
           }
          },
          "shapedefaults": {
           "line": {
            "color": "#2a3f5f"
           }
          },
          "ternary": {
           "aaxis": {
            "gridcolor": "white",
            "linecolor": "white",
            "ticks": ""
           },
           "baxis": {
            "gridcolor": "white",
            "linecolor": "white",
            "ticks": ""
           },
           "bgcolor": "#E5ECF6",
           "caxis": {
            "gridcolor": "white",
            "linecolor": "white",
            "ticks": ""
           }
          },
          "title": {
           "x": 0.05
          },
          "xaxis": {
           "automargin": true,
           "gridcolor": "white",
           "linecolor": "white",
           "ticks": "",
           "title": {
            "standoff": 15
           },
           "zerolinecolor": "white",
           "zerolinewidth": 2
          },
          "yaxis": {
           "automargin": true,
           "gridcolor": "white",
           "linecolor": "white",
           "ticks": "",
           "title": {
            "standoff": 15
           },
           "zerolinecolor": "white",
           "zerolinewidth": 2
          }
         }
        },
        "title": {
         "text": "IMDb Ratings and Genres of Movies for Actor Florence Pugh"
        },
        "xaxis": {
         "anchor": "y",
         "domain": [
          0,
          1
         ],
         "title": {
          "text": "Release Year"
         }
        },
        "yaxis": {
         "anchor": "x",
         "domain": [
          0,
          1
         ],
         "title": {
          "text": "IMDb Rating"
         }
        }
       }
      }
     },
     "metadata": {},
     "output_type": "display_data"
    },
    {
     "name": "stderr",
     "output_type": "stream",
     "text": [
      "C:\\Users\\anejj\\AppData\\Local\\Temp\\ipykernel_10780\\3470819798.py:24: SettingWithCopyWarning:\n",
      "\n",
      "\n",
      "A value is trying to be set on a copy of a slice from a DataFrame.\n",
      "Try using .loc[row_indexer,col_indexer] = value instead\n",
      "\n",
      "See the caveats in the documentation: https://pandas.pydata.org/pandas-docs/stable/user_guide/indexing.html#returning-a-view-versus-a-copy\n",
      "\n"
     ]
    },
    {
     "data": {
      "application/vnd.plotly.v1+json": {
       "config": {
        "plotlyServerURL": "https://plot.ly"
       },
       "data": [
        {
         "customdata": [
          [
           "Tom Brown of Culver",
           "Drama",
           11
          ],
          [
           "Flirtation Walk",
           "Music, Romance",
           11
          ],
          [
           "Northern Frontier",
           "Western",
           18
          ],
          [
           "Girls Dormitory",
           "Drama, Romance",
           8
          ],
          [
           "Screen Snapshots (Series 16, No. 1)",
           "Documentary",
           21
          ],
          [
           "Ladies In Love",
           "Romance, Comedy",
           5
          ],
          [
           "Lloyd's of London",
           "Drama, History, Romance, War",
           3
          ],
          [
           "Love Is News",
           "Comedy, Romance",
           0
          ],
          [
           "Café Metropole",
           "Comedy, Drama",
           1
          ],
          [
           "Thin Ice",
           "Comedy, Romance, Music",
           1
          ],
          [
           "Ali Baba Goes to Town",
           "Comedy, Family, Fantasy, Music",
           22
          ],
          [
           "Second Honeymoon",
           "Comedy, Romance",
           0
          ],
          [
           "In Old Chicago",
           "Action, Drama",
           0
          ],
          [
           "Alexander's Ragtime Band",
           "Drama, Music, Romance",
           0
          ],
          [
           "Hollywood Goes to Town",
           "",
           5
          ],
          [
           "Marie Antoinette",
           "Drama, History, Romance",
           1
          ],
          [
           "Suez",
           "Drama, History, Romance",
           0
          ],
          [
           "Jesse James",
           "Western, Crime, Drama",
           0
          ],
          [
           "Screen Snapshots Series 18, No. 8",
           "Documentary",
           9
          ],
          [
           "Hollywood Hobbies",
           "Comedy, Documentary",
           16
          ],
          [
           "Rose of Washington Square",
           "Drama, Music",
           0
          ],
          [
           "Second Fiddle",
           "Comedy",
           1
          ],
          [
           "The Rains Came",
           "Drama, Romance, Adventure",
           1
          ],
          [
           "Day-time Wife",
           "Comedy, Romance",
           0
          ],
          [
           "Johnny Apollo",
           "Drama, Crime, Romance",
           0
          ],
          [
           "Brigham Young",
           "History, Romance, Western",
           0
          ],
          [
           "The Mark of Zorro",
           "Action, Adventure, Drama, Romance",
           0
          ],
          [
           "Blood and Sand",
           "Drama, Romance, Action",
           0
          ],
          [
           "A Yank in the R.A.F.",
           "War, Action, Romance",
           0
          ],
          [
           "Son of Fury: The Story of Benjamin Blake",
           "Action, Drama, Romance",
           0
          ],
          [
           "This Above All",
           "Drama, Romance, War",
           0
          ],
          [
           "The Black Swan",
           "Action, Adventure, Drama, Romance",
           0
          ],
          [
           "Crash Dive",
           "War, Romance, Drama, Action, Adventure, Thriller",
           0
          ],
          [
           "Show-Business at War",
           "Documentary",
           48
          ],
          [
           "Screen Snapshots (Series 23, No. 1): Hollywood in Uniform",
           "Documentary",
           2
          ],
          [
           "The Razor's Edge",
           "Drama, Romance, Adventure",
           0
          ],
          [
           "Nightmare Alley",
           "Drama, Thriller, Crime",
           0
          ],
          [
           "Captain from Castile",
           "Action, Romance, Adventure",
           0
          ],
          [
           "The Luck of the Irish",
           "Fantasy, Comedy, Romance",
           0
          ],
          [
           "That Wonderful Urge",
           "Romance, Comedy",
           0
          ],
          [
           "Prince of Foxes",
           "Adventure, Drama, History",
           0
          ],
          [
           "The Black Rose",
           "War, Adventure, History",
           0
          ],
          [
           "American Guerrilla in the Philippines",
           "Drama, War",
           0
          ],
          [
           "Rawhide",
           "Western",
           0
          ],
          [
           "The House in the Square",
           "Drama, Fantasy, Romance",
           0
          ],
          [
           "Pony Soldier",
           "Western",
           0
          ],
          [
           "Diplomatic Courier",
           "Crime, Drama, Mystery, Romance",
           0
          ],
          [
           "The Mississippi Gambler",
           "Romance, Western",
           0
          ],
          [
           "King of the Khyber Rifles",
           "Adventure, Drama, Romance",
           0
          ],
          [
           "The Long Gray Line",
           "Comedy, Drama",
           0
          ],
          [
           "Untamed",
           "Adventure, Drama, Romance",
           0
          ],
          [
           "The Red, White and Blue Line",
           "Documentary",
           0
          ],
          [
           "The Eddy Duchin Story",
           "Drama, Music, Romance",
           0
          ],
          [
           "Abandon Ship",
           "Drama, Adventure",
           0
          ],
          [
           "The Rising of the Moon",
           "Comedy",
           0
          ],
          [
           "The Sun Also Rises",
           "Drama, Romance",
           0
          ],
          [
           "Witness for the Prosecution",
           "Drama, Mystery, Crime",
           0
          ],
          [
           "Hollywood Without Make-Up",
           "Documentary",
           107
          ],
          [
           "La verifica incerta",
           "Documentary",
           13
          ],
          [
           "Hollywood My Home Town",
           "Documentary",
           83
          ],
          [
           "Hollywood: The Dream Factory",
           "Documentary, History",
           62
          ],
          [
           "Brother, Can You Spare a Dime?",
           "Documentary",
           104
          ],
          [
           "Showbiz Goes to War",
           "Documentary, TV Movie",
           46
          ],
          [
           "Hollywood Heaven: Tragic Lives, Tragic Deaths",
           "Documentary",
           11
          ],
          [
           "Death Scenes 2",
           "Documentary, Horror",
           20
          ],
          [
           "The Silver Screen: Color Me Lavender",
           "History, Documentary",
           28
          ],
          [
           "Sir John Mills' Moving Memories",
           "Documentary",
           29
          ],
          [
           "The Kid Stays in the Picture",
           "Documentary",
           8
          ],
          [
           "The Adventures of Errol Flynn",
           "Documentary, TV Movie",
           37
          ],
          [
           "Fantasia Lusitana",
           "Documentary, History",
           11
          ],
          [
           "Hollywood, la vie rêvée de Lana Turner",
           "Documentary",
           30
          ]
         ],
         "hovertemplate": "Release Year=%{x}<br>IMDb Rating=%{y}<br>Movie name=%{customdata[0]}<br>Genres=%{customdata[1]}<br>Order=%{customdata[2]}<extra></extra>",
         "legendgroup": "",
         "marker": {
          "color": "blue",
          "symbol": "circle"
         },
         "mode": "markers",
         "name": "",
         "orientation": "v",
         "showlegend": false,
         "type": "scatter",
         "x": [
          "1932-06-30",
          "1934-12-01",
          "1935-02-01",
          "1936-08-08",
          "1936-09-11",
          "1936-10-09",
          "1936-11-25",
          "1937-02-26",
          "1937-04-28",
          "1937-09-03",
          "1937-10-29",
          "1937-11-13",
          "1938-04-15",
          "1938-05-24",
          "1938-07-07",
          "1938-08-26",
          "1938-10-28",
          "1939-01-14",
          "1939-04-08",
          "1939-05-03",
          "1939-05-05",
          "1939-06-30",
          "1939-09-15",
          "1939-11-24",
          "1940-04-19",
          "1940-09-27",
          "1940-11-08",
          "1941-05-30",
          "1941-09-26",
          "1942-01-29",
          "1942-05-12",
          "1942-12-04",
          "1943-04-22",
          "1943-05-21",
          "1943-08-15",
          "1946-11-19",
          "1947-10-09",
          "1947-12-25",
          "1948-09-15",
          "1948-11-20",
          "1949-11-11",
          "1950-09-01",
          "1950-11-08",
          "1951-03-25",
          "1951-12-07",
          "1952-04-01",
          "1952-06-13",
          "1953-01-29",
          "1953-12-23",
          "1955-02-09",
          "1955-03-01",
          "1955-06-01",
          "1956-05-02",
          "1957-03-12",
          "1957-08-10",
          "1957-08-23",
          "1957-12-17",
          "1963-07-01",
          "1965-05-31",
          "1965-12-31",
          "1972-01-10",
          "1975-08-06",
          "1982-12-31",
          "1990-01-01",
          "1992-01-01",
          "1997-11-01",
          "2000-08-01",
          "2002-08-16",
          "2005-04-05",
          "2010-04-22",
          "2019-05-22"
         ],
         "xaxis": "x",
         "y": [
          6.5,
          5.6,
          5.8,
          6.2,
          9,
          6.3,
          6.9,
          6.9,
          6.6,
          6.3,
          6.4,
          6.2,
          6.7,
          6.8,
          6.3,
          7.3,
          6.6,
          7,
          1.7,
          5.7,
          6.7,
          6.4,
          6.8,
          6.5,
          6.9,
          6.3,
          7.5,
          6.8,
          6.3,
          7.1,
          6.6,
          6.7,
          6.4,
          7.1,
          5.1,
          7.3,
          7.7,
          6.8,
          6.6,
          6.5,
          6.9,
          6.2,
          5.9,
          7.1,
          7,
          5.9,
          6.8,
          6.7,
          6.3,
          7.2,
          6,
          4.7,
          6.8,
          7.5,
          6.6,
          6.2,
          8.4,
          7.3,
          6.2,
          7.6,
          6.6,
          7.1,
          9,
          6.4,
          4.9,
          6.3,
          7.6,
          7.3,
          8,
          7.4,
          6.7
         ],
         "yaxis": "y"
        }
       ],
       "layout": {
        "legend": {
         "tracegroupgap": 0
        },
        "shapes": [
         {
          "fillcolor": "rgba(255, 255, 153, 0.5)",
          "layer": "below",
          "line": {
           "width": 0
          },
          "opacity": 0.5,
          "type": "rect",
          "x0": "1932-06-30",
          "x1": "1939-09-15",
          "y0": 0,
          "y1": 11
         },
         {
          "fillcolor": "rgba(255, 165, 0, 0.5)",
          "layer": "below",
          "line": {
           "width": 0
          },
          "opacity": 0.5,
          "type": "rect",
          "x0": "1939-09-15",
          "x1": "1952-04-01",
          "y0": 0,
          "y1": 11
         },
         {
          "fillcolor": "rgba(240, 128, 128, 0.5)",
          "layer": "below",
          "line": {
           "width": 0
          },
          "opacity": 0.5,
          "type": "rect",
          "x0": "1952-04-01",
          "x1": "2019-05-22",
          "y0": 0,
          "y1": 11
         }
        ],
        "template": {
         "data": {
          "bar": [
           {
            "error_x": {
             "color": "#2a3f5f"
            },
            "error_y": {
             "color": "#2a3f5f"
            },
            "marker": {
             "line": {
              "color": "#E5ECF6",
              "width": 0.5
             },
             "pattern": {
              "fillmode": "overlay",
              "size": 10,
              "solidity": 0.2
             }
            },
            "type": "bar"
           }
          ],
          "barpolar": [
           {
            "marker": {
             "line": {
              "color": "#E5ECF6",
              "width": 0.5
             },
             "pattern": {
              "fillmode": "overlay",
              "size": 10,
              "solidity": 0.2
             }
            },
            "type": "barpolar"
           }
          ],
          "carpet": [
           {
            "aaxis": {
             "endlinecolor": "#2a3f5f",
             "gridcolor": "white",
             "linecolor": "white",
             "minorgridcolor": "white",
             "startlinecolor": "#2a3f5f"
            },
            "baxis": {
             "endlinecolor": "#2a3f5f",
             "gridcolor": "white",
             "linecolor": "white",
             "minorgridcolor": "white",
             "startlinecolor": "#2a3f5f"
            },
            "type": "carpet"
           }
          ],
          "choropleth": [
           {
            "colorbar": {
             "outlinewidth": 0,
             "ticks": ""
            },
            "type": "choropleth"
           }
          ],
          "contour": [
           {
            "colorbar": {
             "outlinewidth": 0,
             "ticks": ""
            },
            "colorscale": [
             [
              0,
              "#0d0887"
             ],
             [
              0.1111111111111111,
              "#46039f"
             ],
             [
              0.2222222222222222,
              "#7201a8"
             ],
             [
              0.3333333333333333,
              "#9c179e"
             ],
             [
              0.4444444444444444,
              "#bd3786"
             ],
             [
              0.5555555555555556,
              "#d8576b"
             ],
             [
              0.6666666666666666,
              "#ed7953"
             ],
             [
              0.7777777777777778,
              "#fb9f3a"
             ],
             [
              0.8888888888888888,
              "#fdca26"
             ],
             [
              1,
              "#f0f921"
             ]
            ],
            "type": "contour"
           }
          ],
          "contourcarpet": [
           {
            "colorbar": {
             "outlinewidth": 0,
             "ticks": ""
            },
            "type": "contourcarpet"
           }
          ],
          "heatmap": [
           {
            "colorbar": {
             "outlinewidth": 0,
             "ticks": ""
            },
            "colorscale": [
             [
              0,
              "#0d0887"
             ],
             [
              0.1111111111111111,
              "#46039f"
             ],
             [
              0.2222222222222222,
              "#7201a8"
             ],
             [
              0.3333333333333333,
              "#9c179e"
             ],
             [
              0.4444444444444444,
              "#bd3786"
             ],
             [
              0.5555555555555556,
              "#d8576b"
             ],
             [
              0.6666666666666666,
              "#ed7953"
             ],
             [
              0.7777777777777778,
              "#fb9f3a"
             ],
             [
              0.8888888888888888,
              "#fdca26"
             ],
             [
              1,
              "#f0f921"
             ]
            ],
            "type": "heatmap"
           }
          ],
          "heatmapgl": [
           {
            "colorbar": {
             "outlinewidth": 0,
             "ticks": ""
            },
            "colorscale": [
             [
              0,
              "#0d0887"
             ],
             [
              0.1111111111111111,
              "#46039f"
             ],
             [
              0.2222222222222222,
              "#7201a8"
             ],
             [
              0.3333333333333333,
              "#9c179e"
             ],
             [
              0.4444444444444444,
              "#bd3786"
             ],
             [
              0.5555555555555556,
              "#d8576b"
             ],
             [
              0.6666666666666666,
              "#ed7953"
             ],
             [
              0.7777777777777778,
              "#fb9f3a"
             ],
             [
              0.8888888888888888,
              "#fdca26"
             ],
             [
              1,
              "#f0f921"
             ]
            ],
            "type": "heatmapgl"
           }
          ],
          "histogram": [
           {
            "marker": {
             "pattern": {
              "fillmode": "overlay",
              "size": 10,
              "solidity": 0.2
             }
            },
            "type": "histogram"
           }
          ],
          "histogram2d": [
           {
            "colorbar": {
             "outlinewidth": 0,
             "ticks": ""
            },
            "colorscale": [
             [
              0,
              "#0d0887"
             ],
             [
              0.1111111111111111,
              "#46039f"
             ],
             [
              0.2222222222222222,
              "#7201a8"
             ],
             [
              0.3333333333333333,
              "#9c179e"
             ],
             [
              0.4444444444444444,
              "#bd3786"
             ],
             [
              0.5555555555555556,
              "#d8576b"
             ],
             [
              0.6666666666666666,
              "#ed7953"
             ],
             [
              0.7777777777777778,
              "#fb9f3a"
             ],
             [
              0.8888888888888888,
              "#fdca26"
             ],
             [
              1,
              "#f0f921"
             ]
            ],
            "type": "histogram2d"
           }
          ],
          "histogram2dcontour": [
           {
            "colorbar": {
             "outlinewidth": 0,
             "ticks": ""
            },
            "colorscale": [
             [
              0,
              "#0d0887"
             ],
             [
              0.1111111111111111,
              "#46039f"
             ],
             [
              0.2222222222222222,
              "#7201a8"
             ],
             [
              0.3333333333333333,
              "#9c179e"
             ],
             [
              0.4444444444444444,
              "#bd3786"
             ],
             [
              0.5555555555555556,
              "#d8576b"
             ],
             [
              0.6666666666666666,
              "#ed7953"
             ],
             [
              0.7777777777777778,
              "#fb9f3a"
             ],
             [
              0.8888888888888888,
              "#fdca26"
             ],
             [
              1,
              "#f0f921"
             ]
            ],
            "type": "histogram2dcontour"
           }
          ],
          "mesh3d": [
           {
            "colorbar": {
             "outlinewidth": 0,
             "ticks": ""
            },
            "type": "mesh3d"
           }
          ],
          "parcoords": [
           {
            "line": {
             "colorbar": {
              "outlinewidth": 0,
              "ticks": ""
             }
            },
            "type": "parcoords"
           }
          ],
          "pie": [
           {
            "automargin": true,
            "type": "pie"
           }
          ],
          "scatter": [
           {
            "fillpattern": {
             "fillmode": "overlay",
             "size": 10,
             "solidity": 0.2
            },
            "type": "scatter"
           }
          ],
          "scatter3d": [
           {
            "line": {
             "colorbar": {
              "outlinewidth": 0,
              "ticks": ""
             }
            },
            "marker": {
             "colorbar": {
              "outlinewidth": 0,
              "ticks": ""
             }
            },
            "type": "scatter3d"
           }
          ],
          "scattercarpet": [
           {
            "marker": {
             "colorbar": {
              "outlinewidth": 0,
              "ticks": ""
             }
            },
            "type": "scattercarpet"
           }
          ],
          "scattergeo": [
           {
            "marker": {
             "colorbar": {
              "outlinewidth": 0,
              "ticks": ""
             }
            },
            "type": "scattergeo"
           }
          ],
          "scattergl": [
           {
            "marker": {
             "colorbar": {
              "outlinewidth": 0,
              "ticks": ""
             }
            },
            "type": "scattergl"
           }
          ],
          "scattermapbox": [
           {
            "marker": {
             "colorbar": {
              "outlinewidth": 0,
              "ticks": ""
             }
            },
            "type": "scattermapbox"
           }
          ],
          "scatterpolar": [
           {
            "marker": {
             "colorbar": {
              "outlinewidth": 0,
              "ticks": ""
             }
            },
            "type": "scatterpolar"
           }
          ],
          "scatterpolargl": [
           {
            "marker": {
             "colorbar": {
              "outlinewidth": 0,
              "ticks": ""
             }
            },
            "type": "scatterpolargl"
           }
          ],
          "scatterternary": [
           {
            "marker": {
             "colorbar": {
              "outlinewidth": 0,
              "ticks": ""
             }
            },
            "type": "scatterternary"
           }
          ],
          "surface": [
           {
            "colorbar": {
             "outlinewidth": 0,
             "ticks": ""
            },
            "colorscale": [
             [
              0,
              "#0d0887"
             ],
             [
              0.1111111111111111,
              "#46039f"
             ],
             [
              0.2222222222222222,
              "#7201a8"
             ],
             [
              0.3333333333333333,
              "#9c179e"
             ],
             [
              0.4444444444444444,
              "#bd3786"
             ],
             [
              0.5555555555555556,
              "#d8576b"
             ],
             [
              0.6666666666666666,
              "#ed7953"
             ],
             [
              0.7777777777777778,
              "#fb9f3a"
             ],
             [
              0.8888888888888888,
              "#fdca26"
             ],
             [
              1,
              "#f0f921"
             ]
            ],
            "type": "surface"
           }
          ],
          "table": [
           {
            "cells": {
             "fill": {
              "color": "#EBF0F8"
             },
             "line": {
              "color": "white"
             }
            },
            "header": {
             "fill": {
              "color": "#C8D4E3"
             },
             "line": {
              "color": "white"
             }
            },
            "type": "table"
           }
          ]
         },
         "layout": {
          "annotationdefaults": {
           "arrowcolor": "#2a3f5f",
           "arrowhead": 0,
           "arrowwidth": 1
          },
          "autotypenumbers": "strict",
          "coloraxis": {
           "colorbar": {
            "outlinewidth": 0,
            "ticks": ""
           }
          },
          "colorscale": {
           "diverging": [
            [
             0,
             "#8e0152"
            ],
            [
             0.1,
             "#c51b7d"
            ],
            [
             0.2,
             "#de77ae"
            ],
            [
             0.3,
             "#f1b6da"
            ],
            [
             0.4,
             "#fde0ef"
            ],
            [
             0.5,
             "#f7f7f7"
            ],
            [
             0.6,
             "#e6f5d0"
            ],
            [
             0.7,
             "#b8e186"
            ],
            [
             0.8,
             "#7fbc41"
            ],
            [
             0.9,
             "#4d9221"
            ],
            [
             1,
             "#276419"
            ]
           ],
           "sequential": [
            [
             0,
             "#0d0887"
            ],
            [
             0.1111111111111111,
             "#46039f"
            ],
            [
             0.2222222222222222,
             "#7201a8"
            ],
            [
             0.3333333333333333,
             "#9c179e"
            ],
            [
             0.4444444444444444,
             "#bd3786"
            ],
            [
             0.5555555555555556,
             "#d8576b"
            ],
            [
             0.6666666666666666,
             "#ed7953"
            ],
            [
             0.7777777777777778,
             "#fb9f3a"
            ],
            [
             0.8888888888888888,
             "#fdca26"
            ],
            [
             1,
             "#f0f921"
            ]
           ],
           "sequentialminus": [
            [
             0,
             "#0d0887"
            ],
            [
             0.1111111111111111,
             "#46039f"
            ],
            [
             0.2222222222222222,
             "#7201a8"
            ],
            [
             0.3333333333333333,
             "#9c179e"
            ],
            [
             0.4444444444444444,
             "#bd3786"
            ],
            [
             0.5555555555555556,
             "#d8576b"
            ],
            [
             0.6666666666666666,
             "#ed7953"
            ],
            [
             0.7777777777777778,
             "#fb9f3a"
            ],
            [
             0.8888888888888888,
             "#fdca26"
            ],
            [
             1,
             "#f0f921"
            ]
           ]
          },
          "colorway": [
           "#636efa",
           "#EF553B",
           "#00cc96",
           "#ab63fa",
           "#FFA15A",
           "#19d3f3",
           "#FF6692",
           "#B6E880",
           "#FF97FF",
           "#FECB52"
          ],
          "font": {
           "color": "#2a3f5f"
          },
          "geo": {
           "bgcolor": "white",
           "lakecolor": "white",
           "landcolor": "#E5ECF6",
           "showlakes": true,
           "showland": true,
           "subunitcolor": "white"
          },
          "hoverlabel": {
           "align": "left"
          },
          "hovermode": "closest",
          "mapbox": {
           "style": "light"
          },
          "paper_bgcolor": "white",
          "plot_bgcolor": "#E5ECF6",
          "polar": {
           "angularaxis": {
            "gridcolor": "white",
            "linecolor": "white",
            "ticks": ""
           },
           "bgcolor": "#E5ECF6",
           "radialaxis": {
            "gridcolor": "white",
            "linecolor": "white",
            "ticks": ""
           }
          },
          "scene": {
           "xaxis": {
            "backgroundcolor": "#E5ECF6",
            "gridcolor": "white",
            "gridwidth": 2,
            "linecolor": "white",
            "showbackground": true,
            "ticks": "",
            "zerolinecolor": "white"
           },
           "yaxis": {
            "backgroundcolor": "#E5ECF6",
            "gridcolor": "white",
            "gridwidth": 2,
            "linecolor": "white",
            "showbackground": true,
            "ticks": "",
            "zerolinecolor": "white"
           },
           "zaxis": {
            "backgroundcolor": "#E5ECF6",
            "gridcolor": "white",
            "gridwidth": 2,
            "linecolor": "white",
            "showbackground": true,
            "ticks": "",
            "zerolinecolor": "white"
           }
          },
          "shapedefaults": {
           "line": {
            "color": "#2a3f5f"
           }
          },
          "ternary": {
           "aaxis": {
            "gridcolor": "white",
            "linecolor": "white",
            "ticks": ""
           },
           "baxis": {
            "gridcolor": "white",
            "linecolor": "white",
            "ticks": ""
           },
           "bgcolor": "#E5ECF6",
           "caxis": {
            "gridcolor": "white",
            "linecolor": "white",
            "ticks": ""
           }
          },
          "title": {
           "x": 0.05
          },
          "xaxis": {
           "automargin": true,
           "gridcolor": "white",
           "linecolor": "white",
           "ticks": "",
           "title": {
            "standoff": 15
           },
           "zerolinecolor": "white",
           "zerolinewidth": 2
          },
          "yaxis": {
           "automargin": true,
           "gridcolor": "white",
           "linecolor": "white",
           "ticks": "",
           "title": {
            "standoff": 15
           },
           "zerolinecolor": "white",
           "zerolinewidth": 2
          }
         }
        },
        "title": {
         "text": "IMDb Ratings and Genres of Movies for Actor Tyrone Power"
        },
        "xaxis": {
         "anchor": "y",
         "domain": [
          0,
          1
         ],
         "title": {
          "text": "Release Year"
         }
        },
        "yaxis": {
         "anchor": "x",
         "domain": [
          0,
          1
         ],
         "title": {
          "text": "IMDb Rating"
         }
        }
       }
      }
     },
     "metadata": {},
     "output_type": "display_data"
    }
   ],
   "source": [
    "import pandas as pd\n",
    "import plotly.express as px\n",
    "import plotly.graph_objects as go\n",
    "\n",
    "def divided_movies(actor_movies):\n",
    "    num_movies = len(actor_movies)\n",
    "    movies_per_part = num_movies // 3\n",
    "    actor_movies_sorted = actor_movies.sort_values(by='release_date')\n",
    "\n",
    "    first_part = actor_movies_sorted[:movies_per_part]\n",
    "    second_part = actor_movies_sorted[movies_per_part:2 * movies_per_part]\n",
    "    third_part = actor_movies_sorted[2 * movies_per_part:]\n",
    "\n",
    "    return first_part['release_date'].max(), second_part['release_date'].max()\n",
    "\n",
    "def plot_movies_ratings(actor_id):\n",
    "    actor_name, actor_movies = get_movies_by_actor(actor_id)\n",
    "    actor_movies_sorted = actor_movies.sort_values(by='release_date')\n",
    "\n",
    "    # Determine dates at which the parts change\n",
    "    date_beginning, date_middle = divided_movies(actor_movies)\n",
    "    actor_movies_sorted['genres_str'] = actor_movies_sorted['genres'].apply(lambda genres: ', '.join([genre['name'] for genre in genres]) if genres else '')\n",
    "\n",
    "    fig = px.scatter(actor_movies_sorted, x='release_date', y='imdb_average_rating',\n",
    "                     hover_data=['original_title', 'genres_str', 'order'],\n",
    "                     labels={'imdb_average_rating': 'IMDb Rating', 'release_date': 'Release Year', 'original_title': 'Movie name', 'genres_str': 'Genres', 'order': 'Order'},\n",
    "                     title=f'IMDb Ratings and Genres of Movies for Actor {actor_name}',\n",
    "                     color_discrete_sequence=['blue'])\n",
    "    \n",
    "    rgba_light_yellow = (255, 255, 153, 0.5)  # light yellow\n",
    "    rgba_light_orange = (255, 165, 0, 0.5)    # light orange\n",
    "    rgba_light_red = (240, 128, 128, 0.5)      # light red\n",
    "\n",
    "    fig.add_shape(\n",
    "        go.layout.Shape(\n",
    "            type=\"rect\",\n",
    "            x0=actor_movies_sorted['release_date'].min(),\n",
    "            x1=date_beginning,\n",
    "            y0=0,\n",
    "            y1=11,\n",
    "            fillcolor=f\"rgba{rgba_light_yellow}\",\n",
    "            opacity=0.5,\n",
    "            layer=\"below\",\n",
    "            line_width=0,\n",
    "        )\n",
    "    )\n",
    "\n",
    "    fig.add_shape(\n",
    "        go.layout.Shape(\n",
    "            type=\"rect\",\n",
    "            x0=date_beginning,\n",
    "            x1=date_middle,\n",
    "            y0=0,\n",
    "            y1=11,\n",
    "            fillcolor=f\"rgba{rgba_light_orange}\",\n",
    "            opacity=0.5,\n",
    "            layer=\"below\",\n",
    "            line_width=0,\n",
    "        )\n",
    "    )\n",
    "\n",
    "    fig.add_shape(\n",
    "        go.layout.Shape(\n",
    "            type=\"rect\",\n",
    "            x0=date_middle,\n",
    "            x1=actor_movies_sorted['release_date'].max(),\n",
    "            y0=0,\n",
    "            y1=11,\n",
    "            fillcolor=f\"rgba{rgba_light_red}\",\n",
    "            opacity=0.5,\n",
    "            layer=\"below\",\n",
    "            line_width=0,\n",
    "        )\n",
    "    )\n",
    "\n",
    "    fig.show()\n",
    "\n",
    "plot_movies_ratings(1373737)\n",
    "plot_movies_ratings(10922)"
   ]
  },
  {
   "cell_type": "code",
   "execution_count": null,
   "metadata": {},
   "outputs": [],
   "source": []
  },
  {
   "cell_type": "code",
   "execution_count": null,
   "metadata": {},
   "outputs": [],
   "source": []
  }
 ],
 "metadata": {
  "kernelspec": {
   "display_name": "base",
   "language": "python",
   "name": "python3"
  },
  "language_info": {
   "codemirror_mode": {
    "name": "ipython",
    "version": 3
   },
   "file_extension": ".py",
   "mimetype": "text/x-python",
   "name": "python",
   "nbconvert_exporter": "python",
   "pygments_lexer": "ipython3",
   "version": "3.10.13"
  }
 },
 "nbformat": 4,
 "nbformat_minor": 2
}
