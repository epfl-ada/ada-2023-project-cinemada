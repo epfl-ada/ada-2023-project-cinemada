{
 "cells": [
  {
   "cell_type": "code",
   "execution_count": 1,
   "metadata": {},
   "outputs": [],
   "source": [
    "import requests\n",
    "from bs4 import BeautifulSoup\n",
    "import pandas as pd\n",
    "\n",
    "from selenium import webdriver\n",
    "from selenium.webdriver.common.by import By\n",
    "from selenium.webdriver.common.keys import Keys\n",
    "from selenium.webdriver.support.ui import WebDriverWait\n",
    "from selenium.webdriver.support import expected_conditions as EC\n",
    "from selenium.webdriver.chrome.service import Service\n",
    "from selenium.webdriver.chrome.options import Options\n",
    "from selenium.common.exceptions import TimeoutException\n",
    "\n",
    "import time"
   ]
  },
  {
   "cell_type": "code",
   "execution_count": 2,
   "metadata": {},
   "outputs": [
    {
     "ename": "KeyboardInterrupt",
     "evalue": "",
     "output_type": "error",
     "traceback": [
      "\u001b[1;31m---------------------------------------------------------------------------\u001b[0m",
      "\u001b[1;31mKeyboardInterrupt\u001b[0m                         Traceback (most recent call last)",
      "Cell \u001b[1;32mIn[2], line 8\u001b[0m\n\u001b[0;32m      5\u001b[0m chrome_options\u001b[38;5;241m.\u001b[39mbinary_location \u001b[38;5;241m=\u001b[39m \u001b[38;5;124mr\u001b[39m\u001b[38;5;124m\"\u001b[39m\u001b[38;5;124mC:\u001b[39m\u001b[38;5;124m\\\u001b[39m\u001b[38;5;124mProgram Files\u001b[39m\u001b[38;5;124m\\\u001b[39m\u001b[38;5;124mGoogle\u001b[39m\u001b[38;5;124m\\\u001b[39m\u001b[38;5;124mChrome\u001b[39m\u001b[38;5;124m\\\u001b[39m\u001b[38;5;124mApplication\u001b[39m\u001b[38;5;124m\\\u001b[39m\u001b[38;5;124mchrome.exe\u001b[39m\u001b[38;5;124m\"\u001b[39m\n\u001b[0;32m      7\u001b[0m \u001b[38;5;66;03m# Use only chrome_options, not executable_path\u001b[39;00m\n\u001b[1;32m----> 8\u001b[0m driver \u001b[38;5;241m=\u001b[39m \u001b[43mwebdriver\u001b[49m\u001b[38;5;241;43m.\u001b[39;49m\u001b[43mChrome\u001b[49m\u001b[43m(\u001b[49m\u001b[43moptions\u001b[49m\u001b[38;5;241;43m=\u001b[39;49m\u001b[43mchrome_options\u001b[49m\u001b[43m)\u001b[49m\n\u001b[0;32m     10\u001b[0m driver\u001b[38;5;241m.\u001b[39mget(url)\n\u001b[0;32m     13\u001b[0m \u001b[38;5;66;03m# Decline cookies settings\u001b[39;00m\n",
      "File \u001b[1;32mc:\\Users\\anejj\\anaconda3\\lib\\site-packages\\selenium\\webdriver\\chrome\\webdriver.py:84\u001b[0m, in \u001b[0;36mWebDriver.__init__\u001b[1;34m(self, executable_path, port, options, service_args, desired_capabilities, service_log_path, chrome_options, service, keep_alive)\u001b[0m\n\u001b[0;32m     81\u001b[0m     service \u001b[38;5;241m=\u001b[39m Service(executable_path, port, service_args, service_log_path)\n\u001b[0;32m     82\u001b[0m service\u001b[38;5;241m.\u001b[39mpath \u001b[38;5;241m=\u001b[39m DriverFinder\u001b[38;5;241m.\u001b[39mget_path(service, options)\n\u001b[1;32m---> 84\u001b[0m \u001b[38;5;28;43msuper\u001b[39;49m\u001b[43m(\u001b[49m\u001b[43m)\u001b[49m\u001b[38;5;241;43m.\u001b[39;49m\u001b[38;5;21;43m__init__\u001b[39;49m\u001b[43m(\u001b[49m\n\u001b[0;32m     85\u001b[0m \u001b[43m    \u001b[49m\u001b[43mDesiredCapabilities\u001b[49m\u001b[38;5;241;43m.\u001b[39;49m\u001b[43mCHROME\u001b[49m\u001b[43m[\u001b[49m\u001b[38;5;124;43m\"\u001b[39;49m\u001b[38;5;124;43mbrowserName\u001b[39;49m\u001b[38;5;124;43m\"\u001b[39;49m\u001b[43m]\u001b[49m\u001b[43m,\u001b[49m\n\u001b[0;32m     86\u001b[0m \u001b[43m    \u001b[49m\u001b[38;5;124;43m\"\u001b[39;49m\u001b[38;5;124;43mgoog\u001b[39;49m\u001b[38;5;124;43m\"\u001b[39;49m\u001b[43m,\u001b[49m\n\u001b[0;32m     87\u001b[0m \u001b[43m    \u001b[49m\u001b[43mport\u001b[49m\u001b[43m,\u001b[49m\n\u001b[0;32m     88\u001b[0m \u001b[43m    \u001b[49m\u001b[43moptions\u001b[49m\u001b[43m,\u001b[49m\n\u001b[0;32m     89\u001b[0m \u001b[43m    \u001b[49m\u001b[43mservice_args\u001b[49m\u001b[43m,\u001b[49m\n\u001b[0;32m     90\u001b[0m \u001b[43m    \u001b[49m\u001b[43mdesired_capabilities\u001b[49m\u001b[43m,\u001b[49m\n\u001b[0;32m     91\u001b[0m \u001b[43m    \u001b[49m\u001b[43mservice_log_path\u001b[49m\u001b[43m,\u001b[49m\n\u001b[0;32m     92\u001b[0m \u001b[43m    \u001b[49m\u001b[43mservice\u001b[49m\u001b[43m,\u001b[49m\n\u001b[0;32m     93\u001b[0m \u001b[43m    \u001b[49m\u001b[43mkeep_alive\u001b[49m\u001b[43m,\u001b[49m\n\u001b[0;32m     94\u001b[0m \u001b[43m\u001b[49m\u001b[43m)\u001b[49m\n",
      "File \u001b[1;32mc:\\Users\\anejj\\anaconda3\\lib\\site-packages\\selenium\\webdriver\\chromium\\webdriver.py:104\u001b[0m, in \u001b[0;36mChromiumDriver.__init__\u001b[1;34m(self, browser_name, vendor_prefix, port, options, service_args, desired_capabilities, service_log_path, service, keep_alive)\u001b[0m\n\u001b[0;32m    101\u001b[0m \u001b[38;5;28mself\u001b[39m\u001b[38;5;241m.\u001b[39mservice\u001b[38;5;241m.\u001b[39mstart()\n\u001b[0;32m    103\u001b[0m \u001b[38;5;28;01mtry\u001b[39;00m:\n\u001b[1;32m--> 104\u001b[0m     \u001b[38;5;28;43msuper\u001b[39;49m\u001b[43m(\u001b[49m\u001b[43m)\u001b[49m\u001b[38;5;241;43m.\u001b[39;49m\u001b[38;5;21;43m__init__\u001b[39;49m\u001b[43m(\u001b[49m\n\u001b[0;32m    105\u001b[0m \u001b[43m        \u001b[49m\u001b[43mcommand_executor\u001b[49m\u001b[38;5;241;43m=\u001b[39;49m\u001b[43mChromiumRemoteConnection\u001b[49m\u001b[43m(\u001b[49m\n\u001b[0;32m    106\u001b[0m \u001b[43m            \u001b[49m\u001b[43mremote_server_addr\u001b[49m\u001b[38;5;241;43m=\u001b[39;49m\u001b[38;5;28;43mself\u001b[39;49m\u001b[38;5;241;43m.\u001b[39;49m\u001b[43mservice\u001b[49m\u001b[38;5;241;43m.\u001b[39;49m\u001b[43mservice_url\u001b[49m\u001b[43m,\u001b[49m\n\u001b[0;32m    107\u001b[0m \u001b[43m            \u001b[49m\u001b[43mbrowser_name\u001b[49m\u001b[38;5;241;43m=\u001b[39;49m\u001b[43mbrowser_name\u001b[49m\u001b[43m,\u001b[49m\n\u001b[0;32m    108\u001b[0m \u001b[43m            \u001b[49m\u001b[43mvendor_prefix\u001b[49m\u001b[38;5;241;43m=\u001b[39;49m\u001b[43mvendor_prefix\u001b[49m\u001b[43m,\u001b[49m\n\u001b[0;32m    109\u001b[0m \u001b[43m            \u001b[49m\u001b[43mkeep_alive\u001b[49m\u001b[38;5;241;43m=\u001b[39;49m\u001b[43mkeep_alive\u001b[49m\u001b[43m,\u001b[49m\n\u001b[0;32m    110\u001b[0m \u001b[43m            \u001b[49m\u001b[43mignore_proxy\u001b[49m\u001b[38;5;241;43m=\u001b[39;49m\u001b[43m_ignore_proxy\u001b[49m\u001b[43m,\u001b[49m\n\u001b[0;32m    111\u001b[0m \u001b[43m        \u001b[49m\u001b[43m)\u001b[49m\u001b[43m,\u001b[49m\n\u001b[0;32m    112\u001b[0m \u001b[43m        \u001b[49m\u001b[43moptions\u001b[49m\u001b[38;5;241;43m=\u001b[39;49m\u001b[43moptions\u001b[49m\u001b[43m,\u001b[49m\n\u001b[0;32m    113\u001b[0m \u001b[43m    \u001b[49m\u001b[43m)\u001b[49m\n\u001b[0;32m    114\u001b[0m \u001b[38;5;28;01mexcept\u001b[39;00m \u001b[38;5;167;01mException\u001b[39;00m:\n\u001b[0;32m    115\u001b[0m     \u001b[38;5;28mself\u001b[39m\u001b[38;5;241m.\u001b[39mquit()\n",
      "File \u001b[1;32mc:\\Users\\anejj\\anaconda3\\lib\\site-packages\\selenium\\webdriver\\remote\\webdriver.py:286\u001b[0m, in \u001b[0;36mWebDriver.__init__\u001b[1;34m(self, command_executor, desired_capabilities, browser_profile, proxy, keep_alive, file_detector, options)\u001b[0m\n\u001b[0;32m    284\u001b[0m \u001b[38;5;28mself\u001b[39m\u001b[38;5;241m.\u001b[39m_authenticator_id \u001b[38;5;241m=\u001b[39m \u001b[38;5;28;01mNone\u001b[39;00m\n\u001b[0;32m    285\u001b[0m \u001b[38;5;28mself\u001b[39m\u001b[38;5;241m.\u001b[39mstart_client()\n\u001b[1;32m--> 286\u001b[0m \u001b[38;5;28;43mself\u001b[39;49m\u001b[38;5;241;43m.\u001b[39;49m\u001b[43mstart_session\u001b[49m\u001b[43m(\u001b[49m\u001b[43mcapabilities\u001b[49m\u001b[43m,\u001b[49m\u001b[43m \u001b[49m\u001b[43mbrowser_profile\u001b[49m\u001b[43m)\u001b[49m\n",
      "File \u001b[1;32mc:\\Users\\anejj\\anaconda3\\lib\\site-packages\\selenium\\webdriver\\remote\\webdriver.py:378\u001b[0m, in \u001b[0;36mWebDriver.start_session\u001b[1;34m(self, capabilities, browser_profile)\u001b[0m\n\u001b[0;32m    376\u001b[0m w3c_caps \u001b[38;5;241m=\u001b[39m _make_w3c_caps(capabilities)\n\u001b[0;32m    377\u001b[0m parameters \u001b[38;5;241m=\u001b[39m {\u001b[38;5;124m\"\u001b[39m\u001b[38;5;124mcapabilities\u001b[39m\u001b[38;5;124m\"\u001b[39m: w3c_caps}\n\u001b[1;32m--> 378\u001b[0m response \u001b[38;5;241m=\u001b[39m \u001b[38;5;28;43mself\u001b[39;49m\u001b[38;5;241;43m.\u001b[39;49m\u001b[43mexecute\u001b[49m\u001b[43m(\u001b[49m\u001b[43mCommand\u001b[49m\u001b[38;5;241;43m.\u001b[39;49m\u001b[43mNEW_SESSION\u001b[49m\u001b[43m,\u001b[49m\u001b[43m \u001b[49m\u001b[43mparameters\u001b[49m\u001b[43m)\u001b[49m\n\u001b[0;32m    379\u001b[0m \u001b[38;5;28;01mif\u001b[39;00m \u001b[38;5;124m\"\u001b[39m\u001b[38;5;124msessionId\u001b[39m\u001b[38;5;124m\"\u001b[39m \u001b[38;5;129;01mnot\u001b[39;00m \u001b[38;5;129;01min\u001b[39;00m response:\n\u001b[0;32m    380\u001b[0m     response \u001b[38;5;241m=\u001b[39m response[\u001b[38;5;124m\"\u001b[39m\u001b[38;5;124mvalue\u001b[39m\u001b[38;5;124m\"\u001b[39m]\n",
      "File \u001b[1;32mc:\\Users\\anejj\\anaconda3\\lib\\site-packages\\selenium\\webdriver\\remote\\webdriver.py:438\u001b[0m, in \u001b[0;36mWebDriver.execute\u001b[1;34m(self, driver_command, params)\u001b[0m\n\u001b[0;32m    435\u001b[0m     \u001b[38;5;28;01melif\u001b[39;00m \u001b[38;5;124m\"\u001b[39m\u001b[38;5;124msessionId\u001b[39m\u001b[38;5;124m\"\u001b[39m \u001b[38;5;129;01mnot\u001b[39;00m \u001b[38;5;129;01min\u001b[39;00m params:\n\u001b[0;32m    436\u001b[0m         params[\u001b[38;5;124m\"\u001b[39m\u001b[38;5;124msessionId\u001b[39m\u001b[38;5;124m\"\u001b[39m] \u001b[38;5;241m=\u001b[39m \u001b[38;5;28mself\u001b[39m\u001b[38;5;241m.\u001b[39msession_id\n\u001b[1;32m--> 438\u001b[0m response \u001b[38;5;241m=\u001b[39m \u001b[38;5;28;43mself\u001b[39;49m\u001b[38;5;241;43m.\u001b[39;49m\u001b[43mcommand_executor\u001b[49m\u001b[38;5;241;43m.\u001b[39;49m\u001b[43mexecute\u001b[49m\u001b[43m(\u001b[49m\u001b[43mdriver_command\u001b[49m\u001b[43m,\u001b[49m\u001b[43m \u001b[49m\u001b[43mparams\u001b[49m\u001b[43m)\u001b[49m\n\u001b[0;32m    439\u001b[0m \u001b[38;5;28;01mif\u001b[39;00m response:\n\u001b[0;32m    440\u001b[0m     \u001b[38;5;28mself\u001b[39m\u001b[38;5;241m.\u001b[39merror_handler\u001b[38;5;241m.\u001b[39mcheck_response(response)\n",
      "File \u001b[1;32mc:\\Users\\anejj\\anaconda3\\lib\\site-packages\\selenium\\webdriver\\remote\\remote_connection.py:290\u001b[0m, in \u001b[0;36mRemoteConnection.execute\u001b[1;34m(self, command, params)\u001b[0m\n\u001b[0;32m    288\u001b[0m data \u001b[38;5;241m=\u001b[39m utils\u001b[38;5;241m.\u001b[39mdump_json(params)\n\u001b[0;32m    289\u001b[0m url \u001b[38;5;241m=\u001b[39m \u001b[38;5;124mf\u001b[39m\u001b[38;5;124m\"\u001b[39m\u001b[38;5;132;01m{\u001b[39;00m\u001b[38;5;28mself\u001b[39m\u001b[38;5;241m.\u001b[39m_url\u001b[38;5;132;01m}\u001b[39;00m\u001b[38;5;132;01m{\u001b[39;00mpath\u001b[38;5;132;01m}\u001b[39;00m\u001b[38;5;124m\"\u001b[39m\n\u001b[1;32m--> 290\u001b[0m \u001b[38;5;28;01mreturn\u001b[39;00m \u001b[38;5;28;43mself\u001b[39;49m\u001b[38;5;241;43m.\u001b[39;49m\u001b[43m_request\u001b[49m\u001b[43m(\u001b[49m\u001b[43mcommand_info\u001b[49m\u001b[43m[\u001b[49m\u001b[38;5;241;43m0\u001b[39;49m\u001b[43m]\u001b[49m\u001b[43m,\u001b[49m\u001b[43m \u001b[49m\u001b[43murl\u001b[49m\u001b[43m,\u001b[49m\u001b[43m \u001b[49m\u001b[43mbody\u001b[49m\u001b[38;5;241;43m=\u001b[39;49m\u001b[43mdata\u001b[49m\u001b[43m)\u001b[49m\n",
      "File \u001b[1;32mc:\\Users\\anejj\\anaconda3\\lib\\site-packages\\selenium\\webdriver\\remote\\remote_connection.py:311\u001b[0m, in \u001b[0;36mRemoteConnection._request\u001b[1;34m(self, method, url, body)\u001b[0m\n\u001b[0;32m    308\u001b[0m     body \u001b[38;5;241m=\u001b[39m \u001b[38;5;28;01mNone\u001b[39;00m\n\u001b[0;32m    310\u001b[0m \u001b[38;5;28;01mif\u001b[39;00m \u001b[38;5;28mself\u001b[39m\u001b[38;5;241m.\u001b[39mkeep_alive:\n\u001b[1;32m--> 311\u001b[0m     response \u001b[38;5;241m=\u001b[39m \u001b[38;5;28;43mself\u001b[39;49m\u001b[38;5;241;43m.\u001b[39;49m\u001b[43m_conn\u001b[49m\u001b[38;5;241;43m.\u001b[39;49m\u001b[43mrequest\u001b[49m\u001b[43m(\u001b[49m\u001b[43mmethod\u001b[49m\u001b[43m,\u001b[49m\u001b[43m \u001b[49m\u001b[43murl\u001b[49m\u001b[43m,\u001b[49m\u001b[43m \u001b[49m\u001b[43mbody\u001b[49m\u001b[38;5;241;43m=\u001b[39;49m\u001b[43mbody\u001b[49m\u001b[43m,\u001b[49m\u001b[43m \u001b[49m\u001b[43mheaders\u001b[49m\u001b[38;5;241;43m=\u001b[39;49m\u001b[43mheaders\u001b[49m\u001b[43m)\u001b[49m\n\u001b[0;32m    312\u001b[0m     statuscode \u001b[38;5;241m=\u001b[39m response\u001b[38;5;241m.\u001b[39mstatus\n\u001b[0;32m    313\u001b[0m \u001b[38;5;28;01melse\u001b[39;00m:\n",
      "File \u001b[1;32mc:\\Users\\anejj\\anaconda3\\lib\\site-packages\\urllib3\\request.py:81\u001b[0m, in \u001b[0;36mRequestMethods.request\u001b[1;34m(self, method, url, fields, headers, **urlopen_kw)\u001b[0m\n\u001b[0;32m     77\u001b[0m     \u001b[38;5;28;01mreturn\u001b[39;00m \u001b[38;5;28mself\u001b[39m\u001b[38;5;241m.\u001b[39mrequest_encode_url(\n\u001b[0;32m     78\u001b[0m         method, url, fields\u001b[38;5;241m=\u001b[39mfields, headers\u001b[38;5;241m=\u001b[39mheaders, \u001b[38;5;241m*\u001b[39m\u001b[38;5;241m*\u001b[39murlopen_kw\n\u001b[0;32m     79\u001b[0m     )\n\u001b[0;32m     80\u001b[0m \u001b[38;5;28;01melse\u001b[39;00m:\n\u001b[1;32m---> 81\u001b[0m     \u001b[38;5;28;01mreturn\u001b[39;00m \u001b[38;5;28mself\u001b[39m\u001b[38;5;241m.\u001b[39mrequest_encode_body(\n\u001b[0;32m     82\u001b[0m         method, url, fields\u001b[38;5;241m=\u001b[39mfields, headers\u001b[38;5;241m=\u001b[39mheaders, \u001b[38;5;241m*\u001b[39m\u001b[38;5;241m*\u001b[39murlopen_kw\n\u001b[0;32m     83\u001b[0m     )\n",
      "File \u001b[1;32mc:\\Users\\anejj\\anaconda3\\lib\\site-packages\\urllib3\\request.py:173\u001b[0m, in \u001b[0;36mRequestMethods.request_encode_body\u001b[1;34m(self, method, url, fields, headers, encode_multipart, multipart_boundary, **urlopen_kw)\u001b[0m\n\u001b[0;32m    170\u001b[0m extra_kw[\u001b[38;5;124m\"\u001b[39m\u001b[38;5;124mheaders\u001b[39m\u001b[38;5;124m\"\u001b[39m]\u001b[38;5;241m.\u001b[39mupdate(headers)\n\u001b[0;32m    171\u001b[0m extra_kw\u001b[38;5;241m.\u001b[39mupdate(urlopen_kw)\n\u001b[1;32m--> 173\u001b[0m \u001b[38;5;28;01mreturn\u001b[39;00m \u001b[38;5;28mself\u001b[39m\u001b[38;5;241m.\u001b[39murlopen(method, url, \u001b[38;5;241m*\u001b[39m\u001b[38;5;241m*\u001b[39mextra_kw)\n",
      "File \u001b[1;32mc:\\Users\\anejj\\anaconda3\\lib\\site-packages\\urllib3\\poolmanager.py:376\u001b[0m, in \u001b[0;36mPoolManager.urlopen\u001b[1;34m(self, method, url, redirect, **kw)\u001b[0m\n\u001b[0;32m    374\u001b[0m     response \u001b[38;5;241m=\u001b[39m conn\u001b[38;5;241m.\u001b[39murlopen(method, url, \u001b[38;5;241m*\u001b[39m\u001b[38;5;241m*\u001b[39mkw)\n\u001b[0;32m    375\u001b[0m \u001b[38;5;28;01melse\u001b[39;00m:\n\u001b[1;32m--> 376\u001b[0m     response \u001b[38;5;241m=\u001b[39m conn\u001b[38;5;241m.\u001b[39murlopen(method, u\u001b[38;5;241m.\u001b[39mrequest_uri, \u001b[38;5;241m*\u001b[39m\u001b[38;5;241m*\u001b[39mkw)\n\u001b[0;32m    378\u001b[0m redirect_location \u001b[38;5;241m=\u001b[39m redirect \u001b[38;5;129;01mand\u001b[39;00m response\u001b[38;5;241m.\u001b[39mget_redirect_location()\n\u001b[0;32m    379\u001b[0m \u001b[38;5;28;01mif\u001b[39;00m \u001b[38;5;129;01mnot\u001b[39;00m redirect_location:\n",
      "File \u001b[1;32mc:\\Users\\anejj\\anaconda3\\lib\\site-packages\\urllib3\\connectionpool.py:715\u001b[0m, in \u001b[0;36mHTTPConnectionPool.urlopen\u001b[1;34m(self, method, url, body, headers, retries, redirect, assert_same_host, timeout, pool_timeout, release_conn, chunked, body_pos, **response_kw)\u001b[0m\n\u001b[0;32m    712\u001b[0m     \u001b[38;5;28mself\u001b[39m\u001b[38;5;241m.\u001b[39m_prepare_proxy(conn)\n\u001b[0;32m    714\u001b[0m \u001b[38;5;66;03m# Make the request on the httplib connection object.\u001b[39;00m\n\u001b[1;32m--> 715\u001b[0m httplib_response \u001b[38;5;241m=\u001b[39m \u001b[38;5;28;43mself\u001b[39;49m\u001b[38;5;241;43m.\u001b[39;49m\u001b[43m_make_request\u001b[49m\u001b[43m(\u001b[49m\n\u001b[0;32m    716\u001b[0m \u001b[43m    \u001b[49m\u001b[43mconn\u001b[49m\u001b[43m,\u001b[49m\n\u001b[0;32m    717\u001b[0m \u001b[43m    \u001b[49m\u001b[43mmethod\u001b[49m\u001b[43m,\u001b[49m\n\u001b[0;32m    718\u001b[0m \u001b[43m    \u001b[49m\u001b[43murl\u001b[49m\u001b[43m,\u001b[49m\n\u001b[0;32m    719\u001b[0m \u001b[43m    \u001b[49m\u001b[43mtimeout\u001b[49m\u001b[38;5;241;43m=\u001b[39;49m\u001b[43mtimeout_obj\u001b[49m\u001b[43m,\u001b[49m\n\u001b[0;32m    720\u001b[0m \u001b[43m    \u001b[49m\u001b[43mbody\u001b[49m\u001b[38;5;241;43m=\u001b[39;49m\u001b[43mbody\u001b[49m\u001b[43m,\u001b[49m\n\u001b[0;32m    721\u001b[0m \u001b[43m    \u001b[49m\u001b[43mheaders\u001b[49m\u001b[38;5;241;43m=\u001b[39;49m\u001b[43mheaders\u001b[49m\u001b[43m,\u001b[49m\n\u001b[0;32m    722\u001b[0m \u001b[43m    \u001b[49m\u001b[43mchunked\u001b[49m\u001b[38;5;241;43m=\u001b[39;49m\u001b[43mchunked\u001b[49m\u001b[43m,\u001b[49m\n\u001b[0;32m    723\u001b[0m \u001b[43m\u001b[49m\u001b[43m)\u001b[49m\n\u001b[0;32m    725\u001b[0m \u001b[38;5;66;03m# If we're going to release the connection in ``finally:``, then\u001b[39;00m\n\u001b[0;32m    726\u001b[0m \u001b[38;5;66;03m# the response doesn't need to know about the connection. Otherwise\u001b[39;00m\n\u001b[0;32m    727\u001b[0m \u001b[38;5;66;03m# it will also try to release it and we'll have a double-release\u001b[39;00m\n\u001b[0;32m    728\u001b[0m \u001b[38;5;66;03m# mess.\u001b[39;00m\n\u001b[0;32m    729\u001b[0m response_conn \u001b[38;5;241m=\u001b[39m conn \u001b[38;5;28;01mif\u001b[39;00m \u001b[38;5;129;01mnot\u001b[39;00m release_conn \u001b[38;5;28;01melse\u001b[39;00m \u001b[38;5;28;01mNone\u001b[39;00m\n",
      "File \u001b[1;32mc:\\Users\\anejj\\anaconda3\\lib\\site-packages\\urllib3\\connectionpool.py:467\u001b[0m, in \u001b[0;36mHTTPConnectionPool._make_request\u001b[1;34m(self, conn, method, url, timeout, chunked, **httplib_request_kw)\u001b[0m\n\u001b[0;32m    462\u001b[0m             httplib_response \u001b[38;5;241m=\u001b[39m conn\u001b[38;5;241m.\u001b[39mgetresponse()\n\u001b[0;32m    463\u001b[0m         \u001b[38;5;28;01mexcept\u001b[39;00m \u001b[38;5;167;01mBaseException\u001b[39;00m \u001b[38;5;28;01mas\u001b[39;00m e:\n\u001b[0;32m    464\u001b[0m             \u001b[38;5;66;03m# Remove the TypeError from the exception chain in\u001b[39;00m\n\u001b[0;32m    465\u001b[0m             \u001b[38;5;66;03m# Python 3 (including for exceptions like SystemExit).\u001b[39;00m\n\u001b[0;32m    466\u001b[0m             \u001b[38;5;66;03m# Otherwise it looks like a bug in the code.\u001b[39;00m\n\u001b[1;32m--> 467\u001b[0m             \u001b[43msix\u001b[49m\u001b[38;5;241;43m.\u001b[39;49m\u001b[43mraise_from\u001b[49m\u001b[43m(\u001b[49m\u001b[43me\u001b[49m\u001b[43m,\u001b[49m\u001b[43m \u001b[49m\u001b[38;5;28;43;01mNone\u001b[39;49;00m\u001b[43m)\u001b[49m\n\u001b[0;32m    468\u001b[0m \u001b[38;5;28;01mexcept\u001b[39;00m (SocketTimeout, BaseSSLError, SocketError) \u001b[38;5;28;01mas\u001b[39;00m e:\n\u001b[0;32m    469\u001b[0m     \u001b[38;5;28mself\u001b[39m\u001b[38;5;241m.\u001b[39m_raise_timeout(err\u001b[38;5;241m=\u001b[39me, url\u001b[38;5;241m=\u001b[39murl, timeout_value\u001b[38;5;241m=\u001b[39mread_timeout)\n",
      "File \u001b[1;32m<string>:3\u001b[0m, in \u001b[0;36mraise_from\u001b[1;34m(value, from_value)\u001b[0m\n",
      "File \u001b[1;32mc:\\Users\\anejj\\anaconda3\\lib\\site-packages\\urllib3\\connectionpool.py:462\u001b[0m, in \u001b[0;36mHTTPConnectionPool._make_request\u001b[1;34m(self, conn, method, url, timeout, chunked, **httplib_request_kw)\u001b[0m\n\u001b[0;32m    459\u001b[0m \u001b[38;5;28;01mexcept\u001b[39;00m \u001b[38;5;167;01mTypeError\u001b[39;00m:\n\u001b[0;32m    460\u001b[0m     \u001b[38;5;66;03m# Python 3\u001b[39;00m\n\u001b[0;32m    461\u001b[0m     \u001b[38;5;28;01mtry\u001b[39;00m:\n\u001b[1;32m--> 462\u001b[0m         httplib_response \u001b[38;5;241m=\u001b[39m \u001b[43mconn\u001b[49m\u001b[38;5;241;43m.\u001b[39;49m\u001b[43mgetresponse\u001b[49m\u001b[43m(\u001b[49m\u001b[43m)\u001b[49m\n\u001b[0;32m    463\u001b[0m     \u001b[38;5;28;01mexcept\u001b[39;00m \u001b[38;5;167;01mBaseException\u001b[39;00m \u001b[38;5;28;01mas\u001b[39;00m e:\n\u001b[0;32m    464\u001b[0m         \u001b[38;5;66;03m# Remove the TypeError from the exception chain in\u001b[39;00m\n\u001b[0;32m    465\u001b[0m         \u001b[38;5;66;03m# Python 3 (including for exceptions like SystemExit).\u001b[39;00m\n\u001b[0;32m    466\u001b[0m         \u001b[38;5;66;03m# Otherwise it looks like a bug in the code.\u001b[39;00m\n\u001b[0;32m    467\u001b[0m         six\u001b[38;5;241m.\u001b[39mraise_from(e, \u001b[38;5;28;01mNone\u001b[39;00m)\n",
      "File \u001b[1;32mc:\\Users\\anejj\\anaconda3\\lib\\http\\client.py:1375\u001b[0m, in \u001b[0;36mHTTPConnection.getresponse\u001b[1;34m(self)\u001b[0m\n\u001b[0;32m   1373\u001b[0m \u001b[38;5;28;01mtry\u001b[39;00m:\n\u001b[0;32m   1374\u001b[0m     \u001b[38;5;28;01mtry\u001b[39;00m:\n\u001b[1;32m-> 1375\u001b[0m         \u001b[43mresponse\u001b[49m\u001b[38;5;241;43m.\u001b[39;49m\u001b[43mbegin\u001b[49m\u001b[43m(\u001b[49m\u001b[43m)\u001b[49m\n\u001b[0;32m   1376\u001b[0m     \u001b[38;5;28;01mexcept\u001b[39;00m \u001b[38;5;167;01mConnectionError\u001b[39;00m:\n\u001b[0;32m   1377\u001b[0m         \u001b[38;5;28mself\u001b[39m\u001b[38;5;241m.\u001b[39mclose()\n",
      "File \u001b[1;32mc:\\Users\\anejj\\anaconda3\\lib\\http\\client.py:318\u001b[0m, in \u001b[0;36mHTTPResponse.begin\u001b[1;34m(self)\u001b[0m\n\u001b[0;32m    316\u001b[0m \u001b[38;5;66;03m# read until we get a non-100 response\u001b[39;00m\n\u001b[0;32m    317\u001b[0m \u001b[38;5;28;01mwhile\u001b[39;00m \u001b[38;5;28;01mTrue\u001b[39;00m:\n\u001b[1;32m--> 318\u001b[0m     version, status, reason \u001b[38;5;241m=\u001b[39m \u001b[38;5;28;43mself\u001b[39;49m\u001b[38;5;241;43m.\u001b[39;49m\u001b[43m_read_status\u001b[49m\u001b[43m(\u001b[49m\u001b[43m)\u001b[49m\n\u001b[0;32m    319\u001b[0m     \u001b[38;5;28;01mif\u001b[39;00m status \u001b[38;5;241m!=\u001b[39m CONTINUE:\n\u001b[0;32m    320\u001b[0m         \u001b[38;5;28;01mbreak\u001b[39;00m\n",
      "File \u001b[1;32mc:\\Users\\anejj\\anaconda3\\lib\\http\\client.py:279\u001b[0m, in \u001b[0;36mHTTPResponse._read_status\u001b[1;34m(self)\u001b[0m\n\u001b[0;32m    278\u001b[0m \u001b[38;5;28;01mdef\u001b[39;00m \u001b[38;5;21m_read_status\u001b[39m(\u001b[38;5;28mself\u001b[39m):\n\u001b[1;32m--> 279\u001b[0m     line \u001b[38;5;241m=\u001b[39m \u001b[38;5;28mstr\u001b[39m(\u001b[38;5;28;43mself\u001b[39;49m\u001b[38;5;241;43m.\u001b[39;49m\u001b[43mfp\u001b[49m\u001b[38;5;241;43m.\u001b[39;49m\u001b[43mreadline\u001b[49m\u001b[43m(\u001b[49m\u001b[43m_MAXLINE\u001b[49m\u001b[43m \u001b[49m\u001b[38;5;241;43m+\u001b[39;49m\u001b[43m \u001b[49m\u001b[38;5;241;43m1\u001b[39;49m\u001b[43m)\u001b[49m, \u001b[38;5;124m\"\u001b[39m\u001b[38;5;124miso-8859-1\u001b[39m\u001b[38;5;124m\"\u001b[39m)\n\u001b[0;32m    280\u001b[0m     \u001b[38;5;28;01mif\u001b[39;00m \u001b[38;5;28mlen\u001b[39m(line) \u001b[38;5;241m>\u001b[39m _MAXLINE:\n\u001b[0;32m    281\u001b[0m         \u001b[38;5;28;01mraise\u001b[39;00m LineTooLong(\u001b[38;5;124m\"\u001b[39m\u001b[38;5;124mstatus line\u001b[39m\u001b[38;5;124m\"\u001b[39m)\n",
      "File \u001b[1;32mc:\\Users\\anejj\\anaconda3\\lib\\socket.py:705\u001b[0m, in \u001b[0;36mSocketIO.readinto\u001b[1;34m(self, b)\u001b[0m\n\u001b[0;32m    703\u001b[0m \u001b[38;5;28;01mwhile\u001b[39;00m \u001b[38;5;28;01mTrue\u001b[39;00m:\n\u001b[0;32m    704\u001b[0m     \u001b[38;5;28;01mtry\u001b[39;00m:\n\u001b[1;32m--> 705\u001b[0m         \u001b[38;5;28;01mreturn\u001b[39;00m \u001b[38;5;28;43mself\u001b[39;49m\u001b[38;5;241;43m.\u001b[39;49m\u001b[43m_sock\u001b[49m\u001b[38;5;241;43m.\u001b[39;49m\u001b[43mrecv_into\u001b[49m\u001b[43m(\u001b[49m\u001b[43mb\u001b[49m\u001b[43m)\u001b[49m\n\u001b[0;32m    706\u001b[0m     \u001b[38;5;28;01mexcept\u001b[39;00m timeout:\n\u001b[0;32m    707\u001b[0m         \u001b[38;5;28mself\u001b[39m\u001b[38;5;241m.\u001b[39m_timeout_occurred \u001b[38;5;241m=\u001b[39m \u001b[38;5;28;01mTrue\u001b[39;00m\n",
      "\u001b[1;31mKeyboardInterrupt\u001b[0m: "
     ]
    }
   ],
   "source": [
    "url = 'https://today.yougov.com/ratings/entertainment/popularity/all-time-actors-actresses/all'\n",
    "path = \"Path\" # Path to webdriver executable\n",
    "\n",
    "chrome_options = Options()\n",
    "chrome_options.binary_location = r\"C:\\Program Files\\Google\\Chrome\\Application\\chrome.exe\"\n",
    "\n",
    "# Use only chrome_options, not executable_path\n",
    "driver = webdriver.Chrome(options=chrome_options)\n",
    "\n",
    "driver.get(url)\n",
    "\n",
    "\n",
    "# Decline cookies settings\n",
    "try:\n",
    "    decline_button = WebDriverWait(driver, 10).until(\n",
    "        EC.presence_of_element_located((By.ID, 'onetrust-reject-all-handler'))\n",
    "    )\n",
    "\n",
    "    decline_button.click()\n",
    "except Exception as e:\n",
    "    pass\n",
    "\n",
    "# Scroll down to load more data\n",
    "while True:\n",
    "    # Scroll to the bottom of the page\n",
    "    driver.find_element(By.TAG_NAME, 'body').send_keys(Keys.END)\n",
    "\n",
    "    # Wait for a short interval to allow the content to load\n",
    "    time.sleep(2)\n",
    "\n",
    "    # Check if there are more actors loaded\n",
    "    try:\n",
    "        load_more_button = WebDriverWait(driver, 100).until(\n",
    "            EC.element_to_be_clickable((By.CLASS_NAME, 'load-more-button'))\n",
    "        )\n",
    "        \n",
    "        load_more_button.click()\n",
    "    except TimeoutException:\n",
    "        break\n",
    "\n",
    "html = driver.page_source\n",
    "driver.quit()\n",
    "\n",
    "# Parse the HTML with BeautifulSoup\n",
    "soup = BeautifulSoup(html, 'html.parser')\n",
    "\n",
    "# Element containing the list of actors\n",
    "actors_container = soup.find('div', class_='rankings-entities-list-container')\n",
    "\n",
    "# Actor's list items\n",
    "actor_items = actors_container.find_all('li', class_='ng-star-inserted')\n",
    "\n",
    "# Create lists to store data\n",
    "actor_names = []\n",
    "popularity_percentages = []\n",
    "fame_percentages = []\n",
    "\n",
    "for actor_item in actor_items:\n",
    "    # Extract the actor name\n",
    "    actor_name = actor_item.find('img', class_='ng-star-inserted')['alt'] if actor_item.find('img', class_='ng-star-inserted') else None\n",
    "\n",
    "    # Extract popularity percentage\n",
    "    popularity_element = actor_item.find('span', class_='compact')\n",
    "    popularity_percentage = popularity_element.text.split('%')[0] if popularity_element else None\n",
    "\n",
    "    # Extract fame percentage\n",
    "    fame_element = actor_item.find('span', class_='rankings-item-active')\n",
    "    fame_percentage = fame_element.text.split('%')[0] if fame_element else None\n",
    "\n",
    "    actor_names.append(actor_name)\n",
    "    popularity_percentages.append(popularity_percentage)\n",
    "    fame_percentages.append(fame_percentage)\n",
    "\n",
    "data = {\n",
    "    'Actor Name': actor_names,\n",
    "    'Popularity (%)': popularity_percentages,\n",
    "    'Fame (%)': fame_percentages\n",
    "}\n",
    "\n",
    "famous_actors = pd.DataFrame(data)\n",
    "\n",
    "print(famous_actors)\n",
    "famous_actors.to_csv('../Data/preprocessed_data/famous_actors_db.csv', index=False)\n"
   ]
  },
  {
   "cell_type": "markdown",
   "metadata": {},
   "source": [
    "### 1. Find relationship between fame and popularity"
   ]
  },
  {
   "cell_type": "code",
   "execution_count": 21,
   "metadata": {},
   "outputs": [],
   "source": [
    "actors_db = pd.read_csv('../Data/preprocessed_data/actors_db.csv')\n",
    "famous_actors_db = pd.read_csv('../Data/preprocessed_data/famous_actors_db.csv')"
   ]
  },
  {
   "cell_type": "code",
   "execution_count": 27,
   "metadata": {},
   "outputs": [
    {
     "name": "stdout",
     "output_type": "stream",
     "text": [
      "name                 0\n",
      "gender               0\n",
      "popularity           0\n",
      "original_language    0\n",
      "genre_ids            0\n",
      "known_for            0\n",
      "id                   0\n",
      "Actor Name           0\n",
      "Popularity (%)       0\n",
      "Fame (%)             0\n",
      "dtype: int64\n",
      "Correlation Coefficient: 0.21853557565634227\n"
     ]
    }
   ],
   "source": [
    "# Merge DataFrames on actor name\n",
    "merged_data = pd.merge(actors_db, famous_actors_db, left_on='name', right_on='Actor Name', how='inner')\n",
    "\n",
    "# Check for missing values\n",
    "print(merged_data.isnull().sum())\n",
    "\n",
    "# Calculate the correlation coefficient\n",
    "correlation_coefficient = merged_data['Popularity (%)'].corr(merged_data['popularity'], method='pearson')\n",
    "print(f'Correlation Coefficient: {correlation_coefficient}')"
   ]
  },
  {
   "cell_type": "code",
   "execution_count": 26,
   "metadata": {},
   "outputs": [
    {
     "data": {
      "image/png": "[encoded data removed]",
      "text/plain": [
       "<Figure size 640x480 with 1 Axes>"
      ]
     },
     "metadata": {},
     "output_type": "display_data"
    }
   ],
   "source": [
    "import matplotlib.pyplot as plt\n",
    "\n",
    "# Not considered low\n",
    "# Scatter plot\n",
    "plt.scatter(merged_data['Popularity (%)'], merged_data['popularity'])\n",
    "plt.xlabel('YouGov popularity (%)')\n",
    "plt.ylabel('Tmdb Popularity')\n",
    "plt.yscale('log')\n",
    "plt.title('Relationship between Fame and Popularity')\n",
    "plt.show()\n"
   ]
  },
  {
   "cell_type": "markdown",
   "metadata": {},
   "source": [
    "Unfortunately, we cannot conclude a relationship between fame and popularity. We originally wanted to explore the relationship between fame and popularity for actors who have both features and determine if it's reasonable to extend the fame feature to other actors.  \n",
    "But following the results we obtained, the correlation coefficient that is too weak (0.2) and the graph showing the relationship between both, we cannot conclude this latter."
   ]
  },
  {
   "cell_type": "markdown",
   "metadata": {},
   "source": [
    "## Movie trajectory for actors"
   ]
  },
  {
   "cell_type": "code",
   "execution_count": 36,
   "metadata": {},
   "outputs": [],
   "source": [
    "# extract a json file and transform it into a dataframe\n",
    "import requests\n",
    "import pandas as pd\n",
    "import json\n",
    "\n",
    "tmdb_id2credit = json.load(open('../Data/tmdb_resources/tmdb_id2credit_full.json'))\n",
    "id2credit_df = pd.DataFrame.from_dict(tmdb_id2credit, orient='index')\n",
    "id2credit_df = id2credit_df.drop(columns='crew')\n",
    "\n",
    "tmdb_id2credit_imdb_rating = json.load(open('../Data/tmdb_resources/tmdb_id2detail_imdb_rating.json'))\n",
    "imdb_rating_df = pd.DataFrame.from_dict(tmdb_id2credit_imdb_rating, orient='index')"
   ]
  },
  {
   "cell_type": "code",
   "execution_count": null,
   "metadata": {},
   "outputs": [
    {
     "name": "stdout",
     "output_type": "stream",
     "text": [
      "The number of movies with revenue is 18,904\n",
      "The number of movies with imdb ratings is 393,909\n"
     ]
    },
    {
     "data": {
      "text/html": [
       "<div>\n",
       "<style scoped>\n",
       "    .dataframe tbody tr th:only-of-type {\n",
       "        vertical-align: middle;\n",
       "    }\n",
       "\n",
       "    .dataframe tbody tr th {\n",
       "        vertical-align: top;\n",
       "    }\n",
       "\n",
       "    .dataframe thead th {\n",
       "        text-align: right;\n",
       "    }\n",
       "</style>\n",
       "<table border=\"1\" class=\"dataframe\">\n",
       "  <thead>\n",
       "    <tr style=\"text-align: right;\">\n",
       "      <th></th>\n",
       "      <th>id</th>\n",
       "      <th>original_title</th>\n",
       "      <th>release_date</th>\n",
       "      <th>original_language</th>\n",
       "      <th>genres</th>\n",
       "      <th>budget</th>\n",
       "      <th>revenue</th>\n",
       "      <th>imdb_average_rating</th>\n",
       "    </tr>\n",
       "  </thead>\n",
       "  <tbody>\n",
       "    <tr>\n",
       "      <th>0</th>\n",
       "      <td>10016</td>\n",
       "      <td>Ghosts of Mars</td>\n",
       "      <td>2001-08-24</td>\n",
       "      <td>en</td>\n",
       "      <td>[{'id': 28, 'name': 'Action'}, {'id': 27, 'nam...</td>\n",
       "      <td>28000000</td>\n",
       "      <td>14010832</td>\n",
       "      <td>4.9</td>\n",
       "    </tr>\n",
       "    <tr>\n",
       "      <th>1</th>\n",
       "      <td>263493</td>\n",
       "      <td>The Gangsters</td>\n",
       "      <td>1913-05-29</td>\n",
       "      <td>en</td>\n",
       "      <td>[{'id': 35, 'name': 'Comedy'}]</td>\n",
       "      <td>0</td>\n",
       "      <td>0</td>\n",
       "      <td>6.8</td>\n",
       "    </tr>\n",
       "    <tr>\n",
       "      <th>2</th>\n",
       "      <td>50944</td>\n",
       "      <td>The Sorcerer's Apprentice</td>\n",
       "      <td>2002-04-12</td>\n",
       "      <td>en</td>\n",
       "      <td>[{'id': 12, 'name': 'Adventure'}, {'id': 10751...</td>\n",
       "      <td>0</td>\n",
       "      <td>0</td>\n",
       "      <td>4.2</td>\n",
       "    </tr>\n",
       "    <tr>\n",
       "      <th>3</th>\n",
       "      <td>33592</td>\n",
       "      <td>White of the Eye</td>\n",
       "      <td>1987-06-19</td>\n",
       "      <td>en</td>\n",
       "      <td>[{'id': 27, 'name': 'Horror'}, {'id': 53, 'nam...</td>\n",
       "      <td>0</td>\n",
       "      <td>0</td>\n",
       "      <td>6.1</td>\n",
       "    </tr>\n",
       "    <tr>\n",
       "      <th>4</th>\n",
       "      <td>43839</td>\n",
       "      <td>Alexander's Ragtime Band</td>\n",
       "      <td>1938-05-24</td>\n",
       "      <td>en</td>\n",
       "      <td>[{'id': 18, 'name': 'Drama'}, {'id': 10402, 'n...</td>\n",
       "      <td>2000000</td>\n",
       "      <td>4000000</td>\n",
       "      <td>6.8</td>\n",
       "    </tr>\n",
       "    <tr>\n",
       "      <th>...</th>\n",
       "      <td>...</td>\n",
       "      <td>...</td>\n",
       "      <td>...</td>\n",
       "      <td>...</td>\n",
       "      <td>...</td>\n",
       "      <td>...</td>\n",
       "      <td>...</td>\n",
       "      <td>...</td>\n",
       "    </tr>\n",
       "    <tr>\n",
       "      <th>863077</th>\n",
       "      <td>1096279</td>\n",
       "      <td>Eva</td>\n",
       "      <td>2021-01-01</td>\n",
       "      <td>id</td>\n",
       "      <td>[{'id': 99, 'name': 'Documentary'}]</td>\n",
       "      <td>0</td>\n",
       "      <td>0</td>\n",
       "      <td>NaN</td>\n",
       "    </tr>\n",
       "    <tr>\n",
       "      <th>863078</th>\n",
       "      <td>1001995</td>\n",
       "      <td>勾魂令</td>\n",
       "      <td>2018-02-02</td>\n",
       "      <td>zh</td>\n",
       "      <td>[{'id': 27, 'name': 'Horror'}]</td>\n",
       "      <td>0</td>\n",
       "      <td>0</td>\n",
       "      <td>NaN</td>\n",
       "    </tr>\n",
       "    <tr>\n",
       "      <th>863079</th>\n",
       "      <td>823988</td>\n",
       "      <td>La Voix Humaine / L’Heure Espagnole</td>\n",
       "      <td>2021-03-26</td>\n",
       "      <td>en</td>\n",
       "      <td>[]</td>\n",
       "      <td>0</td>\n",
       "      <td>0</td>\n",
       "      <td>NaN</td>\n",
       "    </tr>\n",
       "    <tr>\n",
       "      <th>863080</th>\n",
       "      <td>1022210</td>\n",
       "      <td>How Science Changed Our World</td>\n",
       "      <td>2010-12-23</td>\n",
       "      <td>en</td>\n",
       "      <td>[{'id': 99, 'name': 'Documentary'}]</td>\n",
       "      <td>0</td>\n",
       "      <td>0</td>\n",
       "      <td>NaN</td>\n",
       "    </tr>\n",
       "    <tr>\n",
       "      <th>863081</th>\n",
       "      <td>854628</td>\n",
       "      <td>与父与子</td>\n",
       "      <td>2021-06-18</td>\n",
       "      <td>zh</td>\n",
       "      <td>[{'id': 18, 'name': 'Drama'}]</td>\n",
       "      <td>0</td>\n",
       "      <td>0</td>\n",
       "      <td>NaN</td>\n",
       "    </tr>\n",
       "  </tbody>\n",
       "</table>\n",
       "<p>863082 rows × 8 columns</p>\n",
       "</div>"
      ],
      "text/plain": [
       "             id                       original_title release_date  \\\n",
       "0         10016                       Ghosts of Mars   2001-08-24   \n",
       "1        263493                        The Gangsters   1913-05-29   \n",
       "2         50944            The Sorcerer's Apprentice   2002-04-12   \n",
       "3         33592                     White of the Eye   1987-06-19   \n",
       "4         43839             Alexander's Ragtime Band   1938-05-24   \n",
       "...         ...                                  ...          ...   \n",
       "863077  1096279                                  Eva   2021-01-01   \n",
       "863078  1001995                                  勾魂令   2018-02-02   \n",
       "863079   823988  La Voix Humaine / L’Heure Espagnole   2021-03-26   \n",
       "863080  1022210        How Science Changed Our World   2010-12-23   \n",
       "863081   854628                                 与父与子   2021-06-18   \n",
       "\n",
       "       original_language                                             genres  \\\n",
       "0                     en  [{'id': 28, 'name': 'Action'}, {'id': 27, 'nam...   \n",
       "1                     en                     [{'id': 35, 'name': 'Comedy'}]   \n",
       "2                     en  [{'id': 12, 'name': 'Adventure'}, {'id': 10751...   \n",
       "3                     en  [{'id': 27, 'name': 'Horror'}, {'id': 53, 'nam...   \n",
       "4                     en  [{'id': 18, 'name': 'Drama'}, {'id': 10402, 'n...   \n",
       "...                  ...                                                ...   \n",
       "863077                id                [{'id': 99, 'name': 'Documentary'}]   \n",
       "863078                zh                     [{'id': 27, 'name': 'Horror'}]   \n",
       "863079                en                                                 []   \n",
       "863080                en                [{'id': 99, 'name': 'Documentary'}]   \n",
       "863081                zh                      [{'id': 18, 'name': 'Drama'}]   \n",
       "\n",
       "          budget   revenue  imdb_average_rating  \n",
       "0       28000000  14010832                  4.9  \n",
       "1              0         0                  6.8  \n",
       "2              0         0                  4.2  \n",
       "3              0         0                  6.1  \n",
       "4        2000000   4000000                  6.8  \n",
       "...          ...       ...                  ...  \n",
       "863077         0         0                  NaN  \n",
       "863078         0         0                  NaN  \n",
       "863079         0         0                  NaN  \n",
       "863080         0         0                  NaN  \n",
       "863081         0         0                  NaN  \n",
       "\n",
       "[863082 rows x 8 columns]"
      ]
     },
     "metadata": {},
     "output_type": "display_data"
    }
   ],
   "source": [
    "columns_to_keep = ['id', 'original_title', 'release_date', 'original_language', 'genres', 'budget', 'revenue', 'imdb_average_rating']\n",
    "imdb_rating_filtered_df = imdb_rating_df[columns_to_keep]\n",
    "imdb_rating_filtered_df.reset_index(drop=True, inplace=True)\n",
    "\n",
    "# Creating a dataframe with revenue that is different from 0\n",
    "revenue_non_zero_df = imdb_rating_filtered_df[imdb_rating_filtered_df['revenue'] != 0]\n",
    "print(f'The number of movies with revenue is {revenue_non_zero_df.shape[0]:,}')\n",
    "\n",
    "# Creating a dataframe with imdb_average_rating different from NaN\n",
    "rating_not_nan_df = imdb_rating_filtered_df.dropna(subset=['imdb_average_rating'])\n",
    "print(f'The number of movies with imdb ratings is {rating_not_nan_df.shape[0]:,}')\n",
    "\n",
    "# Display the updated DataFrame\n",
    "display(imdb_rating_filtered_df)"
   ]
  },
  {
   "cell_type": "markdown",
   "metadata": {},
   "source": [
    "Cast preprocessing"
   ]
  },
  {
   "cell_type": "code",
   "execution_count": null,
   "metadata": {},
   "outputs": [
    {
     "name": "stdout",
     "output_type": "stream",
     "text": [
      "The number of movies with revenue or imdb ratings is 396,556\n"
     ]
    },
    {
     "data": {
      "text/html": [
       "<div>\n",
       "<style scoped>\n",
       "    .dataframe tbody tr th:only-of-type {\n",
       "        vertical-align: middle;\n",
       "    }\n",
       "\n",
       "    .dataframe tbody tr th {\n",
       "        vertical-align: top;\n",
       "    }\n",
       "\n",
       "    .dataframe thead th {\n",
       "        text-align: right;\n",
       "    }\n",
       "</style>\n",
       "<table border=\"1\" class=\"dataframe\">\n",
       "  <thead>\n",
       "    <tr style=\"text-align: right;\">\n",
       "      <th></th>\n",
       "      <th>movie_id</th>\n",
       "      <th>original_title</th>\n",
       "      <th>release_date</th>\n",
       "      <th>original_language</th>\n",
       "      <th>genres</th>\n",
       "      <th>budget</th>\n",
       "      <th>revenue</th>\n",
       "      <th>imdb_average_rating</th>\n",
       "      <th>cast</th>\n",
       "    </tr>\n",
       "  </thead>\n",
       "  <tbody>\n",
       "    <tr>\n",
       "      <th>0</th>\n",
       "      <td>10016</td>\n",
       "      <td>Ghosts of Mars</td>\n",
       "      <td>2001-08-24</td>\n",
       "      <td>en</td>\n",
       "      <td>[{'id': 28, 'name': 'Action'}, {'id': 27, 'nam...</td>\n",
       "      <td>28000000</td>\n",
       "      <td>14010832</td>\n",
       "      <td>4.9</td>\n",
       "      <td>[{'adult': False, 'gender': 1, 'id': 57395, 'k...</td>\n",
       "    </tr>\n",
       "    <tr>\n",
       "      <th>1</th>\n",
       "      <td>263493</td>\n",
       "      <td>The Gangsters</td>\n",
       "      <td>1913-05-29</td>\n",
       "      <td>en</td>\n",
       "      <td>[{'id': 35, 'name': 'Comedy'}]</td>\n",
       "      <td>0</td>\n",
       "      <td>0</td>\n",
       "      <td>6.8</td>\n",
       "      <td>[{'adult': False, 'gender': 2, 'id': 1086663, ...</td>\n",
       "    </tr>\n",
       "    <tr>\n",
       "      <th>2</th>\n",
       "      <td>50944</td>\n",
       "      <td>The Sorcerer's Apprentice</td>\n",
       "      <td>2002-04-12</td>\n",
       "      <td>en</td>\n",
       "      <td>[{'id': 12, 'name': 'Adventure'}, {'id': 10751...</td>\n",
       "      <td>0</td>\n",
       "      <td>0</td>\n",
       "      <td>4.2</td>\n",
       "      <td>[{'adult': False, 'gender': 1, 'id': 46948, 'k...</td>\n",
       "    </tr>\n",
       "    <tr>\n",
       "      <th>3</th>\n",
       "      <td>33592</td>\n",
       "      <td>White of the Eye</td>\n",
       "      <td>1987-06-19</td>\n",
       "      <td>en</td>\n",
       "      <td>[{'id': 27, 'name': 'Horror'}, {'id': 53, 'nam...</td>\n",
       "      <td>0</td>\n",
       "      <td>0</td>\n",
       "      <td>6.1</td>\n",
       "      <td>[{'adult': False, 'gender': 2, 'id': 18181, 'k...</td>\n",
       "    </tr>\n",
       "    <tr>\n",
       "      <th>4</th>\n",
       "      <td>43839</td>\n",
       "      <td>Alexander's Ragtime Band</td>\n",
       "      <td>1938-05-24</td>\n",
       "      <td>en</td>\n",
       "      <td>[{'id': 18, 'name': 'Drama'}, {'id': 10402, 'n...</td>\n",
       "      <td>2000000</td>\n",
       "      <td>4000000</td>\n",
       "      <td>6.8</td>\n",
       "      <td>[{'adult': False, 'gender': 2, 'id': 10922, 'k...</td>\n",
       "    </tr>\n",
       "    <tr>\n",
       "      <th>...</th>\n",
       "      <td>...</td>\n",
       "      <td>...</td>\n",
       "      <td>...</td>\n",
       "      <td>...</td>\n",
       "      <td>...</td>\n",
       "      <td>...</td>\n",
       "      <td>...</td>\n",
       "      <td>...</td>\n",
       "      <td>...</td>\n",
       "    </tr>\n",
       "    <tr>\n",
       "      <th>396551</th>\n",
       "      <td>770135</td>\n",
       "      <td>Scandal in 97</td>\n",
       "      <td>2020-11-29</td>\n",
       "      <td>en</td>\n",
       "      <td>[{'id': 53, 'name': 'Thriller'}]</td>\n",
       "      <td>0</td>\n",
       "      <td>0</td>\n",
       "      <td>4.9</td>\n",
       "      <td>[{'adult': False, 'gender': 2, 'id': 1232652, ...</td>\n",
       "    </tr>\n",
       "    <tr>\n",
       "      <th>396552</th>\n",
       "      <td>472471</td>\n",
       "      <td>Sniff!!!</td>\n",
       "      <td>2017-08-25</td>\n",
       "      <td>hi</td>\n",
       "      <td>[{'id': 12, 'name': 'Adventure'}, {'id': 35, '...</td>\n",
       "      <td>0</td>\n",
       "      <td>0</td>\n",
       "      <td>5.3</td>\n",
       "      <td>[{'adult': False, 'gender': 0, 'id': 1963881, ...</td>\n",
       "    </tr>\n",
       "    <tr>\n",
       "      <th>396553</th>\n",
       "      <td>707790</td>\n",
       "      <td>マッハ’78</td>\n",
       "      <td>1978-02-25</td>\n",
       "      <td>ja</td>\n",
       "      <td>[{'id': 28, 'name': 'Action'}]</td>\n",
       "      <td>0</td>\n",
       "      <td>0</td>\n",
       "      <td>6.1</td>\n",
       "      <td>[{'adult': False, 'gender': 0, 'id': 2767640, ...</td>\n",
       "    </tr>\n",
       "    <tr>\n",
       "      <th>396554</th>\n",
       "      <td>267899</td>\n",
       "      <td>El fuego inolvidable</td>\n",
       "      <td>2014-09-11</td>\n",
       "      <td>es</td>\n",
       "      <td>[{'id': 18, 'name': 'Drama'}]</td>\n",
       "      <td>0</td>\n",
       "      <td>865</td>\n",
       "      <td>7.8</td>\n",
       "      <td>[{'adult': False, 'gender': 2, 'id': 91251, 'k...</td>\n",
       "    </tr>\n",
       "    <tr>\n",
       "      <th>396555</th>\n",
       "      <td>270997</td>\n",
       "      <td>Szilveszter</td>\n",
       "      <td>1974-01-01</td>\n",
       "      <td>en</td>\n",
       "      <td>[]</td>\n",
       "      <td>0</td>\n",
       "      <td>0</td>\n",
       "      <td>5.8</td>\n",
       "      <td>[]</td>\n",
       "    </tr>\n",
       "  </tbody>\n",
       "</table>\n",
       "<p>396556 rows × 9 columns</p>\n",
       "</div>"
      ],
      "text/plain": [
       "        movie_id             original_title release_date original_language  \\\n",
       "0          10016             Ghosts of Mars   2001-08-24                en   \n",
       "1         263493              The Gangsters   1913-05-29                en   \n",
       "2          50944  The Sorcerer's Apprentice   2002-04-12                en   \n",
       "3          33592           White of the Eye   1987-06-19                en   \n",
       "4          43839   Alexander's Ragtime Band   1938-05-24                en   \n",
       "...          ...                        ...          ...               ...   \n",
       "396551    770135              Scandal in 97   2020-11-29                en   \n",
       "396552    472471                   Sniff!!!   2017-08-25                hi   \n",
       "396553    707790                     マッハ’78   1978-02-25                ja   \n",
       "396554    267899       El fuego inolvidable   2014-09-11                es   \n",
       "396555    270997                Szilveszter   1974-01-01                en   \n",
       "\n",
       "                                                   genres    budget   revenue  \\\n",
       "0       [{'id': 28, 'name': 'Action'}, {'id': 27, 'nam...  28000000  14010832   \n",
       "1                          [{'id': 35, 'name': 'Comedy'}]         0         0   \n",
       "2       [{'id': 12, 'name': 'Adventure'}, {'id': 10751...         0         0   \n",
       "3       [{'id': 27, 'name': 'Horror'}, {'id': 53, 'nam...         0         0   \n",
       "4       [{'id': 18, 'name': 'Drama'}, {'id': 10402, 'n...   2000000   4000000   \n",
       "...                                                   ...       ...       ...   \n",
       "396551                   [{'id': 53, 'name': 'Thriller'}]         0         0   \n",
       "396552  [{'id': 12, 'name': 'Adventure'}, {'id': 35, '...         0         0   \n",
       "396553                     [{'id': 28, 'name': 'Action'}]         0         0   \n",
       "396554                      [{'id': 18, 'name': 'Drama'}]         0       865   \n",
       "396555                                                 []         0         0   \n",
       "\n",
       "        imdb_average_rating                                               cast  \n",
       "0                       4.9  [{'adult': False, 'gender': 1, 'id': 57395, 'k...  \n",
       "1                       6.8  [{'adult': False, 'gender': 2, 'id': 1086663, ...  \n",
       "2                       4.2  [{'adult': False, 'gender': 1, 'id': 46948, 'k...  \n",
       "3                       6.1  [{'adult': False, 'gender': 2, 'id': 18181, 'k...  \n",
       "4                       6.8  [{'adult': False, 'gender': 2, 'id': 10922, 'k...  \n",
       "...                     ...                                                ...  \n",
       "396551                  4.9  [{'adult': False, 'gender': 2, 'id': 1232652, ...  \n",
       "396552                  5.3  [{'adult': False, 'gender': 0, 'id': 1963881, ...  \n",
       "396553                  6.1  [{'adult': False, 'gender': 0, 'id': 2767640, ...  \n",
       "396554                  7.8  [{'adult': False, 'gender': 2, 'id': 91251, 'k...  \n",
       "396555                  5.8                                                 []  \n",
       "\n",
       "[396556 rows x 9 columns]"
      ]
     },
     "metadata": {},
     "output_type": "display_data"
    }
   ],
   "source": [
    "# Assuming 'id' is the common column between imdb_rating_filtered_df and id2credits\n",
    "merged_df = pd.merge(imdb_rating_filtered_df, id2credit_df, on='id', how='inner')\n",
    "\n",
    "# Filter rows with either revenue not equal to 0 or imdb_average_rating not NaN\n",
    "merged_df_filtered = merged_df[(merged_df['revenue'] != 0) | (~merged_df['imdb_average_rating'].isna())]\n",
    "merged_df_filtered.reset_index(drop=True, inplace=True)\n",
    "merged_df_filtered = merged_df_filtered.rename(columns={'id': 'movie_id'})\n",
    "\n",
    "\n",
    "# Now, you can use merged_df_filtered for further analysis or display the desired information\n",
    "print(f'The number of movies with revenue or imdb ratings is {merged_df_filtered.shape[0]:,}')\n",
    "display(merged_df_filtered)"
   ]
  },
  {
   "cell_type": "markdown",
   "metadata": {},
   "source": [
    "Movie detail has revenue and imdb ratings   \n",
    "Movie credits has movie-actor pair data  \n",
    "\n",
    "**Objective**: Given an actor's id, return a plot with an x axis of the movies they appread in sorted by year and a y axis of the movies' ratings.\n"
   ]
  },
  {
   "cell_type": "markdown",
   "metadata": {},
   "source": [
    "## Dividing datasets"
   ]
  },
  {
   "cell_type": "markdown",
   "metadata": {},
   "source": [
    "Divide the dataset into 3 \n",
    "Features:\n",
    "- Career length\n",
    "Averages:\n",
    "- order\n",
    "- budget\n",
    "- revenue\n",
    "- tmdb popularity of movies\n",
    "- imdb ratings of movies\n",
    "- tmb vote average\n",
    "\n",
    "order, budget, revenue, career length, tmdb popularity of movies, tmdb vote average, number of movies, popularity of actor"
   ]
  },
  {
   "cell_type": "code",
   "execution_count": 52,
   "metadata": {},
   "outputs": [
    {
     "data": {
      "text/html": [
       "<div>\n",
       "<style scoped>\n",
       "    .dataframe tbody tr th:only-of-type {\n",
       "        vertical-align: middle;\n",
       "    }\n",
       "\n",
       "    .dataframe tbody tr th {\n",
       "        vertical-align: top;\n",
       "    }\n",
       "\n",
       "    .dataframe thead th {\n",
       "        text-align: right;\n",
       "    }\n",
       "</style>\n",
       "<table border=\"1\" class=\"dataframe\">\n",
       "  <thead>\n",
       "    <tr style=\"text-align: right;\">\n",
       "      <th></th>\n",
       "      <th>name</th>\n",
       "      <th>genre_mean_weighted</th>\n",
       "      <th>number_of_movies</th>\n",
       "    </tr>\n",
       "  </thead>\n",
       "  <tbody>\n",
       "    <tr>\n",
       "      <th>0</th>\n",
       "      <td>Gary Oldman</td>\n",
       "      <td>['Crime']</td>\n",
       "      <td>57.0</td>\n",
       "    </tr>\n",
       "    <tr>\n",
       "      <th>1</th>\n",
       "      <td>Florence Pugh</td>\n",
       "      <td>['Mystery']</td>\n",
       "      <td>10.0</td>\n",
       "    </tr>\n",
       "    <tr>\n",
       "      <th>2</th>\n",
       "      <td>Jason Statham</td>\n",
       "      <td>['Science Fiction']</td>\n",
       "      <td>45.0</td>\n",
       "    </tr>\n",
       "    <tr>\n",
       "      <th>3</th>\n",
       "      <td>Jackie Chan</td>\n",
       "      <td>['Crime']</td>\n",
       "      <td>62.0</td>\n",
       "    </tr>\n",
       "    <tr>\n",
       "      <th>4</th>\n",
       "      <td>Scarlett Johansson</td>\n",
       "      <td>['Science Fiction']</td>\n",
       "      <td>51.0</td>\n",
       "    </tr>\n",
       "    <tr>\n",
       "      <th>...</th>\n",
       "      <td>...</td>\n",
       "      <td>...</td>\n",
       "      <td>...</td>\n",
       "    </tr>\n",
       "    <tr>\n",
       "      <th>8053</th>\n",
       "      <td>Alice Isaaz</td>\n",
       "      <td>['Romance']</td>\n",
       "      <td>6.0</td>\n",
       "    </tr>\n",
       "    <tr>\n",
       "      <th>8054</th>\n",
       "      <td>Peter Cullen</td>\n",
       "      <td>['Science Fiction']</td>\n",
       "      <td>18.0</td>\n",
       "    </tr>\n",
       "    <tr>\n",
       "      <th>8055</th>\n",
       "      <td>Mary Crosby</td>\n",
       "      <td>['Family']</td>\n",
       "      <td>3.0</td>\n",
       "    </tr>\n",
       "    <tr>\n",
       "      <th>8056</th>\n",
       "      <td>Daisuke Namikawa</td>\n",
       "      <td>['Mystery']</td>\n",
       "      <td>12.0</td>\n",
       "    </tr>\n",
       "    <tr>\n",
       "      <th>8057</th>\n",
       "      <td>Hans Clarin</td>\n",
       "      <td>['Mystery']</td>\n",
       "      <td>2.0</td>\n",
       "    </tr>\n",
       "  </tbody>\n",
       "</table>\n",
       "<p>8058 rows × 3 columns</p>\n",
       "</div>"
      ],
      "text/plain": [
       "                    name  genre_mean_weighted  number_of_movies\n",
       "0            Gary Oldman            ['Crime']              57.0\n",
       "1          Florence Pugh          ['Mystery']              10.0\n",
       "2          Jason Statham  ['Science Fiction']              45.0\n",
       "3            Jackie Chan            ['Crime']              62.0\n",
       "4     Scarlett Johansson  ['Science Fiction']              51.0\n",
       "...                  ...                  ...               ...\n",
       "8053         Alice Isaaz          ['Romance']               6.0\n",
       "8054        Peter Cullen  ['Science Fiction']              18.0\n",
       "8055         Mary Crosby           ['Family']               3.0\n",
       "8056    Daisuke Namikawa          ['Mystery']              12.0\n",
       "8057         Hans Clarin          ['Mystery']               2.0\n",
       "\n",
       "[8058 rows x 3 columns]"
      ]
     },
     "metadata": {},
     "output_type": "display_data"
    }
   ],
   "source": [
    "# transform acting_in_2003_and_later.csv into a dataframe\n",
    "import pandas as pd\n",
    "actors_df = pd.read_csv('../Data/preprocessed_data/tmdb_acting_in_2003_and_later.csv')\n",
    "display(actors_df)"
   ]
  },
  {
   "cell_type": "code",
   "execution_count": 55,
   "metadata": {},
   "outputs": [
    {
     "name": "stdout",
     "output_type": "stream",
     "text": [
      "78    ['Romance']\n",
      "Name: genre_mean_weighted, dtype: object\n"
     ]
    }
   ],
   "source": [
    "print(actors_df[actors_df[\"name\"] == \"Leonardo DiCaprio\"][\"genre_mean_weighted\"])"
   ]
  },
  {
   "cell_type": "code",
   "execution_count": 56,
   "metadata": {},
   "outputs": [
    {
     "ename": "NameError",
     "evalue": "name 'merged_df_filtered' is not defined",
     "output_type": "error",
     "traceback": [
      "\u001b[1;31m---------------------------------------------------------------------------\u001b[0m",
      "\u001b[1;31mNameError\u001b[0m                                 Traceback (most recent call last)",
      "\u001b[1;32m<ipython-input-56-cb6b54b22520>\u001b[0m in \u001b[0;36m<module>\u001b[1;34m\u001b[0m\n\u001b[0;32m      2\u001b[0m \u001b[0mfull_actors_list\u001b[0m \u001b[1;33m=\u001b[0m \u001b[1;33m[\u001b[0m\u001b[1;33m]\u001b[0m\u001b[1;33m\u001b[0m\u001b[1;33m\u001b[0m\u001b[0m\n\u001b[0;32m      3\u001b[0m \u001b[1;33m\u001b[0m\u001b[0m\n\u001b[1;32m----> 4\u001b[1;33m \u001b[1;32mfor\u001b[0m \u001b[0m_\u001b[0m\u001b[1;33m,\u001b[0m \u001b[0mrow\u001b[0m \u001b[1;32min\u001b[0m \u001b[0mmerged_df_filtered\u001b[0m\u001b[1;33m.\u001b[0m\u001b[0miterrows\u001b[0m\u001b[1;33m(\u001b[0m\u001b[1;33m)\u001b[0m\u001b[1;33m:\u001b[0m\u001b[1;33m\u001b[0m\u001b[1;33m\u001b[0m\u001b[0m\n\u001b[0m\u001b[0;32m      5\u001b[0m     \u001b[1;32mfor\u001b[0m \u001b[0mactor_info\u001b[0m \u001b[1;32min\u001b[0m \u001b[0mrow\u001b[0m\u001b[1;33m[\u001b[0m\u001b[1;34m'cast'\u001b[0m\u001b[1;33m]\u001b[0m\u001b[1;33m:\u001b[0m\u001b[1;33m\u001b[0m\u001b[1;33m\u001b[0m\u001b[0m\n\u001b[0;32m      6\u001b[0m         actor_entry = {\n",
      "\u001b[1;31mNameError\u001b[0m: name 'merged_df_filtered' is not defined"
     ]
    }
   ],
   "source": [
    "\n",
    "# Creating full_actors_df DataFrame\n",
    "full_actors_list = []\n",
    "\n",
    "for _, row in merged_df_filtered.iterrows():\n",
    "    for actor_info in row['cast']:\n",
    "        actor_entry = {\n",
    "            'gender': actor_info['gender'],\n",
    "            'actor_id': actor_info['id'],\n",
    "            'name': actor_info['name'],\n",
    "            'popularity': actor_info['popularity'],\n",
    "            'character': actor_info['character'],\n",
    "            'order': actor_info['order'],\n",
    "            'movie_id': row['movie_id'],\n",
    "            'original_title': row['original_title'],\n",
    "            'release_date': row['release_date'],\n",
    "            'original_language': row['original_language'],\n",
    "            'genres': row['genres'],\n",
    "            'budget': row['budget'],\n",
    "            'revenue': row['revenue'],\n",
    "            'imdb_average_rating': row['imdb_average_rating']\n",
    "        }\n",
    "        full_actors_list.append(actor_entry)\n",
    "\n",
    "full_actors_df = pd.DataFrame(full_actors_list)\n",
    "\n",
    "# Display the resulting full_actors_df\n",
    "display(full_actors_df)\n"
   ]
  },
  {
   "cell_type": "code",
   "execution_count": 57,
   "metadata": {},
   "outputs": [],
   "source": [
    "#display(full_actors_df)\n",
    "#full_actors_df.to_csv('../Data/preprocessed_data/full_actors_db.csv', index=False)\n",
    "full_actors_df = pd.read_csv('../Data/preprocessed_data/full_actors_db.csv')\n",
    "# display(full_actors_df)"
   ]
  },
  {
   "cell_type": "code",
   "execution_count": 58,
   "metadata": {},
   "outputs": [
    {
     "data": {
      "text/html": [
       "<div>\n",
       "<style scoped>\n",
       "    .dataframe tbody tr th:only-of-type {\n",
       "        vertical-align: middle;\n",
       "    }\n",
       "\n",
       "    .dataframe tbody tr th {\n",
       "        vertical-align: top;\n",
       "    }\n",
       "\n",
       "    .dataframe thead th {\n",
       "        text-align: right;\n",
       "    }\n",
       "</style>\n",
       "<table border=\"1\" class=\"dataframe\">\n",
       "  <thead>\n",
       "    <tr style=\"text-align: right;\">\n",
       "      <th></th>\n",
       "      <th>gender</th>\n",
       "      <th>actor_id</th>\n",
       "      <th>name</th>\n",
       "      <th>popularity</th>\n",
       "      <th>character</th>\n",
       "      <th>order</th>\n",
       "      <th>movie_id</th>\n",
       "      <th>original_title</th>\n",
       "      <th>release_date</th>\n",
       "      <th>original_language</th>\n",
       "      <th>genres</th>\n",
       "      <th>budget</th>\n",
       "      <th>revenue</th>\n",
       "      <th>imdb_average_rating</th>\n",
       "    </tr>\n",
       "  </thead>\n",
       "  <tbody>\n",
       "    <tr>\n",
       "      <th>0</th>\n",
       "      <td>1</td>\n",
       "      <td>57395</td>\n",
       "      <td>Natasha Henstridge</td>\n",
       "      <td>49.626</td>\n",
       "      <td>Lt. Melanie Ballard</td>\n",
       "      <td>0</td>\n",
       "      <td>10016</td>\n",
       "      <td>Ghosts of Mars</td>\n",
       "      <td>2001-08-24</td>\n",
       "      <td>en</td>\n",
       "      <td>[{'id': 28, 'name': 'Action'}, {'id': 27, 'nam...</td>\n",
       "      <td>28000000</td>\n",
       "      <td>14010832</td>\n",
       "      <td>4.9</td>\n",
       "    </tr>\n",
       "    <tr>\n",
       "      <th>1</th>\n",
       "      <td>2</td>\n",
       "      <td>9778</td>\n",
       "      <td>Ice Cube</td>\n",
       "      <td>24.423</td>\n",
       "      <td>James 'Desolation' Williams</td>\n",
       "      <td>1</td>\n",
       "      <td>10016</td>\n",
       "      <td>Ghosts of Mars</td>\n",
       "      <td>2001-08-24</td>\n",
       "      <td>en</td>\n",
       "      <td>[{'id': 28, 'name': 'Action'}, {'id': 27, 'nam...</td>\n",
       "      <td>28000000</td>\n",
       "      <td>14010832</td>\n",
       "      <td>4.9</td>\n",
       "    </tr>\n",
       "    <tr>\n",
       "      <th>2</th>\n",
       "      <td>1</td>\n",
       "      <td>2230</td>\n",
       "      <td>Pam Grier</td>\n",
       "      <td>22.806</td>\n",
       "      <td>Commander Helena Braddock</td>\n",
       "      <td>2</td>\n",
       "      <td>10016</td>\n",
       "      <td>Ghosts of Mars</td>\n",
       "      <td>2001-08-24</td>\n",
       "      <td>en</td>\n",
       "      <td>[{'id': 28, 'name': 'Action'}, {'id': 27, 'nam...</td>\n",
       "      <td>28000000</td>\n",
       "      <td>14010832</td>\n",
       "      <td>4.9</td>\n",
       "    </tr>\n",
       "    <tr>\n",
       "      <th>3</th>\n",
       "      <td>2</td>\n",
       "      <td>976</td>\n",
       "      <td>Jason Statham</td>\n",
       "      <td>199.055</td>\n",
       "      <td>Sgt. Jericho Butler</td>\n",
       "      <td>3</td>\n",
       "      <td>10016</td>\n",
       "      <td>Ghosts of Mars</td>\n",
       "      <td>2001-08-24</td>\n",
       "      <td>en</td>\n",
       "      <td>[{'id': 28, 'name': 'Action'}, {'id': 27, 'nam...</td>\n",
       "      <td>28000000</td>\n",
       "      <td>14010832</td>\n",
       "      <td>4.9</td>\n",
       "    </tr>\n",
       "    <tr>\n",
       "      <th>4</th>\n",
       "      <td>1</td>\n",
       "      <td>20387</td>\n",
       "      <td>Clea DuVall</td>\n",
       "      <td>21.220</td>\n",
       "      <td>Bashira Kincaid</td>\n",
       "      <td>4</td>\n",
       "      <td>10016</td>\n",
       "      <td>Ghosts of Mars</td>\n",
       "      <td>2001-08-24</td>\n",
       "      <td>en</td>\n",
       "      <td>[{'id': 28, 'name': 'Action'}, {'id': 27, 'nam...</td>\n",
       "      <td>28000000</td>\n",
       "      <td>14010832</td>\n",
       "      <td>4.9</td>\n",
       "    </tr>\n",
       "    <tr>\n",
       "      <th>...</th>\n",
       "      <td>...</td>\n",
       "      <td>...</td>\n",
       "      <td>...</td>\n",
       "      <td>...</td>\n",
       "      <td>...</td>\n",
       "      <td>...</td>\n",
       "      <td>...</td>\n",
       "      <td>...</td>\n",
       "      <td>...</td>\n",
       "      <td>...</td>\n",
       "      <td>...</td>\n",
       "      <td>...</td>\n",
       "      <td>...</td>\n",
       "      <td>...</td>\n",
       "    </tr>\n",
       "    <tr>\n",
       "      <th>307595</th>\n",
       "      <td>1</td>\n",
       "      <td>8857</td>\n",
       "      <td>Debbie Reynolds</td>\n",
       "      <td>20.281</td>\n",
       "      <td>Self (archive footage)</td>\n",
       "      <td>8</td>\n",
       "      <td>844511</td>\n",
       "      <td>Sœur Sourire : Qui a tué la voix de Dieu ?</td>\n",
       "      <td>2021-06-11</td>\n",
       "      <td>fr</td>\n",
       "      <td>[{'id': 99, 'name': 'Documentary'}, {'id': 104...</td>\n",
       "      <td>0</td>\n",
       "      <td>0</td>\n",
       "      <td>7.1</td>\n",
       "    </tr>\n",
       "    <tr>\n",
       "      <th>307596</th>\n",
       "      <td>1</td>\n",
       "      <td>164094</td>\n",
       "      <td>Marin Ireland</td>\n",
       "      <td>15.430</td>\n",
       "      <td>Anna</td>\n",
       "      <td>0</td>\n",
       "      <td>589496</td>\n",
       "      <td>Megafauna</td>\n",
       "      <td>2010-06-04</td>\n",
       "      <td>en</td>\n",
       "      <td>[{'id': 18, 'name': 'Drama'}, {'id': 10749, 'n...</td>\n",
       "      <td>0</td>\n",
       "      <td>0</td>\n",
       "      <td>6.7</td>\n",
       "    </tr>\n",
       "    <tr>\n",
       "      <th>307597</th>\n",
       "      <td>2</td>\n",
       "      <td>58769</td>\n",
       "      <td>Stephen Colbert</td>\n",
       "      <td>4.737</td>\n",
       "      <td>Self (archive footage)</td>\n",
       "      <td>12</td>\n",
       "      <td>376261</td>\n",
       "      <td>Weiner</td>\n",
       "      <td>2016-05-20</td>\n",
       "      <td>en</td>\n",
       "      <td>[{'id': 99, 'name': 'Documentary'}]</td>\n",
       "      <td>0</td>\n",
       "      <td>0</td>\n",
       "      <td>7.6</td>\n",
       "    </tr>\n",
       "    <tr>\n",
       "      <th>307598</th>\n",
       "      <td>2</td>\n",
       "      <td>33663</td>\n",
       "      <td>Donald Trump</td>\n",
       "      <td>18.380</td>\n",
       "      <td>Self (archive footage)</td>\n",
       "      <td>16</td>\n",
       "      <td>376261</td>\n",
       "      <td>Weiner</td>\n",
       "      <td>2016-05-20</td>\n",
       "      <td>en</td>\n",
       "      <td>[{'id': 99, 'name': 'Documentary'}]</td>\n",
       "      <td>0</td>\n",
       "      <td>0</td>\n",
       "      <td>7.6</td>\n",
       "    </tr>\n",
       "    <tr>\n",
       "      <th>307599</th>\n",
       "      <td>2</td>\n",
       "      <td>10367</td>\n",
       "      <td>John Waters</td>\n",
       "      <td>10.797</td>\n",
       "      <td>Self (archive footage)</td>\n",
       "      <td>17</td>\n",
       "      <td>376261</td>\n",
       "      <td>Weiner</td>\n",
       "      <td>2016-05-20</td>\n",
       "      <td>en</td>\n",
       "      <td>[{'id': 99, 'name': 'Documentary'}]</td>\n",
       "      <td>0</td>\n",
       "      <td>0</td>\n",
       "      <td>7.6</td>\n",
       "    </tr>\n",
       "  </tbody>\n",
       "</table>\n",
       "<p>307600 rows × 14 columns</p>\n",
       "</div>"
      ],
      "text/plain": [
       "        gender  actor_id                name  popularity  \\\n",
       "0            1     57395  Natasha Henstridge      49.626   \n",
       "1            2      9778            Ice Cube      24.423   \n",
       "2            1      2230           Pam Grier      22.806   \n",
       "3            2       976       Jason Statham     199.055   \n",
       "4            1     20387         Clea DuVall      21.220   \n",
       "...        ...       ...                 ...         ...   \n",
       "307595       1      8857     Debbie Reynolds      20.281   \n",
       "307596       1    164094       Marin Ireland      15.430   \n",
       "307597       2     58769     Stephen Colbert       4.737   \n",
       "307598       2     33663        Donald Trump      18.380   \n",
       "307599       2     10367         John Waters      10.797   \n",
       "\n",
       "                          character  order  movie_id  \\\n",
       "0               Lt. Melanie Ballard      0     10016   \n",
       "1       James 'Desolation' Williams      1     10016   \n",
       "2         Commander Helena Braddock      2     10016   \n",
       "3               Sgt. Jericho Butler      3     10016   \n",
       "4                   Bashira Kincaid      4     10016   \n",
       "...                             ...    ...       ...   \n",
       "307595       Self (archive footage)      8    844511   \n",
       "307596                         Anna      0    589496   \n",
       "307597       Self (archive footage)     12    376261   \n",
       "307598       Self (archive footage)     16    376261   \n",
       "307599       Self (archive footage)     17    376261   \n",
       "\n",
       "                                    original_title release_date  \\\n",
       "0                                   Ghosts of Mars   2001-08-24   \n",
       "1                                   Ghosts of Mars   2001-08-24   \n",
       "2                                   Ghosts of Mars   2001-08-24   \n",
       "3                                   Ghosts of Mars   2001-08-24   \n",
       "4                                   Ghosts of Mars   2001-08-24   \n",
       "...                                            ...          ...   \n",
       "307595  Sœur Sourire : Qui a tué la voix de Dieu ?   2021-06-11   \n",
       "307596                                   Megafauna   2010-06-04   \n",
       "307597                                      Weiner   2016-05-20   \n",
       "307598                                      Weiner   2016-05-20   \n",
       "307599                                      Weiner   2016-05-20   \n",
       "\n",
       "       original_language                                             genres  \\\n",
       "0                     en  [{'id': 28, 'name': 'Action'}, {'id': 27, 'nam...   \n",
       "1                     en  [{'id': 28, 'name': 'Action'}, {'id': 27, 'nam...   \n",
       "2                     en  [{'id': 28, 'name': 'Action'}, {'id': 27, 'nam...   \n",
       "3                     en  [{'id': 28, 'name': 'Action'}, {'id': 27, 'nam...   \n",
       "4                     en  [{'id': 28, 'name': 'Action'}, {'id': 27, 'nam...   \n",
       "...                  ...                                                ...   \n",
       "307595                fr  [{'id': 99, 'name': 'Documentary'}, {'id': 104...   \n",
       "307596                en  [{'id': 18, 'name': 'Drama'}, {'id': 10749, 'n...   \n",
       "307597                en                [{'id': 99, 'name': 'Documentary'}]   \n",
       "307598                en                [{'id': 99, 'name': 'Documentary'}]   \n",
       "307599                en                [{'id': 99, 'name': 'Documentary'}]   \n",
       "\n",
       "          budget   revenue  imdb_average_rating  \n",
       "0       28000000  14010832                  4.9  \n",
       "1       28000000  14010832                  4.9  \n",
       "2       28000000  14010832                  4.9  \n",
       "3       28000000  14010832                  4.9  \n",
       "4       28000000  14010832                  4.9  \n",
       "...          ...       ...                  ...  \n",
       "307595         0         0                  7.1  \n",
       "307596         0         0                  6.7  \n",
       "307597         0         0                  7.6  \n",
       "307598         0         0                  7.6  \n",
       "307599         0         0                  7.6  \n",
       "\n",
       "[307600 rows x 14 columns]"
      ]
     },
     "metadata": {},
     "output_type": "display_data"
    },
    {
     "data": {
      "text/html": [
       "<div>\n",
       "<style scoped>\n",
       "    .dataframe tbody tr th:only-of-type {\n",
       "        vertical-align: middle;\n",
       "    }\n",
       "\n",
       "    .dataframe tbody tr th {\n",
       "        vertical-align: top;\n",
       "    }\n",
       "\n",
       "    .dataframe thead th {\n",
       "        text-align: right;\n",
       "    }\n",
       "</style>\n",
       "<table border=\"1\" class=\"dataframe\">\n",
       "  <thead>\n",
       "    <tr style=\"text-align: right;\">\n",
       "      <th></th>\n",
       "      <th>name</th>\n",
       "      <th>number_of_movies</th>\n",
       "    </tr>\n",
       "  </thead>\n",
       "  <tbody>\n",
       "    <tr>\n",
       "      <th>0</th>\n",
       "      <td>\"Weird Al\" Yankovic</td>\n",
       "      <td>52</td>\n",
       "    </tr>\n",
       "    <tr>\n",
       "      <th>1</th>\n",
       "      <td>50 Cent</td>\n",
       "      <td>47</td>\n",
       "    </tr>\n",
       "    <tr>\n",
       "      <th>2</th>\n",
       "      <td>A Martinez</td>\n",
       "      <td>54</td>\n",
       "    </tr>\n",
       "    <tr>\n",
       "      <th>3</th>\n",
       "      <td>A.C. Peterson</td>\n",
       "      <td>65</td>\n",
       "    </tr>\n",
       "    <tr>\n",
       "      <th>4</th>\n",
       "      <td>A.J. Buckley</td>\n",
       "      <td>30</td>\n",
       "    </tr>\n",
       "    <tr>\n",
       "      <th>...</th>\n",
       "      <td>...</td>\n",
       "      <td>...</td>\n",
       "    </tr>\n",
       "    <tr>\n",
       "      <th>8051</th>\n",
       "      <td>Óscar Jaenada</td>\n",
       "      <td>40</td>\n",
       "    </tr>\n",
       "    <tr>\n",
       "      <th>8052</th>\n",
       "      <td>Özcan Deniz</td>\n",
       "      <td>13</td>\n",
       "    </tr>\n",
       "    <tr>\n",
       "      <th>8053</th>\n",
       "      <td>Úrsula Corberó</td>\n",
       "      <td>12</td>\n",
       "    </tr>\n",
       "    <tr>\n",
       "      <th>8054</th>\n",
       "      <td>Şükrü Özyıldız</td>\n",
       "      <td>9</td>\n",
       "    </tr>\n",
       "    <tr>\n",
       "      <th>8055</th>\n",
       "      <td>​Christopher Lowell</td>\n",
       "      <td>14</td>\n",
       "    </tr>\n",
       "  </tbody>\n",
       "</table>\n",
       "<p>8056 rows × 2 columns</p>\n",
       "</div>"
      ],
      "text/plain": [
       "                     name  number_of_movies\n",
       "0     \"Weird Al\" Yankovic                52\n",
       "1                 50 Cent                47\n",
       "2              A Martinez                54\n",
       "3           A.C. Peterson                65\n",
       "4            A.J. Buckley                30\n",
       "...                   ...               ...\n",
       "8051        Óscar Jaenada                40\n",
       "8052          Özcan Deniz                13\n",
       "8053       Úrsula Corberó                12\n",
       "8054       Şükrü Özyıldız                 9\n",
       "8055  ​Christopher Lowell                14\n",
       "\n",
       "[8056 rows x 2 columns]"
      ]
     },
     "metadata": {},
     "output_type": "display_data"
    }
   ],
   "source": [
    "import pandas as pd\n",
    "# remove rows where the imdb_average_rating is NaN\n",
    "full_actors_df = full_actors_df.dropna(subset=['imdb_average_rating'])\n",
    "# Filter full_actors_df to keep only the actors in actors_df\n",
    "full_actors_df = full_actors_df[full_actors_df['name'].isin(actors_df['name'])]\n",
    "\n",
    "full_actors_df.reset_index(drop=True, inplace=True)\n",
    "full_actors_df.to_csv('../Data/preprocessed_data/full_actors_filtered_db.csv', index=False)\n",
    "# full_actors_df = pd.read_csv('../Data/preprocessed_data/full_actors_filtered_db.csv')\n",
    "display(full_actors_df)\n",
    "\n",
    "# calculate the number of movies each actor has played in and add the column number_of_movies\n",
    "number_of_movies = full_actors_df.groupby('name')['movie_id'].nunique()\n",
    "number_of_movies_df = pd.DataFrame(number_of_movies)\n",
    "number_of_movies_df.reset_index(inplace=True)\n",
    "number_of_movies_df.rename(columns={'movie_id': 'number_of_movies'}, inplace=True)\n",
    "display(number_of_movies_df)"
   ]
  },
  {
   "cell_type": "code",
   "execution_count": 59,
   "metadata": {},
   "outputs": [
    {
     "data": {
      "text/html": [
       "<div>\n",
       "<style scoped>\n",
       "    .dataframe tbody tr th:only-of-type {\n",
       "        vertical-align: middle;\n",
       "    }\n",
       "\n",
       "    .dataframe tbody tr th {\n",
       "        vertical-align: top;\n",
       "    }\n",
       "\n",
       "    .dataframe thead th {\n",
       "        text-align: right;\n",
       "    }\n",
       "</style>\n",
       "<table border=\"1\" class=\"dataframe\">\n",
       "  <thead>\n",
       "    <tr style=\"text-align: right;\">\n",
       "      <th></th>\n",
       "      <th>name</th>\n",
       "      <th>gender</th>\n",
       "      <th>popularity</th>\n",
       "      <th>release_date</th>\n",
       "      <th>genres</th>\n",
       "      <th>budget</th>\n",
       "      <th>revenue</th>\n",
       "      <th>imdb_average_rating</th>\n",
       "      <th>order</th>\n",
       "      <th>career_length</th>\n",
       "      <th>number_of_movies</th>\n",
       "    </tr>\n",
       "  </thead>\n",
       "  <tbody>\n",
       "    <tr>\n",
       "      <th>0</th>\n",
       "      <td>\"Weird Al\" Yankovic</td>\n",
       "      <td>2</td>\n",
       "      <td>[13.081, 13.081, 5.609, 10.655, 13.081, 10.655...</td>\n",
       "      <td>[1985-09-25, 1988-10-21, 1988-12-02, 1989-07-2...</td>\n",
       "      <td>[[{'id': 35, 'name': 'Comedy'}, {'id': 28, 'na...</td>\n",
       "      <td>[18000000, 3000000, 0, 0, 30000000, 0, 5000000...</td>\n",
       "      <td>[27000000, 343786, 0, 0, 51132598, 0, 6157157,...</td>\n",
       "      <td>[5.3, 5.7, 8.7, 8.3, 6.5, 7.3, 6.9, 7.6, 4.3, ...</td>\n",
       "      <td>[13, 16, 0, 0, 35, 2, 0, 11, 6, 0, 13, 0, 8, 3...</td>\n",
       "      <td>38</td>\n",
       "      <td>52</td>\n",
       "    </tr>\n",
       "    <tr>\n",
       "      <th>1</th>\n",
       "      <td>50 Cent</td>\n",
       "      <td>2</td>\n",
       "      <td>[14.999, 11.633, 10.69, 14.999, 10.69, 14.999,...</td>\n",
       "      <td>[2003-04-15, 2003-04-22, 2003-08-03, 2004-08-3...</td>\n",
       "      <td>[[{'id': 18, 'name': 'Drama'}, {'id': 35, 'nam...</td>\n",
       "      <td>[40000000, 0, 0, 11000000, 0, 0, 10000000, 100...</td>\n",
       "      <td>[60040976, 0, 0, 0, 0, 2566717, 0, 0, 0, 79498...</td>\n",
       "      <td>[6.5, 5.4, 4.4, 4.6, 4.4, 5.6, 3.8, 4.4, 6.8, ...</td>\n",
       "      <td>[59, 1, 1, 0, 0, 2, 0, 0, 1, 4, 0, 1, 0, 0, 0,...</td>\n",
       "      <td>20</td>\n",
       "      <td>47</td>\n",
       "    </tr>\n",
       "    <tr>\n",
       "      <th>2</th>\n",
       "      <td>A Martinez</td>\n",
       "      <td>2</td>\n",
       "      <td>[15.752, 11.636, 15.752, 11.636, 11.636, 11.63...</td>\n",
       "      <td>[1968-10-01, 1972-01-13, 1972-02-21, 1973-01-0...</td>\n",
       "      <td>[[{'id': 35, 'name': 'Comedy'}], [{'id': 18, '...</td>\n",
       "      <td>[20000000, 0, 500000, 0, 0, 0, 11800000, 0, 0,...</td>\n",
       "      <td>[15400000, 0, 0, 0, 0, 0, 0, 0, 0, 0, 0, 0, 0,...</td>\n",
       "      <td>[5.7, 6.2, 3.0, 6.8, 6.7, 2.1, 5.7, 7.2, 5.8, ...</td>\n",
       "      <td>[6, 6, 2, 11, 4, 1, 5, 0, 1, 3, 3, 7, 15, 5, 1...</td>\n",
       "      <td>54</td>\n",
       "      <td>54</td>\n",
       "    </tr>\n",
       "    <tr>\n",
       "      <th>3</th>\n",
       "      <td>A.C. Peterson</td>\n",
       "      <td>2</td>\n",
       "      <td>[18.63, 18.63, 18.63, 18.63, 18.63, 7.26, 18.6...</td>\n",
       "      <td>[1984-12-26, 1985-07-28, 1986-11-29, 1987-09-2...</td>\n",
       "      <td>[[{'id': 18, 'name': 'Drama'}, {'id': 10749, '...</td>\n",
       "      <td>[11000000, 0, 3500000, 0, 6500000, 0, 61000000...</td>\n",
       "      <td>[4385312, 1733017, 44462, 4654288, 12633747, 0...</td>\n",
       "      <td>[6.1, 5.9, 6.7, 5.3, 7.1, 5.4, 7.1, 6.0, 5.3, ...</td>\n",
       "      <td>[55, 32, 8, 11, 12, 18, 10, 8, 4, 5, 13, 10, 2...</td>\n",
       "      <td>37</td>\n",
       "      <td>65</td>\n",
       "    </tr>\n",
       "    <tr>\n",
       "      <th>4</th>\n",
       "      <td>A.J. Buckley</td>\n",
       "      <td>2</td>\n",
       "      <td>[14.75, 9.655, 14.75, 14.75, 9.655, 14.75, 14....</td>\n",
       "      <td>[1998-07-24, 1999-05-18, 1999-10-17, 2000-07-1...</td>\n",
       "      <td>[[{'id': 28, 'name': 'Action'}, {'id': 53, 'na...</td>\n",
       "      <td>[1000000, 0, 1000000, 15000000, 0, 1000000, 15...</td>\n",
       "      <td>[0, 0, 0, 5217498, 0, 464000, 17514980, 0, 0, ...</td>\n",
       "      <td>[4.6, 6.5, 5.8, 4.6, 3.7, 6.6, 5.6, 5.2, 5.3, ...</td>\n",
       "      <td>[1, 9, 4, 13, 5, 4, 11, 4, 9, 6, 1, 42, 7, 3, ...</td>\n",
       "      <td>20</td>\n",
       "      <td>30</td>\n",
       "    </tr>\n",
       "    <tr>\n",
       "      <th>...</th>\n",
       "      <td>...</td>\n",
       "      <td>...</td>\n",
       "      <td>...</td>\n",
       "      <td>...</td>\n",
       "      <td>...</td>\n",
       "      <td>...</td>\n",
       "      <td>...</td>\n",
       "      <td>...</td>\n",
       "      <td>...</td>\n",
       "      <td>...</td>\n",
       "      <td>...</td>\n",
       "    </tr>\n",
       "    <tr>\n",
       "      <th>8051</th>\n",
       "      <td>Óscar Jaenada</td>\n",
       "      <td>2</td>\n",
       "      <td>[9.549, 9.549, 11.329, 9.549, 9.549, 11.329, 7...</td>\n",
       "      <td>[2001-01-05, 2003-09-12, 2003-09-26, 2004-08-2...</td>\n",
       "      <td>[[{'id': 18, 'name': 'Drama'}, {'id': 36, 'nam...</td>\n",
       "      <td>[40000000, 379000000, 0, 20000000, 25000000, 0...</td>\n",
       "      <td>[8638163, 1045713802, 0, 16863583, 23580000, 0...</td>\n",
       "      <td>[6.8, 6.6, 6.2, 4.9, 6.2, 6.1, 4.2, 6.0, 5.2, ...</td>\n",
       "      <td>[7, 12, 9, 11, 5, 6, 1, 0, 1, 0, 0, 0, 23, 0, ...</td>\n",
       "      <td>22</td>\n",
       "      <td>40</td>\n",
       "    </tr>\n",
       "    <tr>\n",
       "      <th>8052</th>\n",
       "      <td>Özcan Deniz</td>\n",
       "      <td>2</td>\n",
       "      <td>[12.175, 12.583, 12.175, 12.175, 12.175, 12.58...</td>\n",
       "      <td>[2002-12-06, 2003-03-27, 2003-10-16, 2004-02-2...</td>\n",
       "      <td>[[{'id': 35, 'name': 'Comedy'}, {'id': 18, 'na...</td>\n",
       "      <td>[0, 0, 0, 0, 0, 0, 0, 0, 0, 0, 0, 0, 0]</td>\n",
       "      <td>[0, 0, 0, 0, 0, 0, 0, 0, 0, 0, 0, 0, 5000000]</td>\n",
       "      <td>[7.4, 4.9, 5.0, 3.6, 5.7, 6.2, 6.1, 5.2, 6.0, ...</td>\n",
       "      <td>[1, 0, 0, 0, 0, 1, 0, 0, 1, 2, 2, 5, 1]</td>\n",
       "      <td>15</td>\n",
       "      <td>13</td>\n",
       "    </tr>\n",
       "    <tr>\n",
       "      <th>8053</th>\n",
       "      <td>Úrsula Corberó</td>\n",
       "      <td>1</td>\n",
       "      <td>[53.548, 27.525, 28.748, 53.548, 27.525, 53.54...</td>\n",
       "      <td>[2011-12-28, 2013-02-05, 2013-04-06, 2013-11-1...</td>\n",
       "      <td>[[{'id': 27, 'name': 'Horror'}], [{'id': 35, '...</td>\n",
       "      <td>[4362560, 0, 0, 869115, 0, 88000000, 0, 0, 0, ...</td>\n",
       "      <td>[0, 0, 0, 1018486, 0, 36964325, 0, 0, 850259, ...</td>\n",
       "      <td>[3.7, 4.5, 4.6, 6.6, 5.8, 5.4, 5.7, 3.8, 5.6, ...</td>\n",
       "      <td>[1, 1, 0, 7, 4, 3, 1, 0, 3, 0, 1, 2]</td>\n",
       "      <td>10</td>\n",
       "      <td>12</td>\n",
       "    </tr>\n",
       "    <tr>\n",
       "      <th>8054</th>\n",
       "      <td>Şükrü Özyıldız</td>\n",
       "      <td>2</td>\n",
       "      <td>[28.837, 24.124, 28.837, 26.226, 28.837, 24.12...</td>\n",
       "      <td>[2013-09-13, 2015-02-06, 2016-01-20, 2016-10-2...</td>\n",
       "      <td>[[{'id': 18, 'name': 'Drama'}, {'id': 35, 'nam...</td>\n",
       "      <td>[0, 0, 0, 1705235, 0, 0, 0, 0, 0]</td>\n",
       "      <td>[0, 0, 0, 3501037, 0, 0, 0, 0, 0]</td>\n",
       "      <td>[7.1, 6.0, 4.9, 7.0, 6.2, 6.8, 5.3, 4.7, 5.3]</td>\n",
       "      <td>[5, 0, 1, 9, 3, 5, 1, 1, 1]</td>\n",
       "      <td>10</td>\n",
       "      <td>9</td>\n",
       "    </tr>\n",
       "    <tr>\n",
       "      <th>8055</th>\n",
       "      <td>​Christopher Lowell</td>\n",
       "      <td>2</td>\n",
       "      <td>[20.746, 20.746, 12.048, 12.048, 20.746, 8.606...</td>\n",
       "      <td>[2007-01-26, 2007-04-24, 2009-09-05, 2011-08-0...</td>\n",
       "      <td>[[{'id': 18, 'name': 'Drama'}, {'id': 10749, '...</td>\n",
       "      <td>[25000000, 25000000, 0, 0, 0, 0, 0, 0, 0, 5000...</td>\n",
       "      <td>[166842739, 216639112, 0, 0, 19684, 0, 1386896...</td>\n",
       "      <td>[7.4, 8.1, 4.6, 6.4, 5.7, 5.8, 7.5, 5.4, 5.0, ...</td>\n",
       "      <td>[15, 11, 2, 3, 4, 15, 6, 6, 12, 5, 3, 5, 5, 4]</td>\n",
       "      <td>16</td>\n",
       "      <td>14</td>\n",
       "    </tr>\n",
       "  </tbody>\n",
       "</table>\n",
       "<p>8056 rows × 11 columns</p>\n",
       "</div>"
      ],
      "text/plain": [
       "                     name  gender  \\\n",
       "0     \"Weird Al\" Yankovic       2   \n",
       "1                 50 Cent       2   \n",
       "2              A Martinez       2   \n",
       "3           A.C. Peterson       2   \n",
       "4            A.J. Buckley       2   \n",
       "...                   ...     ...   \n",
       "8051        Óscar Jaenada       2   \n",
       "8052          Özcan Deniz       2   \n",
       "8053       Úrsula Corberó       1   \n",
       "8054       Şükrü Özyıldız       2   \n",
       "8055  ​Christopher Lowell       2   \n",
       "\n",
       "                                             popularity  \\\n",
       "0     [13.081, 13.081, 5.609, 10.655, 13.081, 10.655...   \n",
       "1     [14.999, 11.633, 10.69, 14.999, 10.69, 14.999,...   \n",
       "2     [15.752, 11.636, 15.752, 11.636, 11.636, 11.63...   \n",
       "3     [18.63, 18.63, 18.63, 18.63, 18.63, 7.26, 18.6...   \n",
       "4     [14.75, 9.655, 14.75, 14.75, 9.655, 14.75, 14....   \n",
       "...                                                 ...   \n",
       "8051  [9.549, 9.549, 11.329, 9.549, 9.549, 11.329, 7...   \n",
       "8052  [12.175, 12.583, 12.175, 12.175, 12.175, 12.58...   \n",
       "8053  [53.548, 27.525, 28.748, 53.548, 27.525, 53.54...   \n",
       "8054  [28.837, 24.124, 28.837, 26.226, 28.837, 24.12...   \n",
       "8055  [20.746, 20.746, 12.048, 12.048, 20.746, 8.606...   \n",
       "\n",
       "                                           release_date  \\\n",
       "0     [1985-09-25, 1988-10-21, 1988-12-02, 1989-07-2...   \n",
       "1     [2003-04-15, 2003-04-22, 2003-08-03, 2004-08-3...   \n",
       "2     [1968-10-01, 1972-01-13, 1972-02-21, 1973-01-0...   \n",
       "3     [1984-12-26, 1985-07-28, 1986-11-29, 1987-09-2...   \n",
       "4     [1998-07-24, 1999-05-18, 1999-10-17, 2000-07-1...   \n",
       "...                                                 ...   \n",
       "8051  [2001-01-05, 2003-09-12, 2003-09-26, 2004-08-2...   \n",
       "8052  [2002-12-06, 2003-03-27, 2003-10-16, 2004-02-2...   \n",
       "8053  [2011-12-28, 2013-02-05, 2013-04-06, 2013-11-1...   \n",
       "8054  [2013-09-13, 2015-02-06, 2016-01-20, 2016-10-2...   \n",
       "8055  [2007-01-26, 2007-04-24, 2009-09-05, 2011-08-0...   \n",
       "\n",
       "                                                 genres  \\\n",
       "0     [[{'id': 35, 'name': 'Comedy'}, {'id': 28, 'na...   \n",
       "1     [[{'id': 18, 'name': 'Drama'}, {'id': 35, 'nam...   \n",
       "2     [[{'id': 35, 'name': 'Comedy'}], [{'id': 18, '...   \n",
       "3     [[{'id': 18, 'name': 'Drama'}, {'id': 10749, '...   \n",
       "4     [[{'id': 28, 'name': 'Action'}, {'id': 53, 'na...   \n",
       "...                                                 ...   \n",
       "8051  [[{'id': 18, 'name': 'Drama'}, {'id': 36, 'nam...   \n",
       "8052  [[{'id': 35, 'name': 'Comedy'}, {'id': 18, 'na...   \n",
       "8053  [[{'id': 27, 'name': 'Horror'}], [{'id': 35, '...   \n",
       "8054  [[{'id': 18, 'name': 'Drama'}, {'id': 35, 'nam...   \n",
       "8055  [[{'id': 18, 'name': 'Drama'}, {'id': 10749, '...   \n",
       "\n",
       "                                                 budget  \\\n",
       "0     [18000000, 3000000, 0, 0, 30000000, 0, 5000000...   \n",
       "1     [40000000, 0, 0, 11000000, 0, 0, 10000000, 100...   \n",
       "2     [20000000, 0, 500000, 0, 0, 0, 11800000, 0, 0,...   \n",
       "3     [11000000, 0, 3500000, 0, 6500000, 0, 61000000...   \n",
       "4     [1000000, 0, 1000000, 15000000, 0, 1000000, 15...   \n",
       "...                                                 ...   \n",
       "8051  [40000000, 379000000, 0, 20000000, 25000000, 0...   \n",
       "8052            [0, 0, 0, 0, 0, 0, 0, 0, 0, 0, 0, 0, 0]   \n",
       "8053  [4362560, 0, 0, 869115, 0, 88000000, 0, 0, 0, ...   \n",
       "8054                  [0, 0, 0, 1705235, 0, 0, 0, 0, 0]   \n",
       "8055  [25000000, 25000000, 0, 0, 0, 0, 0, 0, 0, 5000...   \n",
       "\n",
       "                                                revenue  \\\n",
       "0     [27000000, 343786, 0, 0, 51132598, 0, 6157157,...   \n",
       "1     [60040976, 0, 0, 0, 0, 2566717, 0, 0, 0, 79498...   \n",
       "2     [15400000, 0, 0, 0, 0, 0, 0, 0, 0, 0, 0, 0, 0,...   \n",
       "3     [4385312, 1733017, 44462, 4654288, 12633747, 0...   \n",
       "4     [0, 0, 0, 5217498, 0, 464000, 17514980, 0, 0, ...   \n",
       "...                                                 ...   \n",
       "8051  [8638163, 1045713802, 0, 16863583, 23580000, 0...   \n",
       "8052      [0, 0, 0, 0, 0, 0, 0, 0, 0, 0, 0, 0, 5000000]   \n",
       "8053  [0, 0, 0, 1018486, 0, 36964325, 0, 0, 850259, ...   \n",
       "8054                  [0, 0, 0, 3501037, 0, 0, 0, 0, 0]   \n",
       "8055  [166842739, 216639112, 0, 0, 19684, 0, 1386896...   \n",
       "\n",
       "                                    imdb_average_rating  \\\n",
       "0     [5.3, 5.7, 8.7, 8.3, 6.5, 7.3, 6.9, 7.6, 4.3, ...   \n",
       "1     [6.5, 5.4, 4.4, 4.6, 4.4, 5.6, 3.8, 4.4, 6.8, ...   \n",
       "2     [5.7, 6.2, 3.0, 6.8, 6.7, 2.1, 5.7, 7.2, 5.8, ...   \n",
       "3     [6.1, 5.9, 6.7, 5.3, 7.1, 5.4, 7.1, 6.0, 5.3, ...   \n",
       "4     [4.6, 6.5, 5.8, 4.6, 3.7, 6.6, 5.6, 5.2, 5.3, ...   \n",
       "...                                                 ...   \n",
       "8051  [6.8, 6.6, 6.2, 4.9, 6.2, 6.1, 4.2, 6.0, 5.2, ...   \n",
       "8052  [7.4, 4.9, 5.0, 3.6, 5.7, 6.2, 6.1, 5.2, 6.0, ...   \n",
       "8053  [3.7, 4.5, 4.6, 6.6, 5.8, 5.4, 5.7, 3.8, 5.6, ...   \n",
       "8054      [7.1, 6.0, 4.9, 7.0, 6.2, 6.8, 5.3, 4.7, 5.3]   \n",
       "8055  [7.4, 8.1, 4.6, 6.4, 5.7, 5.8, 7.5, 5.4, 5.0, ...   \n",
       "\n",
       "                                                  order  career_length  \\\n",
       "0     [13, 16, 0, 0, 35, 2, 0, 11, 6, 0, 13, 0, 8, 3...             38   \n",
       "1     [59, 1, 1, 0, 0, 2, 0, 0, 1, 4, 0, 1, 0, 0, 0,...             20   \n",
       "2     [6, 6, 2, 11, 4, 1, 5, 0, 1, 3, 3, 7, 15, 5, 1...             54   \n",
       "3     [55, 32, 8, 11, 12, 18, 10, 8, 4, 5, 13, 10, 2...             37   \n",
       "4     [1, 9, 4, 13, 5, 4, 11, 4, 9, 6, 1, 42, 7, 3, ...             20   \n",
       "...                                                 ...            ...   \n",
       "8051  [7, 12, 9, 11, 5, 6, 1, 0, 1, 0, 0, 0, 23, 0, ...             22   \n",
       "8052            [1, 0, 0, 0, 0, 1, 0, 0, 1, 2, 2, 5, 1]             15   \n",
       "8053               [1, 1, 0, 7, 4, 3, 1, 0, 3, 0, 1, 2]             10   \n",
       "8054                        [5, 0, 1, 9, 3, 5, 1, 1, 1]             10   \n",
       "8055     [15, 11, 2, 3, 4, 15, 6, 6, 12, 5, 3, 5, 5, 4]             16   \n",
       "\n",
       "      number_of_movies  \n",
       "0                   52  \n",
       "1                   47  \n",
       "2                   54  \n",
       "3                   65  \n",
       "4                   30  \n",
       "...                ...  \n",
       "8051                40  \n",
       "8052                13  \n",
       "8053                12  \n",
       "8054                 9  \n",
       "8055                14  \n",
       "\n",
       "[8056 rows x 11 columns]"
      ]
     },
     "metadata": {},
     "output_type": "display_data"
    }
   ],
   "source": [
    "# regroup the actors by name and concatenate all their other features so that we have arrays in each one of them\n",
    "import numpy as np\n",
    "# Group the actors by name and concatenate all their other features\n",
    "grouped_actors_df = full_actors_df.groupby('name').agg({\n",
    "    # get the first element of gender, since it is the same for all rows\n",
    "    'gender': lambda x: x.iloc[0],\n",
    "    'popularity': lambda x: list(x),\n",
    "    'release_date': lambda x: list(x),\n",
    "    'genres': lambda x: list(x),\n",
    "    'budget': lambda x: list(x),\n",
    "    'revenue': lambda x: list(x),\n",
    "    'imdb_average_rating': lambda x: list(x),\n",
    "    'order': lambda x: list(x)\n",
    "})\n",
    "\n",
    "\n",
    "grouped_actors_df['release_date'] = grouped_actors_df['release_date'].apply(\n",
    "    lambda x: sorted([date for date in x if pd.notna(date) and date != ''] if isinstance(x, list) else []))\n",
    "grouped_actors_df['career_length'] = grouped_actors_df['release_date'].apply(\n",
    "    lambda x: int(x[-1][:4]) - int(x[0][:4]) if len(x) >= 2 and x[-1][:4] and x[0][:4] else 0)\n",
    "\n",
    "#grouped_actors_df['career_length'] = grouped_actors_df['release_date'].apply(lambda x: int(x[-1][:4]) - int(x[0][:4]) if len(x) >= 2 and x[-1][:4] and x[0][:4] else 0)\n",
    "\n",
    "\n",
    "# Add column number of movie from dataframe number_of_movies_df using the name as the key\n",
    "grouped_actors_df = pd.merge(grouped_actors_df, number_of_movies_df, on='name', how='inner')\n",
    "display(grouped_actors_df)\n",
    "# divide the actors into 3 dataframes based on their career length\n",
    "# group 1: career length < 20\n",
    "# group 2: 20 <= career length < 40\n",
    "# group 3: career length >= 40\n",
    "\n",
    "# get the actors with career length < 20\n",
    "group1_df = grouped_actors_df[grouped_actors_df['career_length'] < 20]\n",
    "# get the actors with career length >= 20 and < 40\n",
    "group2_df = grouped_actors_df[(grouped_actors_df['career_length'] >= 20) & (grouped_actors_df['career_length'] < 40)]\n",
    "# get the actors with career length >= 40\n",
    "group3_df = grouped_actors_df[grouped_actors_df['career_length'] >= 40]\n"
   ]
  },
  {
   "cell_type": "code",
   "execution_count": 20,
   "metadata": {},
   "outputs": [],
   "source": [
    "import ast"
   ]
  },
  {
   "cell_type": "code",
   "execution_count": 60,
   "metadata": {},
   "outputs": [
    {
     "data": {
      "text/html": [
       "<div>\n",
       "<style scoped>\n",
       "    .dataframe tbody tr th:only-of-type {\n",
       "        vertical-align: middle;\n",
       "    }\n",
       "\n",
       "    .dataframe tbody tr th {\n",
       "        vertical-align: top;\n",
       "    }\n",
       "\n",
       "    .dataframe thead th {\n",
       "        text-align: right;\n",
       "    }\n",
       "</style>\n",
       "<table border=\"1\" class=\"dataframe\">\n",
       "  <thead>\n",
       "    <tr style=\"text-align: right;\">\n",
       "      <th></th>\n",
       "      <th>name</th>\n",
       "      <th>gender</th>\n",
       "      <th>popularity</th>\n",
       "      <th>release_date</th>\n",
       "      <th>genres</th>\n",
       "      <th>budget</th>\n",
       "      <th>revenue</th>\n",
       "      <th>imdb_average_rating</th>\n",
       "      <th>order</th>\n",
       "      <th>career_length</th>\n",
       "      <th>number_of_movies</th>\n",
       "    </tr>\n",
       "  </thead>\n",
       "  <tbody>\n",
       "    <tr>\n",
       "      <th>0</th>\n",
       "      <td>\"Weird Al\" Yankovic</td>\n",
       "      <td>2</td>\n",
       "      <td>[13.081, 13.081, 5.609, 10.655, 13.081, 10.655...</td>\n",
       "      <td>['1996-05-24', '1988-10-21', '2003-02-09', '19...</td>\n",
       "      <td>[[{'id': 35, 'name': 'Comedy'}, {'id': 28, 'na...</td>\n",
       "      <td>[18000000, 3000000, 0, 0, 30000000, 0, 5000000...</td>\n",
       "      <td>[27000000, 343786, 0, 0, 51132598, 0, 6157157,...</td>\n",
       "      <td>[5.3, 5.7, 8.7, 8.3, 6.5, 7.3, 6.9, 7.6, 4.3, ...</td>\n",
       "      <td>[13, 16, 0, 0, 35, 2, 0, 11, 6, 0, 13, 0, 8, 3...</td>\n",
       "      <td>38</td>\n",
       "      <td>52</td>\n",
       "    </tr>\n",
       "    <tr>\n",
       "      <th>1</th>\n",
       "      <td>50 Cent</td>\n",
       "      <td>2</td>\n",
       "      <td>[14.999, 11.633, 10.69, 14.999, 10.69, 14.999,...</td>\n",
       "      <td>['2010-11-10', '2011-03-05', '2009-07-13', '20...</td>\n",
       "      <td>[[{'id': 18, 'name': 'Drama'}, {'id': 35, 'nam...</td>\n",
       "      <td>[40000000, 0, 0, 11000000, 0, 0, 10000000, 100...</td>\n",
       "      <td>[60040976, 0, 0, 0, 0, 2566717, 0, 0, 0, 79498...</td>\n",
       "      <td>[6.5, 5.4, 4.4, 4.6, 4.4, 5.6, 3.8, 4.4, 6.8, ...</td>\n",
       "      <td>[59, 1, 1, 0, 0, 2, 0, 0, 1, 4, 0, 1, 0, 0, 0,...</td>\n",
       "      <td>20</td>\n",
       "      <td>47</td>\n",
       "    </tr>\n",
       "    <tr>\n",
       "      <th>2</th>\n",
       "      <td>A Martinez</td>\n",
       "      <td>2</td>\n",
       "      <td>[15.752, 11.636, 15.752, 11.636, 11.636, 11.63...</td>\n",
       "      <td>['1989-12-08', '1980-04-28', '2011-01-29', '20...</td>\n",
       "      <td>[[{'id': 35, 'name': 'Comedy'}], [{'id': 18, '...</td>\n",
       "      <td>[20000000, 0, 500000, 0, 0, 0, 11800000, 0, 0,...</td>\n",
       "      <td>[15400000, 0, 0, 0, 0, 0, 0, 0, 0, 0, 0, 0, 0,...</td>\n",
       "      <td>[5.7, 6.2, 3.0, 6.8, 6.7, 2.1, 5.7, 7.2, 5.8, ...</td>\n",
       "      <td>[6, 6, 2, 11, 4, 1, 5, 0, 1, 3, 3, 7, 15, 5, 1...</td>\n",
       "      <td>54</td>\n",
       "      <td>54</td>\n",
       "    </tr>\n",
       "    <tr>\n",
       "      <th>3</th>\n",
       "      <td>A.C. Peterson</td>\n",
       "      <td>2</td>\n",
       "      <td>[18.63, 18.63, 18.63, 18.63, 18.63, 7.26, 18.6...</td>\n",
       "      <td>['1984-12-26', '1987-09-25', '2009-09-12', '19...</td>\n",
       "      <td>[[{'id': 18, 'name': 'Drama'}, {'id': 10749, '...</td>\n",
       "      <td>[11000000, 0, 3500000, 0, 6500000, 0, 61000000...</td>\n",
       "      <td>[4385312, 1733017, 44462, 4654288, 12633747, 0...</td>\n",
       "      <td>[6.1, 5.9, 6.7, 5.3, 7.1, 5.4, 7.1, 6.0, 5.3, ...</td>\n",
       "      <td>[55, 32, 8, 11, 12, 18, 10, 8, 4, 5, 13, 10, 2...</td>\n",
       "      <td>37</td>\n",
       "      <td>65</td>\n",
       "    </tr>\n",
       "    <tr>\n",
       "      <th>4</th>\n",
       "      <td>A.J. Buckley</td>\n",
       "      <td>2</td>\n",
       "      <td>[14.75, 9.655, 14.75, 14.75, 9.655, 14.75, 14....</td>\n",
       "      <td>['2007-01-01', '2001-02-16', '2006-02-05', '20...</td>\n",
       "      <td>[[{'id': 28, 'name': 'Action'}, {'id': 53, 'na...</td>\n",
       "      <td>[1000000, 0, 1000000, 15000000, 0, 1000000, 15...</td>\n",
       "      <td>[0, 0, 0, 5217498, 0, 464000, 17514980, 0, 0, ...</td>\n",
       "      <td>[4.6, 6.5, 5.8, 4.6, 3.7, 6.6, 5.6, 5.2, 5.3, ...</td>\n",
       "      <td>[1, 9, 4, 13, 5, 4, 11, 4, 9, 6, 1, 42, 7, 3, ...</td>\n",
       "      <td>20</td>\n",
       "      <td>30</td>\n",
       "    </tr>\n",
       "    <tr>\n",
       "      <th>...</th>\n",
       "      <td>...</td>\n",
       "      <td>...</td>\n",
       "      <td>...</td>\n",
       "      <td>...</td>\n",
       "      <td>...</td>\n",
       "      <td>...</td>\n",
       "      <td>...</td>\n",
       "      <td>...</td>\n",
       "      <td>...</td>\n",
       "      <td>...</td>\n",
       "      <td>...</td>\n",
       "    </tr>\n",
       "    <tr>\n",
       "      <th>8051</th>\n",
       "      <td>Óscar Jaenada</td>\n",
       "      <td>2</td>\n",
       "      <td>[9.549, 9.549, 11.329, 9.549, 9.549, 11.329, 7...</td>\n",
       "      <td>['2008-12-12', '2011-05-15', '2009-05-01', '20...</td>\n",
       "      <td>[[{'id': 18, 'name': 'Drama'}, {'id': 36, 'nam...</td>\n",
       "      <td>[40000000, 379000000, 0, 20000000, 25000000, 0...</td>\n",
       "      <td>[8638163, 1045713802, 0, 16863583, 23580000, 0...</td>\n",
       "      <td>[6.8, 6.6, 6.2, 4.9, 6.2, 6.1, 4.2, 6.0, 5.2, ...</td>\n",
       "      <td>[7, 12, 9, 11, 5, 6, 1, 0, 1, 0, 0, 0, 23, 0, ...</td>\n",
       "      <td>22</td>\n",
       "      <td>40</td>\n",
       "    </tr>\n",
       "    <tr>\n",
       "      <th>8052</th>\n",
       "      <td>Özcan Deniz</td>\n",
       "      <td>2</td>\n",
       "      <td>[12.175, 12.583, 12.175, 12.175, 12.175, 12.58...</td>\n",
       "      <td>['2004-02-20', '2003-03-27', '2012-11-02', '20...</td>\n",
       "      <td>[[{'id': 35, 'name': 'Comedy'}, {'id': 18, 'na...</td>\n",
       "      <td>[0, 0, 0, 0, 0, 0, 0, 0, 0, 0, 0, 0, 0]</td>\n",
       "      <td>[0, 0, 0, 0, 0, 0, 0, 0, 0, 0, 0, 0, 5000000]</td>\n",
       "      <td>[7.4, 4.9, 5.0, 3.6, 5.7, 6.2, 6.1, 5.2, 6.0, ...</td>\n",
       "      <td>[1, 0, 0, 0, 0, 1, 0, 0, 1, 2, 2, 5, 1]</td>\n",
       "      <td>15</td>\n",
       "      <td>13</td>\n",
       "    </tr>\n",
       "    <tr>\n",
       "      <th>8053</th>\n",
       "      <td>Úrsula Corberó</td>\n",
       "      <td>1</td>\n",
       "      <td>[53.548, 27.525, 28.748, 53.548, 27.525, 53.54...</td>\n",
       "      <td>['2011-12-28', '2015-04-24', '2017-01-17', '20...</td>\n",
       "      <td>[[{'id': 27, 'name': 'Horror'}], [{'id': 35, '...</td>\n",
       "      <td>[4362560, 0, 0, 869115, 0, 88000000, 0, 0, 0, ...</td>\n",
       "      <td>[0, 0, 0, 1018486, 0, 36964325, 0, 0, 850259, ...</td>\n",
       "      <td>[3.7, 4.5, 4.6, 6.6, 5.8, 5.4, 5.7, 3.8, 5.6, ...</td>\n",
       "      <td>[1, 1, 0, 7, 4, 3, 1, 0, 3, 0, 1, 2]</td>\n",
       "      <td>10</td>\n",
       "      <td>12</td>\n",
       "    </tr>\n",
       "    <tr>\n",
       "      <th>8054</th>\n",
       "      <td>Şükrü Özyıldız</td>\n",
       "      <td>2</td>\n",
       "      <td>[28.837, 24.124, 28.837, 26.226, 28.837, 24.12...</td>\n",
       "      <td>['2016-10-28', '2015-02-06', '2023-07-14', '20...</td>\n",
       "      <td>[[{'id': 18, 'name': 'Drama'}, {'id': 35, 'nam...</td>\n",
       "      <td>[0, 0, 0, 1705235, 0, 0, 0, 0, 0]</td>\n",
       "      <td>[0, 0, 0, 3501037, 0, 0, 0, 0, 0]</td>\n",
       "      <td>[7.1, 6.0, 4.9, 7.0, 6.2, 6.8, 5.3, 4.7, 5.3]</td>\n",
       "      <td>[5, 0, 1, 9, 3, 5, 1, 1, 1]</td>\n",
       "      <td>10</td>\n",
       "      <td>9</td>\n",
       "    </tr>\n",
       "    <tr>\n",
       "      <th>8055</th>\n",
       "      <td>​Christopher Lowell</td>\n",
       "      <td>2</td>\n",
       "      <td>[20.746, 20.746, 12.048, 12.048, 20.746, 8.606...</td>\n",
       "      <td>['2009-09-05', '2011-08-09', '2023-09-14', '20...</td>\n",
       "      <td>[[{'id': 18, 'name': 'Drama'}, {'id': 10749, '...</td>\n",
       "      <td>[25000000, 25000000, 0, 0, 0, 0, 0, 0, 0, 5000...</td>\n",
       "      <td>[166842739, 216639112, 0, 0, 19684, 0, 1386896...</td>\n",
       "      <td>[7.4, 8.1, 4.6, 6.4, 5.7, 5.8, 7.5, 5.4, 5.0, ...</td>\n",
       "      <td>[15, 11, 2, 3, 4, 15, 6, 6, 12, 5, 3, 5, 5, 4]</td>\n",
       "      <td>16</td>\n",
       "      <td>14</td>\n",
       "    </tr>\n",
       "  </tbody>\n",
       "</table>\n",
       "<p>8056 rows × 11 columns</p>\n",
       "</div>"
      ],
      "text/plain": [
       "                     name  gender  \\\n",
       "0     \"Weird Al\" Yankovic       2   \n",
       "1                 50 Cent       2   \n",
       "2              A Martinez       2   \n",
       "3           A.C. Peterson       2   \n",
       "4            A.J. Buckley       2   \n",
       "...                   ...     ...   \n",
       "8051        Óscar Jaenada       2   \n",
       "8052          Özcan Deniz       2   \n",
       "8053       Úrsula Corberó       1   \n",
       "8054       Şükrü Özyıldız       2   \n",
       "8055  ​Christopher Lowell       2   \n",
       "\n",
       "                                             popularity  \\\n",
       "0     [13.081, 13.081, 5.609, 10.655, 13.081, 10.655...   \n",
       "1     [14.999, 11.633, 10.69, 14.999, 10.69, 14.999,...   \n",
       "2     [15.752, 11.636, 15.752, 11.636, 11.636, 11.63...   \n",
       "3     [18.63, 18.63, 18.63, 18.63, 18.63, 7.26, 18.6...   \n",
       "4     [14.75, 9.655, 14.75, 14.75, 9.655, 14.75, 14....   \n",
       "...                                                 ...   \n",
       "8051  [9.549, 9.549, 11.329, 9.549, 9.549, 11.329, 7...   \n",
       "8052  [12.175, 12.583, 12.175, 12.175, 12.175, 12.58...   \n",
       "8053  [53.548, 27.525, 28.748, 53.548, 27.525, 53.54...   \n",
       "8054  [28.837, 24.124, 28.837, 26.226, 28.837, 24.12...   \n",
       "8055  [20.746, 20.746, 12.048, 12.048, 20.746, 8.606...   \n",
       "\n",
       "                                           release_date  \\\n",
       "0     ['1996-05-24', '1988-10-21', '2003-02-09', '19...   \n",
       "1     ['2010-11-10', '2011-03-05', '2009-07-13', '20...   \n",
       "2     ['1989-12-08', '1980-04-28', '2011-01-29', '20...   \n",
       "3     ['1984-12-26', '1987-09-25', '2009-09-12', '19...   \n",
       "4     ['2007-01-01', '2001-02-16', '2006-02-05', '20...   \n",
       "...                                                 ...   \n",
       "8051  ['2008-12-12', '2011-05-15', '2009-05-01', '20...   \n",
       "8052  ['2004-02-20', '2003-03-27', '2012-11-02', '20...   \n",
       "8053  ['2011-12-28', '2015-04-24', '2017-01-17', '20...   \n",
       "8054  ['2016-10-28', '2015-02-06', '2023-07-14', '20...   \n",
       "8055  ['2009-09-05', '2011-08-09', '2023-09-14', '20...   \n",
       "\n",
       "                                                 genres  \\\n",
       "0     [[{'id': 35, 'name': 'Comedy'}, {'id': 28, 'na...   \n",
       "1     [[{'id': 18, 'name': 'Drama'}, {'id': 35, 'nam...   \n",
       "2     [[{'id': 35, 'name': 'Comedy'}], [{'id': 18, '...   \n",
       "3     [[{'id': 18, 'name': 'Drama'}, {'id': 10749, '...   \n",
       "4     [[{'id': 28, 'name': 'Action'}, {'id': 53, 'na...   \n",
       "...                                                 ...   \n",
       "8051  [[{'id': 18, 'name': 'Drama'}, {'id': 36, 'nam...   \n",
       "8052  [[{'id': 35, 'name': 'Comedy'}, {'id': 18, 'na...   \n",
       "8053  [[{'id': 27, 'name': 'Horror'}], [{'id': 35, '...   \n",
       "8054  [[{'id': 18, 'name': 'Drama'}, {'id': 35, 'nam...   \n",
       "8055  [[{'id': 18, 'name': 'Drama'}, {'id': 10749, '...   \n",
       "\n",
       "                                                 budget  \\\n",
       "0     [18000000, 3000000, 0, 0, 30000000, 0, 5000000...   \n",
       "1     [40000000, 0, 0, 11000000, 0, 0, 10000000, 100...   \n",
       "2     [20000000, 0, 500000, 0, 0, 0, 11800000, 0, 0,...   \n",
       "3     [11000000, 0, 3500000, 0, 6500000, 0, 61000000...   \n",
       "4     [1000000, 0, 1000000, 15000000, 0, 1000000, 15...   \n",
       "...                                                 ...   \n",
       "8051  [40000000, 379000000, 0, 20000000, 25000000, 0...   \n",
       "8052            [0, 0, 0, 0, 0, 0, 0, 0, 0, 0, 0, 0, 0]   \n",
       "8053  [4362560, 0, 0, 869115, 0, 88000000, 0, 0, 0, ...   \n",
       "8054                  [0, 0, 0, 1705235, 0, 0, 0, 0, 0]   \n",
       "8055  [25000000, 25000000, 0, 0, 0, 0, 0, 0, 0, 5000...   \n",
       "\n",
       "                                                revenue  \\\n",
       "0     [27000000, 343786, 0, 0, 51132598, 0, 6157157,...   \n",
       "1     [60040976, 0, 0, 0, 0, 2566717, 0, 0, 0, 79498...   \n",
       "2     [15400000, 0, 0, 0, 0, 0, 0, 0, 0, 0, 0, 0, 0,...   \n",
       "3     [4385312, 1733017, 44462, 4654288, 12633747, 0...   \n",
       "4     [0, 0, 0, 5217498, 0, 464000, 17514980, 0, 0, ...   \n",
       "...                                                 ...   \n",
       "8051  [8638163, 1045713802, 0, 16863583, 23580000, 0...   \n",
       "8052      [0, 0, 0, 0, 0, 0, 0, 0, 0, 0, 0, 0, 5000000]   \n",
       "8053  [0, 0, 0, 1018486, 0, 36964325, 0, 0, 850259, ...   \n",
       "8054                  [0, 0, 0, 3501037, 0, 0, 0, 0, 0]   \n",
       "8055  [166842739, 216639112, 0, 0, 19684, 0, 1386896...   \n",
       "\n",
       "                                    imdb_average_rating  \\\n",
       "0     [5.3, 5.7, 8.7, 8.3, 6.5, 7.3, 6.9, 7.6, 4.3, ...   \n",
       "1     [6.5, 5.4, 4.4, 4.6, 4.4, 5.6, 3.8, 4.4, 6.8, ...   \n",
       "2     [5.7, 6.2, 3.0, 6.8, 6.7, 2.1, 5.7, 7.2, 5.8, ...   \n",
       "3     [6.1, 5.9, 6.7, 5.3, 7.1, 5.4, 7.1, 6.0, 5.3, ...   \n",
       "4     [4.6, 6.5, 5.8, 4.6, 3.7, 6.6, 5.6, 5.2, 5.3, ...   \n",
       "...                                                 ...   \n",
       "8051  [6.8, 6.6, 6.2, 4.9, 6.2, 6.1, 4.2, 6.0, 5.2, ...   \n",
       "8052  [7.4, 4.9, 5.0, 3.6, 5.7, 6.2, 6.1, 5.2, 6.0, ...   \n",
       "8053  [3.7, 4.5, 4.6, 6.6, 5.8, 5.4, 5.7, 3.8, 5.6, ...   \n",
       "8054      [7.1, 6.0, 4.9, 7.0, 6.2, 6.8, 5.3, 4.7, 5.3]   \n",
       "8055  [7.4, 8.1, 4.6, 6.4, 5.7, 5.8, 7.5, 5.4, 5.0, ...   \n",
       "\n",
       "                                                  order  career_length  \\\n",
       "0     [13, 16, 0, 0, 35, 2, 0, 11, 6, 0, 13, 0, 8, 3...             38   \n",
       "1     [59, 1, 1, 0, 0, 2, 0, 0, 1, 4, 0, 1, 0, 0, 0,...             20   \n",
       "2     [6, 6, 2, 11, 4, 1, 5, 0, 1, 3, 3, 7, 15, 5, 1...             54   \n",
       "3     [55, 32, 8, 11, 12, 18, 10, 8, 4, 5, 13, 10, 2...             37   \n",
       "4     [1, 9, 4, 13, 5, 4, 11, 4, 9, 6, 1, 42, 7, 3, ...             20   \n",
       "...                                                 ...            ...   \n",
       "8051  [7, 12, 9, 11, 5, 6, 1, 0, 1, 0, 0, 0, 23, 0, ...             22   \n",
       "8052            [1, 0, 0, 0, 0, 1, 0, 0, 1, 2, 2, 5, 1]             15   \n",
       "8053               [1, 1, 0, 7, 4, 3, 1, 0, 3, 0, 1, 2]             10   \n",
       "8054                        [5, 0, 1, 9, 3, 5, 1, 1, 1]             10   \n",
       "8055     [15, 11, 2, 3, 4, 15, 6, 6, 12, 5, 3, 5, 5, 4]             16   \n",
       "\n",
       "      number_of_movies  \n",
       "0                   52  \n",
       "1                   47  \n",
       "2                   54  \n",
       "3                   65  \n",
       "4                   30  \n",
       "...                ...  \n",
       "8051                40  \n",
       "8052                13  \n",
       "8053                12  \n",
       "8054                 9  \n",
       "8055                14  \n",
       "\n",
       "[8056 rows x 11 columns]"
      ]
     },
     "metadata": {},
     "output_type": "display_data"
    }
   ],
   "source": [
    "# Add column number of movie from dataframe number_of_movies_df using the name as the key\n",
    "# grouped_actors_df = pd.merge(grouped_actors_df, number_of_movies_df, on='name', how='inner')\n",
    "grouped_actors_df = pd.read_csv(\"../Data/preprocessed_data/grouped_actors_db.csv\")\n",
    "grouped_actors_df[\"budget\"] = grouped_actors_df[\"budget\"].apply(lambda x: ast.literal_eval(x))\n",
    "grouped_actors_df[\"imdb_average_rating\"] = grouped_actors_df[\"imdb_average_rating\"].apply(lambda x: ast.literal_eval(x))\n",
    "grouped_actors_df[\"revenue\"] = grouped_actors_df[\"revenue\"].apply(lambda x: ast.literal_eval(x))\n",
    "grouped_actors_df[\"popularity\"] = grouped_actors_df[\"popularity\"].apply(lambda x: ast.literal_eval(x))\n",
    "grouped_actors_df[\"order\"] = grouped_actors_df[\"order\"].apply(lambda x: ast.literal_eval(x))\n",
    "grouped_actors_df[\"genres\"] = grouped_actors_df[\"genres\"].apply(lambda x: ast.literal_eval(x))\n",
    "display(grouped_actors_df)\n",
    "# divide the actors into 3 dataframes based on their career length\n",
    "# group 1: career length < 20\n",
    "# group 2: 20 <= career length < 40\n",
    "# group 3: career length >= 40\n",
    "\n",
    "# get the actors with career length < 20\n",
    "group1_df = grouped_actors_df[grouped_actors_df['career_length'] < 20]\n",
    "# get the actors with career length >= 20 and < 40\n",
    "group2_df = grouped_actors_df[(grouped_actors_df['career_length'] >= 20) & (grouped_actors_df['career_length'] < 40)]\n",
    "# get the actors with career length >= 40\n",
    "group3_df = grouped_actors_df[grouped_actors_df['career_length'] >= 40]"
   ]
  },
  {
   "cell_type": "code",
   "execution_count": 61,
   "metadata": {},
   "outputs": [
    {
     "data": {
      "text/html": [
       "<div>\n",
       "<style scoped>\n",
       "    .dataframe tbody tr th:only-of-type {\n",
       "        vertical-align: middle;\n",
       "    }\n",
       "\n",
       "    .dataframe tbody tr th {\n",
       "        vertical-align: top;\n",
       "    }\n",
       "\n",
       "    .dataframe thead th {\n",
       "        text-align: right;\n",
       "    }\n",
       "</style>\n",
       "<table border=\"1\" class=\"dataframe\">\n",
       "  <thead>\n",
       "    <tr style=\"text-align: right;\">\n",
       "      <th></th>\n",
       "      <th>name</th>\n",
       "      <th>gender</th>\n",
       "      <th>popularity</th>\n",
       "      <th>release_date</th>\n",
       "      <th>genres</th>\n",
       "      <th>budget</th>\n",
       "      <th>revenue</th>\n",
       "      <th>imdb_average_rating</th>\n",
       "      <th>order</th>\n",
       "      <th>career_length</th>\n",
       "      <th>number_of_movies</th>\n",
       "    </tr>\n",
       "  </thead>\n",
       "  <tbody>\n",
       "    <tr>\n",
       "      <th>7</th>\n",
       "      <td>Aaron Abrams</td>\n",
       "      <td>2</td>\n",
       "      <td>[9.527, 9.39, 9.39, 9.39, 6.805, 9.39, 9.527, ...</td>\n",
       "      <td>['2008-09-07', '2011-11-25', '2004-09-10', '20...</td>\n",
       "      <td>[[{'id': 18, 'name': 'Drama'}], [{'id': 18, 'n...</td>\n",
       "      <td>[0, 0, 45000000, 40000000, 0, 40000000, 0, 0, ...</td>\n",
       "      <td>[0, 4965950, 129394835, 19643086, 0, 26800000,...</td>\n",
       "      <td>[7.0, 6.5, 6.1, 5.8, 5.8, 5.7, 5.5, 6.1, 6.2, ...</td>\n",
       "      <td>[47, 4, 19, 2, 3, 15, 10, 1, 0, 4, 22, 2, 3, 1...</td>\n",
       "      <td>17</td>\n",
       "      <td>32</td>\n",
       "    </tr>\n",
       "    <tr>\n",
       "      <th>10</th>\n",
       "      <td>Aaron Dean Eisenberg</td>\n",
       "      <td>2</td>\n",
       "      <td>[15.968, 14.39]</td>\n",
       "      <td>['2011-08-01', '2019-04-29']</td>\n",
       "      <td>[[{'id': 27, 'name': 'Horror'}, {'id': 878, 'n...</td>\n",
       "      <td>[0, 0]</td>\n",
       "      <td>[0, 0]</td>\n",
       "      <td>[4.9, 5.4]</td>\n",
       "      <td>[0, 5]</td>\n",
       "      <td>8</td>\n",
       "      <td>2</td>\n",
       "    </tr>\n",
       "    <tr>\n",
       "      <th>11</th>\n",
       "      <td>Aaron Dessner</td>\n",
       "      <td>2</td>\n",
       "      <td>[25.402, 3.056, 1.902, 3.056]</td>\n",
       "      <td>['2013-09-19', '2022-03-13', '2008-05-26', '20...</td>\n",
       "      <td>[[{'id': 99, 'name': 'Documentary'}, {'id': 10...</td>\n",
       "      <td>[0, 0, 0, 0]</td>\n",
       "      <td>[137460, 0, 0, 0]</td>\n",
       "      <td>[7.3, 9.3, 7.1, 8.4]</td>\n",
       "      <td>[2, 0, 1, 2]</td>\n",
       "      <td>14</td>\n",
       "      <td>4</td>\n",
       "    </tr>\n",
       "    <tr>\n",
       "      <th>14</th>\n",
       "      <td>Aaron Hill</td>\n",
       "      <td>2</td>\n",
       "      <td>[24.45, 24.45, 24.45, 24.45, 24.45, 9.679, 11....</td>\n",
       "      <td>['2011-09-09', '2009-06-19', '2011-12-02', '20...</td>\n",
       "      <td>[[{'id': 27, 'name': 'Horror'}], [{'id': 878, ...</td>\n",
       "      <td>[3000000, 200000000, 2500000, 1000000, 2500000...</td>\n",
       "      <td>[533235, 836303693, 0, 0, 52395996, 0, 0, 0, 0...</td>\n",
       "      <td>[3.6, 6.0, 5.2, 4.0, 6.4, 5.6, 3.7, 5.2, 5.7, ...</td>\n",
       "      <td>[4, 22, 7, 14, 12, 2, 12, 17, 3, 1, 4]</td>\n",
       "      <td>8</td>\n",
       "      <td>11</td>\n",
       "    </tr>\n",
       "    <tr>\n",
       "      <th>15</th>\n",
       "      <td>Aaron Himelstein</td>\n",
       "      <td>2</td>\n",
       "      <td>[3.828, 31.229, 31.229, 31.229, 3.548, 4.199, ...</td>\n",
       "      <td>['2006-04-25', '2006-11-17', '2002-07-26', '20...</td>\n",
       "      <td>[[{'id': 35, 'name': 'Comedy'}], [{'id': 18, '...</td>\n",
       "      <td>[0, 0, 63000000, 30000000, 0, 0, 0, 750000, 18...</td>\n",
       "      <td>[0, 2209322, 296938801, 47126295, 0, 0, 0, 0, ...</td>\n",
       "      <td>[4.5, 6.3, 6.2, 7.4, 4.7, 6.4, 4.9, 5.5, 4.9, ...</td>\n",
       "      <td>[5, 38, 13, 28, 12, 1, 0, 5, 14, 64, 7, 15, 12...</td>\n",
       "      <td>16</td>\n",
       "      <td>16</td>\n",
       "    </tr>\n",
       "  </tbody>\n",
       "</table>\n",
       "</div>"
      ],
      "text/plain": [
       "                    name  gender  \\\n",
       "7           Aaron Abrams       2   \n",
       "10  Aaron Dean Eisenberg       2   \n",
       "11         Aaron Dessner       2   \n",
       "14            Aaron Hill       2   \n",
       "15      Aaron Himelstein       2   \n",
       "\n",
       "                                           popularity  \\\n",
       "7   [9.527, 9.39, 9.39, 9.39, 6.805, 9.39, 9.527, ...   \n",
       "10                                    [15.968, 14.39]   \n",
       "11                      [25.402, 3.056, 1.902, 3.056]   \n",
       "14  [24.45, 24.45, 24.45, 24.45, 24.45, 9.679, 11....   \n",
       "15  [3.828, 31.229, 31.229, 31.229, 3.548, 4.199, ...   \n",
       "\n",
       "                                         release_date  \\\n",
       "7   ['2008-09-07', '2011-11-25', '2004-09-10', '20...   \n",
       "10                       ['2011-08-01', '2019-04-29']   \n",
       "11  ['2013-09-19', '2022-03-13', '2008-05-26', '20...   \n",
       "14  ['2011-09-09', '2009-06-19', '2011-12-02', '20...   \n",
       "15  ['2006-04-25', '2006-11-17', '2002-07-26', '20...   \n",
       "\n",
       "                                               genres  \\\n",
       "7   [[{'id': 18, 'name': 'Drama'}], [{'id': 18, 'n...   \n",
       "10  [[{'id': 27, 'name': 'Horror'}, {'id': 878, 'n...   \n",
       "11  [[{'id': 99, 'name': 'Documentary'}, {'id': 10...   \n",
       "14  [[{'id': 27, 'name': 'Horror'}], [{'id': 878, ...   \n",
       "15  [[{'id': 35, 'name': 'Comedy'}], [{'id': 18, '...   \n",
       "\n",
       "                                               budget  \\\n",
       "7   [0, 0, 45000000, 40000000, 0, 40000000, 0, 0, ...   \n",
       "10                                             [0, 0]   \n",
       "11                                       [0, 0, 0, 0]   \n",
       "14  [3000000, 200000000, 2500000, 1000000, 2500000...   \n",
       "15  [0, 0, 63000000, 30000000, 0, 0, 0, 750000, 18...   \n",
       "\n",
       "                                              revenue  \\\n",
       "7   [0, 4965950, 129394835, 19643086, 0, 26800000,...   \n",
       "10                                             [0, 0]   \n",
       "11                                  [137460, 0, 0, 0]   \n",
       "14  [533235, 836303693, 0, 0, 52395996, 0, 0, 0, 0...   \n",
       "15  [0, 2209322, 296938801, 47126295, 0, 0, 0, 0, ...   \n",
       "\n",
       "                                  imdb_average_rating  \\\n",
       "7   [7.0, 6.5, 6.1, 5.8, 5.8, 5.7, 5.5, 6.1, 6.2, ...   \n",
       "10                                         [4.9, 5.4]   \n",
       "11                               [7.3, 9.3, 7.1, 8.4]   \n",
       "14  [3.6, 6.0, 5.2, 4.0, 6.4, 5.6, 3.7, 5.2, 5.7, ...   \n",
       "15  [4.5, 6.3, 6.2, 7.4, 4.7, 6.4, 4.9, 5.5, 4.9, ...   \n",
       "\n",
       "                                                order  career_length  \\\n",
       "7   [47, 4, 19, 2, 3, 15, 10, 1, 0, 4, 22, 2, 3, 1...             17   \n",
       "10                                             [0, 5]              8   \n",
       "11                                       [2, 0, 1, 2]             14   \n",
       "14             [4, 22, 7, 14, 12, 2, 12, 17, 3, 1, 4]              8   \n",
       "15  [5, 38, 13, 28, 12, 1, 0, 5, 14, 64, 7, 15, 12...             16   \n",
       "\n",
       "    number_of_movies  \n",
       "7                 32  \n",
       "10                 2  \n",
       "11                 4  \n",
       "14                11  \n",
       "15                16  "
      ]
     },
     "execution_count": 61,
     "metadata": {},
     "output_type": "execute_result"
    }
   ],
   "source": [
    "group1_df.head()"
   ]
  },
  {
   "cell_type": "code",
   "execution_count": 73,
   "metadata": {},
   "outputs": [],
   "source": [
    "# code for group 1\n",
    "group1_divided_df = group1_df.copy()\n",
    "\n",
    "# calculate the mean in average and revenue and replace the Nan and 0 values with the mean\n",
    "group1_divided_df['avg_revenue_0'] = group1_divided_df['revenue'].apply(lambda x: np.mean(x) if isinstance(x, list) else x)\n",
    "group1_divided_df['avg_budget_0'] = group1_divided_df['budget'].apply(lambda x: np.mean(x) if isinstance(x, list) else x)\n",
    "group1_divided_df['std_budget_0'] = group1_divided_df['budget'].apply(lambda x: np.std(x) if isinstance(x, list) else x)\n",
    "group1_divided_df['avg_imdb_rating_0'] = group1_divided_df['imdb_average_rating'].apply(lambda x: np.mean(x) if isinstance(x, list) else x)\n",
    "group1_divided_df['avg_order_0'] = group1_divided_df['order'].apply(lambda x: np.mean(x) if isinstance(x, list) else x)\n",
    "group1_divided_df['std_order_0'] = group1_divided_df['order'].apply(lambda x: np.std(x) if isinstance(x, list) else x)\n",
    "group1_divided_df['avg_popularity_0'] = group1_divided_df['popularity'].apply(lambda x: np.mean(x) if isinstance(x, list) else x)\n"
   ]
  },
  {
   "cell_type": "code",
   "execution_count": 74,
   "metadata": {},
   "outputs": [
    {
     "data": {
      "text/html": [
       "<div>\n",
       "<style scoped>\n",
       "    .dataframe tbody tr th:only-of-type {\n",
       "        vertical-align: middle;\n",
       "    }\n",
       "\n",
       "    .dataframe tbody tr th {\n",
       "        vertical-align: top;\n",
       "    }\n",
       "\n",
       "    .dataframe thead th {\n",
       "        text-align: right;\n",
       "    }\n",
       "</style>\n",
       "<table border=\"1\" class=\"dataframe\">\n",
       "  <thead>\n",
       "    <tr style=\"text-align: right;\">\n",
       "      <th></th>\n",
       "      <th>name</th>\n",
       "      <th>gender</th>\n",
       "      <th>genres</th>\n",
       "      <th>career_length</th>\n",
       "      <th>number_of_movies</th>\n",
       "      <th>avg_revenue_0</th>\n",
       "      <th>avg_budget_0</th>\n",
       "      <th>std_budget_0</th>\n",
       "      <th>avg_imdb_rating_0</th>\n",
       "      <th>avg_order_0</th>\n",
       "      <th>std_order_0</th>\n",
       "      <th>avg_popularity_0</th>\n",
       "      <th>n_genres</th>\n",
       "      <th>main_genre</th>\n",
       "    </tr>\n",
       "  </thead>\n",
       "  <tbody>\n",
       "    <tr>\n",
       "      <th>7</th>\n",
       "      <td>Aaron Abrams</td>\n",
       "      <td>2</td>\n",
       "      <td>[[{'id': 18, 'name': 'Drama'}], [{'id': 18, 'n...</td>\n",
       "      <td>17</td>\n",
       "      <td>32</td>\n",
       "      <td>9.727650e+06</td>\n",
       "      <td>7.656250e+06</td>\n",
       "      <td>1.903592e+07</td>\n",
       "      <td>6.059375</td>\n",
       "      <td>9.031250</td>\n",
       "      <td>14.092295</td>\n",
       "      <td>9.070594</td>\n",
       "      <td>14</td>\n",
       "      <td>[Drama]</td>\n",
       "    </tr>\n",
       "    <tr>\n",
       "      <th>10</th>\n",
       "      <td>Aaron Dean Eisenberg</td>\n",
       "      <td>2</td>\n",
       "      <td>[[{'id': 27, 'name': 'Horror'}, {'id': 878, 'n...</td>\n",
       "      <td>8</td>\n",
       "      <td>2</td>\n",
       "      <td>0.000000e+00</td>\n",
       "      <td>0.000000e+00</td>\n",
       "      <td>0.000000e+00</td>\n",
       "      <td>5.150000</td>\n",
       "      <td>2.500000</td>\n",
       "      <td>2.500000</td>\n",
       "      <td>15.179000</td>\n",
       "      <td>4</td>\n",
       "      <td>[Thriller, Crime]</td>\n",
       "    </tr>\n",
       "    <tr>\n",
       "      <th>11</th>\n",
       "      <td>Aaron Dessner</td>\n",
       "      <td>2</td>\n",
       "      <td>[[{'id': 99, 'name': 'Documentary'}, {'id': 10...</td>\n",
       "      <td>14</td>\n",
       "      <td>4</td>\n",
       "      <td>3.436500e+04</td>\n",
       "      <td>0.000000e+00</td>\n",
       "      <td>0.000000e+00</td>\n",
       "      <td>8.025000</td>\n",
       "      <td>1.250000</td>\n",
       "      <td>0.829156</td>\n",
       "      <td>8.354000</td>\n",
       "      <td>3</td>\n",
       "      <td>[Music]</td>\n",
       "    </tr>\n",
       "    <tr>\n",
       "      <th>14</th>\n",
       "      <td>Aaron Hill</td>\n",
       "      <td>2</td>\n",
       "      <td>[[{'id': 27, 'name': 'Horror'}], [{'id': 878, ...</td>\n",
       "      <td>8</td>\n",
       "      <td>11</td>\n",
       "      <td>8.083936e+07</td>\n",
       "      <td>2.177273e+07</td>\n",
       "      <td>5.680163e+07</td>\n",
       "      <td>5.072727</td>\n",
       "      <td>8.909091</td>\n",
       "      <td>6.598272</td>\n",
       "      <td>18.326818</td>\n",
       "      <td>10</td>\n",
       "      <td>[Comedy]</td>\n",
       "    </tr>\n",
       "    <tr>\n",
       "      <th>15</th>\n",
       "      <td>Aaron Himelstein</td>\n",
       "      <td>2</td>\n",
       "      <td>[[{'id': 35, 'name': 'Comedy'}], [{'id': 18, '...</td>\n",
       "      <td>16</td>\n",
       "      <td>16</td>\n",
       "      <td>1.541810e+08</td>\n",
       "      <td>4.114062e+07</td>\n",
       "      <td>9.366496e+07</td>\n",
       "      <td>5.918750</td>\n",
       "      <td>15.687500</td>\n",
       "      <td>15.994994</td>\n",
       "      <td>17.487375</td>\n",
       "      <td>13</td>\n",
       "      <td>[Comedy]</td>\n",
       "    </tr>\n",
       "    <tr>\n",
       "      <th>...</th>\n",
       "      <td>...</td>\n",
       "      <td>...</td>\n",
       "      <td>...</td>\n",
       "      <td>...</td>\n",
       "      <td>...</td>\n",
       "      <td>...</td>\n",
       "      <td>...</td>\n",
       "      <td>...</td>\n",
       "      <td>...</td>\n",
       "      <td>...</td>\n",
       "      <td>...</td>\n",
       "      <td>...</td>\n",
       "      <td>...</td>\n",
       "      <td>...</td>\n",
       "    </tr>\n",
       "    <tr>\n",
       "      <th>8050</th>\n",
       "      <td>Élodie Yung</td>\n",
       "      <td>1</td>\n",
       "      <td>[[{'id': 53, 'name': 'Thriller'}, {'id': 80, '...</td>\n",
       "      <td>16</td>\n",
       "      <td>13</td>\n",
       "      <td>7.234982e+07</td>\n",
       "      <td>3.133075e+07</td>\n",
       "      <td>5.035786e+07</td>\n",
       "      <td>5.853846</td>\n",
       "      <td>8.615385</td>\n",
       "      <td>14.969397</td>\n",
       "      <td>22.092615</td>\n",
       "      <td>9</td>\n",
       "      <td>[Action]</td>\n",
       "    </tr>\n",
       "    <tr>\n",
       "      <th>8052</th>\n",
       "      <td>Özcan Deniz</td>\n",
       "      <td>2</td>\n",
       "      <td>[[{'id': 35, 'name': 'Comedy'}, {'id': 18, 'na...</td>\n",
       "      <td>15</td>\n",
       "      <td>13</td>\n",
       "      <td>3.846154e+05</td>\n",
       "      <td>0.000000e+00</td>\n",
       "      <td>0.000000e+00</td>\n",
       "      <td>5.153846</td>\n",
       "      <td>1.000000</td>\n",
       "      <td>1.358732</td>\n",
       "      <td>12.655308</td>\n",
       "      <td>7</td>\n",
       "      <td>[Drama]</td>\n",
       "    </tr>\n",
       "    <tr>\n",
       "      <th>8053</th>\n",
       "      <td>Úrsula Corberó</td>\n",
       "      <td>1</td>\n",
       "      <td>[[{'id': 27, 'name': 'Horror'}], [{'id': 35, '...</td>\n",
       "      <td>10</td>\n",
       "      <td>12</td>\n",
       "      <td>3.236089e+06</td>\n",
       "      <td>7.769306e+06</td>\n",
       "      <td>2.422024e+07</td>\n",
       "      <td>5.425000</td>\n",
       "      <td>1.916667</td>\n",
       "      <td>1.977302</td>\n",
       "      <td>36.653333</td>\n",
       "      <td>11</td>\n",
       "      <td>[Comedy]</td>\n",
       "    </tr>\n",
       "    <tr>\n",
       "      <th>8054</th>\n",
       "      <td>Şükrü Özyıldız</td>\n",
       "      <td>2</td>\n",
       "      <td>[[{'id': 18, 'name': 'Drama'}, {'id': 35, 'nam...</td>\n",
       "      <td>10</td>\n",
       "      <td>9</td>\n",
       "      <td>3.890041e+05</td>\n",
       "      <td>1.894706e+05</td>\n",
       "      <td>5.359037e+05</td>\n",
       "      <td>5.922222</td>\n",
       "      <td>2.888889</td>\n",
       "      <td>2.766644</td>\n",
       "      <td>27.499556</td>\n",
       "      <td>8</td>\n",
       "      <td>[Comedy]</td>\n",
       "    </tr>\n",
       "    <tr>\n",
       "      <th>8055</th>\n",
       "      <td>​Christopher Lowell</td>\n",
       "      <td>2</td>\n",
       "      <td>[[{'id': 18, 'name': 'Drama'}, {'id': 10749, '...</td>\n",
       "      <td>16</td>\n",
       "      <td>14</td>\n",
       "      <td>2.864591e+07</td>\n",
       "      <td>4.357143e+06</td>\n",
       "      <td>8.640496e+06</td>\n",
       "      <td>6.085714</td>\n",
       "      <td>6.857143</td>\n",
       "      <td>4.290474</td>\n",
       "      <td>15.905286</td>\n",
       "      <td>9</td>\n",
       "      <td>[Drama]</td>\n",
       "    </tr>\n",
       "  </tbody>\n",
       "</table>\n",
       "<p>2677 rows × 14 columns</p>\n",
       "</div>"
      ],
      "text/plain": [
       "                      name  gender  \\\n",
       "7             Aaron Abrams       2   \n",
       "10    Aaron Dean Eisenberg       2   \n",
       "11           Aaron Dessner       2   \n",
       "14              Aaron Hill       2   \n",
       "15        Aaron Himelstein       2   \n",
       "...                    ...     ...   \n",
       "8050           Élodie Yung       1   \n",
       "8052           Özcan Deniz       2   \n",
       "8053        Úrsula Corberó       1   \n",
       "8054        Şükrü Özyıldız       2   \n",
       "8055   ​Christopher Lowell       2   \n",
       "\n",
       "                                                 genres  career_length  \\\n",
       "7     [[{'id': 18, 'name': 'Drama'}], [{'id': 18, 'n...             17   \n",
       "10    [[{'id': 27, 'name': 'Horror'}, {'id': 878, 'n...              8   \n",
       "11    [[{'id': 99, 'name': 'Documentary'}, {'id': 10...             14   \n",
       "14    [[{'id': 27, 'name': 'Horror'}], [{'id': 878, ...              8   \n",
       "15    [[{'id': 35, 'name': 'Comedy'}], [{'id': 18, '...             16   \n",
       "...                                                 ...            ...   \n",
       "8050  [[{'id': 53, 'name': 'Thriller'}, {'id': 80, '...             16   \n",
       "8052  [[{'id': 35, 'name': 'Comedy'}, {'id': 18, 'na...             15   \n",
       "8053  [[{'id': 27, 'name': 'Horror'}], [{'id': 35, '...             10   \n",
       "8054  [[{'id': 18, 'name': 'Drama'}, {'id': 35, 'nam...             10   \n",
       "8055  [[{'id': 18, 'name': 'Drama'}, {'id': 10749, '...             16   \n",
       "\n",
       "      number_of_movies  avg_revenue_0  avg_budget_0  std_budget_0  \\\n",
       "7                   32   9.727650e+06  7.656250e+06  1.903592e+07   \n",
       "10                   2   0.000000e+00  0.000000e+00  0.000000e+00   \n",
       "11                   4   3.436500e+04  0.000000e+00  0.000000e+00   \n",
       "14                  11   8.083936e+07  2.177273e+07  5.680163e+07   \n",
       "15                  16   1.541810e+08  4.114062e+07  9.366496e+07   \n",
       "...                ...            ...           ...           ...   \n",
       "8050                13   7.234982e+07  3.133075e+07  5.035786e+07   \n",
       "8052                13   3.846154e+05  0.000000e+00  0.000000e+00   \n",
       "8053                12   3.236089e+06  7.769306e+06  2.422024e+07   \n",
       "8054                 9   3.890041e+05  1.894706e+05  5.359037e+05   \n",
       "8055                14   2.864591e+07  4.357143e+06  8.640496e+06   \n",
       "\n",
       "      avg_imdb_rating_0  avg_order_0  std_order_0  avg_popularity_0  n_genres  \\\n",
       "7              6.059375     9.031250    14.092295          9.070594        14   \n",
       "10             5.150000     2.500000     2.500000         15.179000         4   \n",
       "11             8.025000     1.250000     0.829156          8.354000         3   \n",
       "14             5.072727     8.909091     6.598272         18.326818        10   \n",
       "15             5.918750    15.687500    15.994994         17.487375        13   \n",
       "...                 ...          ...          ...               ...       ...   \n",
       "8050           5.853846     8.615385    14.969397         22.092615         9   \n",
       "8052           5.153846     1.000000     1.358732         12.655308         7   \n",
       "8053           5.425000     1.916667     1.977302         36.653333        11   \n",
       "8054           5.922222     2.888889     2.766644         27.499556         8   \n",
       "8055           6.085714     6.857143     4.290474         15.905286         9   \n",
       "\n",
       "             main_genre  \n",
       "7               [Drama]  \n",
       "10    [Thriller, Crime]  \n",
       "11              [Music]  \n",
       "14             [Comedy]  \n",
       "15             [Comedy]  \n",
       "...                 ...  \n",
       "8050           [Action]  \n",
       "8052            [Drama]  \n",
       "8053           [Comedy]  \n",
       "8054           [Comedy]  \n",
       "8055            [Drama]  \n",
       "\n",
       "[2677 rows x 14 columns]"
      ]
     },
     "metadata": {},
     "output_type": "display_data"
    }
   ],
   "source": [
    "# find the most frequent genre and genres diversity for movies, released during specified time interval (per actor)\n",
    "def genres_stats_per_period(row, start_column, end_column):\n",
    "    genres_counts = {}\n",
    "    genres_per_actor = row[\"genres\"]\n",
    "\n",
    "    release_dates_per_actor = row['release_date']\n",
    "    for genres_per_movie, release_date in zip(row[\"genres\"], row[\"release_date\"]):\n",
    "        # start_column is missing for the group 1 because all its members belong to the same time period\n",
    "        if start_column is None or row[start_column] <= release_date <= row[end_column]:\n",
    "            for genre in ast.literal_eval(genres_per_movie):\n",
    "                genres_counts[genre[\"name\"]] = genres_counts.get(genre[\"name\"], 0) + 1\n",
    "    \n",
    "    # genres diversity is a number of different genres an actor played in during the specified time period \n",
    "    n_genres = len(genres_counts)\n",
    "    # find the most frequent genre for an actor during the time period\n",
    "    if n_genres > 0:\n",
    "        sorted_by_frequency = sorted(genres_counts.items(), key=lambda item: item[1])\n",
    "        main_genre = sorted_by_frequency[-1][0]\n",
    "        # if 2 genres has equal frequency return both \n",
    "        if n_genres > 1 and sorted_by_frequency[-1][1] == sorted_by_frequency[-2][1]:\n",
    "            main_genre_extra = sorted_by_frequency[-2][0]\n",
    "            main_genres = {main_genre, main_genre_extra}\n",
    "            # remove documentary since it doesn't represent the theme of movie\n",
    "            if \"Documentary\" in main_genres:\n",
    "                main_genres.remove(\"Documentary\")\n",
    "            main_genres = list(main_genres)\n",
    "        else:\n",
    "            main_genres = [main_genre]\n",
    "\n",
    "    else:\n",
    "        main_genres = [None]\n",
    "    return [n_genres, main_genres]\n",
    "\n",
    "\n",
    "# calculate number of genres and main one for group 1\n",
    "group1_divided_df[[\"n_genres\", \"main_genre\"]] = group1_divided_df.apply(genres_stats_per_period, \n",
    "                                                                      start_column=None, end_column=None, \n",
    "                                                                      axis=1, result_type=\"expand\")\n",
    "\n",
    "group1_divided_df = group1_divided_df.drop(['release_date', 'budget', 'revenue', 'imdb_average_rating', 'order', 'popularity'], axis=1)\n",
    "\n",
    "display(group1_divided_df)"
   ]
  },
  {
   "cell_type": "code",
   "execution_count": 75,
   "metadata": {},
   "outputs": [],
   "source": [
    "from datetime import datetime, timedelta\n",
    "\n",
    "# code for group 2\n",
    "df = group2_df.copy()\n",
    "# Convert release_date to a list of datetime objects\n",
    "df['release_date'] = df['release_date'].apply(lambda x: [datetime.strptime(date, \"%Y-%m-%d\") for date in ast.literal_eval(x)])\n",
    "\n",
    "# Calculate the time interval for each period\n",
    "df['interval'] = (df['career_length'] // 2) * 365\n",
    "\n",
    "# Initialize columns for date ranges\n",
    "df['start_date_1'] = df.apply(lambda row: min(row['release_date']), axis=1)\n",
    "df['end_date_1'] = df.apply(lambda row: min(row['release_date']) + timedelta(days=row['interval']), axis=1)\n",
    "df['start_date_2'] = df.apply(lambda row: min(row['release_date']) + timedelta(days=row['interval']), axis=1)\n",
    "df['end_date_2'] = df.apply(lambda row: max(row['release_date']), axis=1)\n",
    "\n",
    "# Count the number of release dates within each time slot\n",
    "df['count_interval_1'] = df.apply(lambda row: sum(start <= date <= end for date in row['release_date'] for start, end in [(row['start_date_1'], row['end_date_1'])]), axis=1)\n",
    "df['count_interval_2'] = df.apply(lambda row: sum(start <= date <= end for date in row['release_date'] for start, end in [(row['start_date_2'], row['end_date_2'])]), axis=1)\n",
    "\n",
    "# calculate the mean of the first count_interval_1 movies in revenue and replace the Nan and 0 values with the mean in these count_interval_1 movies\n",
    "df['revenue'] = df['revenue'].apply(\n",
    "    lambda x: [\n",
    "        np.mean(x[:df['count_interval_1'].iloc[0]]) if (val == 0 or pd.isna(val)) else val for val in x[:df['count_interval_1'].iloc[0]]\n",
    "    ] +\n",
    "    [\n",
    "        np.mean(x[df['count_interval_1'].iloc[0]:]) if (val == 0 or pd.isna(val)) else val for val in x[df['count_interval_1'].iloc[0]:]\n",
    "    ] if isinstance(x, list) else x\n",
    ")\n",
    "\n",
    "df['budget'] = df['budget'].apply(\n",
    "    lambda x: [\n",
    "        np.mean(x[:df['count_interval_1'].iloc[0]]) if (val == 0 or pd.isna(val)) else val for val in x[:df['count_interval_1'].iloc[0]]\n",
    "    ] +\n",
    "    [\n",
    "        np.mean(x[df['count_interval_1'].iloc[0]:]) if (val == 0 or pd.isna(val)) else val for val in x[df['count_interval_1'].iloc[0]:]\n",
    "    ] if isinstance(x, list) else x\n",
    ")\n",
    "\n",
    "\n",
    "# Calculate the average budget, revenue, IMDb rating, popularity and order for each period\n",
    "df['avg_budget_0'] = df.apply(lambda row: np.mean([budget for budget, date in zip(row['budget'], row['release_date']) if row['start_date_1'] <= date <= row['end_date_1']]), axis=1)\n",
    "df['avg_budget_1'] = df.apply(lambda row: np.mean([budget for budget, date in zip(row['budget'], row['release_date']) if row['start_date_2'] <= date <= row['end_date_2']]), axis=1)\n",
    "df['std_budget_0'] = df.apply(lambda row: np.std([budget for budget, date in zip(row['budget'], row['release_date']) if row['start_date_1'] <= date <= row['end_date_1']]), axis=1)\n",
    "df['std_budget_1'] = df.apply(lambda row: np.std([budget for budget, date in zip(row['budget'], row['release_date']) if row['start_date_2'] <= date <= row['end_date_2']]), axis=1)\n",
    "df['avg_revenue_0'] = df.apply(lambda row: np.mean([revenue for revenue, date in zip(row['revenue'], row['release_date']) if row['start_date_1'] <= date <= row['end_date_1']]), axis=1)\n",
    "df['avg_revenue_1'] = df.apply(lambda row: np.mean([revenue for revenue, date in zip(row['revenue'], row['release_date']) if row['start_date_2'] <= date <= row['end_date_2']]), axis=1)\n",
    "# replace values\n",
    "df['avg_imdb_rating_0'] = df.apply(lambda row: np.mean([imdb_rating for imdb_rating, date in zip(row['imdb_average_rating'], row['release_date']) if row['start_date_1'] <= date <= row['end_date_1']]), axis=1)\n",
    "df['avg_imdb_rating_1'] = df.apply(lambda row: np.mean([imdb_rating for imdb_rating, date in zip(row['imdb_average_rating'], row['release_date']) if row['start_date_2'] <= date <= row['end_date_2']]), axis=1)\n",
    "df['avg_order_0'] = df.apply(lambda row: np.mean([order for order, date in zip(row['order'], row['release_date']) if row['start_date_1'] <= date <= row['end_date_1']]), axis=1)\n",
    "df['avg_order_1'] = df.apply(lambda row: np.mean([order for order, date in zip(row['order'], row['release_date']) if row['start_date_2'] <= date <= row['end_date_2']]), axis=1)\n",
    "df['std_order_0'] = df.apply(lambda row: np.std([order for order, date in zip(row['order'], row['release_date']) if row['start_date_1'] <= date <= row['end_date_1']]), axis=1)\n",
    "df['std_order_1'] = df.apply(lambda row: np.std([order for order, date in zip(row['order'], row['release_date']) if row['start_date_2'] <= date <= row['end_date_2']]), axis=1)\n",
    "df['avg_popularity_0'] = df.apply(lambda row: np.mean([popularity for popularity, date in zip(row['popularity'], row['release_date']) if row['start_date_1'] <= date <= row['end_date_1']]), axis=1)\n",
    "df['avg_popularity_1'] = df.apply(lambda row: np.mean([popularity for popularity, date in zip(row['popularity'], row['release_date']) if row['start_date_2'] <= date <= row['end_date_2']]), axis=1)"
   ]
  },
  {
   "cell_type": "code",
   "execution_count": 76,
   "metadata": {},
   "outputs": [
    {
     "data": {
      "text/html": [
       "<div>\n",
       "<style scoped>\n",
       "    .dataframe tbody tr th:only-of-type {\n",
       "        vertical-align: middle;\n",
       "    }\n",
       "\n",
       "    .dataframe tbody tr th {\n",
       "        vertical-align: top;\n",
       "    }\n",
       "\n",
       "    .dataframe thead th {\n",
       "        text-align: right;\n",
       "    }\n",
       "</style>\n",
       "<table border=\"1\" class=\"dataframe\">\n",
       "  <thead>\n",
       "    <tr style=\"text-align: right;\">\n",
       "      <th></th>\n",
       "      <th>name</th>\n",
       "      <th>gender</th>\n",
       "      <th>genres</th>\n",
       "      <th>career_length</th>\n",
       "      <th>number_of_movies</th>\n",
       "      <th>interval</th>\n",
       "      <th>start_date_1</th>\n",
       "      <th>end_date_1</th>\n",
       "      <th>start_date_2</th>\n",
       "      <th>end_date_2</th>\n",
       "      <th>...</th>\n",
       "      <th>avg_order_0</th>\n",
       "      <th>avg_order_1</th>\n",
       "      <th>std_order_0</th>\n",
       "      <th>std_order_1</th>\n",
       "      <th>avg_popularity_0</th>\n",
       "      <th>avg_popularity_1</th>\n",
       "      <th>n_genres_0</th>\n",
       "      <th>main_genre_0</th>\n",
       "      <th>n_genres_1</th>\n",
       "      <th>main_genre_1</th>\n",
       "    </tr>\n",
       "  </thead>\n",
       "  <tbody>\n",
       "    <tr>\n",
       "      <th>0</th>\n",
       "      <td>\"Weird Al\" Yankovic</td>\n",
       "      <td>2</td>\n",
       "      <td>[[{'id': 35, 'name': 'Comedy'}, {'id': 28, 'na...</td>\n",
       "      <td>38</td>\n",
       "      <td>52</td>\n",
       "      <td>6935</td>\n",
       "      <td>1985-09-25</td>\n",
       "      <td>2004-09-20</td>\n",
       "      <td>2004-09-20</td>\n",
       "      <td>2023-03-11</td>\n",
       "      <td>...</td>\n",
       "      <td>7.937500</td>\n",
       "      <td>11.305556</td>\n",
       "      <td>10.899935</td>\n",
       "      <td>14.854516</td>\n",
       "      <td>8.860250</td>\n",
       "      <td>7.113139</td>\n",
       "      <td>9</td>\n",
       "      <td>[Comedy]</td>\n",
       "      <td>12</td>\n",
       "      <td>[Comedy]</td>\n",
       "    </tr>\n",
       "    <tr>\n",
       "      <th>1</th>\n",
       "      <td>50 Cent</td>\n",
       "      <td>2</td>\n",
       "      <td>[[{'id': 18, 'name': 'Drama'}, {'id': 35, 'nam...</td>\n",
       "      <td>20</td>\n",
       "      <td>47</td>\n",
       "      <td>3650</td>\n",
       "      <td>2003-04-15</td>\n",
       "      <td>2013-04-12</td>\n",
       "      <td>2013-04-12</td>\n",
       "      <td>2023-09-15</td>\n",
       "      <td>...</td>\n",
       "      <td>5.580645</td>\n",
       "      <td>8.125000</td>\n",
       "      <td>15.418410</td>\n",
       "      <td>10.734728</td>\n",
       "      <td>12.576419</td>\n",
       "      <td>13.711375</td>\n",
       "      <td>11</td>\n",
       "      <td>[Drama]</td>\n",
       "      <td>9</td>\n",
       "      <td>[Action]</td>\n",
       "    </tr>\n",
       "    <tr>\n",
       "      <th>3</th>\n",
       "      <td>A.C. Peterson</td>\n",
       "      <td>2</td>\n",
       "      <td>[[{'id': 18, 'name': 'Drama'}, {'id': 10749, '...</td>\n",
       "      <td>37</td>\n",
       "      <td>65</td>\n",
       "      <td>6570</td>\n",
       "      <td>1984-12-26</td>\n",
       "      <td>2002-12-22</td>\n",
       "      <td>2002-12-22</td>\n",
       "      <td>2021-11-25</td>\n",
       "      <td>...</td>\n",
       "      <td>15.516129</td>\n",
       "      <td>8.911765</td>\n",
       "      <td>10.213435</td>\n",
       "      <td>9.101931</td>\n",
       "      <td>11.268129</td>\n",
       "      <td>11.211382</td>\n",
       "      <td>13</td>\n",
       "      <td>[Drama]</td>\n",
       "      <td>14</td>\n",
       "      <td>[Drama]</td>\n",
       "    </tr>\n",
       "    <tr>\n",
       "      <th>4</th>\n",
       "      <td>A.J. Buckley</td>\n",
       "      <td>2</td>\n",
       "      <td>[[{'id': 28, 'name': 'Action'}, {'id': 53, 'na...</td>\n",
       "      <td>20</td>\n",
       "      <td>30</td>\n",
       "      <td>3650</td>\n",
       "      <td>1998-07-24</td>\n",
       "      <td>2008-07-21</td>\n",
       "      <td>2008-07-21</td>\n",
       "      <td>2018-04-20</td>\n",
       "      <td>...</td>\n",
       "      <td>7.565217</td>\n",
       "      <td>4.428571</td>\n",
       "      <td>8.801315</td>\n",
       "      <td>3.374575</td>\n",
       "      <td>12.783000</td>\n",
       "      <td>13.308571</td>\n",
       "      <td>15</td>\n",
       "      <td>[Drama]</td>\n",
       "      <td>11</td>\n",
       "      <td>[Drama, Comedy]</td>\n",
       "    </tr>\n",
       "    <tr>\n",
       "      <th>5</th>\n",
       "      <td>A.J. Cook</td>\n",
       "      <td>1</td>\n",
       "      <td>[[{'id': 35, 'name': 'Comedy'}], [{'id': 35, '...</td>\n",
       "      <td>22</td>\n",
       "      <td>20</td>\n",
       "      <td>4015</td>\n",
       "      <td>1997-01-29</td>\n",
       "      <td>2008-01-27</td>\n",
       "      <td>2008-01-27</td>\n",
       "      <td>2019-04-09</td>\n",
       "      <td>...</td>\n",
       "      <td>4.857143</td>\n",
       "      <td>4.166667</td>\n",
       "      <td>4.778780</td>\n",
       "      <td>5.335937</td>\n",
       "      <td>20.006143</td>\n",
       "      <td>17.360167</td>\n",
       "      <td>12</td>\n",
       "      <td>[Drama, Horror]</td>\n",
       "      <td>7</td>\n",
       "      <td>[Drama]</td>\n",
       "    </tr>\n",
       "    <tr>\n",
       "      <th>...</th>\n",
       "      <td>...</td>\n",
       "      <td>...</td>\n",
       "      <td>...</td>\n",
       "      <td>...</td>\n",
       "      <td>...</td>\n",
       "      <td>...</td>\n",
       "      <td>...</td>\n",
       "      <td>...</td>\n",
       "      <td>...</td>\n",
       "      <td>...</td>\n",
       "      <td>...</td>\n",
       "      <td>...</td>\n",
       "      <td>...</td>\n",
       "      <td>...</td>\n",
       "      <td>...</td>\n",
       "      <td>...</td>\n",
       "      <td>...</td>\n",
       "      <td>...</td>\n",
       "      <td>...</td>\n",
       "      <td>...</td>\n",
       "      <td>...</td>\n",
       "    </tr>\n",
       "    <tr>\n",
       "      <th>8039</th>\n",
       "      <td>Zoe McLellan</td>\n",
       "      <td>1</td>\n",
       "      <td>[[{'id': 18, 'name': 'Drama'}, {'id': 12, 'nam...</td>\n",
       "      <td>25</td>\n",
       "      <td>15</td>\n",
       "      <td>4380</td>\n",
       "      <td>1994-10-14</td>\n",
       "      <td>2006-10-11</td>\n",
       "      <td>2006-10-11</td>\n",
       "      <td>2019-11-22</td>\n",
       "      <td>...</td>\n",
       "      <td>11.666667</td>\n",
       "      <td>2.666667</td>\n",
       "      <td>11.333333</td>\n",
       "      <td>2.211083</td>\n",
       "      <td>12.229889</td>\n",
       "      <td>11.396500</td>\n",
       "      <td>9</td>\n",
       "      <td>[Drama]</td>\n",
       "      <td>7</td>\n",
       "      <td>[Drama, Thriller]</td>\n",
       "    </tr>\n",
       "    <tr>\n",
       "      <th>8041</th>\n",
       "      <td>Zoe Saldaña</td>\n",
       "      <td>1</td>\n",
       "      <td>[[{'id': 28, 'name': 'Action'}, {'id': 53, 'na...</td>\n",
       "      <td>23</td>\n",
       "      <td>62</td>\n",
       "      <td>4015</td>\n",
       "      <td>2000-05-12</td>\n",
       "      <td>2011-05-10</td>\n",
       "      <td>2011-05-10</td>\n",
       "      <td>2023-09-13</td>\n",
       "      <td>...</td>\n",
       "      <td>4.592593</td>\n",
       "      <td>8.600000</td>\n",
       "      <td>5.349000</td>\n",
       "      <td>17.543741</td>\n",
       "      <td>65.552185</td>\n",
       "      <td>65.861600</td>\n",
       "      <td>13</td>\n",
       "      <td>[Drama, Comedy]</td>\n",
       "      <td>16</td>\n",
       "      <td>[Adventure]</td>\n",
       "    </tr>\n",
       "    <tr>\n",
       "      <th>8043</th>\n",
       "      <td>Zooey Deschanel</td>\n",
       "      <td>1</td>\n",
       "      <td>[[{'id': 35, 'name': 'Comedy'}, {'id': 10749, ...</td>\n",
       "      <td>24</td>\n",
       "      <td>47</td>\n",
       "      <td>4380</td>\n",
       "      <td>1999-09-24</td>\n",
       "      <td>2011-09-21</td>\n",
       "      <td>2011-09-21</td>\n",
       "      <td>2023-10-12</td>\n",
       "      <td>...</td>\n",
       "      <td>3.171429</td>\n",
       "      <td>8.083333</td>\n",
       "      <td>3.652676</td>\n",
       "      <td>10.435982</td>\n",
       "      <td>44.876086</td>\n",
       "      <td>36.110167</td>\n",
       "      <td>15</td>\n",
       "      <td>[Comedy]</td>\n",
       "      <td>12</td>\n",
       "      <td>[Music]</td>\n",
       "    </tr>\n",
       "    <tr>\n",
       "      <th>8044</th>\n",
       "      <td>Zosia Mamet</td>\n",
       "      <td>1</td>\n",
       "      <td>[[{'id': 27, 'name': 'Horror'}], [{'id': 35, '...</td>\n",
       "      <td>29</td>\n",
       "      <td>26</td>\n",
       "      <td>5110</td>\n",
       "      <td>1994-08-04</td>\n",
       "      <td>2008-07-31</td>\n",
       "      <td>2008-07-31</td>\n",
       "      <td>2023-10-12</td>\n",
       "      <td>...</td>\n",
       "      <td>19.333333</td>\n",
       "      <td>5.173913</td>\n",
       "      <td>5.436502</td>\n",
       "      <td>8.239102</td>\n",
       "      <td>21.816000</td>\n",
       "      <td>22.699696</td>\n",
       "      <td>7</td>\n",
       "      <td>[Drama]</td>\n",
       "      <td>12</td>\n",
       "      <td>[Comedy]</td>\n",
       "    </tr>\n",
       "    <tr>\n",
       "      <th>8051</th>\n",
       "      <td>Óscar Jaenada</td>\n",
       "      <td>2</td>\n",
       "      <td>[[{'id': 18, 'name': 'Drama'}, {'id': 36, 'nam...</td>\n",
       "      <td>22</td>\n",
       "      <td>40</td>\n",
       "      <td>4015</td>\n",
       "      <td>2001-01-05</td>\n",
       "      <td>2012-01-03</td>\n",
       "      <td>2012-01-03</td>\n",
       "      <td>2023-03-16</td>\n",
       "      <td>...</td>\n",
       "      <td>3.545455</td>\n",
       "      <td>3.222222</td>\n",
       "      <td>5.348978</td>\n",
       "      <td>3.309172</td>\n",
       "      <td>9.770318</td>\n",
       "      <td>10.250167</td>\n",
       "      <td>13</td>\n",
       "      <td>[Drama]</td>\n",
       "      <td>12</td>\n",
       "      <td>[Drama]</td>\n",
       "    </tr>\n",
       "  </tbody>\n",
       "</table>\n",
       "<p>3573 rows × 30 columns</p>\n",
       "</div>"
      ],
      "text/plain": [
       "                     name  gender  \\\n",
       "0     \"Weird Al\" Yankovic       2   \n",
       "1                 50 Cent       2   \n",
       "3           A.C. Peterson       2   \n",
       "4            A.J. Buckley       2   \n",
       "5               A.J. Cook       1   \n",
       "...                   ...     ...   \n",
       "8039         Zoe McLellan       1   \n",
       "8041          Zoe Saldaña       1   \n",
       "8043      Zooey Deschanel       1   \n",
       "8044          Zosia Mamet       1   \n",
       "8051        Óscar Jaenada       2   \n",
       "\n",
       "                                                 genres  career_length  \\\n",
       "0     [[{'id': 35, 'name': 'Comedy'}, {'id': 28, 'na...             38   \n",
       "1     [[{'id': 18, 'name': 'Drama'}, {'id': 35, 'nam...             20   \n",
       "3     [[{'id': 18, 'name': 'Drama'}, {'id': 10749, '...             37   \n",
       "4     [[{'id': 28, 'name': 'Action'}, {'id': 53, 'na...             20   \n",
       "5     [[{'id': 35, 'name': 'Comedy'}], [{'id': 35, '...             22   \n",
       "...                                                 ...            ...   \n",
       "8039  [[{'id': 18, 'name': 'Drama'}, {'id': 12, 'nam...             25   \n",
       "8041  [[{'id': 28, 'name': 'Action'}, {'id': 53, 'na...             23   \n",
       "8043  [[{'id': 35, 'name': 'Comedy'}, {'id': 10749, ...             24   \n",
       "8044  [[{'id': 27, 'name': 'Horror'}], [{'id': 35, '...             29   \n",
       "8051  [[{'id': 18, 'name': 'Drama'}, {'id': 36, 'nam...             22   \n",
       "\n",
       "      number_of_movies  interval start_date_1 end_date_1 start_date_2  \\\n",
       "0                   52      6935   1985-09-25 2004-09-20   2004-09-20   \n",
       "1                   47      3650   2003-04-15 2013-04-12   2013-04-12   \n",
       "3                   65      6570   1984-12-26 2002-12-22   2002-12-22   \n",
       "4                   30      3650   1998-07-24 2008-07-21   2008-07-21   \n",
       "5                   20      4015   1997-01-29 2008-01-27   2008-01-27   \n",
       "...                ...       ...          ...        ...          ...   \n",
       "8039                15      4380   1994-10-14 2006-10-11   2006-10-11   \n",
       "8041                62      4015   2000-05-12 2011-05-10   2011-05-10   \n",
       "8043                47      4380   1999-09-24 2011-09-21   2011-09-21   \n",
       "8044                26      5110   1994-08-04 2008-07-31   2008-07-31   \n",
       "8051                40      4015   2001-01-05 2012-01-03   2012-01-03   \n",
       "\n",
       "     end_date_2  ...  avg_order_0  avg_order_1  std_order_0  std_order_1  \\\n",
       "0    2023-03-11  ...     7.937500    11.305556    10.899935    14.854516   \n",
       "1    2023-09-15  ...     5.580645     8.125000    15.418410    10.734728   \n",
       "3    2021-11-25  ...    15.516129     8.911765    10.213435     9.101931   \n",
       "4    2018-04-20  ...     7.565217     4.428571     8.801315     3.374575   \n",
       "5    2019-04-09  ...     4.857143     4.166667     4.778780     5.335937   \n",
       "...         ...  ...          ...          ...          ...          ...   \n",
       "8039 2019-11-22  ...    11.666667     2.666667    11.333333     2.211083   \n",
       "8041 2023-09-13  ...     4.592593     8.600000     5.349000    17.543741   \n",
       "8043 2023-10-12  ...     3.171429     8.083333     3.652676    10.435982   \n",
       "8044 2023-10-12  ...    19.333333     5.173913     5.436502     8.239102   \n",
       "8051 2023-03-16  ...     3.545455     3.222222     5.348978     3.309172   \n",
       "\n",
       "      avg_popularity_0  avg_popularity_1  n_genres_0     main_genre_0  \\\n",
       "0             8.860250          7.113139           9         [Comedy]   \n",
       "1            12.576419         13.711375          11          [Drama]   \n",
       "3            11.268129         11.211382          13          [Drama]   \n",
       "4            12.783000         13.308571          15          [Drama]   \n",
       "5            20.006143         17.360167          12  [Drama, Horror]   \n",
       "...                ...               ...         ...              ...   \n",
       "8039         12.229889         11.396500           9          [Drama]   \n",
       "8041         65.552185         65.861600          13  [Drama, Comedy]   \n",
       "8043         44.876086         36.110167          15         [Comedy]   \n",
       "8044         21.816000         22.699696           7          [Drama]   \n",
       "8051          9.770318         10.250167          13          [Drama]   \n",
       "\n",
       "      n_genres_1       main_genre_1  \n",
       "0             12           [Comedy]  \n",
       "1              9           [Action]  \n",
       "3             14            [Drama]  \n",
       "4             11    [Drama, Comedy]  \n",
       "5              7            [Drama]  \n",
       "...          ...                ...  \n",
       "8039           7  [Drama, Thriller]  \n",
       "8041          16        [Adventure]  \n",
       "8043          12            [Music]  \n",
       "8044          12           [Comedy]  \n",
       "8051          12            [Drama]  \n",
       "\n",
       "[3573 rows x 30 columns]"
      ]
     },
     "metadata": {},
     "output_type": "display_data"
    }
   ],
   "source": [
    "# calculate number of genres and main one for the first time period\n",
    "df[[\"n_genres_0\", \"main_genre_0\"]] = df.apply(genres_stats_per_period, \n",
    "                                              start_column=\"start_date_1\", \n",
    "                                              end_column=\"end_date_1\", \n",
    "                                              axis=1, result_type=\"expand\")\n",
    "# calculate number of genres and main one for the second time period\n",
    "df[[\"n_genres_1\", \"main_genre_1\"]] = df.apply(genres_stats_per_period, \n",
    "                                              start_column=\"start_date_2\", \n",
    "                                              end_column=\"end_date_2\", \n",
    "                                              axis=1, result_type=\"expand\")\n",
    "\n",
    "\n",
    "# Drop unnecessary columns\n",
    "df = df.drop(['release_date', 'budget', 'revenue', 'imdb_average_rating', 'order', 'popularity'], axis=1)\n",
    "\n",
    "display(df)\n",
    "group2_divided_df = df.copy()"
   ]
  },
  {
   "cell_type": "code",
   "execution_count": 77,
   "metadata": {},
   "outputs": [
    {
     "data": {
      "text/html": [
       "<div>\n",
       "<style scoped>\n",
       "    .dataframe tbody tr th:only-of-type {\n",
       "        vertical-align: middle;\n",
       "    }\n",
       "\n",
       "    .dataframe tbody tr th {\n",
       "        vertical-align: top;\n",
       "    }\n",
       "\n",
       "    .dataframe thead th {\n",
       "        text-align: right;\n",
       "    }\n",
       "</style>\n",
       "<table border=\"1\" class=\"dataframe\">\n",
       "  <thead>\n",
       "    <tr style=\"text-align: right;\">\n",
       "      <th></th>\n",
       "      <th>name</th>\n",
       "      <th>gender</th>\n",
       "      <th>popularity</th>\n",
       "      <th>release_date</th>\n",
       "      <th>genres</th>\n",
       "      <th>budget</th>\n",
       "      <th>revenue</th>\n",
       "      <th>imdb_average_rating</th>\n",
       "      <th>order</th>\n",
       "      <th>career_length</th>\n",
       "      <th>number_of_movies</th>\n",
       "    </tr>\n",
       "  </thead>\n",
       "  <tbody>\n",
       "    <tr>\n",
       "      <th>0</th>\n",
       "      <td>\"Weird Al\" Yankovic</td>\n",
       "      <td>2</td>\n",
       "      <td>[13.081, 13.081, 5.609, 10.655, 13.081, 10.655...</td>\n",
       "      <td>['1996-05-24', '1988-10-21', '2003-02-09', '19...</td>\n",
       "      <td>[[{'id': 35, 'name': 'Comedy'}, {'id': 28, 'na...</td>\n",
       "      <td>[18000000, 3000000, 0, 0, 30000000, 0, 5000000...</td>\n",
       "      <td>[27000000, 343786, 0, 0, 51132598, 0, 6157157,...</td>\n",
       "      <td>[5.3, 5.7, 8.7, 8.3, 6.5, 7.3, 6.9, 7.6, 4.3, ...</td>\n",
       "      <td>[13, 16, 0, 0, 35, 2, 0, 11, 6, 0, 13, 0, 8, 3...</td>\n",
       "      <td>38</td>\n",
       "      <td>52</td>\n",
       "    </tr>\n",
       "    <tr>\n",
       "      <th>1</th>\n",
       "      <td>50 Cent</td>\n",
       "      <td>2</td>\n",
       "      <td>[14.999, 11.633, 10.69, 14.999, 10.69, 14.999,...</td>\n",
       "      <td>['2010-11-10', '2011-03-05', '2009-07-13', '20...</td>\n",
       "      <td>[[{'id': 18, 'name': 'Drama'}, {'id': 35, 'nam...</td>\n",
       "      <td>[40000000, 0, 0, 11000000, 0, 0, 10000000, 100...</td>\n",
       "      <td>[60040976, 0, 0, 0, 0, 2566717, 0, 0, 0, 79498...</td>\n",
       "      <td>[6.5, 5.4, 4.4, 4.6, 4.4, 5.6, 3.8, 4.4, 6.8, ...</td>\n",
       "      <td>[59, 1, 1, 0, 0, 2, 0, 0, 1, 4, 0, 1, 0, 0, 0,...</td>\n",
       "      <td>20</td>\n",
       "      <td>47</td>\n",
       "    </tr>\n",
       "    <tr>\n",
       "      <th>2</th>\n",
       "      <td>A Martinez</td>\n",
       "      <td>2</td>\n",
       "      <td>[15.752, 11.636, 15.752, 11.636, 11.636, 11.63...</td>\n",
       "      <td>['1989-12-08', '1980-04-28', '2011-01-29', '20...</td>\n",
       "      <td>[[{'id': 35, 'name': 'Comedy'}], [{'id': 18, '...</td>\n",
       "      <td>[20000000, 0, 500000, 0, 0, 0, 11800000, 0, 0,...</td>\n",
       "      <td>[15400000, 0, 0, 0, 0, 0, 0, 0, 0, 0, 0, 0, 0,...</td>\n",
       "      <td>[5.7, 6.2, 3.0, 6.8, 6.7, 2.1, 5.7, 7.2, 5.8, ...</td>\n",
       "      <td>[6, 6, 2, 11, 4, 1, 5, 0, 1, 3, 3, 7, 15, 5, 1...</td>\n",
       "      <td>54</td>\n",
       "      <td>54</td>\n",
       "    </tr>\n",
       "    <tr>\n",
       "      <th>3</th>\n",
       "      <td>A.C. Peterson</td>\n",
       "      <td>2</td>\n",
       "      <td>[18.63, 18.63, 18.63, 18.63, 18.63, 7.26, 18.6...</td>\n",
       "      <td>['1984-12-26', '1987-09-25', '2009-09-12', '19...</td>\n",
       "      <td>[[{'id': 18, 'name': 'Drama'}, {'id': 10749, '...</td>\n",
       "      <td>[11000000, 0, 3500000, 0, 6500000, 0, 61000000...</td>\n",
       "      <td>[4385312, 1733017, 44462, 4654288, 12633747, 0...</td>\n",
       "      <td>[6.1, 5.9, 6.7, 5.3, 7.1, 5.4, 7.1, 6.0, 5.3, ...</td>\n",
       "      <td>[55, 32, 8, 11, 12, 18, 10, 8, 4, 5, 13, 10, 2...</td>\n",
       "      <td>37</td>\n",
       "      <td>65</td>\n",
       "    </tr>\n",
       "    <tr>\n",
       "      <th>4</th>\n",
       "      <td>A.J. Buckley</td>\n",
       "      <td>2</td>\n",
       "      <td>[14.75, 9.655, 14.75, 14.75, 9.655, 14.75, 14....</td>\n",
       "      <td>['2007-01-01', '2001-02-16', '2006-02-05', '20...</td>\n",
       "      <td>[[{'id': 28, 'name': 'Action'}, {'id': 53, 'na...</td>\n",
       "      <td>[1000000, 0, 1000000, 15000000, 0, 1000000, 15...</td>\n",
       "      <td>[0, 0, 0, 5217498, 0, 464000, 17514980, 0, 0, ...</td>\n",
       "      <td>[4.6, 6.5, 5.8, 4.6, 3.7, 6.6, 5.6, 5.2, 5.3, ...</td>\n",
       "      <td>[1, 9, 4, 13, 5, 4, 11, 4, 9, 6, 1, 42, 7, 3, ...</td>\n",
       "      <td>20</td>\n",
       "      <td>30</td>\n",
       "    </tr>\n",
       "  </tbody>\n",
       "</table>\n",
       "</div>"
      ],
      "text/plain": [
       "                  name  gender  \\\n",
       "0  \"Weird Al\" Yankovic       2   \n",
       "1              50 Cent       2   \n",
       "2           A Martinez       2   \n",
       "3        A.C. Peterson       2   \n",
       "4         A.J. Buckley       2   \n",
       "\n",
       "                                          popularity  \\\n",
       "0  [13.081, 13.081, 5.609, 10.655, 13.081, 10.655...   \n",
       "1  [14.999, 11.633, 10.69, 14.999, 10.69, 14.999,...   \n",
       "2  [15.752, 11.636, 15.752, 11.636, 11.636, 11.63...   \n",
       "3  [18.63, 18.63, 18.63, 18.63, 18.63, 7.26, 18.6...   \n",
       "4  [14.75, 9.655, 14.75, 14.75, 9.655, 14.75, 14....   \n",
       "\n",
       "                                        release_date  \\\n",
       "0  ['1996-05-24', '1988-10-21', '2003-02-09', '19...   \n",
       "1  ['2010-11-10', '2011-03-05', '2009-07-13', '20...   \n",
       "2  ['1989-12-08', '1980-04-28', '2011-01-29', '20...   \n",
       "3  ['1984-12-26', '1987-09-25', '2009-09-12', '19...   \n",
       "4  ['2007-01-01', '2001-02-16', '2006-02-05', '20...   \n",
       "\n",
       "                                              genres  \\\n",
       "0  [[{'id': 35, 'name': 'Comedy'}, {'id': 28, 'na...   \n",
       "1  [[{'id': 18, 'name': 'Drama'}, {'id': 35, 'nam...   \n",
       "2  [[{'id': 35, 'name': 'Comedy'}], [{'id': 18, '...   \n",
       "3  [[{'id': 18, 'name': 'Drama'}, {'id': 10749, '...   \n",
       "4  [[{'id': 28, 'name': 'Action'}, {'id': 53, 'na...   \n",
       "\n",
       "                                              budget  \\\n",
       "0  [18000000, 3000000, 0, 0, 30000000, 0, 5000000...   \n",
       "1  [40000000, 0, 0, 11000000, 0, 0, 10000000, 100...   \n",
       "2  [20000000, 0, 500000, 0, 0, 0, 11800000, 0, 0,...   \n",
       "3  [11000000, 0, 3500000, 0, 6500000, 0, 61000000...   \n",
       "4  [1000000, 0, 1000000, 15000000, 0, 1000000, 15...   \n",
       "\n",
       "                                             revenue  \\\n",
       "0  [27000000, 343786, 0, 0, 51132598, 0, 6157157,...   \n",
       "1  [60040976, 0, 0, 0, 0, 2566717, 0, 0, 0, 79498...   \n",
       "2  [15400000, 0, 0, 0, 0, 0, 0, 0, 0, 0, 0, 0, 0,...   \n",
       "3  [4385312, 1733017, 44462, 4654288, 12633747, 0...   \n",
       "4  [0, 0, 0, 5217498, 0, 464000, 17514980, 0, 0, ...   \n",
       "\n",
       "                                 imdb_average_rating  \\\n",
       "0  [5.3, 5.7, 8.7, 8.3, 6.5, 7.3, 6.9, 7.6, 4.3, ...   \n",
       "1  [6.5, 5.4, 4.4, 4.6, 4.4, 5.6, 3.8, 4.4, 6.8, ...   \n",
       "2  [5.7, 6.2, 3.0, 6.8, 6.7, 2.1, 5.7, 7.2, 5.8, ...   \n",
       "3  [6.1, 5.9, 6.7, 5.3, 7.1, 5.4, 7.1, 6.0, 5.3, ...   \n",
       "4  [4.6, 6.5, 5.8, 4.6, 3.7, 6.6, 5.6, 5.2, 5.3, ...   \n",
       "\n",
       "                                               order  career_length  \\\n",
       "0  [13, 16, 0, 0, 35, 2, 0, 11, 6, 0, 13, 0, 8, 3...             38   \n",
       "1  [59, 1, 1, 0, 0, 2, 0, 0, 1, 4, 0, 1, 0, 0, 0,...             20   \n",
       "2  [6, 6, 2, 11, 4, 1, 5, 0, 1, 3, 3, 7, 15, 5, 1...             54   \n",
       "3  [55, 32, 8, 11, 12, 18, 10, 8, 4, 5, 13, 10, 2...             37   \n",
       "4  [1, 9, 4, 13, 5, 4, 11, 4, 9, 6, 1, 42, 7, 3, ...             20   \n",
       "\n",
       "   number_of_movies  \n",
       "0                52  \n",
       "1                47  \n",
       "2                54  \n",
       "3                65  \n",
       "4                30  "
      ]
     },
     "execution_count": 77,
     "metadata": {},
     "output_type": "execute_result"
    }
   ],
   "source": [
    "grouped_actors_df.head()"
   ]
  },
  {
   "cell_type": "code",
   "execution_count": 78,
   "metadata": {},
   "outputs": [
    {
     "name": "stderr",
     "output_type": "stream",
     "text": [
      "c:\\Users\\1\\Anaconda\\lib\\site-packages\\numpy\\core\\fromnumeric.py:3419: RuntimeWarning: Mean of empty slice.\n",
      "  return _methods._mean(a, axis=axis, dtype=dtype,\n",
      "c:\\Users\\1\\Anaconda\\lib\\site-packages\\numpy\\core\\_methods.py:188: RuntimeWarning: invalid value encountered in double_scalars\n",
      "  ret = ret.dtype.type(ret / rcount)\n",
      "c:\\Users\\1\\Anaconda\\lib\\site-packages\\numpy\\core\\_methods.py:261: RuntimeWarning: Degrees of freedom <= 0 for slice\n",
      "  ret = _var(a, axis=axis, dtype=dtype, out=out, ddof=ddof,\n",
      "c:\\Users\\1\\Anaconda\\lib\\site-packages\\numpy\\core\\_methods.py:221: RuntimeWarning: invalid value encountered in true_divide\n",
      "  arrmean = um.true_divide(arrmean, div, out=arrmean, casting='unsafe',\n",
      "c:\\Users\\1\\Anaconda\\lib\\site-packages\\numpy\\core\\_methods.py:253: RuntimeWarning: invalid value encountered in double_scalars\n",
      "  ret = ret.dtype.type(ret / rcount)\n"
     ]
    }
   ],
   "source": [
    "from datetime import datetime, timedelta\n",
    "\n",
    "df = group3_df.copy()\n",
    "# Convert release_date to a list of datetime objects\n",
    "df['release_date'] = df['release_date'].apply(lambda x: [datetime.strptime(date, \"%Y-%m-%d\") for date in ast.literal_eval(x)])\n",
    "\n",
    "# Calculate the time interval for each period\n",
    "df['interval'] = (df['career_length'] // 3) * 365\n",
    "\n",
    "# Initialize columns for date ranges\n",
    "df['start_date_1'] = df.apply(lambda row: min(row['release_date']), axis=1)\n",
    "df['end_date_1'] = df.apply(lambda row: min(row['release_date']) + timedelta(days=row['interval']), axis=1)\n",
    "df['start_date_2'] = df.apply(lambda row: min(row['release_date']) + timedelta(days=row['interval']), axis=1)\n",
    "df['end_date_2'] = df.apply(lambda row: min(row['release_date']) + timedelta(days=row['interval'] * 2), axis=1)\n",
    "df['start_date_3'] = df.apply(lambda row: min(row['release_date']) + timedelta(days=row['interval'] * 2 ), axis=1)\n",
    "df['end_date_3'] = df.apply(lambda row: max(row['release_date']), axis=1)\n",
    "\n",
    "# Count the number of release dates within each time slot\n",
    "df['count_interval_1'] = df.apply(lambda row: sum(start <= date <= end for date in row['release_date'] for start, end in [(row['start_date_1'], row['end_date_1'])]), axis=1)\n",
    "df['count_interval_2'] = df.apply(lambda row: sum(start <= date <= end for date in row['release_date'] for start, end in [(row['start_date_2'], row['end_date_2'])]), axis=1)\n",
    "df['count_interval_3'] = df.apply(lambda row: sum(start <= date <= end for date in row['release_date'] for start, end in [(row['start_date_3'], row['end_date_3'])]), axis=1)\n",
    "\n",
    "# Assuming df['count_interval_1'] and df['count_interval_2'] are available\n",
    "df['revenue'] = df['revenue'].apply(\n",
    "    lambda x: [\n",
    "        np.mean(x[:df['count_interval_1'].iloc[0]]) if (val == 0 or pd.isna(val)) else val for val in x[:df['count_interval_1'].iloc[0]]\n",
    "    ] +\n",
    "    [\n",
    "        np.mean(x[df['count_interval_1'].iloc[0]:df['count_interval_2'].iloc[0]]) if (val == 0 or pd.isna(val)) else val for val in x[df['count_interval_1'].iloc[0]:df['count_interval_2'].iloc[0]]\n",
    "    ] +\n",
    "    [\n",
    "        np.mean(x[df['count_interval_2'].iloc[0]:]) if (val == 0 or pd.isna(val)) else val for val in x[df['count_interval_2'].iloc[0]:]\n",
    "    ] if isinstance(x, list) else x\n",
    ")\n",
    "df['budget'] = df['budget'].apply(\n",
    "    lambda x: [\n",
    "        np.mean(x[:df['count_interval_1'].iloc[0]]) if (val == 0 or pd.isna(val)) else val for val in x[:df['count_interval_1'].iloc[0]]\n",
    "    ] +\n",
    "    [\n",
    "        np.mean(x[df['count_interval_1'].iloc[0]:df['count_interval_2'].iloc[0]]) if (val == 0 or pd.isna(val)) else val for val in x[df['count_interval_1'].iloc[0]:df['count_interval_2'].iloc[0]]\n",
    "    ] +\n",
    "    [\n",
    "        np.mean(x[df['count_interval_2'].iloc[0]:]) if (val == 0 or pd.isna(val)) else val for val in x[df['count_interval_2'].iloc[0]:]\n",
    "    ] if isinstance(x, list) else x\n",
    ")\n",
    "\n",
    "\n",
    "# Calculate the average budget, revenue, IMDb rating, popularity and order for each period\n",
    "df['avg_budget_0'] = df.apply(lambda row: np.mean([budget for budget, date in zip(row['budget'], row['release_date']) if row['start_date_1'] <= date <= row['end_date_1']]), axis=1)\n",
    "df['avg_budget_1'] = df.apply(lambda row: np.mean([budget for budget, date in zip(row['budget'], row['release_date']) if row['start_date_2'] <= date <= row['end_date_2']]), axis=1)\n",
    "df['avg_budget_2'] = df.apply(lambda row: np.mean([budget for budget, date in zip(row['budget'], row['release_date']) if row['start_date_3'] <= date <= row['end_date_3']]), axis=1)\n",
    "df['std_budget_0'] = df.apply(lambda row: np.std([budget for budget, date in zip(row['budget'], row['release_date']) if row['start_date_1'] <= date <= row['end_date_1']]), axis=1)\n",
    "df['std_budget_1'] = df.apply(lambda row: np.std([budget for budget, date in zip(row['budget'], row['release_date']) if row['start_date_2'] <= date <= row['end_date_2']]), axis=1)\n",
    "df['std_budget_2'] = df.apply(lambda row: np.std([budget for budget, date in zip(row['budget'], row['release_date']) if row['start_date_3'] <= date <= row['end_date_3']]), axis=1)\n",
    "df['avg_revenue_0'] = df.apply(lambda row: np.mean([revenue for revenue, date in zip(row['revenue'], row['release_date']) if row['start_date_1'] <= date <= row['end_date_1']]), axis=1)\n",
    "df['avg_revenue_1'] = df.apply(lambda row: np.mean([revenue for revenue, date in zip(row['revenue'], row['release_date']) if row['start_date_2'] <= date <= row['end_date_2']]), axis=1)\n",
    "df['avg_revenue_2'] = df.apply(lambda row: np.mean([revenue for revenue, date in zip(row['revenue'], row['release_date']) if row['start_date_3']<= date <= row['end_date_3']]), axis=1)\n",
    "df['avg_imdb_rating_0'] = df.apply(lambda row: np.mean([imdb_rating for imdb_rating, date in zip(row['imdb_average_rating'], row['release_date']) if row['start_date_1'] <= date <= row['end_date_1']]), axis=1)\n",
    "df['avg_imdb_rating_1'] = df.apply(lambda row: np.mean([imdb_rating for imdb_rating, date in zip(row['imdb_average_rating'], row['release_date']) if row['start_date_2'] <= date <= row['end_date_2']]), axis=1)\n",
    "df['avg_imdb_rating_2'] = df.apply(lambda row: np.mean([imdb_rating for imdb_rating, date in zip(row['imdb_average_rating'], row['release_date']) if row['start_date_3']<= date <= row['end_date_3']]), axis=1)\n",
    "df['avg_order_0'] = df.apply(lambda row: np.mean([order for order, date in zip(row['order'], row['release_date']) if row['start_date_1'] <= date <= row['end_date_1']]), axis=1)\n",
    "df['avg_order_1'] = df.apply(lambda row: np.mean([order for order, date in zip(row['order'], row['release_date']) if row['start_date_2'] <= date <= row['end_date_2']]), axis=1)\n",
    "df['avg_order_2'] = df.apply(lambda row: np.mean([order for order, date in zip(row['order'], row['release_date']) if row['start_date_3'] <= date <= row['end_date_3']]), axis=1)\n",
    "df['std_order_0'] = df.apply(lambda row: np.std([order for order, date in zip(row['order'], row['release_date']) if row['start_date_1'] <= date <= row['end_date_1']]), axis=1)\n",
    "df['std_order_1'] = df.apply(lambda row: np.std([order for order, date in zip(row['order'], row['release_date']) if row['start_date_2'] <= date <= row['end_date_2']]), axis=1)\n",
    "df['std_order_2'] = df.apply(lambda row: np.std([order for order, date in zip(row['order'], row['release_date']) if row['start_date_3'] <= date <= row['end_date_3']]), axis=1)\n",
    "df['avg_popularity_0'] = df.apply(lambda row: np.mean([popularity for popularity, date in zip(row['popularity'], row['release_date']) if row['start_date_1'] <= date <= row['end_date_1']]), axis=1)\n",
    "df['avg_popularity_1'] = df.apply(lambda row: np.mean([popularity for popularity, date in zip(row['popularity'], row['release_date']) if row['start_date_2'] <= date <= row['end_date_2']]), axis=1)\n",
    "df['avg_popularity_2'] = df.apply(lambda row: np.mean([popularity for popularity, date in zip(row['popularity'], row['release_date']) if row['start_date_3'] <= date <= row['end_date_3']]), axis=1)"
   ]
  },
  {
   "cell_type": "code",
   "execution_count": 79,
   "metadata": {},
   "outputs": [
    {
     "data": {
      "text/html": [
       "<div>\n",
       "<style scoped>\n",
       "    .dataframe tbody tr th:only-of-type {\n",
       "        vertical-align: middle;\n",
       "    }\n",
       "\n",
       "    .dataframe tbody tr th {\n",
       "        vertical-align: top;\n",
       "    }\n",
       "\n",
       "    .dataframe thead th {\n",
       "        text-align: right;\n",
       "    }\n",
       "</style>\n",
       "<table border=\"1\" class=\"dataframe\">\n",
       "  <thead>\n",
       "    <tr style=\"text-align: right;\">\n",
       "      <th></th>\n",
       "      <th>name</th>\n",
       "      <th>gender</th>\n",
       "      <th>genres</th>\n",
       "      <th>career_length</th>\n",
       "      <th>number_of_movies</th>\n",
       "      <th>start_date_1</th>\n",
       "      <th>end_date_1</th>\n",
       "      <th>start_date_2</th>\n",
       "      <th>end_date_2</th>\n",
       "      <th>start_date_3</th>\n",
       "      <th>...</th>\n",
       "      <th>std_order_2</th>\n",
       "      <th>avg_popularity_0</th>\n",
       "      <th>avg_popularity_1</th>\n",
       "      <th>avg_popularity_2</th>\n",
       "      <th>n_genres_0</th>\n",
       "      <th>main_genre_0</th>\n",
       "      <th>n_genres_1</th>\n",
       "      <th>main_genre_1</th>\n",
       "      <th>n_genres_2</th>\n",
       "      <th>main_genre_2</th>\n",
       "    </tr>\n",
       "  </thead>\n",
       "  <tbody>\n",
       "    <tr>\n",
       "      <th>2</th>\n",
       "      <td>A Martinez</td>\n",
       "      <td>2</td>\n",
       "      <td>[[{'id': 35, 'name': 'Comedy'}], [{'id': 18, '...</td>\n",
       "      <td>54</td>\n",
       "      <td>54</td>\n",
       "      <td>1968-10-01</td>\n",
       "      <td>1986-09-27</td>\n",
       "      <td>1986-09-27</td>\n",
       "      <td>2004-09-22</td>\n",
       "      <td>2004-09-22</td>\n",
       "      <td>...</td>\n",
       "      <td>3.323987</td>\n",
       "      <td>12.934750</td>\n",
       "      <td>12.394864</td>\n",
       "      <td>12.983600</td>\n",
       "      <td>10</td>\n",
       "      <td>[Drama]</td>\n",
       "      <td>14</td>\n",
       "      <td>[Drama]</td>\n",
       "      <td>10</td>\n",
       "      <td>[Drama]</td>\n",
       "    </tr>\n",
       "    <tr>\n",
       "      <th>6</th>\n",
       "      <td>Aamir Khan</td>\n",
       "      <td>2</td>\n",
       "      <td>[[{'id': 28, 'name': 'Action'}, {'id': 12, 'na...</td>\n",
       "      <td>49</td>\n",
       "      <td>61</td>\n",
       "      <td>1973-02-18</td>\n",
       "      <td>1989-02-14</td>\n",
       "      <td>1989-02-14</td>\n",
       "      <td>2005-02-10</td>\n",
       "      <td>2005-02-10</td>\n",
       "      <td>...</td>\n",
       "      <td>5.474119</td>\n",
       "      <td>15.212750</td>\n",
       "      <td>18.546516</td>\n",
       "      <td>20.704615</td>\n",
       "      <td>4</td>\n",
       "      <td>[Drama]</td>\n",
       "      <td>11</td>\n",
       "      <td>[Drama]</td>\n",
       "      <td>13</td>\n",
       "      <td>[Drama]</td>\n",
       "    </tr>\n",
       "    <tr>\n",
       "      <th>31</th>\n",
       "      <td>Abby Dalton</td>\n",
       "      <td>1</td>\n",
       "      <td>[[{'id': 12, 'name': 'Adventure'}], [{'id': 80...</td>\n",
       "      <td>51</td>\n",
       "      <td>15</td>\n",
       "      <td>1957-04-01</td>\n",
       "      <td>1974-03-28</td>\n",
       "      <td>1974-03-28</td>\n",
       "      <td>1991-03-24</td>\n",
       "      <td>1991-03-24</td>\n",
       "      <td>...</td>\n",
       "      <td>2.357023</td>\n",
       "      <td>8.622700</td>\n",
       "      <td>6.832000</td>\n",
       "      <td>13.248000</td>\n",
       "      <td>8</td>\n",
       "      <td>[Drama]</td>\n",
       "      <td>5</td>\n",
       "      <td>[Drama, Comedy]</td>\n",
       "      <td>4</td>\n",
       "      <td>[Adventure, Horror]</td>\n",
       "    </tr>\n",
       "    <tr>\n",
       "      <th>35</th>\n",
       "      <td>Abe Vigoda</td>\n",
       "      <td>2</td>\n",
       "      <td>[[{'id': 35, 'name': 'Comedy'}, {'id': 18, 'na...</td>\n",
       "      <td>43</td>\n",
       "      <td>44</td>\n",
       "      <td>1965-11-10</td>\n",
       "      <td>1979-11-07</td>\n",
       "      <td>1979-11-07</td>\n",
       "      <td>1993-11-03</td>\n",
       "      <td>1993-11-03</td>\n",
       "      <td>...</td>\n",
       "      <td>8.056891</td>\n",
       "      <td>15.844286</td>\n",
       "      <td>13.599154</td>\n",
       "      <td>14.722000</td>\n",
       "      <td>8</td>\n",
       "      <td>[TV Movie, Drama]</td>\n",
       "      <td>14</td>\n",
       "      <td>[Comedy]</td>\n",
       "      <td>12</td>\n",
       "      <td>[Comedy]</td>\n",
       "    </tr>\n",
       "    <tr>\n",
       "      <th>42</th>\n",
       "      <td>Adam Arkin</td>\n",
       "      <td>2</td>\n",
       "      <td>[[{'id': 35, 'name': 'Comedy'}], [{'id': 10751...</td>\n",
       "      <td>52</td>\n",
       "      <td>48</td>\n",
       "      <td>1969-01-01</td>\n",
       "      <td>1985-12-28</td>\n",
       "      <td>1985-12-28</td>\n",
       "      <td>2002-12-24</td>\n",
       "      <td>2002-12-24</td>\n",
       "      <td>...</td>\n",
       "      <td>3.703452</td>\n",
       "      <td>14.309300</td>\n",
       "      <td>17.324913</td>\n",
       "      <td>17.235933</td>\n",
       "      <td>8</td>\n",
       "      <td>[Comedy]</td>\n",
       "      <td>11</td>\n",
       "      <td>[Drama]</td>\n",
       "      <td>10</td>\n",
       "      <td>[Drama]</td>\n",
       "    </tr>\n",
       "    <tr>\n",
       "      <th>...</th>\n",
       "      <td>...</td>\n",
       "      <td>...</td>\n",
       "      <td>...</td>\n",
       "      <td>...</td>\n",
       "      <td>...</td>\n",
       "      <td>...</td>\n",
       "      <td>...</td>\n",
       "      <td>...</td>\n",
       "      <td>...</td>\n",
       "      <td>...</td>\n",
       "      <td>...</td>\n",
       "      <td>...</td>\n",
       "      <td>...</td>\n",
       "      <td>...</td>\n",
       "      <td>...</td>\n",
       "      <td>...</td>\n",
       "      <td>...</td>\n",
       "      <td>...</td>\n",
       "      <td>...</td>\n",
       "      <td>...</td>\n",
       "      <td>...</td>\n",
       "    </tr>\n",
       "    <tr>\n",
       "      <th>7955</th>\n",
       "      <td>Yorgo Voyagis</td>\n",
       "      <td>2</td>\n",
       "      <td>[[{'id': 18, 'name': 'Drama'}], [{'id': 53, 'n...</td>\n",
       "      <td>57</td>\n",
       "      <td>38</td>\n",
       "      <td>1964-12-14</td>\n",
       "      <td>1983-12-10</td>\n",
       "      <td>1983-12-10</td>\n",
       "      <td>2002-12-05</td>\n",
       "      <td>2002-12-05</td>\n",
       "      <td>...</td>\n",
       "      <td>19.141791</td>\n",
       "      <td>11.553000</td>\n",
       "      <td>11.282600</td>\n",
       "      <td>10.125571</td>\n",
       "      <td>9</td>\n",
       "      <td>[Drama]</td>\n",
       "      <td>15</td>\n",
       "      <td>[Drama]</td>\n",
       "      <td>4</td>\n",
       "      <td>[Drama]</td>\n",
       "    </tr>\n",
       "    <tr>\n",
       "      <th>7964</th>\n",
       "      <td>Yuen Wah</td>\n",
       "      <td>2</td>\n",
       "      <td>[[{'id': 28, 'name': 'Action'}, {'id': 12, 'na...</td>\n",
       "      <td>61</td>\n",
       "      <td>152</td>\n",
       "      <td>1962-12-05</td>\n",
       "      <td>1982-11-30</td>\n",
       "      <td>1982-11-30</td>\n",
       "      <td>2002-11-25</td>\n",
       "      <td>2002-11-25</td>\n",
       "      <td>...</td>\n",
       "      <td>4.997298</td>\n",
       "      <td>13.755565</td>\n",
       "      <td>14.107212</td>\n",
       "      <td>13.824447</td>\n",
       "      <td>10</td>\n",
       "      <td>[Action]</td>\n",
       "      <td>12</td>\n",
       "      <td>[Action]</td>\n",
       "      <td>14</td>\n",
       "      <td>[Action]</td>\n",
       "    </tr>\n",
       "    <tr>\n",
       "      <th>7980</th>\n",
       "      <td>Yuko Tanaka</td>\n",
       "      <td>1</td>\n",
       "      <td>[[{'id': 18, 'name': 'Drama'}], [{'id': 18, 'n...</td>\n",
       "      <td>42</td>\n",
       "      <td>36</td>\n",
       "      <td>1981-01-08</td>\n",
       "      <td>1995-01-05</td>\n",
       "      <td>1995-01-05</td>\n",
       "      <td>2009-01-01</td>\n",
       "      <td>2009-01-01</td>\n",
       "      <td>...</td>\n",
       "      <td>3.080551</td>\n",
       "      <td>19.200000</td>\n",
       "      <td>16.964500</td>\n",
       "      <td>18.901571</td>\n",
       "      <td>7</td>\n",
       "      <td>[Drama]</td>\n",
       "      <td>5</td>\n",
       "      <td>[Drama]</td>\n",
       "      <td>5</td>\n",
       "      <td>[Drama]</td>\n",
       "    </tr>\n",
       "    <tr>\n",
       "      <th>8046</th>\n",
       "      <td>Zoë Wanamaker</td>\n",
       "      <td>1</td>\n",
       "      <td>[[{'id': 18, 'name': 'Drama'}], [], [{'id': 18...</td>\n",
       "      <td>46</td>\n",
       "      <td>36</td>\n",
       "      <td>1973-04-19</td>\n",
       "      <td>1988-04-15</td>\n",
       "      <td>1988-04-15</td>\n",
       "      <td>2003-04-12</td>\n",
       "      <td>2003-04-12</td>\n",
       "      <td>...</td>\n",
       "      <td>6.383267</td>\n",
       "      <td>21.906875</td>\n",
       "      <td>21.665500</td>\n",
       "      <td>22.918563</td>\n",
       "      <td>6</td>\n",
       "      <td>[Drama]</td>\n",
       "      <td>9</td>\n",
       "      <td>[Drama]</td>\n",
       "      <td>12</td>\n",
       "      <td>[Drama]</td>\n",
       "    </tr>\n",
       "    <tr>\n",
       "      <th>8048</th>\n",
       "      <td>Ángela Molina</td>\n",
       "      <td>1</td>\n",
       "      <td>[[{'id': 12, 'name': 'Adventure'}, {'id': 35, ...</td>\n",
       "      <td>48</td>\n",
       "      <td>121</td>\n",
       "      <td>1975-02-01</td>\n",
       "      <td>1991-01-28</td>\n",
       "      <td>1991-01-28</td>\n",
       "      <td>2007-01-24</td>\n",
       "      <td>2007-01-24</td>\n",
       "      <td>...</td>\n",
       "      <td>3.921485</td>\n",
       "      <td>17.181000</td>\n",
       "      <td>16.305850</td>\n",
       "      <td>17.064282</td>\n",
       "      <td>11</td>\n",
       "      <td>[Drama]</td>\n",
       "      <td>15</td>\n",
       "      <td>[Drama]</td>\n",
       "      <td>14</td>\n",
       "      <td>[Drama]</td>\n",
       "    </tr>\n",
       "  </tbody>\n",
       "</table>\n",
       "<p>1806 rows × 41 columns</p>\n",
       "</div>"
      ],
      "text/plain": [
       "               name  gender  \\\n",
       "2        A Martinez       2   \n",
       "6        Aamir Khan       2   \n",
       "31      Abby Dalton       1   \n",
       "35       Abe Vigoda       2   \n",
       "42       Adam Arkin       2   \n",
       "...             ...     ...   \n",
       "7955  Yorgo Voyagis       2   \n",
       "7964       Yuen Wah       2   \n",
       "7980    Yuko Tanaka       1   \n",
       "8046  Zoë Wanamaker       1   \n",
       "8048  Ángela Molina       1   \n",
       "\n",
       "                                                 genres  career_length  \\\n",
       "2     [[{'id': 35, 'name': 'Comedy'}], [{'id': 18, '...             54   \n",
       "6     [[{'id': 28, 'name': 'Action'}, {'id': 12, 'na...             49   \n",
       "31    [[{'id': 12, 'name': 'Adventure'}], [{'id': 80...             51   \n",
       "35    [[{'id': 35, 'name': 'Comedy'}, {'id': 18, 'na...             43   \n",
       "42    [[{'id': 35, 'name': 'Comedy'}], [{'id': 10751...             52   \n",
       "...                                                 ...            ...   \n",
       "7955  [[{'id': 18, 'name': 'Drama'}], [{'id': 53, 'n...             57   \n",
       "7964  [[{'id': 28, 'name': 'Action'}, {'id': 12, 'na...             61   \n",
       "7980  [[{'id': 18, 'name': 'Drama'}], [{'id': 18, 'n...             42   \n",
       "8046  [[{'id': 18, 'name': 'Drama'}], [], [{'id': 18...             46   \n",
       "8048  [[{'id': 12, 'name': 'Adventure'}, {'id': 35, ...             48   \n",
       "\n",
       "      number_of_movies start_date_1 end_date_1 start_date_2 end_date_2  \\\n",
       "2                   54   1968-10-01 1986-09-27   1986-09-27 2004-09-22   \n",
       "6                   61   1973-02-18 1989-02-14   1989-02-14 2005-02-10   \n",
       "31                  15   1957-04-01 1974-03-28   1974-03-28 1991-03-24   \n",
       "35                  44   1965-11-10 1979-11-07   1979-11-07 1993-11-03   \n",
       "42                  48   1969-01-01 1985-12-28   1985-12-28 2002-12-24   \n",
       "...                ...          ...        ...          ...        ...   \n",
       "7955                38   1964-12-14 1983-12-10   1983-12-10 2002-12-05   \n",
       "7964               152   1962-12-05 1982-11-30   1982-11-30 2002-11-25   \n",
       "7980                36   1981-01-08 1995-01-05   1995-01-05 2009-01-01   \n",
       "8046                36   1973-04-19 1988-04-15   1988-04-15 2003-04-12   \n",
       "8048               121   1975-02-01 1991-01-28   1991-01-28 2007-01-24   \n",
       "\n",
       "     start_date_3  ... std_order_2  avg_popularity_0  avg_popularity_1  \\\n",
       "2      2004-09-22  ...    3.323987         12.934750         12.394864   \n",
       "6      2005-02-10  ...    5.474119         15.212750         18.546516   \n",
       "31     1991-03-24  ...    2.357023          8.622700          6.832000   \n",
       "35     1993-11-03  ...    8.056891         15.844286         13.599154   \n",
       "42     2002-12-24  ...    3.703452         14.309300         17.324913   \n",
       "...           ...  ...         ...               ...               ...   \n",
       "7955   2002-12-05  ...   19.141791         11.553000         11.282600   \n",
       "7964   2002-11-25  ...    4.997298         13.755565         14.107212   \n",
       "7980   2009-01-01  ...    3.080551         19.200000         16.964500   \n",
       "8046   2003-04-12  ...    6.383267         21.906875         21.665500   \n",
       "8048   2007-01-24  ...    3.921485         17.181000         16.305850   \n",
       "\n",
       "      avg_popularity_2  n_genres_0       main_genre_0  n_genres_1  \\\n",
       "2            12.983600          10            [Drama]          14   \n",
       "6            20.704615           4            [Drama]          11   \n",
       "31           13.248000           8            [Drama]           5   \n",
       "35           14.722000           8  [TV Movie, Drama]          14   \n",
       "42           17.235933           8           [Comedy]          11   \n",
       "...                ...         ...                ...         ...   \n",
       "7955         10.125571           9            [Drama]          15   \n",
       "7964         13.824447          10           [Action]          12   \n",
       "7980         18.901571           7            [Drama]           5   \n",
       "8046         22.918563           6            [Drama]           9   \n",
       "8048         17.064282          11            [Drama]          15   \n",
       "\n",
       "         main_genre_1  n_genres_2         main_genre_2  \n",
       "2             [Drama]          10              [Drama]  \n",
       "6             [Drama]          13              [Drama]  \n",
       "31    [Drama, Comedy]           4  [Adventure, Horror]  \n",
       "35           [Comedy]          12             [Comedy]  \n",
       "42            [Drama]          10              [Drama]  \n",
       "...               ...         ...                  ...  \n",
       "7955          [Drama]           4              [Drama]  \n",
       "7964         [Action]          14             [Action]  \n",
       "7980          [Drama]           5              [Drama]  \n",
       "8046          [Drama]          12              [Drama]  \n",
       "8048          [Drama]          14              [Drama]  \n",
       "\n",
       "[1806 rows x 41 columns]"
      ]
     },
     "metadata": {},
     "output_type": "display_data"
    }
   ],
   "source": [
    "# calculate number of genres and main one for the each time period\n",
    "df[[\"n_genres_0\", \"main_genre_0\"]] = df.apply(genres_stats_per_period, \n",
    "                                              start_column=\"start_date_1\", \n",
    "                                              end_column=\"end_date_1\", \n",
    "                                              axis=1, result_type=\"expand\")\n",
    "df[[\"n_genres_1\", \"main_genre_1\"]] = df.apply(genres_stats_per_period, \n",
    "                                              start_column=\"start_date_2\", \n",
    "                                              end_column=\"end_date_2\", \n",
    "                                              axis=1, result_type=\"expand\")\n",
    "df[[\"n_genres_2\", \"main_genre_2\"]] = df.apply(genres_stats_per_period, \n",
    "                                              start_column=\"start_date_3\", \n",
    "                                              end_column=\"end_date_3\", \n",
    "                                              axis=1, result_type=\"expand\")\n",
    "\n",
    "\n",
    "\n",
    "# Drop unnecessary columns\n",
    "df = df.drop(['release_date', 'budget', 'revenue', 'imdb_average_rating', 'order', 'popularity'], axis=1)\n",
    "df = df.drop(['interval'], axis=1)\n",
    "\n",
    "group3_divided_df = df.copy()\n",
    "display(group3_divided_df)"
   ]
  },
  {
   "cell_type": "code",
   "execution_count": 80,
   "metadata": {},
   "outputs": [],
   "source": [
    "# save the dataframes into csv files \n",
    "group1_divided_df.to_csv('../Data/preprocessed_data/group1_divided_df.csv', index=True)\n",
    "group2_divided_df.to_csv('../Data/preprocessed_data/group2_divided_df.csv', index=True)\n",
    "group3_divided_df.to_csv('../Data/preprocessed_data/group3_divided_df.csv', index=True)\n"
   ]
  },
  {
   "cell_type": "code",
   "execution_count": 28,
   "metadata": {},
   "outputs": [
    {
     "data": {
      "text/html": [
       "<div>\n",
       "<style scoped>\n",
       "    .dataframe tbody tr th:only-of-type {\n",
       "        vertical-align: middle;\n",
       "    }\n",
       "\n",
       "    .dataframe tbody tr th {\n",
       "        vertical-align: top;\n",
       "    }\n",
       "\n",
       "    .dataframe thead th {\n",
       "        text-align: right;\n",
       "    }\n",
       "</style>\n",
       "<table border=\"1\" class=\"dataframe\">\n",
       "  <thead>\n",
       "    <tr style=\"text-align: right;\">\n",
       "      <th></th>\n",
       "      <th>gender</th>\n",
       "      <th>actor_id</th>\n",
       "      <th>name</th>\n",
       "      <th>popularity</th>\n",
       "      <th>character</th>\n",
       "      <th>order</th>\n",
       "      <th>movie_id</th>\n",
       "      <th>original_title</th>\n",
       "      <th>release_date</th>\n",
       "      <th>original_language</th>\n",
       "      <th>genres</th>\n",
       "      <th>budget</th>\n",
       "      <th>revenue</th>\n",
       "      <th>imdb_average_rating</th>\n",
       "    </tr>\n",
       "  </thead>\n",
       "  <tbody>\n",
       "    <tr>\n",
       "      <th>0</th>\n",
       "      <td>1</td>\n",
       "      <td>57395</td>\n",
       "      <td>Natasha Henstridge</td>\n",
       "      <td>49.626</td>\n",
       "      <td>Lt. Melanie Ballard</td>\n",
       "      <td>0</td>\n",
       "      <td>10016</td>\n",
       "      <td>Ghosts of Mars</td>\n",
       "      <td>2001-08-24</td>\n",
       "      <td>en</td>\n",
       "      <td>[{'id': 28, 'name': 'Action'}, {'id': 27, 'nam...</td>\n",
       "      <td>28000000</td>\n",
       "      <td>14010832</td>\n",
       "      <td>4.9</td>\n",
       "    </tr>\n",
       "    <tr>\n",
       "      <th>1</th>\n",
       "      <td>2</td>\n",
       "      <td>9778</td>\n",
       "      <td>Ice Cube</td>\n",
       "      <td>24.423</td>\n",
       "      <td>James 'Desolation' Williams</td>\n",
       "      <td>1</td>\n",
       "      <td>10016</td>\n",
       "      <td>Ghosts of Mars</td>\n",
       "      <td>2001-08-24</td>\n",
       "      <td>en</td>\n",
       "      <td>[{'id': 28, 'name': 'Action'}, {'id': 27, 'nam...</td>\n",
       "      <td>28000000</td>\n",
       "      <td>14010832</td>\n",
       "      <td>4.9</td>\n",
       "    </tr>\n",
       "    <tr>\n",
       "      <th>2</th>\n",
       "      <td>1</td>\n",
       "      <td>2230</td>\n",
       "      <td>Pam Grier</td>\n",
       "      <td>22.806</td>\n",
       "      <td>Commander Helena Braddock</td>\n",
       "      <td>2</td>\n",
       "      <td>10016</td>\n",
       "      <td>Ghosts of Mars</td>\n",
       "      <td>2001-08-24</td>\n",
       "      <td>en</td>\n",
       "      <td>[{'id': 28, 'name': 'Action'}, {'id': 27, 'nam...</td>\n",
       "      <td>28000000</td>\n",
       "      <td>14010832</td>\n",
       "      <td>4.9</td>\n",
       "    </tr>\n",
       "    <tr>\n",
       "      <th>3</th>\n",
       "      <td>2</td>\n",
       "      <td>976</td>\n",
       "      <td>Jason Statham</td>\n",
       "      <td>199.055</td>\n",
       "      <td>Sgt. Jericho Butler</td>\n",
       "      <td>3</td>\n",
       "      <td>10016</td>\n",
       "      <td>Ghosts of Mars</td>\n",
       "      <td>2001-08-24</td>\n",
       "      <td>en</td>\n",
       "      <td>[{'id': 28, 'name': 'Action'}, {'id': 27, 'nam...</td>\n",
       "      <td>28000000</td>\n",
       "      <td>14010832</td>\n",
       "      <td>4.9</td>\n",
       "    </tr>\n",
       "    <tr>\n",
       "      <th>4</th>\n",
       "      <td>1</td>\n",
       "      <td>20387</td>\n",
       "      <td>Clea DuVall</td>\n",
       "      <td>21.220</td>\n",
       "      <td>Bashira Kincaid</td>\n",
       "      <td>4</td>\n",
       "      <td>10016</td>\n",
       "      <td>Ghosts of Mars</td>\n",
       "      <td>2001-08-24</td>\n",
       "      <td>en</td>\n",
       "      <td>[{'id': 28, 'name': 'Action'}, {'id': 27, 'nam...</td>\n",
       "      <td>28000000</td>\n",
       "      <td>14010832</td>\n",
       "      <td>4.9</td>\n",
       "    </tr>\n",
       "    <tr>\n",
       "      <th>...</th>\n",
       "      <td>...</td>\n",
       "      <td>...</td>\n",
       "      <td>...</td>\n",
       "      <td>...</td>\n",
       "      <td>...</td>\n",
       "      <td>...</td>\n",
       "      <td>...</td>\n",
       "      <td>...</td>\n",
       "      <td>...</td>\n",
       "      <td>...</td>\n",
       "      <td>...</td>\n",
       "      <td>...</td>\n",
       "      <td>...</td>\n",
       "      <td>...</td>\n",
       "    </tr>\n",
       "    <tr>\n",
       "      <th>307595</th>\n",
       "      <td>1</td>\n",
       "      <td>8857</td>\n",
       "      <td>Debbie Reynolds</td>\n",
       "      <td>20.281</td>\n",
       "      <td>Self (archive footage)</td>\n",
       "      <td>8</td>\n",
       "      <td>844511</td>\n",
       "      <td>Sœur Sourire : Qui a tué la voix de Dieu ?</td>\n",
       "      <td>2021-06-11</td>\n",
       "      <td>fr</td>\n",
       "      <td>[{'id': 99, 'name': 'Documentary'}, {'id': 104...</td>\n",
       "      <td>0</td>\n",
       "      <td>0</td>\n",
       "      <td>7.1</td>\n",
       "    </tr>\n",
       "    <tr>\n",
       "      <th>307596</th>\n",
       "      <td>1</td>\n",
       "      <td>164094</td>\n",
       "      <td>Marin Ireland</td>\n",
       "      <td>15.430</td>\n",
       "      <td>Anna</td>\n",
       "      <td>0</td>\n",
       "      <td>589496</td>\n",
       "      <td>Megafauna</td>\n",
       "      <td>2010-06-04</td>\n",
       "      <td>en</td>\n",
       "      <td>[{'id': 18, 'name': 'Drama'}, {'id': 10749, 'n...</td>\n",
       "      <td>0</td>\n",
       "      <td>0</td>\n",
       "      <td>6.7</td>\n",
       "    </tr>\n",
       "    <tr>\n",
       "      <th>307597</th>\n",
       "      <td>2</td>\n",
       "      <td>58769</td>\n",
       "      <td>Stephen Colbert</td>\n",
       "      <td>4.737</td>\n",
       "      <td>Self (archive footage)</td>\n",
       "      <td>12</td>\n",
       "      <td>376261</td>\n",
       "      <td>Weiner</td>\n",
       "      <td>2016-05-20</td>\n",
       "      <td>en</td>\n",
       "      <td>[{'id': 99, 'name': 'Documentary'}]</td>\n",
       "      <td>0</td>\n",
       "      <td>0</td>\n",
       "      <td>7.6</td>\n",
       "    </tr>\n",
       "    <tr>\n",
       "      <th>307598</th>\n",
       "      <td>2</td>\n",
       "      <td>33663</td>\n",
       "      <td>Donald Trump</td>\n",
       "      <td>18.380</td>\n",
       "      <td>Self (archive footage)</td>\n",
       "      <td>16</td>\n",
       "      <td>376261</td>\n",
       "      <td>Weiner</td>\n",
       "      <td>2016-05-20</td>\n",
       "      <td>en</td>\n",
       "      <td>[{'id': 99, 'name': 'Documentary'}]</td>\n",
       "      <td>0</td>\n",
       "      <td>0</td>\n",
       "      <td>7.6</td>\n",
       "    </tr>\n",
       "    <tr>\n",
       "      <th>307599</th>\n",
       "      <td>2</td>\n",
       "      <td>10367</td>\n",
       "      <td>John Waters</td>\n",
       "      <td>10.797</td>\n",
       "      <td>Self (archive footage)</td>\n",
       "      <td>17</td>\n",
       "      <td>376261</td>\n",
       "      <td>Weiner</td>\n",
       "      <td>2016-05-20</td>\n",
       "      <td>en</td>\n",
       "      <td>[{'id': 99, 'name': 'Documentary'}]</td>\n",
       "      <td>0</td>\n",
       "      <td>0</td>\n",
       "      <td>7.6</td>\n",
       "    </tr>\n",
       "  </tbody>\n",
       "</table>\n",
       "<p>307600 rows × 14 columns</p>\n",
       "</div>"
      ],
      "text/plain": [
       "        gender  actor_id                name  popularity  \\\n",
       "0            1     57395  Natasha Henstridge      49.626   \n",
       "1            2      9778            Ice Cube      24.423   \n",
       "2            1      2230           Pam Grier      22.806   \n",
       "3            2       976       Jason Statham     199.055   \n",
       "4            1     20387         Clea DuVall      21.220   \n",
       "...        ...       ...                 ...         ...   \n",
       "307595       1      8857     Debbie Reynolds      20.281   \n",
       "307596       1    164094       Marin Ireland      15.430   \n",
       "307597       2     58769     Stephen Colbert       4.737   \n",
       "307598       2     33663        Donald Trump      18.380   \n",
       "307599       2     10367         John Waters      10.797   \n",
       "\n",
       "                          character  order  movie_id  \\\n",
       "0               Lt. Melanie Ballard      0     10016   \n",
       "1       James 'Desolation' Williams      1     10016   \n",
       "2         Commander Helena Braddock      2     10016   \n",
       "3               Sgt. Jericho Butler      3     10016   \n",
       "4                   Bashira Kincaid      4     10016   \n",
       "...                             ...    ...       ...   \n",
       "307595       Self (archive footage)      8    844511   \n",
       "307596                         Anna      0    589496   \n",
       "307597       Self (archive footage)     12    376261   \n",
       "307598       Self (archive footage)     16    376261   \n",
       "307599       Self (archive footage)     17    376261   \n",
       "\n",
       "                                    original_title release_date  \\\n",
       "0                                   Ghosts of Mars   2001-08-24   \n",
       "1                                   Ghosts of Mars   2001-08-24   \n",
       "2                                   Ghosts of Mars   2001-08-24   \n",
       "3                                   Ghosts of Mars   2001-08-24   \n",
       "4                                   Ghosts of Mars   2001-08-24   \n",
       "...                                            ...          ...   \n",
       "307595  Sœur Sourire : Qui a tué la voix de Dieu ?   2021-06-11   \n",
       "307596                                   Megafauna   2010-06-04   \n",
       "307597                                      Weiner   2016-05-20   \n",
       "307598                                      Weiner   2016-05-20   \n",
       "307599                                      Weiner   2016-05-20   \n",
       "\n",
       "       original_language                                             genres  \\\n",
       "0                     en  [{'id': 28, 'name': 'Action'}, {'id': 27, 'nam...   \n",
       "1                     en  [{'id': 28, 'name': 'Action'}, {'id': 27, 'nam...   \n",
       "2                     en  [{'id': 28, 'name': 'Action'}, {'id': 27, 'nam...   \n",
       "3                     en  [{'id': 28, 'name': 'Action'}, {'id': 27, 'nam...   \n",
       "4                     en  [{'id': 28, 'name': 'Action'}, {'id': 27, 'nam...   \n",
       "...                  ...                                                ...   \n",
       "307595                fr  [{'id': 99, 'name': 'Documentary'}, {'id': 104...   \n",
       "307596                en  [{'id': 18, 'name': 'Drama'}, {'id': 10749, 'n...   \n",
       "307597                en                [{'id': 99, 'name': 'Documentary'}]   \n",
       "307598                en                [{'id': 99, 'name': 'Documentary'}]   \n",
       "307599                en                [{'id': 99, 'name': 'Documentary'}]   \n",
       "\n",
       "          budget   revenue  imdb_average_rating  \n",
       "0       28000000  14010832                  4.9  \n",
       "1       28000000  14010832                  4.9  \n",
       "2       28000000  14010832                  4.9  \n",
       "3       28000000  14010832                  4.9  \n",
       "4       28000000  14010832                  4.9  \n",
       "...          ...       ...                  ...  \n",
       "307595         0         0                  7.1  \n",
       "307596         0         0                  6.7  \n",
       "307597         0         0                  7.6  \n",
       "307598         0         0                  7.6  \n",
       "307599         0         0                  7.6  \n",
       "\n",
       "[307600 rows x 14 columns]"
      ]
     },
     "metadata": {},
     "output_type": "display_data"
    },
    {
     "data": {
      "text/html": [
       "<div>\n",
       "<style scoped>\n",
       "    .dataframe tbody tr th:only-of-type {\n",
       "        vertical-align: middle;\n",
       "    }\n",
       "\n",
       "    .dataframe tbody tr th {\n",
       "        vertical-align: top;\n",
       "    }\n",
       "\n",
       "    .dataframe thead th {\n",
       "        text-align: right;\n",
       "    }\n",
       "</style>\n",
       "<table border=\"1\" class=\"dataframe\">\n",
       "  <thead>\n",
       "    <tr style=\"text-align: right;\">\n",
       "      <th></th>\n",
       "      <th>Unnamed: 0</th>\n",
       "      <th>name</th>\n",
       "      <th>gender</th>\n",
       "      <th>career_length</th>\n",
       "      <th>avg_revenue_0</th>\n",
       "      <th>avg_budget_0</th>\n",
       "      <th>avg_imdb_rating_0</th>\n",
       "      <th>avg_order_0</th>\n",
       "      <th>avg_popularity_0</th>\n",
       "      <th>genre_mean_weighted</th>\n",
       "    </tr>\n",
       "  </thead>\n",
       "  <tbody>\n",
       "    <tr>\n",
       "      <th>0</th>\n",
       "      <td>0</td>\n",
       "      <td>Aaron Abrams</td>\n",
       "      <td>2</td>\n",
       "      <td>17</td>\n",
       "      <td>9.727650e+06</td>\n",
       "      <td>7.656250e+06</td>\n",
       "      <td>6.059375</td>\n",
       "      <td>9.031250</td>\n",
       "      <td>9.070594</td>\n",
       "      <td>['Family']</td>\n",
       "    </tr>\n",
       "    <tr>\n",
       "      <th>1</th>\n",
       "      <td>1</td>\n",
       "      <td>Aaron Hill</td>\n",
       "      <td>2</td>\n",
       "      <td>8</td>\n",
       "      <td>8.083936e+07</td>\n",
       "      <td>2.177273e+07</td>\n",
       "      <td>5.072727</td>\n",
       "      <td>8.909091</td>\n",
       "      <td>18.326818</td>\n",
       "      <td>['Family']</td>\n",
       "    </tr>\n",
       "    <tr>\n",
       "      <th>2</th>\n",
       "      <td>2</td>\n",
       "      <td>Aaron Himelstein</td>\n",
       "      <td>2</td>\n",
       "      <td>16</td>\n",
       "      <td>1.541810e+08</td>\n",
       "      <td>4.114062e+07</td>\n",
       "      <td>5.918750</td>\n",
       "      <td>15.687500</td>\n",
       "      <td>17.487375</td>\n",
       "      <td>['Mystery']</td>\n",
       "    </tr>\n",
       "    <tr>\n",
       "      <th>3</th>\n",
       "      <td>3</td>\n",
       "      <td>Aaron Staton</td>\n",
       "      <td>2</td>\n",
       "      <td>11</td>\n",
       "      <td>1.424238e+07</td>\n",
       "      <td>5.625000e+06</td>\n",
       "      <td>5.537500</td>\n",
       "      <td>12.750000</td>\n",
       "      <td>10.733125</td>\n",
       "      <td>['Crime']</td>\n",
       "    </tr>\n",
       "    <tr>\n",
       "      <th>4</th>\n",
       "      <td>4</td>\n",
       "      <td>Aaron Tveit</td>\n",
       "      <td>2</td>\n",
       "      <td>14</td>\n",
       "      <td>2.948120e+07</td>\n",
       "      <td>7.647059e+06</td>\n",
       "      <td>6.500000</td>\n",
       "      <td>10.058824</td>\n",
       "      <td>20.939765</td>\n",
       "      <td>['TV Movie']</td>\n",
       "    </tr>\n",
       "    <tr>\n",
       "      <th>...</th>\n",
       "      <td>...</td>\n",
       "      <td>...</td>\n",
       "      <td>...</td>\n",
       "      <td>...</td>\n",
       "      <td>...</td>\n",
       "      <td>...</td>\n",
       "      <td>...</td>\n",
       "      <td>...</td>\n",
       "      <td>...</td>\n",
       "      <td>...</td>\n",
       "    </tr>\n",
       "    <tr>\n",
       "      <th>1431</th>\n",
       "      <td>1431</td>\n",
       "      <td>Zoe Lister-Jones</td>\n",
       "      <td>1</td>\n",
       "      <td>19</td>\n",
       "      <td>2.562862e+07</td>\n",
       "      <td>1.438636e+07</td>\n",
       "      <td>5.963636</td>\n",
       "      <td>7.318182</td>\n",
       "      <td>17.613136</td>\n",
       "      <td>['Science Fiction']</td>\n",
       "    </tr>\n",
       "    <tr>\n",
       "      <th>1432</th>\n",
       "      <td>1432</td>\n",
       "      <td>Zoë Kravitz</td>\n",
       "      <td>1</td>\n",
       "      <td>15</td>\n",
       "      <td>1.327133e+08</td>\n",
       "      <td>4.523514e+07</td>\n",
       "      <td>6.359459</td>\n",
       "      <td>5.486486</td>\n",
       "      <td>29.143324</td>\n",
       "      <td>['Mystery']</td>\n",
       "    </tr>\n",
       "    <tr>\n",
       "      <th>1433</th>\n",
       "      <td>1433</td>\n",
       "      <td>Élodie Yung</td>\n",
       "      <td>1</td>\n",
       "      <td>16</td>\n",
       "      <td>7.234982e+07</td>\n",
       "      <td>3.133075e+07</td>\n",
       "      <td>5.853846</td>\n",
       "      <td>8.615385</td>\n",
       "      <td>22.092615</td>\n",
       "      <td>['Science Fiction']</td>\n",
       "    </tr>\n",
       "    <tr>\n",
       "      <th>1434</th>\n",
       "      <td>1434</td>\n",
       "      <td>Úrsula Corberó</td>\n",
       "      <td>1</td>\n",
       "      <td>10</td>\n",
       "      <td>3.236089e+06</td>\n",
       "      <td>7.769306e+06</td>\n",
       "      <td>5.425000</td>\n",
       "      <td>1.916667</td>\n",
       "      <td>36.653333</td>\n",
       "      <td>['Documentary']</td>\n",
       "    </tr>\n",
       "    <tr>\n",
       "      <th>1435</th>\n",
       "      <td>1435</td>\n",
       "      <td>​Christopher Lowell</td>\n",
       "      <td>2</td>\n",
       "      <td>16</td>\n",
       "      <td>2.864591e+07</td>\n",
       "      <td>4.357143e+06</td>\n",
       "      <td>6.085714</td>\n",
       "      <td>6.857143</td>\n",
       "      <td>15.905286</td>\n",
       "      <td>['Music']</td>\n",
       "    </tr>\n",
       "  </tbody>\n",
       "</table>\n",
       "<p>1436 rows × 10 columns</p>\n",
       "</div>"
      ],
      "text/plain": [
       "      Unnamed: 0                 name  gender  career_length  avg_revenue_0  \\\n",
       "0              0         Aaron Abrams       2             17   9.727650e+06   \n",
       "1              1           Aaron Hill       2              8   8.083936e+07   \n",
       "2              2     Aaron Himelstein       2             16   1.541810e+08   \n",
       "3              3         Aaron Staton       2             11   1.424238e+07   \n",
       "4              4          Aaron Tveit       2             14   2.948120e+07   \n",
       "...          ...                  ...     ...            ...            ...   \n",
       "1431        1431     Zoe Lister-Jones       1             19   2.562862e+07   \n",
       "1432        1432          Zoë Kravitz       1             15   1.327133e+08   \n",
       "1433        1433          Élodie Yung       1             16   7.234982e+07   \n",
       "1434        1434       Úrsula Corberó       1             10   3.236089e+06   \n",
       "1435        1435  ​Christopher Lowell       2             16   2.864591e+07   \n",
       "\n",
       "      avg_budget_0  avg_imdb_rating_0  avg_order_0  avg_popularity_0  \\\n",
       "0     7.656250e+06           6.059375     9.031250          9.070594   \n",
       "1     2.177273e+07           5.072727     8.909091         18.326818   \n",
       "2     4.114062e+07           5.918750    15.687500         17.487375   \n",
       "3     5.625000e+06           5.537500    12.750000         10.733125   \n",
       "4     7.647059e+06           6.500000    10.058824         20.939765   \n",
       "...            ...                ...          ...               ...   \n",
       "1431  1.438636e+07           5.963636     7.318182         17.613136   \n",
       "1432  4.523514e+07           6.359459     5.486486         29.143324   \n",
       "1433  3.133075e+07           5.853846     8.615385         22.092615   \n",
       "1434  7.769306e+06           5.425000     1.916667         36.653333   \n",
       "1435  4.357143e+06           6.085714     6.857143         15.905286   \n",
       "\n",
       "      genre_mean_weighted  \n",
       "0              ['Family']  \n",
       "1              ['Family']  \n",
       "2             ['Mystery']  \n",
       "3               ['Crime']  \n",
       "4            ['TV Movie']  \n",
       "...                   ...  \n",
       "1431  ['Science Fiction']  \n",
       "1432          ['Mystery']  \n",
       "1433  ['Science Fiction']  \n",
       "1434      ['Documentary']  \n",
       "1435            ['Music']  \n",
       "\n",
       "[1436 rows x 10 columns]"
      ]
     },
     "metadata": {},
     "output_type": "display_data"
    }
   ],
   "source": [
    "full_actors_filtered_df = pd.read_csv('../Data/preprocessed_data/full_actors_filtered_db.csv')\n",
    "#display(full_actors_filtered_df)\n",
    "\n",
    "# get the id of the actor named '50 Cent'\n",
    "group1_df = pd.read_csv('../Data/preprocessed_data/group1_divided_df.csv')\n",
    "#display(group1_df)"
   ]
  },
  {
   "cell_type": "code",
   "execution_count": 35,
   "metadata": {},
   "outputs": [],
   "source": [
    "import pandas as pd\n",
    "import plotly.express as px\n",
    "import plotly.graph_objects as go\n",
    "\n",
    "# Use name of actor\n",
    "def plot_movies_ratings_2(actor_id):\n",
    "    actor_movies_sorted = full_actors_filtered_df[full_actors_filtered_df['actor_id'] == actor_id].sort_values(by='release_date')\n",
    "    actor_name = actor_movies_sorted['name'].values[0]\n",
    "    # get dates of separation\n",
    "    date_middle = group2_df[group2_df['name'] == actor_name]['start_date_2'].values[0]\n",
    "    \n",
    "    fig = px.scatter(actor_movies_sorted, x='release_date', y='imdb_average_rating',\n",
    "                     hover_data=['original_title' , 'order'],\n",
    "                     labels={'imdb_average_rating': 'IMDb Rating', 'release_date': 'Release Year', 'original_title': 'Movie name', 'order': 'Order'},\n",
    "                     title=f'IMDb Ratings and Genres of Movies for Actor {actor_name}')\n",
    "    \n",
    "    rgba_light_yellow = (255, 255, 100, 0.5)  # light yellow\n",
    "    rgba_light_orange = (255, 165, 0, 0.5)    # light orange\n",
    "    rgba_light_red = (240, 128, 128, 0.5)      # light red\n",
    "\n",
    "    fig.add_shape(\n",
    "        go.layout.Shape(\n",
    "            type=\"rect\",\n",
    "            x0=actor_movies_sorted['release_date'].min(),\n",
    "            x1=date_middle,\n",
    "            y0=0,\n",
    "            y1=11,\n",
    "            fillcolor=f\"rgba{rgba_light_yellow}\",\n",
    "            opacity=0.5,\n",
    "            layer=\"below\",\n",
    "            line_width=0,\n",
    "        )\n",
    "    )\n",
    "\n",
    "    fig.add_shape(\n",
    "        go.layout.Shape(\n",
    "            type=\"rect\",\n",
    "            x0=date_middle,\n",
    "            x1=actor_movies_sorted['release_date'].max(),\n",
    "            y0=0,\n",
    "            y1=11,\n",
    "            fillcolor=f\"rgba{rgba_light_orange}\",\n",
    "            opacity=0.5,\n",
    "            layer=\"below\",\n",
    "            line_width=0,\n",
    "        )\n",
    "    )\n",
    "\n",
    "\n",
    "    # Set specific colors for the 'order' column\n",
    "    fig.update_traces(marker=dict(color=actor_movies_sorted['order'].map({\n",
    "        0: 'red', 1: 'red',\n",
    "        2: 'yellowgreen', 3: 'yellowgreen', 4: 'yellowgreen', 5: 'yellowgreen',\n",
    "        # Add more mappings for other orders as needed\n",
    "    })))\n",
    "\n",
    "    fig.show()\n"
   ]
  },
  {
   "cell_type": "code",
   "execution_count": 34,
   "metadata": {},
   "outputs": [],
   "source": [
    "# Use name of actor\n",
    "def plot_movies_ratings_1(actor_id):\n",
    "    actor_movies_sorted = full_actors_filtered_df[full_actors_filtered_df['actor_id'] == actor_id].sort_values(by='release_date')\n",
    "    actor_name = actor_movies_sorted['name'].values[0]\n",
    "    # get dates of separation\n",
    "    \n",
    "    fig = px.scatter(actor_movies_sorted, x='release_date', y='imdb_average_rating',\n",
    "                     hover_data=['original_title' , 'order'],\n",
    "                     labels={'imdb_average_rating': 'IMDb Rating', 'release_date': 'Release Year', 'original_title': 'Movie name', 'order': 'Order'},\n",
    "                     title=f'IMDb Ratings and Genres of Movies for Actor {actor_name}')\n",
    "    \n",
    "    rgba_light_yellow = (255, 255, 100, 0.5)  # light yellow\n",
    "    rgba_light_orange = (255, 165, 0, 0.5)    # light orange\n",
    "    rgba_light_red = (240, 128, 128, 0.5)      # light red\n",
    "\n",
    "    fig.add_shape(\n",
    "        go.layout.Shape(\n",
    "            type=\"rect\",\n",
    "            x0=actor_movies_sorted['release_date'].min(),\n",
    "            x1=actor_movies_sorted['release_date'].max(),\n",
    "            y0=0,\n",
    "            y1=11,\n",
    "            fillcolor=f\"rgba{rgba_light_yellow}\",\n",
    "            opacity=0.5,\n",
    "            layer=\"below\",\n",
    "            line_width=0,\n",
    "        )\n",
    "    )\n",
    "\n",
    "    # Set specific colors for the 'order' column\n",
    "    fig.update_traces(marker=dict(color=actor_movies_sorted['order'].map({\n",
    "        0: 'red', 1: 'red',\n",
    "        2: 'yellowgreen', 3: 'yellowgreen', 4: 'yellowgreen', 5: 'yellowgreen',\n",
    "        # Add more mappings for other orders as needed\n",
    "    })))\n",
    "\n",
    "    fig.show()\n"
   ]
  },
  {
   "cell_type": "code",
   "execution_count": 33,
   "metadata": {},
   "outputs": [],
   "source": [
    "def plot_movies_ratings_3(actor_id):\n",
    "    actor_movies_sorted = full_actors_filtered_df[full_actors_filtered_df['actor_id'] == actor_id].sort_values(by='release_date')\n",
    "    actor_name = actor_movies_sorted['name'].values[0]\n",
    "    # get dates of separation\n",
    "    date_middle_1 = group3_df[group3_df['name'] == actor_name]['start_date_2'].values[0]\n",
    "    date_middle_2 = group3_df[group3_df['name'] == actor_name]['start_date_3'].values[0]\n",
    "    \n",
    "    fig = px.scatter(actor_movies_sorted, x='release_date', y='imdb_average_rating',\n",
    "                     hover_data=['original_title' , 'order'],\n",
    "                     labels={'imdb_average_rating': 'IMDb Rating', 'release_date': 'Release Year', 'original_title': 'Movie name', 'order': 'Order'},\n",
    "                     title=f'IMDb Ratings and Genres of Movies for Actor {actor_name}')\n",
    "    \n",
    "    rgba_light_yellow = (255, 255, 100, 0.5)  # light yellow\n",
    "    rgba_light_orange = (255, 165, 0, 0.5)    # light orange\n",
    "    rgba_light_red = (240, 128, 128, 0.5)      # light red\n",
    "\n",
    "    fig.add_shape(\n",
    "        go.layout.Shape(\n",
    "            type=\"rect\",\n",
    "            x0=actor_movies_sorted['release_date'].min(),\n",
    "            x1=date_middle_1,\n",
    "            y0=0,\n",
    "            y1=11,\n",
    "            fillcolor=f\"rgba{rgba_light_yellow}\",\n",
    "            opacity=0.5,\n",
    "            layer=\"below\",\n",
    "            line_width=0,\n",
    "        )\n",
    "    )\n",
    "\n",
    "    fig.add_shape(\n",
    "        go.layout.Shape(\n",
    "            type=\"rect\",\n",
    "            x0=date_middle_1,\n",
    "            x1=date_middle_2,\n",
    "            y0=0,\n",
    "            y1=11,\n",
    "            fillcolor=f\"rgba{rgba_light_orange}\",\n",
    "            opacity=0.5,\n",
    "            layer=\"below\",\n",
    "            line_width=0,\n",
    "        )\n",
    "    )\n",
    "\n",
    "    fig.add_shape(\n",
    "        go.layout.Shape(\n",
    "            type=\"rect\",\n",
    "            x0=date_middle_2,\n",
    "            x1=actor_movies_sorted['release_date'].max(),\n",
    "            y0=0,\n",
    "            y1=11,\n",
    "            fillcolor=f\"rgba{rgba_light_red}\",\n",
    "            opacity=0.5,\n",
    "            layer=\"below\",\n",
    "            line_width=0,\n",
    "        )\n",
    "    )\n",
    "\n",
    "\n",
    "    # Set specific colors for the 'order' column\n",
    "    fig.update_traces(marker=dict(color=actor_movies_sorted['order'].map({\n",
    "        0: 'red', 1: 'red',\n",
    "        2: 'yellowgreen', 3: 'yellowgreen', 4: 'yellowgreen', 5: 'yellowgreen',\n",
    "        # Add more mappings for other orders as needed\n",
    "    })))\n",
    "\n",
    "    fig.show()\n"
   ]
  },
  {
   "cell_type": "code",
   "execution_count": 32,
   "metadata": {},
   "outputs": [
    {
     "data": {
      "application/vnd.plotly.v1+json": {
       "config": {
        "plotlyServerURL": "https://plot.ly"
       },
       "data": [
        {
         "customdata": [
          [
           "Nausea II",
           2
          ],
          [
           "Arranged",
           0
          ],
          [
           "The Last 15",
           1
          ],
          [
           "The Marconi Bros",
           7
          ],
          [
           "Explicit Ills",
           8
          ],
          [
           "Turn the River",
           12
          ],
          [
           "Breaking Upwards",
           0
          ],
          [
           "Washingtonienne",
           2
          ],
          [
           "State of Play",
           20
          ],
          [
           "Armless",
           3
          ],
          [
           "Shadows & Lies",
           5
          ],
          [
           "Salt",
           17
          ],
          [
           "The Other Guys",
           24
          ],
          [
           "All Good Things",
           42
          ],
          [
           "Stuck Between Stations",
           0
          ],
          [
           "Lola Versus",
           2
          ],
          [
           "Consumed",
           0
          ],
          [
           "Confirmation",
           5
          ],
          [
           "Band Aid",
           0
          ],
          [
           "How It Ends",
           0
          ],
          [
           "A Good Person",
           4
          ],
          [
           "Beau Is Afraid",
           7
          ]
         ],
         "hovertemplate": "Release Year=%{x}<br>IMDb Rating=%{y}<br>Movie name=%{customdata[0]}<br>Order=%{customdata[1]}<extra></extra>",
         "legendgroup": "",
         "marker": {
          "color": [
           "yellowgreen",
           "red",
           "red",
           null,
           null,
           null,
           "red",
           "yellowgreen",
           null,
           "yellowgreen",
           "yellowgreen",
           null,
           null,
           null,
           "red",
           "yellowgreen",
           "red",
           "yellowgreen",
           "red",
           "red",
           "yellowgreen",
           null
          ],
          "symbol": "circle"
         },
         "mode": "markers",
         "name": "",
         "orientation": "v",
         "showlegend": false,
         "type": "scatter",
         "x": [
          "2004-12-11",
          "2007-03-10",
          "2007-03-30",
          "2008-01-01",
          "2008-03-08",
          "2008-05-09",
          "2009-03-14",
          "2009-04-01",
          "2009-04-17",
          "2010-01-22",
          "2010-04-25",
          "2010-07-21",
          "2010-08-06",
          "2010-12-03",
          "2011-11-04",
          "2012-04-24",
          "2015-06-01",
          "2016-04-16",
          "2017-06-02",
          "2021-07-20",
          "2023-03-23",
          "2023-04-14"
         ],
         "xaxis": "x",
         "y": [
          4.8,
          7.3,
          5.8,
          4.4,
          5.5,
          5.8,
          6,
          6,
          7.1,
          5.2,
          4.1,
          6.4,
          6.6,
          6.3,
          6.3,
          5.5,
          5.6,
          6.8,
          6.6,
          5.3,
          7,
          6.8
         ],
         "yaxis": "y"
        }
       ],
       "layout": {
        "legend": {
         "tracegroupgap": 0
        },
        "shapes": [
         {
          "fillcolor": "rgba(255, 255, 100, 0.5)",
          "layer": "below",
          "line": {
           "width": 0
          },
          "opacity": 0.5,
          "type": "rect",
          "x0": "2004-12-11",
          "x1": "2023-04-14",
          "y0": 0,
          "y1": 11
         }
        ],
        "template": {
         "data": {
          "bar": [
           {
            "error_x": {
             "color": "#2a3f5f"
            },
            "error_y": {
             "color": "#2a3f5f"
            },
            "marker": {
             "line": {
              "color": "#E5ECF6",
              "width": 0.5
             },
             "pattern": {
              "fillmode": "overlay",
              "size": 10,
              "solidity": 0.2
             }
            },
            "type": "bar"
           }
          ],
          "barpolar": [
           {
            "marker": {
             "line": {
              "color": "#E5ECF6",
              "width": 0.5
             },
             "pattern": {
              "fillmode": "overlay",
              "size": 10,
              "solidity": 0.2
             }
            },
            "type": "barpolar"
           }
          ],
          "carpet": [
           {
            "aaxis": {
             "endlinecolor": "#2a3f5f",
             "gridcolor": "white",
             "linecolor": "white",
             "minorgridcolor": "white",
             "startlinecolor": "#2a3f5f"
            },
            "baxis": {
             "endlinecolor": "#2a3f5f",
             "gridcolor": "white",
             "linecolor": "white",
             "minorgridcolor": "white",
             "startlinecolor": "#2a3f5f"
            },
            "type": "carpet"
           }
          ],
          "choropleth": [
           {
            "colorbar": {
             "outlinewidth": 0,
             "ticks": ""
            },
            "type": "choropleth"
           }
          ],
          "contour": [
           {
            "colorbar": {
             "outlinewidth": 0,
             "ticks": ""
            },
            "colorscale": [
             [
              0,
              "#0d0887"
             ],
             [
              0.1111111111111111,
              "#46039f"
             ],
             [
              0.2222222222222222,
              "#7201a8"
             ],
             [
              0.3333333333333333,
              "#9c179e"
             ],
             [
              0.4444444444444444,
              "#bd3786"
             ],
             [
              0.5555555555555556,
              "#d8576b"
             ],
             [
              0.6666666666666666,
              "#ed7953"
             ],
             [
              0.7777777777777778,
              "#fb9f3a"
             ],
             [
              0.8888888888888888,
              "#fdca26"
             ],
             [
              1,
              "#f0f921"
             ]
            ],
            "type": "contour"
           }
          ],
          "contourcarpet": [
           {
            "colorbar": {
             "outlinewidth": 0,
             "ticks": ""
            },
            "type": "contourcarpet"
           }
          ],
          "heatmap": [
           {
            "colorbar": {
             "outlinewidth": 0,
             "ticks": ""
            },
            "colorscale": [
             [
              0,
              "#0d0887"
             ],
             [
              0.1111111111111111,
              "#46039f"
             ],
             [
              0.2222222222222222,
              "#7201a8"
             ],
             [
              0.3333333333333333,
              "#9c179e"
             ],
             [
              0.4444444444444444,
              "#bd3786"
             ],
             [
              0.5555555555555556,
              "#d8576b"
             ],
             [
              0.6666666666666666,
              "#ed7953"
             ],
             [
              0.7777777777777778,
              "#fb9f3a"
             ],
             [
              0.8888888888888888,
              "#fdca26"
             ],
             [
              1,
              "#f0f921"
             ]
            ],
            "type": "heatmap"
           }
          ],
          "heatmapgl": [
           {
            "colorbar": {
             "outlinewidth": 0,
             "ticks": ""
            },
            "colorscale": [
             [
              0,
              "#0d0887"
             ],
             [
              0.1111111111111111,
              "#46039f"
             ],
             [
              0.2222222222222222,
              "#7201a8"
             ],
             [
              0.3333333333333333,
              "#9c179e"
             ],
             [
              0.4444444444444444,
              "#bd3786"
             ],
             [
              0.5555555555555556,
              "#d8576b"
             ],
             [
              0.6666666666666666,
              "#ed7953"
             ],
             [
              0.7777777777777778,
              "#fb9f3a"
             ],
             [
              0.8888888888888888,
              "#fdca26"
             ],
             [
              1,
              "#f0f921"
             ]
            ],
            "type": "heatmapgl"
           }
          ],
          "histogram": [
           {
            "marker": {
             "pattern": {
              "fillmode": "overlay",
              "size": 10,
              "solidity": 0.2
             }
            },
            "type": "histogram"
           }
          ],
          "histogram2d": [
           {
            "colorbar": {
             "outlinewidth": 0,
             "ticks": ""
            },
            "colorscale": [
             [
              0,
              "#0d0887"
             ],
             [
              0.1111111111111111,
              "#46039f"
             ],
             [
              0.2222222222222222,
              "#7201a8"
             ],
             [
              0.3333333333333333,
              "#9c179e"
             ],
             [
              0.4444444444444444,
              "#bd3786"
             ],
             [
              0.5555555555555556,
              "#d8576b"
             ],
             [
              0.6666666666666666,
              "#ed7953"
             ],
             [
              0.7777777777777778,
              "#fb9f3a"
             ],
             [
              0.8888888888888888,
              "#fdca26"
             ],
             [
              1,
              "#f0f921"
             ]
            ],
            "type": "histogram2d"
           }
          ],
          "histogram2dcontour": [
           {
            "colorbar": {
             "outlinewidth": 0,
             "ticks": ""
            },
            "colorscale": [
             [
              0,
              "#0d0887"
             ],
             [
              0.1111111111111111,
              "#46039f"
             ],
             [
              0.2222222222222222,
              "#7201a8"
             ],
             [
              0.3333333333333333,
              "#9c179e"
             ],
             [
              0.4444444444444444,
              "#bd3786"
             ],
             [
              0.5555555555555556,
              "#d8576b"
             ],
             [
              0.6666666666666666,
              "#ed7953"
             ],
             [
              0.7777777777777778,
              "#fb9f3a"
             ],
             [
              0.8888888888888888,
              "#fdca26"
             ],
             [
              1,
              "#f0f921"
             ]
            ],
            "type": "histogram2dcontour"
           }
          ],
          "mesh3d": [
           {
            "colorbar": {
             "outlinewidth": 0,
             "ticks": ""
            },
            "type": "mesh3d"
           }
          ],
          "parcoords": [
           {
            "line": {
             "colorbar": {
              "outlinewidth": 0,
              "ticks": ""
             }
            },
            "type": "parcoords"
           }
          ],
          "pie": [
           {
            "automargin": true,
            "type": "pie"
           }
          ],
          "scatter": [
           {
            "fillpattern": {
             "fillmode": "overlay",
             "size": 10,
             "solidity": 0.2
            },
            "type": "scatter"
           }
          ],
          "scatter3d": [
           {
            "line": {
             "colorbar": {
              "outlinewidth": 0,
              "ticks": ""
             }
            },
            "marker": {
             "colorbar": {
              "outlinewidth": 0,
              "ticks": ""
             }
            },
            "type": "scatter3d"
           }
          ],
          "scattercarpet": [
           {
            "marker": {
             "colorbar": {
              "outlinewidth": 0,
              "ticks": ""
             }
            },
            "type": "scattercarpet"
           }
          ],
          "scattergeo": [
           {
            "marker": {
             "colorbar": {
              "outlinewidth": 0,
              "ticks": ""
             }
            },
            "type": "scattergeo"
           }
          ],
          "scattergl": [
           {
            "marker": {
             "colorbar": {
              "outlinewidth": 0,
              "ticks": ""
             }
            },
            "type": "scattergl"
           }
          ],
          "scattermapbox": [
           {
            "marker": {
             "colorbar": {
              "outlinewidth": 0,
              "ticks": ""
             }
            },
            "type": "scattermapbox"
           }
          ],
          "scatterpolar": [
           {
            "marker": {
             "colorbar": {
              "outlinewidth": 0,
              "ticks": ""
             }
            },
            "type": "scatterpolar"
           }
          ],
          "scatterpolargl": [
           {
            "marker": {
             "colorbar": {
              "outlinewidth": 0,
              "ticks": ""
             }
            },
            "type": "scatterpolargl"
           }
          ],
          "scatterternary": [
           {
            "marker": {
             "colorbar": {
              "outlinewidth": 0,
              "ticks": ""
             }
            },
            "type": "scatterternary"
           }
          ],
          "surface": [
           {
            "colorbar": {
             "outlinewidth": 0,
             "ticks": ""
            },
            "colorscale": [
             [
              0,
              "#0d0887"
             ],
             [
              0.1111111111111111,
              "#46039f"
             ],
             [
              0.2222222222222222,
              "#7201a8"
             ],
             [
              0.3333333333333333,
              "#9c179e"
             ],
             [
              0.4444444444444444,
              "#bd3786"
             ],
             [
              0.5555555555555556,
              "#d8576b"
             ],
             [
              0.6666666666666666,
              "#ed7953"
             ],
             [
              0.7777777777777778,
              "#fb9f3a"
             ],
             [
              0.8888888888888888,
              "#fdca26"
             ],
             [
              1,
              "#f0f921"
             ]
            ],
            "type": "surface"
           }
          ],
          "table": [
           {
            "cells": {
             "fill": {
              "color": "#EBF0F8"
             },
             "line": {
              "color": "white"
             }
            },
            "header": {
             "fill": {
              "color": "#C8D4E3"
             },
             "line": {
              "color": "white"
             }
            },
            "type": "table"
           }
          ]
         },
         "layout": {
          "annotationdefaults": {
           "arrowcolor": "#2a3f5f",
           "arrowhead": 0,
           "arrowwidth": 1
          },
          "autotypenumbers": "strict",
          "coloraxis": {
           "colorbar": {
            "outlinewidth": 0,
            "ticks": ""
           }
          },
          "colorscale": {
           "diverging": [
            [
             0,
             "#8e0152"
            ],
            [
             0.1,
             "#c51b7d"
            ],
            [
             0.2,
             "#de77ae"
            ],
            [
             0.3,
             "#f1b6da"
            ],
            [
             0.4,
             "#fde0ef"
            ],
            [
             0.5,
             "#f7f7f7"
            ],
            [
             0.6,
             "#e6f5d0"
            ],
            [
             0.7,
             "#b8e186"
            ],
            [
             0.8,
             "#7fbc41"
            ],
            [
             0.9,
             "#4d9221"
            ],
            [
             1,
             "#276419"
            ]
           ],
           "sequential": [
            [
             0,
             "#0d0887"
            ],
            [
             0.1111111111111111,
             "#46039f"
            ],
            [
             0.2222222222222222,
             "#7201a8"
            ],
            [
             0.3333333333333333,
             "#9c179e"
            ],
            [
             0.4444444444444444,
             "#bd3786"
            ],
            [
             0.5555555555555556,
             "#d8576b"
            ],
            [
             0.6666666666666666,
             "#ed7953"
            ],
            [
             0.7777777777777778,
             "#fb9f3a"
            ],
            [
             0.8888888888888888,
             "#fdca26"
            ],
            [
             1,
             "#f0f921"
            ]
           ],
           "sequentialminus": [
            [
             0,
             "#0d0887"
            ],
            [
             0.1111111111111111,
             "#46039f"
            ],
            [
             0.2222222222222222,
             "#7201a8"
            ],
            [
             0.3333333333333333,
             "#9c179e"
            ],
            [
             0.4444444444444444,
             "#bd3786"
            ],
            [
             0.5555555555555556,
             "#d8576b"
            ],
            [
             0.6666666666666666,
             "#ed7953"
            ],
            [
             0.7777777777777778,
             "#fb9f3a"
            ],
            [
             0.8888888888888888,
             "#fdca26"
            ],
            [
             1,
             "#f0f921"
            ]
           ]
          },
          "colorway": [
           "#636efa",
           "#EF553B",
           "#00cc96",
           "#ab63fa",
           "#FFA15A",
           "#19d3f3",
           "#FF6692",
           "#B6E880",
           "#FF97FF",
           "#FECB52"
          ],
          "font": {
           "color": "#2a3f5f"
          },
          "geo": {
           "bgcolor": "white",
           "lakecolor": "white",
           "landcolor": "#E5ECF6",
           "showlakes": true,
           "showland": true,
           "subunitcolor": "white"
          },
          "hoverlabel": {
           "align": "left"
          },
          "hovermode": "closest",
          "mapbox": {
           "style": "light"
          },
          "paper_bgcolor": "white",
          "plot_bgcolor": "#E5ECF6",
          "polar": {
           "angularaxis": {
            "gridcolor": "white",
            "linecolor": "white",
            "ticks": ""
           },
           "bgcolor": "#E5ECF6",
           "radialaxis": {
            "gridcolor": "white",
            "linecolor": "white",
            "ticks": ""
           }
          },
          "scene": {
           "xaxis": {
            "backgroundcolor": "#E5ECF6",
            "gridcolor": "white",
            "gridwidth": 2,
            "linecolor": "white",
            "showbackground": true,
            "ticks": "",
            "zerolinecolor": "white"
           },
           "yaxis": {
            "backgroundcolor": "#E5ECF6",
            "gridcolor": "white",
            "gridwidth": 2,
            "linecolor": "white",
            "showbackground": true,
            "ticks": "",
            "zerolinecolor": "white"
           },
           "zaxis": {
            "backgroundcolor": "#E5ECF6",
            "gridcolor": "white",
            "gridwidth": 2,
            "linecolor": "white",
            "showbackground": true,
            "ticks": "",
            "zerolinecolor": "white"
           }
          },
          "shapedefaults": {
           "line": {
            "color": "#2a3f5f"
           }
          },
          "ternary": {
           "aaxis": {
            "gridcolor": "white",
            "linecolor": "white",
            "ticks": ""
           },
           "baxis": {
            "gridcolor": "white",
            "linecolor": "white",
            "ticks": ""
           },
           "bgcolor": "#E5ECF6",
           "caxis": {
            "gridcolor": "white",
            "linecolor": "white",
            "ticks": ""
           }
          },
          "title": {
           "x": 0.05
          },
          "xaxis": {
           "automargin": true,
           "gridcolor": "white",
           "linecolor": "white",
           "ticks": "",
           "title": {
            "standoff": 15
           },
           "zerolinecolor": "white",
           "zerolinewidth": 2
          },
          "yaxis": {
           "automargin": true,
           "gridcolor": "white",
           "linecolor": "white",
           "ticks": "",
           "title": {
            "standoff": 15
           },
           "zerolinecolor": "white",
           "zerolinewidth": 2
          }
         }
        },
        "title": {
         "text": "IMDb Ratings and Genres of Movies for Actor Zoe Lister-Jones"
        },
        "xaxis": {
         "anchor": "y",
         "domain": [
          0,
          1
         ],
         "title": {
          "text": "Release Year"
         }
        },
        "yaxis": {
         "anchor": "x",
         "domain": [
          0,
          1
         ],
         "title": {
          "text": "IMDb Rating"
         }
        }
       }
      }
     },
     "metadata": {},
     "output_type": "display_data"
    },
    {
     "data": {
      "application/vnd.plotly.v1+json": {
       "config": {
        "plotlyServerURL": "https://plot.ly"
       },
       "data": [
        {
         "customdata": [
          [
           "50 Cent - The New Breed",
           0
          ],
          [
           "50 Cent - Shoot First",
           0
          ],
          [
           "Beef",
           1
          ],
          [
           "Beef II",
           1
          ],
          [
           "The Infamous Times, Volume I: The Original 50 Cent",
           1
          ],
          [
           "Letter to the President",
           1
          ],
          [
           "Live 8",
           68
          ],
          [
           "Get Rich or Die Tryin'",
           0
          ],
          [
           "Beef III",
           1
          ],
          [
           "50 Cent: Refuse 2 Die",
           0
          ],
          [
           "Jack's Law",
           1
          ],
          [
           "Black and Blue: Legends of the Hip-Hop Cop",
           2
          ],
          [
           "Home of the Brave",
           4
          ],
          [
           "Live!",
           11
          ],
          [
           "Righteous Kill",
           4
          ],
          [
           "Elvis: Viva Las Vegas",
           0
          ],
          [
           "Dead Man Running",
           0
          ],
          [
           "Streets of Blood",
           1
          ],
          [
           "Before I Self Destruct",
           0
          ],
          [
           "13",
           4
          ],
          [
           "Gun",
           0
          ],
          [
           "Caught in the Crossfire",
           0
          ],
          [
           "Twelve",
           2
          ],
          [
           "Morning Glory",
           59
          ],
          [
           "All Things Fall Apart",
           1
          ],
          [
           "Blood Out",
           0
          ],
          [
           "Setup",
           0
          ],
          [
           "Freelancers",
           0
          ],
          [
           "Fire with Fire",
           4
          ],
          [
           "How to Make Money Selling Drugs",
           5
          ],
          [
           "Money, Power, Respect: Hip Hop Billion Dollar Industry",
           2
          ],
          [
           "The Frozen Ground",
           7
          ],
          [
           "Escape Plan",
           3
          ],
          [
           "Last Vegas",
           16
          ],
          [
           "The Prince",
           6
          ],
          [
           "Not Afraid: The Shady Records Story",
           1
          ],
          [
           "Champs",
           3
          ],
          [
           "Southpaw",
           4
          ],
          [
           "Spy",
           45
          ],
          [
           "Popstar: Never Stop Never Stopping",
           18
          ],
          [
           "Den of Thieves",
           4
          ],
          [
           "Escape Plan 2: Hades",
           3
          ],
          [
           "Escape Plan: The Extractors",
           2
          ],
          [
           "LA Originals",
           8
          ],
          [
           "You're Watching Video Music Box",
           9
          ],
          [
           "THE SHOW: California Love",
           0
          ],
          [
           "Expend4bles",
           1
          ]
         ],
         "hovertemplate": "Release Year=%{x}<br>IMDb Rating=%{y}<br>Movie name=%{customdata[0]}<br>Order=%{customdata[1]}<extra></extra>",
         "legendgroup": "",
         "marker": {
          "color": [
           "red",
           "red",
           "red",
           "red",
           "red",
           "red",
           null,
           "red",
           "red",
           "red",
           "red",
           "yellowgreen",
           "yellowgreen",
           null,
           "yellowgreen",
           "red",
           "red",
           "red",
           "red",
           "yellowgreen",
           "red",
           "red",
           "yellowgreen",
           null,
           "red",
           "red",
           "red",
           "red",
           "yellowgreen",
           "yellowgreen",
           "yellowgreen",
           null,
           "yellowgreen",
           null,
           null,
           "red",
           "yellowgreen",
           "yellowgreen",
           null,
           null,
           "yellowgreen",
           "yellowgreen",
           "yellowgreen",
           null,
           null,
           "red",
           "red"
          ],
          "symbol": "circle"
         },
         "mode": "markers",
         "name": "",
         "orientation": "v",
         "showlegend": false,
         "type": "scatter",
         "x": [
          "2003-04-15",
          "2003-04-22",
          "2003-08-03",
          "2004-08-30",
          "2005-03-08",
          "2005-03-29",
          "2005-11-07",
          "2005-11-09",
          "2005-11-15",
          "2005-12-09",
          "2006-06-06",
          "2006-06-27",
          "2006-12-15",
          "2008-01-23",
          "2008-09-11",
          "2008-09-16",
          "2009-01-29",
          "2009-07-13",
          "2009-11-16",
          "2010-03-12",
          "2010-06-10",
          "2010-07-13",
          "2010-07-30",
          "2010-11-10",
          "2011-03-05",
          "2011-04-25",
          "2011-10-17",
          "2012-08-10",
          "2012-08-31",
          "2012-09-07",
          "2012-11-24",
          "2013-07-11",
          "2013-10-09",
          "2013-10-31",
          "2014-08-22",
          "2015-03-05",
          "2015-03-13",
          "2015-03-24",
          "2015-05-06",
          "2016-06-03",
          "2018-01-18",
          "2018-06-05",
          "2019-06-20",
          "2020-04-10",
          "2021-12-03",
          "2022-12-23",
          "2023-09-15"
         ],
         "xaxis": "x",
         "y": [
          5.7,
          4.4,
          7.2,
          6.8,
          6.3,
          7.4,
          7.6,
          5.4,
          5.8,
          4.6,
          3.2,
          6.4,
          5.6,
          5.8,
          6,
          7.3,
          5.9,
          4.4,
          4.7,
          6,
          3.8,
          4.4,
          5.6,
          6.5,
          5.4,
          4.4,
          4.4,
          4.6,
          5.6,
          7.6,
          7,
          6.4,
          6.7,
          6.6,
          4.6,
          8.4,
          7.2,
          7.3,
          7,
          6.7,
          7,
          3.9,
          4.4,
          7.2,
          7.7,
          7.2,
          4.8
         ],
         "yaxis": "y"
        }
       ],
       "layout": {
        "legend": {
         "tracegroupgap": 0
        },
        "shapes": [
         {
          "fillcolor": "rgba(255, 255, 100, 0.5)",
          "layer": "below",
          "line": {
           "width": 0
          },
          "opacity": 0.5,
          "type": "rect",
          "x0": "2003-04-15",
          "x1": "2013-04-12",
          "y0": 0,
          "y1": 11
         },
         {
          "fillcolor": "rgba(255, 165, 0, 0.5)",
          "layer": "below",
          "line": {
           "width": 0
          },
          "opacity": 0.5,
          "type": "rect",
          "x0": "2013-04-12",
          "x1": "2023-09-15",
          "y0": 0,
          "y1": 11
         }
        ],
        "template": {
         "data": {
          "bar": [
           {
            "error_x": {
             "color": "#2a3f5f"
            },
            "error_y": {
             "color": "#2a3f5f"
            },
            "marker": {
             "line": {
              "color": "#E5ECF6",
              "width": 0.5
             },
             "pattern": {
              "fillmode": "overlay",
              "size": 10,
              "solidity": 0.2
             }
            },
            "type": "bar"
           }
          ],
          "barpolar": [
           {
            "marker": {
             "line": {
              "color": "#E5ECF6",
              "width": 0.5
             },
             "pattern": {
              "fillmode": "overlay",
              "size": 10,
              "solidity": 0.2
             }
            },
            "type": "barpolar"
           }
          ],
          "carpet": [
           {
            "aaxis": {
             "endlinecolor": "#2a3f5f",
             "gridcolor": "white",
             "linecolor": "white",
             "minorgridcolor": "white",
             "startlinecolor": "#2a3f5f"
            },
            "baxis": {
             "endlinecolor": "#2a3f5f",
             "gridcolor": "white",
             "linecolor": "white",
             "minorgridcolor": "white",
             "startlinecolor": "#2a3f5f"
            },
            "type": "carpet"
           }
          ],
          "choropleth": [
           {
            "colorbar": {
             "outlinewidth": 0,
             "ticks": ""
            },
            "type": "choropleth"
           }
          ],
          "contour": [
           {
            "colorbar": {
             "outlinewidth": 0,
             "ticks": ""
            },
            "colorscale": [
             [
              0,
              "#0d0887"
             ],
             [
              0.1111111111111111,
              "#46039f"
             ],
             [
              0.2222222222222222,
              "#7201a8"
             ],
             [
              0.3333333333333333,
              "#9c179e"
             ],
             [
              0.4444444444444444,
              "#bd3786"
             ],
             [
              0.5555555555555556,
              "#d8576b"
             ],
             [
              0.6666666666666666,
              "#ed7953"
             ],
             [
              0.7777777777777778,
              "#fb9f3a"
             ],
             [
              0.8888888888888888,
              "#fdca26"
             ],
             [
              1,
              "#f0f921"
             ]
            ],
            "type": "contour"
           }
          ],
          "contourcarpet": [
           {
            "colorbar": {
             "outlinewidth": 0,
             "ticks": ""
            },
            "type": "contourcarpet"
           }
          ],
          "heatmap": [
           {
            "colorbar": {
             "outlinewidth": 0,
             "ticks": ""
            },
            "colorscale": [
             [
              0,
              "#0d0887"
             ],
             [
              0.1111111111111111,
              "#46039f"
             ],
             [
              0.2222222222222222,
              "#7201a8"
             ],
             [
              0.3333333333333333,
              "#9c179e"
             ],
             [
              0.4444444444444444,
              "#bd3786"
             ],
             [
              0.5555555555555556,
              "#d8576b"
             ],
             [
              0.6666666666666666,
              "#ed7953"
             ],
             [
              0.7777777777777778,
              "#fb9f3a"
             ],
             [
              0.8888888888888888,
              "#fdca26"
             ],
             [
              1,
              "#f0f921"
             ]
            ],
            "type": "heatmap"
           }
          ],
          "heatmapgl": [
           {
            "colorbar": {
             "outlinewidth": 0,
             "ticks": ""
            },
            "colorscale": [
             [
              0,
              "#0d0887"
             ],
             [
              0.1111111111111111,
              "#46039f"
             ],
             [
              0.2222222222222222,
              "#7201a8"
             ],
             [
              0.3333333333333333,
              "#9c179e"
             ],
             [
              0.4444444444444444,
              "#bd3786"
             ],
             [
              0.5555555555555556,
              "#d8576b"
             ],
             [
              0.6666666666666666,
              "#ed7953"
             ],
             [
              0.7777777777777778,
              "#fb9f3a"
             ],
             [
              0.8888888888888888,
              "#fdca26"
             ],
             [
              1,
              "#f0f921"
             ]
            ],
            "type": "heatmapgl"
           }
          ],
          "histogram": [
           {
            "marker": {
             "pattern": {
              "fillmode": "overlay",
              "size": 10,
              "solidity": 0.2
             }
            },
            "type": "histogram"
           }
          ],
          "histogram2d": [
           {
            "colorbar": {
             "outlinewidth": 0,
             "ticks": ""
            },
            "colorscale": [
             [
              0,
              "#0d0887"
             ],
             [
              0.1111111111111111,
              "#46039f"
             ],
             [
              0.2222222222222222,
              "#7201a8"
             ],
             [
              0.3333333333333333,
              "#9c179e"
             ],
             [
              0.4444444444444444,
              "#bd3786"
             ],
             [
              0.5555555555555556,
              "#d8576b"
             ],
             [
              0.6666666666666666,
              "#ed7953"
             ],
             [
              0.7777777777777778,
              "#fb9f3a"
             ],
             [
              0.8888888888888888,
              "#fdca26"
             ],
             [
              1,
              "#f0f921"
             ]
            ],
            "type": "histogram2d"
           }
          ],
          "histogram2dcontour": [
           {
            "colorbar": {
             "outlinewidth": 0,
             "ticks": ""
            },
            "colorscale": [
             [
              0,
              "#0d0887"
             ],
             [
              0.1111111111111111,
              "#46039f"
             ],
             [
              0.2222222222222222,
              "#7201a8"
             ],
             [
              0.3333333333333333,
              "#9c179e"
             ],
             [
              0.4444444444444444,
              "#bd3786"
             ],
             [
              0.5555555555555556,
              "#d8576b"
             ],
             [
              0.6666666666666666,
              "#ed7953"
             ],
             [
              0.7777777777777778,
              "#fb9f3a"
             ],
             [
              0.8888888888888888,
              "#fdca26"
             ],
             [
              1,
              "#f0f921"
             ]
            ],
            "type": "histogram2dcontour"
           }
          ],
          "mesh3d": [
           {
            "colorbar": {
             "outlinewidth": 0,
             "ticks": ""
            },
            "type": "mesh3d"
           }
          ],
          "parcoords": [
           {
            "line": {
             "colorbar": {
              "outlinewidth": 0,
              "ticks": ""
             }
            },
            "type": "parcoords"
           }
          ],
          "pie": [
           {
            "automargin": true,
            "type": "pie"
           }
          ],
          "scatter": [
           {
            "fillpattern": {
             "fillmode": "overlay",
             "size": 10,
             "solidity": 0.2
            },
            "type": "scatter"
           }
          ],
          "scatter3d": [
           {
            "line": {
             "colorbar": {
              "outlinewidth": 0,
              "ticks": ""
             }
            },
            "marker": {
             "colorbar": {
              "outlinewidth": 0,
              "ticks": ""
             }
            },
            "type": "scatter3d"
           }
          ],
          "scattercarpet": [
           {
            "marker": {
             "colorbar": {
              "outlinewidth": 0,
              "ticks": ""
             }
            },
            "type": "scattercarpet"
           }
          ],
          "scattergeo": [
           {
            "marker": {
             "colorbar": {
              "outlinewidth": 0,
              "ticks": ""
             }
            },
            "type": "scattergeo"
           }
          ],
          "scattergl": [
           {
            "marker": {
             "colorbar": {
              "outlinewidth": 0,
              "ticks": ""
             }
            },
            "type": "scattergl"
           }
          ],
          "scattermapbox": [
           {
            "marker": {
             "colorbar": {
              "outlinewidth": 0,
              "ticks": ""
             }
            },
            "type": "scattermapbox"
           }
          ],
          "scatterpolar": [
           {
            "marker": {
             "colorbar": {
              "outlinewidth": 0,
              "ticks": ""
             }
            },
            "type": "scatterpolar"
           }
          ],
          "scatterpolargl": [
           {
            "marker": {
             "colorbar": {
              "outlinewidth": 0,
              "ticks": ""
             }
            },
            "type": "scatterpolargl"
           }
          ],
          "scatterternary": [
           {
            "marker": {
             "colorbar": {
              "outlinewidth": 0,
              "ticks": ""
             }
            },
            "type": "scatterternary"
           }
          ],
          "surface": [
           {
            "colorbar": {
             "outlinewidth": 0,
             "ticks": ""
            },
            "colorscale": [
             [
              0,
              "#0d0887"
             ],
             [
              0.1111111111111111,
              "#46039f"
             ],
             [
              0.2222222222222222,
              "#7201a8"
             ],
             [
              0.3333333333333333,
              "#9c179e"
             ],
             [
              0.4444444444444444,
              "#bd3786"
             ],
             [
              0.5555555555555556,
              "#d8576b"
             ],
             [
              0.6666666666666666,
              "#ed7953"
             ],
             [
              0.7777777777777778,
              "#fb9f3a"
             ],
             [
              0.8888888888888888,
              "#fdca26"
             ],
             [
              1,
              "#f0f921"
             ]
            ],
            "type": "surface"
           }
          ],
          "table": [
           {
            "cells": {
             "fill": {
              "color": "#EBF0F8"
             },
             "line": {
              "color": "white"
             }
            },
            "header": {
             "fill": {
              "color": "#C8D4E3"
             },
             "line": {
              "color": "white"
             }
            },
            "type": "table"
           }
          ]
         },
         "layout": {
          "annotationdefaults": {
           "arrowcolor": "#2a3f5f",
           "arrowhead": 0,
           "arrowwidth": 1
          },
          "autotypenumbers": "strict",
          "coloraxis": {
           "colorbar": {
            "outlinewidth": 0,
            "ticks": ""
           }
          },
          "colorscale": {
           "diverging": [
            [
             0,
             "#8e0152"
            ],
            [
             0.1,
             "#c51b7d"
            ],
            [
             0.2,
             "#de77ae"
            ],
            [
             0.3,
             "#f1b6da"
            ],
            [
             0.4,
             "#fde0ef"
            ],
            [
             0.5,
             "#f7f7f7"
            ],
            [
             0.6,
             "#e6f5d0"
            ],
            [
             0.7,
             "#b8e186"
            ],
            [
             0.8,
             "#7fbc41"
            ],
            [
             0.9,
             "#4d9221"
            ],
            [
             1,
             "#276419"
            ]
           ],
           "sequential": [
            [
             0,
             "#0d0887"
            ],
            [
             0.1111111111111111,
             "#46039f"
            ],
            [
             0.2222222222222222,
             "#7201a8"
            ],
            [
             0.3333333333333333,
             "#9c179e"
            ],
            [
             0.4444444444444444,
             "#bd3786"
            ],
            [
             0.5555555555555556,
             "#d8576b"
            ],
            [
             0.6666666666666666,
             "#ed7953"
            ],
            [
             0.7777777777777778,
             "#fb9f3a"
            ],
            [
             0.8888888888888888,
             "#fdca26"
            ],
            [
             1,
             "#f0f921"
            ]
           ],
           "sequentialminus": [
            [
             0,
             "#0d0887"
            ],
            [
             0.1111111111111111,
             "#46039f"
            ],
            [
             0.2222222222222222,
             "#7201a8"
            ],
            [
             0.3333333333333333,
             "#9c179e"
            ],
            [
             0.4444444444444444,
             "#bd3786"
            ],
            [
             0.5555555555555556,
             "#d8576b"
            ],
            [
             0.6666666666666666,
             "#ed7953"
            ],
            [
             0.7777777777777778,
             "#fb9f3a"
            ],
            [
             0.8888888888888888,
             "#fdca26"
            ],
            [
             1,
             "#f0f921"
            ]
           ]
          },
          "colorway": [
           "#636efa",
           "#EF553B",
           "#00cc96",
           "#ab63fa",
           "#FFA15A",
           "#19d3f3",
           "#FF6692",
           "#B6E880",
           "#FF97FF",
           "#FECB52"
          ],
          "font": {
           "color": "#2a3f5f"
          },
          "geo": {
           "bgcolor": "white",
           "lakecolor": "white",
           "landcolor": "#E5ECF6",
           "showlakes": true,
           "showland": true,
           "subunitcolor": "white"
          },
          "hoverlabel": {
           "align": "left"
          },
          "hovermode": "closest",
          "mapbox": {
           "style": "light"
          },
          "paper_bgcolor": "white",
          "plot_bgcolor": "#E5ECF6",
          "polar": {
           "angularaxis": {
            "gridcolor": "white",
            "linecolor": "white",
            "ticks": ""
           },
           "bgcolor": "#E5ECF6",
           "radialaxis": {
            "gridcolor": "white",
            "linecolor": "white",
            "ticks": ""
           }
          },
          "scene": {
           "xaxis": {
            "backgroundcolor": "#E5ECF6",
            "gridcolor": "white",
            "gridwidth": 2,
            "linecolor": "white",
            "showbackground": true,
            "ticks": "",
            "zerolinecolor": "white"
           },
           "yaxis": {
            "backgroundcolor": "#E5ECF6",
            "gridcolor": "white",
            "gridwidth": 2,
            "linecolor": "white",
            "showbackground": true,
            "ticks": "",
            "zerolinecolor": "white"
           },
           "zaxis": {
            "backgroundcolor": "#E5ECF6",
            "gridcolor": "white",
            "gridwidth": 2,
            "linecolor": "white",
            "showbackground": true,
            "ticks": "",
            "zerolinecolor": "white"
           }
          },
          "shapedefaults": {
           "line": {
            "color": "#2a3f5f"
           }
          },
          "ternary": {
           "aaxis": {
            "gridcolor": "white",
            "linecolor": "white",
            "ticks": ""
           },
           "baxis": {
            "gridcolor": "white",
            "linecolor": "white",
            "ticks": ""
           },
           "bgcolor": "#E5ECF6",
           "caxis": {
            "gridcolor": "white",
            "linecolor": "white",
            "ticks": ""
           }
          },
          "title": {
           "x": 0.05
          },
          "xaxis": {
           "automargin": true,
           "gridcolor": "white",
           "linecolor": "white",
           "ticks": "",
           "title": {
            "standoff": 15
           },
           "zerolinecolor": "white",
           "zerolinewidth": 2
          },
          "yaxis": {
           "automargin": true,
           "gridcolor": "white",
           "linecolor": "white",
           "ticks": "",
           "title": {
            "standoff": 15
           },
           "zerolinecolor": "white",
           "zerolinewidth": 2
          }
         }
        },
        "title": {
         "text": "IMDb Ratings and Genres of Movies for Actor 50 Cent"
        },
        "xaxis": {
         "anchor": "y",
         "domain": [
          0,
          1
         ],
         "title": {
          "text": "Release Year"
         }
        },
        "yaxis": {
         "anchor": "x",
         "domain": [
          0,
          1
         ],
         "title": {
          "text": "IMDb Rating"
         }
        }
       }
      }
     },
     "metadata": {},
     "output_type": "display_data"
    },
    {
     "data": {
      "application/vnd.plotly.v1+json": {
       "config": {
        "plotlyServerURL": "https://plot.ly"
       },
       "data": [
        {
         "customdata": [
          [
           "大小黄天霸",
           7
          ],
          [
           "秦香蓮",
           3
          ],
          [
           "大醉俠",
           43
          ],
          [
           "荒江女俠",
           13
          ],
          [
           "刀不留人",
           9
          ],
          [
           "鬼怒川",
           9
          ],
          [
           "精武門",
           19
          ],
          [
           "Dang kou tan",
           10
          ],
          [
           "合氣道",
           11
          ],
          [
           "唐人客",
           7
          ],
          [
           "黑店",
           8
          ],
          [
           "埋伏",
           13
          ],
          [
           "顶天立地",
           1
          ],
          [
           "麒麟掌",
           6
          ],
          [
           "码头大决斗",
           10
          ],
          [
           "刁手怪招",
           0
          ],
          [
           "北地胭脂",
           4
          ],
          [
           "女警察",
           5
          ],
          [
           "铁娃",
           11
          ],
          [
           "石破天惊",
           11
          ],
          [
           "Enter the Dragon",
           14
          ],
          [
           "Chu Ba",
           8
          ],
          [
           "Crash! Che botte... strippo strappo stroppio",
           13
          ],
          [
           "Kung Fu Killers",
           12
          ],
          [
           "惡虎村",
           12
          ],
          [
           "金瓶雙艷",
           10
          ],
          [
           "花飛滿城春",
           3
          ],
          [
           "拍案驚奇",
           0
          ],
          [
           "Jin mao shi wang",
           4
          ],
          [
           "密宗聖手",
           8
          ],
          [
           "新精武門",
           0
          ],
          [
           "少林門",
           2
          ],
          [
           "風雨雙流星",
           0
          ],
          [
           "少林木人巷",
           0
          ],
          [
           "三十六迷形拳",
           0
          ],
          [
           "Long she xia ying",
           4
          ],
          [
           "劍花煙雨江南",
           0
          ],
          [
           "黑帶恨",
           0
          ],
          [
           "蛇形刁手",
           0
          ],
          [
           "蛇鶴八步",
           0
          ],
          [
           "飛渡捲雲山",
           0
          ],
          [
           "招半式闖江湖",
           0
          ],
          [
           "醉拳",
           0
          ],
          [
           "拳精",
           0
          ],
          [
           "笑拳怪招",
           0
          ],
          [
           "龍拳",
           0
          ],
          [
           "師弟出馬",
           0
          ],
          [
           "The Big Brawl",
           0
          ],
          [
           "The Cannonball Run",
           9
          ],
          [
           "龍少爺",
           0
          ],
          [
           "伊賀忍法帖",
           11
          ],
          [
           "迷你特攻隊",
           0
          ],
          [
           "龍騰虎躍",
           0
          ],
          [
           "奇謀妙計五福星",
           6
          ],
          [
           "A計劃",
           0
          ],
          [
           "Zhi zun shen tou",
           4
          ],
          [
           "Bruce Lee: The Legend",
           5
          ],
          [
           "神勇雙響炮",
           19
          ],
          [
           "Cannonball Run II",
           12
          ],
          [
           "快餐車",
           0
          ],
          [
           "福星高照",
           1
          ],
          [
           "The Protector",
           0
          ],
          [
           "夏日福星",
           6
          ],
          [
           "龍的心",
           0
          ],
          [
           "警察故事",
           0
          ],
          [
           "扭計雜牌軍",
           18
          ],
          [
           "龍兄虎弟",
           0
          ],
          [
           "A計劃續集",
           0
          ],
          [
           "飛龍猛將",
           0
          ],
          [
           "警察故事續集",
           0
          ],
          [
           "奇蹟",
           0
          ],
          [
           "The Best of the Martial Arts Films",
           2
          ],
          [
           "火燒島",
           1
          ],
          [
           "飛鷹計劃",
           0
          ],
          [
           "Bruce Lee and Kung Fu Mania",
           1
          ],
          [
           "西藏小子",
           4
          ],
          [
           "双龙会",
           0
          ],
          [
           "警察故事 III：超級警察",
           0
          ],
          [
           "城市獵人",
           0
          ],
          [
           "重案組",
           0
          ],
          [
           "超級警察2",
           12
          ],
          [
           "The Life of Bruce Lee",
           1
          ],
          [
           "醉拳二",
           0
          ],
          [
           "紅番區",
           0
          ],
          [
           "Top Fighter",
           1
          ],
          [
           "Eastern Heroes: The Video Magazine - Volume 1",
           1
          ],
          [
           "霹靂火",
           0
          ],
          [
           "警察故事4之簡單任務",
           0
          ],
          [
           "Jackie Chan - From Stuntman to Superstar",
           0
          ],
          [
           "Top Fighter 2",
           16
          ],
          [
           "一個好人",
           0
          ],
          [
           "The Path of the Dragon",
           1
          ],
          [
           "我是誰",
           0
          ],
          [
           "An Alan Smithee Film: Burn, Hollywood, Burn",
           6
          ],
          [
           "Bruce Lee: In His Own Words",
           1
          ],
          [
           "成龍的傳奇",
           0
          ],
          [
           "Masters of the Martial Arts Presented by Wesley Snipes",
           1
          ],
          [
           "Rush Hour",
           0
          ],
          [
           "Bruce Lee: The Legend Lives On",
           1
          ],
          [
           "喜劇之王",
           14
          ],
          [
           "玻璃樽",
           0
          ],
          [
           "成龍的特技",
           0
          ],
          [
           "特警新人類",
           8
          ],
          [
           "Augustin, roi du kung-fu",
           4
          ],
          [
           "Shanghai Noon",
           0
          ],
          [
           "Bruce Lee: A Warrior's Journey",
           1
          ],
          [
           "Hong Kong Superstars",
           1
          ],
          [
           "Jackie Chan's Hong Kong Tour",
           0
          ],
          [
           "特務迷城",
           0
          ],
          [
           "Rush Hour 2",
           0
          ],
          [
           "The Unbeatable Bruce Lee",
           1
          ],
          [
           "Ultimate Fights from the Movies",
           1
          ],
          [
           "The Art of Action: Martial Arts in the Movies",
           1
          ],
          [
           "The Tuxedo",
           0
          ],
          [
           "Jackie Chan: Fast, Funny and Furious",
           0
          ],
          [
           "金雞",
           12
          ],
          [
           "Chop Socky: Cinema Hong Kong",
           0
          ],
          [
           "Shanghai Knights",
           0
          ],
          [
           "千機變",
           4
          ],
          [
           "The Medallion",
           0
          ],
          [
           "Traces of a Dragon: Jackie Chan & His Lost Family",
           0
          ],
          [
           "金雞2",
           14
          ],
          [
           "大佬愛美麗",
           13
          ],
          [
           "Around the World in 80 Days",
           0
          ],
          [
           "千機變II花都大戰",
           11
          ],
          [
           "新警察故事",
           0
          ],
          [
           "神話",
           0
          ],
          [
           "四大天王",
           3
          ],
          [
           "寶貝計劃",
           0
          ],
          [
           "Rush Hour 3",
           0
          ],
          [
           "A Touch of Beijing",
           0
          ],
          [
           "The Forbidden Kingdom",
           0
          ],
          [
           "Kung Fu Panda",
           4
          ],
          [
           "2008年第29届北京奥运会闭幕式",
           9
          ],
          [
           "新宿事件",
           0
          ],
          [
           "How Bruce Lee Changed the World",
           1
          ],
          [
           "Xun zhao Cheng Long",
           1
          ],
          [
           "建国大业",
           8
          ],
          [
           "世博總動員: 世博冠軍湖絲仔",
           0
          ],
          [
           "The Spy Next Door",
           0
          ],
          [
           "大兵小将",
           0
          ],
          [
           "The Karate Kid",
           1
          ],
          [
           "Kung Fu Panda Holiday",
           9
          ],
          [
           "新少林寺",
           3
          ],
          [
           "Kung Fu Panda 2",
           4
          ],
          [
           "辛亥革命",
           0
          ],
          [
           "Final Cut: Hölgyeim és uraim",
           10
          ],
          [
           "I Am Bruce Lee",
           13
          ],
          [
           "十二生肖",
           0
          ],
          [
           "私人订制",
           7
          ],
          [
           "警察故事2013",
           0
          ],
          [
           "救火英雄",
           9
          ],
          [
           "緣來是遊戲",
           14
          ],
          [
           "天將雄師",
           0
          ],
          [
           "西游记之大圣归来",
           8
          ],
          [
           "Kung Fu Panda 3",
           5
          ],
          [
           "我們的那時．此刻",
           2
          ],
          [
           "Skiptrace",
           0
          ],
          [
           "The Master: A LEGO Ninjago Short",
           0
          ],
          [
           "铁道飞虎",
           0
          ],
          [
           "功夫瑜伽",
           0
          ],
          [
           "Earth: One Amazing Day",
           1
          ],
          [
           "The Nut Job 2: Nutty by Nature",
           10
          ],
          [
           "WildAid: Jackie Chan & Pangolins",
           0
          ],
          [
           "The Lego Ninjago Movie",
           8
          ],
          [
           "The Foreigner",
           1
          ],
          [
           "机器之血",
           0
          ],
          [
           "解忧杂货店",
           0
          ],
          [
           "神探蒲松齡",
           0
          ],
          [
           "Iron Fists and Kung Fu Kicks",
           58
          ],
          [
           "Тайна печати Дракона",
           1
          ],
          [
           "攀登者",
           8
          ],
          [
           "急先锋",
           0
          ],
          [
           "Wish Dragon",
           37
          ],
          [
           "總是有愛在隔離",
           3
          ],
          [
           "Jackie Chan - Humour, gloire et kung-fu",
           0
          ],
          [
           "曾经相爱的我们",
           5
          ],
          [
           "龙马精神",
           0
          ],
          [
           "Hidden Strike",
           0
          ],
          [
           "Teenage Mutant Ninja Turtles: Mutant Mayhem",
           11
          ]
         ],
         "hovertemplate": "Release Year=%{x}<br>IMDb Rating=%{y}<br>Movie name=%{customdata[0]}<br>Order=%{customdata[1]}<extra></extra>",
         "legendgroup": "",
         "marker": {
          "color": [
           null,
           "yellowgreen",
           null,
           null,
           null,
           null,
           null,
           null,
           null,
           null,
           null,
           null,
           "red",
           null,
           null,
           "red",
           "yellowgreen",
           "yellowgreen",
           null,
           null,
           null,
           null,
           null,
           null,
           null,
           null,
           "yellowgreen",
           "red",
           "yellowgreen",
           null,
           "red",
           "yellowgreen",
           "red",
           "red",
           "red",
           "yellowgreen",
           "red",
           "red",
           "red",
           "red",
           "red",
           "red",
           "red",
           "red",
           "red",
           "red",
           "red",
           "red",
           null,
           "red",
           null,
           "red",
           "red",
           null,
           "red",
           "yellowgreen",
           "yellowgreen",
           null,
           null,
           "red",
           "red",
           "red",
           null,
           "red",
           "red",
           null,
           "red",
           "red",
           "red",
           "red",
           "red",
           "yellowgreen",
           "red",
           "red",
           "red",
           "yellowgreen",
           "red",
           "red",
           "red",
           "red",
           null,
           "red",
           "red",
           "red",
           "red",
           "red",
           "red",
           "red",
           "red",
           null,
           "red",
           "red",
           "red",
           null,
           "red",
           "red",
           "red",
           "red",
           "red",
           null,
           "red",
           "red",
           null,
           "yellowgreen",
           "red",
           "red",
           "red",
           "red",
           "red",
           "red",
           "red",
           "red",
           "red",
           "red",
           "red",
           null,
           "red",
           "red",
           "yellowgreen",
           "red",
           "red",
           null,
           null,
           "red",
           null,
           "red",
           "red",
           "yellowgreen",
           "red",
           "red",
           "red",
           "red",
           "yellowgreen",
           null,
           "red",
           "red",
           "red",
           null,
           "red",
           "red",
           "red",
           "red",
           null,
           "yellowgreen",
           "yellowgreen",
           "red",
           null,
           null,
           "red",
           null,
           "red",
           null,
           null,
           "red",
           null,
           "yellowgreen",
           "yellowgreen",
           "red",
           "red",
           "red",
           "red",
           "red",
           null,
           "red",
           null,
           "red",
           "red",
           "red",
           "red",
           null,
           "red",
           null,
           "red",
           null,
           "yellowgreen",
           "red",
           "yellowgreen",
           "red",
           "red",
           null
          ],
          "symbol": "circle"
         },
         "mode": "markers",
         "name": "",
         "orientation": "v",
         "showlegend": false,
         "type": "scatter",
         "x": [
          "1962-12-05",
          "1964-07-18",
          "1966-04-07",
          "1970-02-27",
          "1971-04-30",
          "1971-05-12",
          "1972-03-22",
          "1972-05-17",
          "1972-10-01",
          "1972-10-04",
          "1972-12-16",
          "1973-01-05",
          "1973-01-12",
          "1973-03-01",
          "1973-03-05",
          "1973-03-31",
          "1973-04-05",
          "1973-04-26",
          "1973-05-09",
          "1973-05-23",
          "1973-08-17",
          "1973-09-01",
          "1973-11-29",
          "1974-01-01",
          "1974-01-12",
          "1974-01-17",
          "1975-02-08",
          "1975-12-05",
          "1975-12-21",
          "1976-02-20",
          "1976-07-08",
          "1976-07-15",
          "1976-08-21",
          "1976-10-10",
          "1977-01-01",
          "1977-05-13",
          "1977-07-22",
          "1978-01-01",
          "1978-03-01",
          "1978-03-08",
          "1978-04-27",
          "1978-06-30",
          "1978-10-05",
          "1978-11-23",
          "1979-02-17",
          "1979-04-21",
          "1980-02-09",
          "1980-08-18",
          "1981-06-19",
          "1982-01-21",
          "1982-12-18",
          "1983-02-13",
          "1983-03-04",
          "1983-07-07",
          "1983-12-22",
          "1984-01-01",
          "1984-01-01",
          "1984-02-22",
          "1984-06-29",
          "1984-08-17",
          "1985-02-10",
          "1985-07-10",
          "1985-08-15",
          "1985-09-14",
          "1985-12-14",
          "1986-07-25",
          "1986-08-16",
          "1987-08-19",
          "1988-02-11",
          "1988-08-13",
          "1989-06-15",
          "1990-01-01",
          "1990-03-28",
          "1991-02-07",
          "1992-01-01",
          "1992-01-10",
          "1992-01-15",
          "1992-07-04",
          "1993-01-01",
          "1993-06-24",
          "1993-10-21",
          "1994-01-01",
          "1994-02-03",
          "1995-01-21",
          "1995-06-15",
          "1995-07-22",
          "1995-09-08",
          "1996-02-10",
          "1996-08-30",
          "1996-09-10",
          "1997-01-31",
          "1998-01-01",
          "1998-01-17",
          "1998-02-20",
          "1998-07-01",
          "1998-07-17",
          "1998-08-18",
          "1998-09-18",
          "1999-01-01",
          "1999-02-08",
          "1999-02-12",
          "1999-03-30",
          "1999-06-18",
          "1999-08-25",
          "2000-05-26",
          "2000-10-22",
          "2001-01-01",
          "2001-01-01",
          "2001-01-18",
          "2001-08-03",
          "2001-12-18",
          "2002-04-16",
          "2002-06-01",
          "2002-09-27",
          "2002-12-10",
          "2002-12-26",
          "2003-01-01",
          "2003-02-06",
          "2003-03-08",
          "2003-08-15",
          "2003-08-22",
          "2003-12-24",
          "2004-04-08",
          "2004-06-16",
          "2004-08-12",
          "2004-09-23",
          "2005-05-11",
          "2006-04-05",
          "2006-09-28",
          "2007-08-08",
          "2008-01-01",
          "2008-04-18",
          "2008-06-04",
          "2008-08-24",
          "2009-03-22",
          "2009-05-17",
          "2009-07-03",
          "2009-09-17",
          "2010-01-01",
          "2010-01-15",
          "2010-02-14",
          "2010-06-10",
          "2010-11-26",
          "2011-01-20",
          "2011-05-25",
          "2011-07-03",
          "2012-02-04",
          "2012-02-09",
          "2012-12-20",
          "2013-12-20",
          "2013-12-24",
          "2014-01-02",
          "2014-05-23",
          "2015-02-19",
          "2015-07-10",
          "2016-01-23",
          "2016-03-04",
          "2016-07-21",
          "2016-09-22",
          "2016-12-23",
          "2017-01-27",
          "2017-08-04",
          "2017-08-11",
          "2017-08-22",
          "2017-09-21",
          "2017-09-28",
          "2017-12-18",
          "2017-12-29",
          "2019-02-05",
          "2019-08-14",
          "2019-08-16",
          "2019-09-30",
          "2020-09-30",
          "2021-01-15",
          "2021-04-22",
          "2021-08-04",
          "2021-12-10",
          "2023-04-07",
          "2023-07-06",
          "2023-07-31"
         ],
         "xaxis": "x",
         "y": [
          5.6,
          6.9,
          6.9,
          6.2,
          6.3,
          5.9,
          7.2,
          5.6,
          6.8,
          4.9,
          7.3,
          6.5,
          4.3,
          6.3,
          5.1,
          5.2,
          5.9,
          3.6,
          5.9,
          5.6,
          7.6,
          5.5,
          4.4,
          6.6,
          5.8,
          5.7,
          5.3,
          6.5,
          6.3,
          6.1,
          5.5,
          6,
          4.9,
          6.4,
          5,
          5.5,
          5.3,
          5.7,
          7.3,
          6.4,
          5.6,
          5.6,
          7.4,
          5.8,
          6.6,
          6.1,
          7.1,
          5.7,
          6.2,
          6.3,
          5.7,
          4.5,
          5,
          6.6,
          7.3,
          4,
          7.1,
          6.1,
          5,
          7,
          6.3,
          5.7,
          6.2,
          6.3,
          7.5,
          5.7,
          6.9,
          7,
          7.1,
          7.1,
          6.9,
          7.1,
          5.7,
          7.2,
          6.7,
          6,
          6.4,
          6.9,
          6.3,
          6.7,
          6.1,
          7.1,
          7.5,
          6.7,
          6.2,
          8.2,
          6.3,
          6.6,
          5.2,
          6.8,
          6.2,
          6.5,
          6.8,
          3.5,
          6.6,
          6.8,
          6.6,
          7,
          7.3,
          7.2,
          6,
          7.6,
          5.9,
          6.5,
          6.6,
          8,
          7.6,
          6.7,
          5.8,
          6.7,
          7.1,
          6,
          6.7,
          5.4,
          6.5,
          7.1,
          7.1,
          6.2,
          5.5,
          5.2,
          7,
          6.4,
          5.5,
          5.8,
          4.8,
          6.9,
          6.1,
          6.8,
          6.6,
          6.2,
          8.3,
          6.5,
          7.6,
          6,
          6.9,
          7.7,
          3.9,
          4.9,
          3.6,
          5.4,
          6.9,
          6.2,
          6.7,
          6.8,
          7.2,
          5.7,
          8,
          7.4,
          6,
          5.2,
          5.9,
          6.2,
          6.7,
          5.9,
          6.7,
          7.1,
          7.2,
          5.6,
          6.1,
          5.8,
          5.2,
          7.8,
          5.5,
          5.8,
          6,
          7,
          5.1,
          5.1,
          4.9,
          6.7,
          4.7,
          5.5,
          4.7,
          7.2,
          4.6,
          6.1,
          5.2,
          6.3,
          5.3,
          7.2
         ],
         "yaxis": "y"
        }
       ],
       "layout": {
        "legend": {
         "tracegroupgap": 0
        },
        "shapes": [
         {
          "fillcolor": "rgba(255, 255, 100, 0.5)",
          "layer": "below",
          "line": {
           "width": 0
          },
          "opacity": 0.5,
          "type": "rect",
          "x0": "1962-12-05",
          "x1": "1982-11-30",
          "y0": 0,
          "y1": 11
         },
         {
          "fillcolor": "rgba(255, 165, 0, 0.5)",
          "layer": "below",
          "line": {
           "width": 0
          },
          "opacity": 0.5,
          "type": "rect",
          "x0": "1982-11-30",
          "x1": "2002-11-25",
          "y0": 0,
          "y1": 11
         },
         {
          "fillcolor": "rgba(240, 128, 128, 0.5)",
          "layer": "below",
          "line": {
           "width": 0
          },
          "opacity": 0.5,
          "type": "rect",
          "x0": "2002-11-25",
          "x1": "2023-07-31",
          "y0": 0,
          "y1": 11
         }
        ],
        "template": {
         "data": {
          "bar": [
           {
            "error_x": {
             "color": "#2a3f5f"
            },
            "error_y": {
             "color": "#2a3f5f"
            },
            "marker": {
             "line": {
              "color": "#E5ECF6",
              "width": 0.5
             },
             "pattern": {
              "fillmode": "overlay",
              "size": 10,
              "solidity": 0.2
             }
            },
            "type": "bar"
           }
          ],
          "barpolar": [
           {
            "marker": {
             "line": {
              "color": "#E5ECF6",
              "width": 0.5
             },
             "pattern": {
              "fillmode": "overlay",
              "size": 10,
              "solidity": 0.2
             }
            },
            "type": "barpolar"
           }
          ],
          "carpet": [
           {
            "aaxis": {
             "endlinecolor": "#2a3f5f",
             "gridcolor": "white",
             "linecolor": "white",
             "minorgridcolor": "white",
             "startlinecolor": "#2a3f5f"
            },
            "baxis": {
             "endlinecolor": "#2a3f5f",
             "gridcolor": "white",
             "linecolor": "white",
             "minorgridcolor": "white",
             "startlinecolor": "#2a3f5f"
            },
            "type": "carpet"
           }
          ],
          "choropleth": [
           {
            "colorbar": {
             "outlinewidth": 0,
             "ticks": ""
            },
            "type": "choropleth"
           }
          ],
          "contour": [
           {
            "colorbar": {
             "outlinewidth": 0,
             "ticks": ""
            },
            "colorscale": [
             [
              0,
              "#0d0887"
             ],
             [
              0.1111111111111111,
              "#46039f"
             ],
             [
              0.2222222222222222,
              "#7201a8"
             ],
             [
              0.3333333333333333,
              "#9c179e"
             ],
             [
              0.4444444444444444,
              "#bd3786"
             ],
             [
              0.5555555555555556,
              "#d8576b"
             ],
             [
              0.6666666666666666,
              "#ed7953"
             ],
             [
              0.7777777777777778,
              "#fb9f3a"
             ],
             [
              0.8888888888888888,
              "#fdca26"
             ],
             [
              1,
              "#f0f921"
             ]
            ],
            "type": "contour"
           }
          ],
          "contourcarpet": [
           {
            "colorbar": {
             "outlinewidth": 0,
             "ticks": ""
            },
            "type": "contourcarpet"
           }
          ],
          "heatmap": [
           {
            "colorbar": {
             "outlinewidth": 0,
             "ticks": ""
            },
            "colorscale": [
             [
              0,
              "#0d0887"
             ],
             [
              0.1111111111111111,
              "#46039f"
             ],
             [
              0.2222222222222222,
              "#7201a8"
             ],
             [
              0.3333333333333333,
              "#9c179e"
             ],
             [
              0.4444444444444444,
              "#bd3786"
             ],
             [
              0.5555555555555556,
              "#d8576b"
             ],
             [
              0.6666666666666666,
              "#ed7953"
             ],
             [
              0.7777777777777778,
              "#fb9f3a"
             ],
             [
              0.8888888888888888,
              "#fdca26"
             ],
             [
              1,
              "#f0f921"
             ]
            ],
            "type": "heatmap"
           }
          ],
          "heatmapgl": [
           {
            "colorbar": {
             "outlinewidth": 0,
             "ticks": ""
            },
            "colorscale": [
             [
              0,
              "#0d0887"
             ],
             [
              0.1111111111111111,
              "#46039f"
             ],
             [
              0.2222222222222222,
              "#7201a8"
             ],
             [
              0.3333333333333333,
              "#9c179e"
             ],
             [
              0.4444444444444444,
              "#bd3786"
             ],
             [
              0.5555555555555556,
              "#d8576b"
             ],
             [
              0.6666666666666666,
              "#ed7953"
             ],
             [
              0.7777777777777778,
              "#fb9f3a"
             ],
             [
              0.8888888888888888,
              "#fdca26"
             ],
             [
              1,
              "#f0f921"
             ]
            ],
            "type": "heatmapgl"
           }
          ],
          "histogram": [
           {
            "marker": {
             "pattern": {
              "fillmode": "overlay",
              "size": 10,
              "solidity": 0.2
             }
            },
            "type": "histogram"
           }
          ],
          "histogram2d": [
           {
            "colorbar": {
             "outlinewidth": 0,
             "ticks": ""
            },
            "colorscale": [
             [
              0,
              "#0d0887"
             ],
             [
              0.1111111111111111,
              "#46039f"
             ],
             [
              0.2222222222222222,
              "#7201a8"
             ],
             [
              0.3333333333333333,
              "#9c179e"
             ],
             [
              0.4444444444444444,
              "#bd3786"
             ],
             [
              0.5555555555555556,
              "#d8576b"
             ],
             [
              0.6666666666666666,
              "#ed7953"
             ],
             [
              0.7777777777777778,
              "#fb9f3a"
             ],
             [
              0.8888888888888888,
              "#fdca26"
             ],
             [
              1,
              "#f0f921"
             ]
            ],
            "type": "histogram2d"
           }
          ],
          "histogram2dcontour": [
           {
            "colorbar": {
             "outlinewidth": 0,
             "ticks": ""
            },
            "colorscale": [
             [
              0,
              "#0d0887"
             ],
             [
              0.1111111111111111,
              "#46039f"
             ],
             [
              0.2222222222222222,
              "#7201a8"
             ],
             [
              0.3333333333333333,
              "#9c179e"
             ],
             [
              0.4444444444444444,
              "#bd3786"
             ],
             [
              0.5555555555555556,
              "#d8576b"
             ],
             [
              0.6666666666666666,
              "#ed7953"
             ],
             [
              0.7777777777777778,
              "#fb9f3a"
             ],
             [
              0.8888888888888888,
              "#fdca26"
             ],
             [
              1,
              "#f0f921"
             ]
            ],
            "type": "histogram2dcontour"
           }
          ],
          "mesh3d": [
           {
            "colorbar": {
             "outlinewidth": 0,
             "ticks": ""
            },
            "type": "mesh3d"
           }
          ],
          "parcoords": [
           {
            "line": {
             "colorbar": {
              "outlinewidth": 0,
              "ticks": ""
             }
            },
            "type": "parcoords"
           }
          ],
          "pie": [
           {
            "automargin": true,
            "type": "pie"
           }
          ],
          "scatter": [
           {
            "fillpattern": {
             "fillmode": "overlay",
             "size": 10,
             "solidity": 0.2
            },
            "type": "scatter"
           }
          ],
          "scatter3d": [
           {
            "line": {
             "colorbar": {
              "outlinewidth": 0,
              "ticks": ""
             }
            },
            "marker": {
             "colorbar": {
              "outlinewidth": 0,
              "ticks": ""
             }
            },
            "type": "scatter3d"
           }
          ],
          "scattercarpet": [
           {
            "marker": {
             "colorbar": {
              "outlinewidth": 0,
              "ticks": ""
             }
            },
            "type": "scattercarpet"
           }
          ],
          "scattergeo": [
           {
            "marker": {
             "colorbar": {
              "outlinewidth": 0,
              "ticks": ""
             }
            },
            "type": "scattergeo"
           }
          ],
          "scattergl": [
           {
            "marker": {
             "colorbar": {
              "outlinewidth": 0,
              "ticks": ""
             }
            },
            "type": "scattergl"
           }
          ],
          "scattermapbox": [
           {
            "marker": {
             "colorbar": {
              "outlinewidth": 0,
              "ticks": ""
             }
            },
            "type": "scattermapbox"
           }
          ],
          "scatterpolar": [
           {
            "marker": {
             "colorbar": {
              "outlinewidth": 0,
              "ticks": ""
             }
            },
            "type": "scatterpolar"
           }
          ],
          "scatterpolargl": [
           {
            "marker": {
             "colorbar": {
              "outlinewidth": 0,
              "ticks": ""
             }
            },
            "type": "scatterpolargl"
           }
          ],
          "scatterternary": [
           {
            "marker": {
             "colorbar": {
              "outlinewidth": 0,
              "ticks": ""
             }
            },
            "type": "scatterternary"
           }
          ],
          "surface": [
           {
            "colorbar": {
             "outlinewidth": 0,
             "ticks": ""
            },
            "colorscale": [
             [
              0,
              "#0d0887"
             ],
             [
              0.1111111111111111,
              "#46039f"
             ],
             [
              0.2222222222222222,
              "#7201a8"
             ],
             [
              0.3333333333333333,
              "#9c179e"
             ],
             [
              0.4444444444444444,
              "#bd3786"
             ],
             [
              0.5555555555555556,
              "#d8576b"
             ],
             [
              0.6666666666666666,
              "#ed7953"
             ],
             [
              0.7777777777777778,
              "#fb9f3a"
             ],
             [
              0.8888888888888888,
              "#fdca26"
             ],
             [
              1,
              "#f0f921"
             ]
            ],
            "type": "surface"
           }
          ],
          "table": [
           {
            "cells": {
             "fill": {
              "color": "#EBF0F8"
             },
             "line": {
              "color": "white"
             }
            },
            "header": {
             "fill": {
              "color": "#C8D4E3"
             },
             "line": {
              "color": "white"
             }
            },
            "type": "table"
           }
          ]
         },
         "layout": {
          "annotationdefaults": {
           "arrowcolor": "#2a3f5f",
           "arrowhead": 0,
           "arrowwidth": 1
          },
          "autotypenumbers": "strict",
          "coloraxis": {
           "colorbar": {
            "outlinewidth": 0,
            "ticks": ""
           }
          },
          "colorscale": {
           "diverging": [
            [
             0,
             "#8e0152"
            ],
            [
             0.1,
             "#c51b7d"
            ],
            [
             0.2,
             "#de77ae"
            ],
            [
             0.3,
             "#f1b6da"
            ],
            [
             0.4,
             "#fde0ef"
            ],
            [
             0.5,
             "#f7f7f7"
            ],
            [
             0.6,
             "#e6f5d0"
            ],
            [
             0.7,
             "#b8e186"
            ],
            [
             0.8,
             "#7fbc41"
            ],
            [
             0.9,
             "#4d9221"
            ],
            [
             1,
             "#276419"
            ]
           ],
           "sequential": [
            [
             0,
             "#0d0887"
            ],
            [
             0.1111111111111111,
             "#46039f"
            ],
            [
             0.2222222222222222,
             "#7201a8"
            ],
            [
             0.3333333333333333,
             "#9c179e"
            ],
            [
             0.4444444444444444,
             "#bd3786"
            ],
            [
             0.5555555555555556,
             "#d8576b"
            ],
            [
             0.6666666666666666,
             "#ed7953"
            ],
            [
             0.7777777777777778,
             "#fb9f3a"
            ],
            [
             0.8888888888888888,
             "#fdca26"
            ],
            [
             1,
             "#f0f921"
            ]
           ],
           "sequentialminus": [
            [
             0,
             "#0d0887"
            ],
            [
             0.1111111111111111,
             "#46039f"
            ],
            [
             0.2222222222222222,
             "#7201a8"
            ],
            [
             0.3333333333333333,
             "#9c179e"
            ],
            [
             0.4444444444444444,
             "#bd3786"
            ],
            [
             0.5555555555555556,
             "#d8576b"
            ],
            [
             0.6666666666666666,
             "#ed7953"
            ],
            [
             0.7777777777777778,
             "#fb9f3a"
            ],
            [
             0.8888888888888888,
             "#fdca26"
            ],
            [
             1,
             "#f0f921"
            ]
           ]
          },
          "colorway": [
           "#636efa",
           "#EF553B",
           "#00cc96",
           "#ab63fa",
           "#FFA15A",
           "#19d3f3",
           "#FF6692",
           "#B6E880",
           "#FF97FF",
           "#FECB52"
          ],
          "font": {
           "color": "#2a3f5f"
          },
          "geo": {
           "bgcolor": "white",
           "lakecolor": "white",
           "landcolor": "#E5ECF6",
           "showlakes": true,
           "showland": true,
           "subunitcolor": "white"
          },
          "hoverlabel": {
           "align": "left"
          },
          "hovermode": "closest",
          "mapbox": {
           "style": "light"
          },
          "paper_bgcolor": "white",
          "plot_bgcolor": "#E5ECF6",
          "polar": {
           "angularaxis": {
            "gridcolor": "white",
            "linecolor": "white",
            "ticks": ""
           },
           "bgcolor": "#E5ECF6",
           "radialaxis": {
            "gridcolor": "white",
            "linecolor": "white",
            "ticks": ""
           }
          },
          "scene": {
           "xaxis": {
            "backgroundcolor": "#E5ECF6",
            "gridcolor": "white",
            "gridwidth": 2,
            "linecolor": "white",
            "showbackground": true,
            "ticks": "",
            "zerolinecolor": "white"
           },
           "yaxis": {
            "backgroundcolor": "#E5ECF6",
            "gridcolor": "white",
            "gridwidth": 2,
            "linecolor": "white",
            "showbackground": true,
            "ticks": "",
            "zerolinecolor": "white"
           },
           "zaxis": {
            "backgroundcolor": "#E5ECF6",
            "gridcolor": "white",
            "gridwidth": 2,
            "linecolor": "white",
            "showbackground": true,
            "ticks": "",
            "zerolinecolor": "white"
           }
          },
          "shapedefaults": {
           "line": {
            "color": "#2a3f5f"
           }
          },
          "ternary": {
           "aaxis": {
            "gridcolor": "white",
            "linecolor": "white",
            "ticks": ""
           },
           "baxis": {
            "gridcolor": "white",
            "linecolor": "white",
            "ticks": ""
           },
           "bgcolor": "#E5ECF6",
           "caxis": {
            "gridcolor": "white",
            "linecolor": "white",
            "ticks": ""
           }
          },
          "title": {
           "x": 0.05
          },
          "xaxis": {
           "automargin": true,
           "gridcolor": "white",
           "linecolor": "white",
           "ticks": "",
           "title": {
            "standoff": 15
           },
           "zerolinecolor": "white",
           "zerolinewidth": 2
          },
          "yaxis": {
           "automargin": true,
           "gridcolor": "white",
           "linecolor": "white",
           "ticks": "",
           "title": {
            "standoff": 15
           },
           "zerolinecolor": "white",
           "zerolinewidth": 2
          }
         }
        },
        "title": {
         "text": "IMDb Ratings and Genres of Movies for Actor Jackie Chan"
        },
        "xaxis": {
         "anchor": "y",
         "domain": [
          0,
          1
         ],
         "title": {
          "text": "Release Year"
         }
        },
        "yaxis": {
         "anchor": "x",
         "domain": [
          0,
          1
         ],
         "title": {
          "text": "IMDb Rating"
         }
        }
       }
      }
     },
     "metadata": {},
     "output_type": "display_data"
    }
   ],
   "source": [
    "id_1 = full_actors_filtered_df[full_actors_filtered_df['name'] == 'Zoe Lister-Jones']['actor_id'].iloc[0]\n",
    "id_2 = full_actors_filtered_df[full_actors_filtered_df['name'] == '50 Cent']['actor_id'].iloc[0]\n",
    "id_3 = full_actors_filtered_df[full_actors_filtered_df['name'] == 'Jackie Chan']['actor_id'].iloc[0]\n",
    "\n",
    "plot_movies_ratings_1(id_1)\n",
    "plot_movies_ratings_2(id_2)\n",
    "plot_movies_ratings_3(id_3)"
   ]
  }
 ],
 "metadata": {
  "kernelspec": {
   "display_name": "base",
   "language": "python",
   "name": "python3"
  },
  "language_info": {
   "codemirror_mode": {
    "name": "ipython",
    "version": 3
   },
   "file_extension": ".py",
   "mimetype": "text/x-python",
   "name": "python",
   "nbconvert_exporter": "python",
   "pygments_lexer": "ipython3",
   "version": "3.8.8"
  }
 },
 "nbformat": 4,
 "nbformat_minor": 2
}
