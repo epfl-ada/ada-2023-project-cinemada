{
 "cells": [
  {
   "cell_type": "code",
   "execution_count": 3,
   "metadata": {},
   "outputs": [],
   "source": [
    "import pandas as pd\n",
    "import numpy as np\n",
    "import seaborn as sns\n",
    "import matplotlib.pyplot as plt\n",
    "import statsmodels.formula.api as smf\n",
    "import networkx as nx\n",
    "from scipy.stats import pearsonr\n",
    "\n",
    "# machine lerning\n",
    "from sklearn.model_selection import cross_validate\n",
    "from sklearn.ensemble import GradientBoostingRegressor"
   ]
  },
  {
   "cell_type": "markdown",
   "metadata": {},
   "source": [
    "# Genre Importance Analysis"
   ]
  },
  {
   "cell_type": "code",
   "execution_count": 7,
   "metadata": {},
   "outputs": [],
   "source": [
    "# Load data\n",
    "df = pd.read_csv('../Data/preprocessed_data/final_data/full_db.csv')\n",
    "\n",
    "columns_to_keep = ['name', 'main_genre_0','n_genres_0','main_genre_1','n_genres_1','main_genre_2','n_genres_2','success']\n",
    "df = df[columns_to_keep]"
   ]
  },
  {
   "cell_type": "code",
   "execution_count": 8,
   "metadata": {},
   "outputs": [
    {
     "data": {
      "text/html": [
       "<div>\n",
       "<style scoped>\n",
       "    .dataframe tbody tr th:only-of-type {\n",
       "        vertical-align: middle;\n",
       "    }\n",
       "\n",
       "    .dataframe tbody tr th {\n",
       "        vertical-align: top;\n",
       "    }\n",
       "\n",
       "    .dataframe thead th {\n",
       "        text-align: right;\n",
       "    }\n",
       "</style>\n",
       "<table border=\"1\" class=\"dataframe\">\n",
       "  <thead>\n",
       "    <tr style=\"text-align: right;\">\n",
       "      <th></th>\n",
       "      <th>name</th>\n",
       "      <th>main_genre_0</th>\n",
       "      <th>n_genres_0</th>\n",
       "      <th>main_genre_1</th>\n",
       "      <th>n_genres_1</th>\n",
       "      <th>main_genre_2</th>\n",
       "      <th>n_genres_2</th>\n",
       "      <th>success</th>\n",
       "    </tr>\n",
       "  </thead>\n",
       "  <tbody>\n",
       "    <tr>\n",
       "      <th>5185</th>\n",
       "      <td>Nicolas Cage</td>\n",
       "      <td>Drama</td>\n",
       "      <td>12.0</td>\n",
       "      <td>Drama</td>\n",
       "      <td>17.0</td>\n",
       "      <td>Action</td>\n",
       "      <td>17.0</td>\n",
       "      <td>2.252450</td>\n",
       "    </tr>\n",
       "    <tr>\n",
       "      <th>2135</th>\n",
       "      <td>Leonardo DiCaprio</td>\n",
       "      <td>Drama</td>\n",
       "      <td>16.0</td>\n",
       "      <td>Documentary</td>\n",
       "      <td>14.0</td>\n",
       "      <td>NaN</td>\n",
       "      <td>NaN</td>\n",
       "      <td>2.165815</td>\n",
       "    </tr>\n",
       "    <tr>\n",
       "      <th>5186</th>\n",
       "      <td>Tom Hanks</td>\n",
       "      <td>Comedy</td>\n",
       "      <td>14.0</td>\n",
       "      <td>Documentary</td>\n",
       "      <td>16.0</td>\n",
       "      <td>Documentary</td>\n",
       "      <td>19.0</td>\n",
       "      <td>2.093282</td>\n",
       "    </tr>\n",
       "  </tbody>\n",
       "</table>\n",
       "</div>"
      ],
      "text/plain": [
       "                   name main_genre_0  n_genres_0 main_genre_1  n_genres_1  \\\n",
       "5185       Nicolas Cage        Drama        12.0        Drama        17.0   \n",
       "2135  Leonardo DiCaprio        Drama        16.0  Documentary        14.0   \n",
       "5186          Tom Hanks       Comedy        14.0  Documentary        16.0   \n",
       "\n",
       "     main_genre_2  n_genres_2   success  \n",
       "5185       Action        17.0  2.252450  \n",
       "2135          NaN         NaN  2.165815  \n",
       "5186  Documentary        19.0  2.093282  "
      ]
     },
     "execution_count": 8,
     "metadata": {},
     "output_type": "execute_result"
    }
   ],
   "source": [
    "sorted_df = df.sort_values(by=['success'], ascending=False)\n",
    "sorted_df.head(3)"
   ]
  }
 ],
 "metadata": {
  "kernelspec": {
   "display_name": "hello-world",
   "language": "python",
   "name": "python3"
  },
  "language_info": {
   "codemirror_mode": {
    "name": "ipython",
    "version": 3
   },
   "file_extension": ".py",
   "mimetype": "text/x-python",
   "name": "python",
   "nbconvert_exporter": "python",
   "pygments_lexer": "ipython3",
   "version": "3.6.13"
  },
  "orig_nbformat": 4
 },
 "nbformat": 4,
 "nbformat_minor": 2
}
