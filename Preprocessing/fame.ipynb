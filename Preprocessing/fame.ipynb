{
 "cells": [
  {
   "cell_type": "code",
   "execution_count": 8,
   "metadata": {},
   "outputs": [],
   "source": [
    "import requests\n",
    "from bs4 import BeautifulSoup\n",
    "import pandas as pd\n",
    "import numpy as np\n",
    "\n",
    "from selenium import webdriver\n",
    "from selenium.webdriver.common.by import By\n",
    "from selenium.webdriver.common.keys import Keys\n",
    "from selenium.webdriver.support.ui import WebDriverWait\n",
    "from selenium.webdriver.support import expected_conditions as EC\n",
    "from selenium.webdriver.chrome.service import Service\n",
    "from selenium.webdriver.chrome.options import Options\n",
    "from selenium.common.exceptions import TimeoutException\n",
    "\n",
    "import time\n",
    "\n",
    "import pandas as pd\n",
    "import plotly.express as px\n",
    "import plotly.graph_objects as go\n",
    "import plotly.io as pio\n",
    "from datetime import datetime, timedelta\n",
    "\n",
    "import requests\n",
    "import pandas as pd\n",
    "import json"
   ]
  },
  {
   "cell_type": "code",
   "execution_count": null,
   "metadata": {},
   "outputs": [],
   "source": [
    "url = 'https://today.yougov.com/ratings/entertainment/popularity/all-time-actors-actresses/all'\n",
    "path = \"Path\" # Path to webdriver executable\n",
    "\n",
    "chrome_options = Options()\n",
    "chrome_options.binary_location = r\"C:\\Program Files\\Google\\Chrome\\Application\\chrome.exe\"\n",
    "\n",
    "# Use only chrome_options, not executable_path\n",
    "driver = webdriver.Chrome(options=chrome_options)\n",
    "\n",
    "driver.get(url)\n",
    "\n",
    "\n",
    "# Decline cookies settings\n",
    "try:\n",
    "    decline_button = WebDriverWait(driver, 10).until(\n",
    "        EC.presence_of_element_located((By.ID, 'onetrust-reject-all-handler'))\n",
    "    )\n",
    "\n",
    "    decline_button.click()\n",
    "except Exception as e:\n",
    "    pass\n",
    "\n",
    "# Scroll down to load more data\n",
    "while True:\n",
    "    # Scroll to the bottom of the page\n",
    "    driver.find_element(By.TAG_NAME, 'body').send_keys(Keys.END)\n",
    "\n",
    "    # Wait for a short interval to allow the content to load\n",
    "    time.sleep(2)\n",
    "\n",
    "    # Check if there are more actors loaded\n",
    "    try:\n",
    "        load_more_button = WebDriverWait(driver, 100).until(\n",
    "            EC.element_to_be_clickable((By.CLASS_NAME, 'load-more-button'))\n",
    "        )\n",
    "        \n",
    "        load_more_button.click()\n",
    "    except TimeoutException:\n",
    "        break\n",
    "\n",
    "html = driver.page_source\n",
    "driver.quit()\n",
    "\n",
    "# Parse the HTML with BeautifulSoup\n",
    "soup = BeautifulSoup(html, 'html.parser')\n",
    "\n",
    "# Element containing the list of actors\n",
    "actors_container = soup.find('div', class_='rankings-entities-list-container')\n",
    "\n",
    "# Actor's list items\n",
    "actor_items = actors_container.find_all('li', class_='ng-star-inserted')\n",
    "\n",
    "# Create lists to store data\n",
    "actor_names = []\n",
    "popularity_percentages = []\n",
    "fame_percentages = []\n",
    "\n",
    "for actor_item in actor_items:\n",
    "    # Extract the actor name\n",
    "    actor_name = actor_item.find('img', class_='ng-star-inserted')['alt'] if actor_item.find('img', class_='ng-star-inserted') else None\n",
    "\n",
    "    # Extract popularity percentage\n",
    "    popularity_element = actor_item.find('span', class_='compact')\n",
    "    popularity_percentage = popularity_element.text.split('%')[0] if popularity_element else None\n",
    "\n",
    "    # Extract fame percentage\n",
    "    fame_element = actor_item.find('span', class_='rankings-item-active')\n",
    "    fame_percentage = fame_element.text.split('%')[0] if fame_element else None\n",
    "\n",
    "    actor_names.append(actor_name)\n",
    "    popularity_percentages.append(popularity_percentage)\n",
    "    fame_percentages.append(fame_percentage)\n",
    "\n",
    "data = {\n",
    "    'Actor Name': actor_names,\n",
    "    'Popularity (%)': popularity_percentages,\n",
    "    'Fame (%)': fame_percentages\n",
    "}\n",
    "\n",
    "famous_actors = pd.DataFrame(data)\n",
    "\n",
    "print(famous_actors)\n",
    "famous_actors.to_csv('../Data/preprocessed_data/famous_actors_db.csv', index=False)\n"
   ]
  },
  {
   "cell_type": "markdown",
   "metadata": {},
   "source": [
    "# Movie trajectory for actors"
   ]
  },
  {
   "cell_type": "code",
   "execution_count": 13,
   "metadata": {},
   "outputs": [],
   "source": [
    "# This database contains movie-actor pairs data\n",
    "tmdb_id2credit = json.load(open('../Data/tmdb_resources/tmdb_id2credit_full.json'))\n",
    "id2credit_df = pd.DataFrame.from_dict(tmdb_id2credit, orient='index')\n",
    "id2credit_df = id2credit_df.drop(columns='crew')\n",
    "\n",
    "# This database contains revenue and imdb ratings information for movies\n",
    "tmdb_id2credit_imdb_rating = json.load(open('../Data/tmdb_resources/tmdb_id2detail_imdb_rating.json'))\n",
    "imdb_rating_df = pd.DataFrame.from_dict(tmdb_id2credit_imdb_rating, orient='index')\n",
    "\n",
    "# Get list of actors of interest that appeared in movies in 2003 and later\n",
    "actors_df = pd.read_csv('../Data/preprocessed_data/tmdb_acting_in_2003_and_later.csv')"
   ]
  },
  {
   "cell_type": "code",
   "execution_count": 25,
   "metadata": {},
   "outputs": [],
   "source": [
    "import numpy as np\n",
    "def get_portion_by_order_logscale(order):\n",
    "    return np.power(np.e, 0.7756578 - 0.04791*order)"
   ]
  },
  {
   "cell_type": "code",
   "execution_count": 30,
   "metadata": {},
   "outputs": [
    {
     "data": {
      "text/html": [
       "<div>\n",
       "<style scoped>\n",
       "    .dataframe tbody tr th:only-of-type {\n",
       "        vertical-align: middle;\n",
       "    }\n",
       "\n",
       "    .dataframe tbody tr th {\n",
       "        vertical-align: top;\n",
       "    }\n",
       "\n",
       "    .dataframe thead th {\n",
       "        text-align: right;\n",
       "    }\n",
       "</style>\n",
       "<table border=\"1\" class=\"dataframe\">\n",
       "  <thead>\n",
       "    <tr style=\"text-align: right;\">\n",
       "      <th></th>\n",
       "      <th>Unnamed: 0</th>\n",
       "      <th>movie_id</th>\n",
       "      <th>actor_id</th>\n",
       "      <th>order</th>\n",
       "      <th>scaled_portion</th>\n",
       "    </tr>\n",
       "  </thead>\n",
       "  <tbody>\n",
       "    <tr>\n",
       "      <th>0</th>\n",
       "      <td>0</td>\n",
       "      <td>37680</td>\n",
       "      <td>18702</td>\n",
       "      <td>0</td>\n",
       "      <td>49.763673</td>\n",
       "    </tr>\n",
       "    <tr>\n",
       "      <th>1</th>\n",
       "      <td>1</td>\n",
       "      <td>37680</td>\n",
       "      <td>23346</td>\n",
       "      <td>1</td>\n",
       "      <td>2.453297</td>\n",
       "    </tr>\n",
       "    <tr>\n",
       "      <th>2</th>\n",
       "      <td>2</td>\n",
       "      <td>37680</td>\n",
       "      <td>3197</td>\n",
       "      <td>2</td>\n",
       "      <td>0.315102</td>\n",
       "    </tr>\n",
       "    <tr>\n",
       "      <th>3</th>\n",
       "      <td>3</td>\n",
       "      <td>37680</td>\n",
       "      <td>2547</td>\n",
       "      <td>3</td>\n",
       "      <td>5.266712</td>\n",
       "    </tr>\n",
       "    <tr>\n",
       "      <th>5</th>\n",
       "      <td>5</td>\n",
       "      <td>37680</td>\n",
       "      <td>11160</td>\n",
       "      <td>5</td>\n",
       "      <td>0.045015</td>\n",
       "    </tr>\n",
       "    <tr>\n",
       "      <th>...</th>\n",
       "      <td>...</td>\n",
       "      <td>...</td>\n",
       "      <td>...</td>\n",
       "      <td>...</td>\n",
       "      <td>...</td>\n",
       "    </tr>\n",
       "    <tr>\n",
       "      <th>650048</th>\n",
       "      <td>650048</td>\n",
       "      <td>2668</td>\n",
       "      <td>27763</td>\n",
       "      <td>4</td>\n",
       "      <td>15.389398</td>\n",
       "    </tr>\n",
       "    <tr>\n",
       "      <th>650050</th>\n",
       "      <td>650050</td>\n",
       "      <td>2668</td>\n",
       "      <td>3796</td>\n",
       "      <td>8</td>\n",
       "      <td>2.564900</td>\n",
       "    </tr>\n",
       "    <tr>\n",
       "      <th>650053</th>\n",
       "      <td>650053</td>\n",
       "      <td>2668</td>\n",
       "      <td>5658</td>\n",
       "      <td>3</td>\n",
       "      <td>17.565677</td>\n",
       "    </tr>\n",
       "    <tr>\n",
       "      <th>650064</th>\n",
       "      <td>650064</td>\n",
       "      <td>1907</td>\n",
       "      <td>3063</td>\n",
       "      <td>3</td>\n",
       "      <td>30.780399</td>\n",
       "    </tr>\n",
       "    <tr>\n",
       "      <th>650069</th>\n",
       "      <td>650069</td>\n",
       "      <td>1907</td>\n",
       "      <td>6193</td>\n",
       "      <td>0</td>\n",
       "      <td>0.798548</td>\n",
       "    </tr>\n",
       "  </tbody>\n",
       "</table>\n",
       "<p>86547 rows × 5 columns</p>\n",
       "</div>"
      ],
      "text/plain": [
       "        Unnamed: 0  movie_id  actor_id  order  scaled_portion\n",
       "0                0     37680     18702      0       49.763673\n",
       "1                1     37680     23346      1        2.453297\n",
       "2                2     37680      3197      2        0.315102\n",
       "3                3     37680      2547      3        5.266712\n",
       "5                5     37680     11160      5        0.045015\n",
       "...            ...       ...       ...    ...             ...\n",
       "650048      650048      2668     27763      4       15.389398\n",
       "650050      650050      2668      3796      8        2.564900\n",
       "650053      650053      2668      5658      3       17.565677\n",
       "650064      650064      1907      3063      3       30.780399\n",
       "650069      650069      1907      6193      0        0.798548\n",
       "\n",
       "[86547 rows x 5 columns]"
      ]
     },
     "metadata": {},
     "output_type": "display_data"
    }
   ],
   "source": [
    "tmdb_id2portions_df = pd.read_csv('../Data/preprocessed_data/tmdb_id2portion.csv')\n",
    "# rename tmdb_id to movie_id and order to cmu_order\n",
    "tmdb_id2portions_df = tmdb_id2portions_df.rename(columns={'tmdb_id': 'movie_id'})\n",
    "tmdb_id2portions_df = tmdb_id2portions_df[tmdb_id2portions_df['name'].isin(actors_df['name'])]\n",
    "columns_to_drop = ['character', 'name', 'output_portion', 'method' ]\n",
    "tmdb_id2portions_df = tmdb_id2portions_df.drop(columns=columns_to_drop)\n",
    "\n",
    "# merge full_actors_df and tmdb_id2portions_df, on=['movie_id', 'actor_id']\n",
    "\n",
    "display(tmdb_id2portions_df)"
   ]
  },
  {
   "cell_type": "code",
   "execution_count": 14,
   "metadata": {},
   "outputs": [
    {
     "name": "stdout",
     "output_type": "stream",
     "text": [
      "The number of movies in the merged dataframe is 862639\n"
     ]
    }
   ],
   "source": [
    "# Only keep the columns we need\n",
    "columns_to_keep = ['id', 'original_title', 'release_date', 'original_language', 'genres', 'budget', 'revenue', 'imdb_average_rating']\n",
    "imdb_rating_filtered_df = imdb_rating_df[columns_to_keep]\n",
    "imdb_rating_filtered_df.reset_index(drop=True, inplace=True)\n",
    "\n",
    "# Merge movie-actor pairs data with movie data\n",
    "merged_df = pd.merge(imdb_rating_filtered_df, id2credit_df, on='id', how='inner')\n",
    "print(f'The number of movies in the merged dataframe is {merged_df.shape[0]}')"
   ]
  },
  {
   "cell_type": "code",
   "execution_count": 15,
   "metadata": {},
   "outputs": [
    {
     "name": "stdout",
     "output_type": "stream",
     "text": [
      "The number of movies with non empty information is 331,376\n"
     ]
    },
    {
     "data": {
      "text/html": [
       "<div>\n",
       "<style scoped>\n",
       "    .dataframe tbody tr th:only-of-type {\n",
       "        vertical-align: middle;\n",
       "    }\n",
       "\n",
       "    .dataframe tbody tr th {\n",
       "        vertical-align: top;\n",
       "    }\n",
       "\n",
       "    .dataframe thead th {\n",
       "        text-align: right;\n",
       "    }\n",
       "</style>\n",
       "<table border=\"1\" class=\"dataframe\">\n",
       "  <thead>\n",
       "    <tr style=\"text-align: right;\">\n",
       "      <th></th>\n",
       "      <th>movie_id</th>\n",
       "      <th>original_title</th>\n",
       "      <th>release_date</th>\n",
       "      <th>original_language</th>\n",
       "      <th>genres</th>\n",
       "      <th>budget</th>\n",
       "      <th>revenue</th>\n",
       "      <th>imdb_average_rating</th>\n",
       "      <th>cast</th>\n",
       "    </tr>\n",
       "  </thead>\n",
       "  <tbody>\n",
       "    <tr>\n",
       "      <th>0</th>\n",
       "      <td>10016</td>\n",
       "      <td>Ghosts of Mars</td>\n",
       "      <td>2001-08-24</td>\n",
       "      <td>en</td>\n",
       "      <td>[{'id': 28, 'name': 'Action'}, {'id': 27, 'nam...</td>\n",
       "      <td>28000000</td>\n",
       "      <td>14010832</td>\n",
       "      <td>4.9</td>\n",
       "      <td>[{'adult': False, 'gender': 1, 'id': 57395, 'k...</td>\n",
       "    </tr>\n",
       "    <tr>\n",
       "      <th>1</th>\n",
       "      <td>263493</td>\n",
       "      <td>The Gangsters</td>\n",
       "      <td>1913-05-29</td>\n",
       "      <td>en</td>\n",
       "      <td>[{'id': 35, 'name': 'Comedy'}]</td>\n",
       "      <td>0</td>\n",
       "      <td>0</td>\n",
       "      <td>6.8</td>\n",
       "      <td>[{'adult': False, 'gender': 2, 'id': 1086663, ...</td>\n",
       "    </tr>\n",
       "    <tr>\n",
       "      <th>2</th>\n",
       "      <td>50944</td>\n",
       "      <td>The Sorcerer's Apprentice</td>\n",
       "      <td>2002-04-12</td>\n",
       "      <td>en</td>\n",
       "      <td>[{'id': 12, 'name': 'Adventure'}, {'id': 10751...</td>\n",
       "      <td>0</td>\n",
       "      <td>0</td>\n",
       "      <td>4.2</td>\n",
       "      <td>[{'adult': False, 'gender': 1, 'id': 46948, 'k...</td>\n",
       "    </tr>\n",
       "    <tr>\n",
       "      <th>3</th>\n",
       "      <td>33592</td>\n",
       "      <td>White of the Eye</td>\n",
       "      <td>1987-06-19</td>\n",
       "      <td>en</td>\n",
       "      <td>[{'id': 27, 'name': 'Horror'}, {'id': 53, 'nam...</td>\n",
       "      <td>0</td>\n",
       "      <td>0</td>\n",
       "      <td>6.1</td>\n",
       "      <td>[{'adult': False, 'gender': 2, 'id': 18181, 'k...</td>\n",
       "    </tr>\n",
       "    <tr>\n",
       "      <th>4</th>\n",
       "      <td>43839</td>\n",
       "      <td>Alexander's Ragtime Band</td>\n",
       "      <td>1938-05-24</td>\n",
       "      <td>en</td>\n",
       "      <td>[{'id': 18, 'name': 'Drama'}, {'id': 10402, 'n...</td>\n",
       "      <td>2000000</td>\n",
       "      <td>4000000</td>\n",
       "      <td>6.8</td>\n",
       "      <td>[{'adult': False, 'gender': 2, 'id': 10922, 'k...</td>\n",
       "    </tr>\n",
       "    <tr>\n",
       "      <th>...</th>\n",
       "      <td>...</td>\n",
       "      <td>...</td>\n",
       "      <td>...</td>\n",
       "      <td>...</td>\n",
       "      <td>...</td>\n",
       "      <td>...</td>\n",
       "      <td>...</td>\n",
       "      <td>...</td>\n",
       "      <td>...</td>\n",
       "    </tr>\n",
       "    <tr>\n",
       "      <th>331371</th>\n",
       "      <td>369427</td>\n",
       "      <td>The American Werewolf Project</td>\n",
       "      <td>2015-06-30</td>\n",
       "      <td>en</td>\n",
       "      <td>[{'id': 27, 'name': 'Horror'}]</td>\n",
       "      <td>0</td>\n",
       "      <td>0</td>\n",
       "      <td>4.2</td>\n",
       "      <td>[{'adult': False, 'gender': 0, 'id': 1355468, ...</td>\n",
       "    </tr>\n",
       "    <tr>\n",
       "      <th>331372</th>\n",
       "      <td>770135</td>\n",
       "      <td>Scandal in 97</td>\n",
       "      <td>2020-11-29</td>\n",
       "      <td>en</td>\n",
       "      <td>[{'id': 53, 'name': 'Thriller'}]</td>\n",
       "      <td>0</td>\n",
       "      <td>0</td>\n",
       "      <td>4.9</td>\n",
       "      <td>[{'adult': False, 'gender': 2, 'id': 1232652, ...</td>\n",
       "    </tr>\n",
       "    <tr>\n",
       "      <th>331373</th>\n",
       "      <td>472471</td>\n",
       "      <td>Sniff!!!</td>\n",
       "      <td>2017-08-25</td>\n",
       "      <td>hi</td>\n",
       "      <td>[{'id': 12, 'name': 'Adventure'}, {'id': 35, '...</td>\n",
       "      <td>0</td>\n",
       "      <td>0</td>\n",
       "      <td>5.3</td>\n",
       "      <td>[{'adult': False, 'gender': 0, 'id': 1963881, ...</td>\n",
       "    </tr>\n",
       "    <tr>\n",
       "      <th>331374</th>\n",
       "      <td>707790</td>\n",
       "      <td>マッハ’78</td>\n",
       "      <td>1978-02-25</td>\n",
       "      <td>ja</td>\n",
       "      <td>[{'id': 28, 'name': 'Action'}]</td>\n",
       "      <td>0</td>\n",
       "      <td>0</td>\n",
       "      <td>6.1</td>\n",
       "      <td>[{'adult': False, 'gender': 0, 'id': 2767640, ...</td>\n",
       "    </tr>\n",
       "    <tr>\n",
       "      <th>331375</th>\n",
       "      <td>267899</td>\n",
       "      <td>El fuego inolvidable</td>\n",
       "      <td>2014-09-11</td>\n",
       "      <td>es</td>\n",
       "      <td>[{'id': 18, 'name': 'Drama'}]</td>\n",
       "      <td>0</td>\n",
       "      <td>865</td>\n",
       "      <td>7.8</td>\n",
       "      <td>[{'adult': False, 'gender': 2, 'id': 91251, 'k...</td>\n",
       "    </tr>\n",
       "  </tbody>\n",
       "</table>\n",
       "<p>331376 rows × 9 columns</p>\n",
       "</div>"
      ],
      "text/plain": [
       "        movie_id                 original_title release_date  \\\n",
       "0          10016                 Ghosts of Mars   2001-08-24   \n",
       "1         263493                  The Gangsters   1913-05-29   \n",
       "2          50944      The Sorcerer's Apprentice   2002-04-12   \n",
       "3          33592               White of the Eye   1987-06-19   \n",
       "4          43839       Alexander's Ragtime Band   1938-05-24   \n",
       "...          ...                            ...          ...   \n",
       "331371    369427  The American Werewolf Project   2015-06-30   \n",
       "331372    770135                  Scandal in 97   2020-11-29   \n",
       "331373    472471                       Sniff!!!   2017-08-25   \n",
       "331374    707790                         マッハ’78   1978-02-25   \n",
       "331375    267899           El fuego inolvidable   2014-09-11   \n",
       "\n",
       "       original_language                                             genres  \\\n",
       "0                     en  [{'id': 28, 'name': 'Action'}, {'id': 27, 'nam...   \n",
       "1                     en                     [{'id': 35, 'name': 'Comedy'}]   \n",
       "2                     en  [{'id': 12, 'name': 'Adventure'}, {'id': 10751...   \n",
       "3                     en  [{'id': 27, 'name': 'Horror'}, {'id': 53, 'nam...   \n",
       "4                     en  [{'id': 18, 'name': 'Drama'}, {'id': 10402, 'n...   \n",
       "...                  ...                                                ...   \n",
       "331371                en                     [{'id': 27, 'name': 'Horror'}]   \n",
       "331372                en                   [{'id': 53, 'name': 'Thriller'}]   \n",
       "331373                hi  [{'id': 12, 'name': 'Adventure'}, {'id': 35, '...   \n",
       "331374                ja                     [{'id': 28, 'name': 'Action'}]   \n",
       "331375                es                      [{'id': 18, 'name': 'Drama'}]   \n",
       "\n",
       "          budget   revenue  imdb_average_rating  \\\n",
       "0       28000000  14010832                  4.9   \n",
       "1              0         0                  6.8   \n",
       "2              0         0                  4.2   \n",
       "3              0         0                  6.1   \n",
       "4        2000000   4000000                  6.8   \n",
       "...          ...       ...                  ...   \n",
       "331371         0         0                  4.2   \n",
       "331372         0         0                  4.9   \n",
       "331373         0         0                  5.3   \n",
       "331374         0         0                  6.1   \n",
       "331375         0       865                  7.8   \n",
       "\n",
       "                                                     cast  \n",
       "0       [{'adult': False, 'gender': 1, 'id': 57395, 'k...  \n",
       "1       [{'adult': False, 'gender': 2, 'id': 1086663, ...  \n",
       "2       [{'adult': False, 'gender': 1, 'id': 46948, 'k...  \n",
       "3       [{'adult': False, 'gender': 2, 'id': 18181, 'k...  \n",
       "4       [{'adult': False, 'gender': 2, 'id': 10922, 'k...  \n",
       "...                                                   ...  \n",
       "331371  [{'adult': False, 'gender': 0, 'id': 1355468, ...  \n",
       "331372  [{'adult': False, 'gender': 2, 'id': 1232652, ...  \n",
       "331373  [{'adult': False, 'gender': 0, 'id': 1963881, ...  \n",
       "331374  [{'adult': False, 'gender': 0, 'id': 2767640, ...  \n",
       "331375  [{'adult': False, 'gender': 2, 'id': 91251, 'k...  \n",
       "\n",
       "[331376 rows x 9 columns]"
      ]
     },
     "metadata": {},
     "output_type": "display_data"
    }
   ],
   "source": [
    "# Check for empty lists in the 'cast' column and drop corresponding rows\n",
    "merged_df_filtered = merged_df[merged_df['cast'].apply(lambda x: len(x) > 0)]\n",
    "# Filter rows with empty release dates and Nan imdb_average_rating\n",
    "merged_df_filtered = merged_df_filtered[(merged_df_filtered['release_date'] != '') & (merged_df_filtered['imdb_average_rating'].notna()) ] \n",
    "merged_df_filtered.reset_index(drop=True, inplace=True)\n",
    "merged_df_filtered = merged_df_filtered.rename(columns={'id': 'movie_id'})\n",
    "\n",
    "print(f'The number of movies with non empty information is {merged_df_filtered.shape[0]:,}')\n",
    "display(merged_df_filtered)"
   ]
  },
  {
   "cell_type": "markdown",
   "metadata": {},
   "source": [
    "### Cast preprocessing"
   ]
  },
  {
   "cell_type": "code",
   "execution_count": 29,
   "metadata": {},
   "outputs": [
    {
     "name": "stdout",
     "output_type": "stream",
     "text": [
      "The number of apparitions in movies of actors of interest is 307,006\n"
     ]
    },
    {
     "data": {
      "text/html": [
       "<div>\n",
       "<style scoped>\n",
       "    .dataframe tbody tr th:only-of-type {\n",
       "        vertical-align: middle;\n",
       "    }\n",
       "\n",
       "    .dataframe tbody tr th {\n",
       "        vertical-align: top;\n",
       "    }\n",
       "\n",
       "    .dataframe thead th {\n",
       "        text-align: right;\n",
       "    }\n",
       "</style>\n",
       "<table border=\"1\" class=\"dataframe\">\n",
       "  <thead>\n",
       "    <tr style=\"text-align: right;\">\n",
       "      <th></th>\n",
       "      <th>gender</th>\n",
       "      <th>actor_id</th>\n",
       "      <th>name</th>\n",
       "      <th>popularity</th>\n",
       "      <th>character</th>\n",
       "      <th>order</th>\n",
       "      <th>movie_id</th>\n",
       "      <th>original_title</th>\n",
       "      <th>release_date</th>\n",
       "      <th>original_language</th>\n",
       "      <th>genres</th>\n",
       "      <th>budget</th>\n",
       "      <th>revenue</th>\n",
       "      <th>imdb_average_rating</th>\n",
       "    </tr>\n",
       "  </thead>\n",
       "  <tbody>\n",
       "    <tr>\n",
       "      <th>0</th>\n",
       "      <td>1</td>\n",
       "      <td>57395</td>\n",
       "      <td>Natasha Henstridge</td>\n",
       "      <td>49.626</td>\n",
       "      <td>Lt. Melanie Ballard</td>\n",
       "      <td>0</td>\n",
       "      <td>10016</td>\n",
       "      <td>Ghosts of Mars</td>\n",
       "      <td>2001-08-24</td>\n",
       "      <td>en</td>\n",
       "      <td>[{'id': 28, 'name': 'Action'}, {'id': 27, 'nam...</td>\n",
       "      <td>28000000</td>\n",
       "      <td>14010832</td>\n",
       "      <td>4.9</td>\n",
       "    </tr>\n",
       "    <tr>\n",
       "      <th>1</th>\n",
       "      <td>2</td>\n",
       "      <td>9778</td>\n",
       "      <td>Ice Cube</td>\n",
       "      <td>24.423</td>\n",
       "      <td>James 'Desolation' Williams</td>\n",
       "      <td>1</td>\n",
       "      <td>10016</td>\n",
       "      <td>Ghosts of Mars</td>\n",
       "      <td>2001-08-24</td>\n",
       "      <td>en</td>\n",
       "      <td>[{'id': 28, 'name': 'Action'}, {'id': 27, 'nam...</td>\n",
       "      <td>28000000</td>\n",
       "      <td>14010832</td>\n",
       "      <td>4.9</td>\n",
       "    </tr>\n",
       "    <tr>\n",
       "      <th>2</th>\n",
       "      <td>1</td>\n",
       "      <td>2230</td>\n",
       "      <td>Pam Grier</td>\n",
       "      <td>22.806</td>\n",
       "      <td>Commander Helena Braddock</td>\n",
       "      <td>2</td>\n",
       "      <td>10016</td>\n",
       "      <td>Ghosts of Mars</td>\n",
       "      <td>2001-08-24</td>\n",
       "      <td>en</td>\n",
       "      <td>[{'id': 28, 'name': 'Action'}, {'id': 27, 'nam...</td>\n",
       "      <td>28000000</td>\n",
       "      <td>14010832</td>\n",
       "      <td>4.9</td>\n",
       "    </tr>\n",
       "    <tr>\n",
       "      <th>3</th>\n",
       "      <td>2</td>\n",
       "      <td>976</td>\n",
       "      <td>Jason Statham</td>\n",
       "      <td>199.055</td>\n",
       "      <td>Sgt. Jericho Butler</td>\n",
       "      <td>3</td>\n",
       "      <td>10016</td>\n",
       "      <td>Ghosts of Mars</td>\n",
       "      <td>2001-08-24</td>\n",
       "      <td>en</td>\n",
       "      <td>[{'id': 28, 'name': 'Action'}, {'id': 27, 'nam...</td>\n",
       "      <td>28000000</td>\n",
       "      <td>14010832</td>\n",
       "      <td>4.9</td>\n",
       "    </tr>\n",
       "    <tr>\n",
       "      <th>4</th>\n",
       "      <td>1</td>\n",
       "      <td>20387</td>\n",
       "      <td>Clea DuVall</td>\n",
       "      <td>21.220</td>\n",
       "      <td>Bashira Kincaid</td>\n",
       "      <td>4</td>\n",
       "      <td>10016</td>\n",
       "      <td>Ghosts of Mars</td>\n",
       "      <td>2001-08-24</td>\n",
       "      <td>en</td>\n",
       "      <td>[{'id': 28, 'name': 'Action'}, {'id': 27, 'nam...</td>\n",
       "      <td>28000000</td>\n",
       "      <td>14010832</td>\n",
       "      <td>4.9</td>\n",
       "    </tr>\n",
       "    <tr>\n",
       "      <th>...</th>\n",
       "      <td>...</td>\n",
       "      <td>...</td>\n",
       "      <td>...</td>\n",
       "      <td>...</td>\n",
       "      <td>...</td>\n",
       "      <td>...</td>\n",
       "      <td>...</td>\n",
       "      <td>...</td>\n",
       "      <td>...</td>\n",
       "      <td>...</td>\n",
       "      <td>...</td>\n",
       "      <td>...</td>\n",
       "      <td>...</td>\n",
       "      <td>...</td>\n",
       "    </tr>\n",
       "    <tr>\n",
       "      <th>307001</th>\n",
       "      <td>1</td>\n",
       "      <td>8857</td>\n",
       "      <td>Debbie Reynolds</td>\n",
       "      <td>20.281</td>\n",
       "      <td>Self (archive footage)</td>\n",
       "      <td>8</td>\n",
       "      <td>844511</td>\n",
       "      <td>Sœur Sourire : Qui a tué la voix de Dieu ?</td>\n",
       "      <td>2021-06-11</td>\n",
       "      <td>fr</td>\n",
       "      <td>[{'id': 99, 'name': 'Documentary'}, {'id': 104...</td>\n",
       "      <td>0</td>\n",
       "      <td>0</td>\n",
       "      <td>7.1</td>\n",
       "    </tr>\n",
       "    <tr>\n",
       "      <th>307002</th>\n",
       "      <td>1</td>\n",
       "      <td>164094</td>\n",
       "      <td>Marin Ireland</td>\n",
       "      <td>15.430</td>\n",
       "      <td>Anna</td>\n",
       "      <td>0</td>\n",
       "      <td>589496</td>\n",
       "      <td>Megafauna</td>\n",
       "      <td>2010-06-04</td>\n",
       "      <td>en</td>\n",
       "      <td>[{'id': 18, 'name': 'Drama'}, {'id': 10749, 'n...</td>\n",
       "      <td>0</td>\n",
       "      <td>0</td>\n",
       "      <td>6.7</td>\n",
       "    </tr>\n",
       "    <tr>\n",
       "      <th>307003</th>\n",
       "      <td>2</td>\n",
       "      <td>58769</td>\n",
       "      <td>Stephen Colbert</td>\n",
       "      <td>4.737</td>\n",
       "      <td>Self (archive footage)</td>\n",
       "      <td>12</td>\n",
       "      <td>376261</td>\n",
       "      <td>Weiner</td>\n",
       "      <td>2016-05-20</td>\n",
       "      <td>en</td>\n",
       "      <td>[{'id': 99, 'name': 'Documentary'}]</td>\n",
       "      <td>0</td>\n",
       "      <td>0</td>\n",
       "      <td>7.6</td>\n",
       "    </tr>\n",
       "    <tr>\n",
       "      <th>307004</th>\n",
       "      <td>2</td>\n",
       "      <td>33663</td>\n",
       "      <td>Donald Trump</td>\n",
       "      <td>18.380</td>\n",
       "      <td>Self (archive footage)</td>\n",
       "      <td>16</td>\n",
       "      <td>376261</td>\n",
       "      <td>Weiner</td>\n",
       "      <td>2016-05-20</td>\n",
       "      <td>en</td>\n",
       "      <td>[{'id': 99, 'name': 'Documentary'}]</td>\n",
       "      <td>0</td>\n",
       "      <td>0</td>\n",
       "      <td>7.6</td>\n",
       "    </tr>\n",
       "    <tr>\n",
       "      <th>307005</th>\n",
       "      <td>2</td>\n",
       "      <td>10367</td>\n",
       "      <td>John Waters</td>\n",
       "      <td>10.797</td>\n",
       "      <td>Self (archive footage)</td>\n",
       "      <td>17</td>\n",
       "      <td>376261</td>\n",
       "      <td>Weiner</td>\n",
       "      <td>2016-05-20</td>\n",
       "      <td>en</td>\n",
       "      <td>[{'id': 99, 'name': 'Documentary'}]</td>\n",
       "      <td>0</td>\n",
       "      <td>0</td>\n",
       "      <td>7.6</td>\n",
       "    </tr>\n",
       "  </tbody>\n",
       "</table>\n",
       "<p>307006 rows × 14 columns</p>\n",
       "</div>"
      ],
      "text/plain": [
       "        gender  actor_id                name  popularity  \\\n",
       "0            1     57395  Natasha Henstridge      49.626   \n",
       "1            2      9778            Ice Cube      24.423   \n",
       "2            1      2230           Pam Grier      22.806   \n",
       "3            2       976       Jason Statham     199.055   \n",
       "4            1     20387         Clea DuVall      21.220   \n",
       "...        ...       ...                 ...         ...   \n",
       "307001       1      8857     Debbie Reynolds      20.281   \n",
       "307002       1    164094       Marin Ireland      15.430   \n",
       "307003       2     58769     Stephen Colbert       4.737   \n",
       "307004       2     33663        Donald Trump      18.380   \n",
       "307005       2     10367         John Waters      10.797   \n",
       "\n",
       "                          character  order  movie_id  \\\n",
       "0               Lt. Melanie Ballard      0     10016   \n",
       "1       James 'Desolation' Williams      1     10016   \n",
       "2         Commander Helena Braddock      2     10016   \n",
       "3               Sgt. Jericho Butler      3     10016   \n",
       "4                   Bashira Kincaid      4     10016   \n",
       "...                             ...    ...       ...   \n",
       "307001       Self (archive footage)      8    844511   \n",
       "307002                         Anna      0    589496   \n",
       "307003       Self (archive footage)     12    376261   \n",
       "307004       Self (archive footage)     16    376261   \n",
       "307005       Self (archive footage)     17    376261   \n",
       "\n",
       "                                    original_title release_date  \\\n",
       "0                                   Ghosts of Mars   2001-08-24   \n",
       "1                                   Ghosts of Mars   2001-08-24   \n",
       "2                                   Ghosts of Mars   2001-08-24   \n",
       "3                                   Ghosts of Mars   2001-08-24   \n",
       "4                                   Ghosts of Mars   2001-08-24   \n",
       "...                                            ...          ...   \n",
       "307001  Sœur Sourire : Qui a tué la voix de Dieu ?   2021-06-11   \n",
       "307002                                   Megafauna   2010-06-04   \n",
       "307003                                      Weiner   2016-05-20   \n",
       "307004                                      Weiner   2016-05-20   \n",
       "307005                                      Weiner   2016-05-20   \n",
       "\n",
       "       original_language                                             genres  \\\n",
       "0                     en  [{'id': 28, 'name': 'Action'}, {'id': 27, 'nam...   \n",
       "1                     en  [{'id': 28, 'name': 'Action'}, {'id': 27, 'nam...   \n",
       "2                     en  [{'id': 28, 'name': 'Action'}, {'id': 27, 'nam...   \n",
       "3                     en  [{'id': 28, 'name': 'Action'}, {'id': 27, 'nam...   \n",
       "4                     en  [{'id': 28, 'name': 'Action'}, {'id': 27, 'nam...   \n",
       "...                  ...                                                ...   \n",
       "307001                fr  [{'id': 99, 'name': 'Documentary'}, {'id': 104...   \n",
       "307002                en  [{'id': 18, 'name': 'Drama'}, {'id': 10749, 'n...   \n",
       "307003                en                [{'id': 99, 'name': 'Documentary'}]   \n",
       "307004                en                [{'id': 99, 'name': 'Documentary'}]   \n",
       "307005                en                [{'id': 99, 'name': 'Documentary'}]   \n",
       "\n",
       "          budget   revenue  imdb_average_rating  \n",
       "0       28000000  14010832                  4.9  \n",
       "1       28000000  14010832                  4.9  \n",
       "2       28000000  14010832                  4.9  \n",
       "3       28000000  14010832                  4.9  \n",
       "4       28000000  14010832                  4.9  \n",
       "...          ...       ...                  ...  \n",
       "307001         0         0                  7.1  \n",
       "307002         0         0                  6.7  \n",
       "307003         0         0                  7.6  \n",
       "307004         0         0                  7.6  \n",
       "307005         0         0                  7.6  \n",
       "\n",
       "[307006 rows x 14 columns]"
      ]
     },
     "metadata": {},
     "output_type": "display_data"
    }
   ],
   "source": [
    "# Creating full_actors_df DataFrame\n",
    "full_actors_list = []\n",
    "\n",
    "for _, row in merged_df_filtered.iterrows():\n",
    "    for actor_info in row['cast']:\n",
    "        actor_entry = {\n",
    "            'gender': actor_info['gender'],\n",
    "            'actor_id': actor_info['id'],\n",
    "            'name': actor_info['name'],\n",
    "            'popularity': actor_info['popularity'],\n",
    "            'character': actor_info['character'],\n",
    "            'order': actor_info['order'],\n",
    "            'movie_id': row['movie_id'],\n",
    "            'original_title': row['original_title'],\n",
    "            'release_date': row['release_date'],\n",
    "            'original_language': row['original_language'],\n",
    "            'genres': row['genres'],\n",
    "            'budget': row['budget'],\n",
    "            'revenue': row['revenue'],\n",
    "            'imdb_average_rating': row['imdb_average_rating']\n",
    "        }\n",
    "        full_actors_list.append(actor_entry)\n",
    "\n",
    "full_actors_df = pd.DataFrame(full_actors_list)\n",
    "\n",
    "# Filter full_actors_df to keep only the actors in actors_df\n",
    "full_actors_df = full_actors_df[full_actors_df['name'].isin(actors_df['name'])]\n",
    "full_actors_df.reset_index(drop=True, inplace=True)\n",
    "print(f'The number of apparitions in movies of actors of interest is {full_actors_df.shape[0]:,}')\n",
    "display(full_actors_df)"
   ]
  },
  {
   "cell_type": "code",
   "execution_count": 31,
   "metadata": {},
   "outputs": [],
   "source": [
    "full_actors_df.to_csv('../Data/preprocessed_data/full_actors_df.csv', index=False)"
   ]
  },
  {
   "cell_type": "code",
   "execution_count": 39,
   "metadata": {},
   "outputs": [
    {
     "data": {
      "text/html": [
       "<div>\n",
       "<style scoped>\n",
       "    .dataframe tbody tr th:only-of-type {\n",
       "        vertical-align: middle;\n",
       "    }\n",
       "\n",
       "    .dataframe tbody tr th {\n",
       "        vertical-align: top;\n",
       "    }\n",
       "\n",
       "    .dataframe thead th {\n",
       "        text-align: right;\n",
       "    }\n",
       "</style>\n",
       "<table border=\"1\" class=\"dataframe\">\n",
       "  <thead>\n",
       "    <tr style=\"text-align: right;\">\n",
       "      <th></th>\n",
       "      <th>gender</th>\n",
       "      <th>actor_id</th>\n",
       "      <th>name</th>\n",
       "      <th>popularity</th>\n",
       "      <th>character</th>\n",
       "      <th>order</th>\n",
       "      <th>movie_id</th>\n",
       "      <th>original_title</th>\n",
       "      <th>release_date</th>\n",
       "      <th>original_language</th>\n",
       "      <th>genres</th>\n",
       "      <th>budget</th>\n",
       "      <th>revenue</th>\n",
       "      <th>imdb_average_rating</th>\n",
       "      <th>scaled_portion</th>\n",
       "    </tr>\n",
       "  </thead>\n",
       "  <tbody>\n",
       "    <tr>\n",
       "      <th>0</th>\n",
       "      <td>1</td>\n",
       "      <td>57395</td>\n",
       "      <td>Natasha Henstridge</td>\n",
       "      <td>49.626</td>\n",
       "      <td>Lt. Melanie Ballard</td>\n",
       "      <td>0</td>\n",
       "      <td>10016</td>\n",
       "      <td>Ghosts of Mars</td>\n",
       "      <td>2001-08-24</td>\n",
       "      <td>en</td>\n",
       "      <td>[{'id': 28, 'name': 'Action'}, {'id': 27, 'nam...</td>\n",
       "      <td>28000000</td>\n",
       "      <td>14010832</td>\n",
       "      <td>4.9</td>\n",
       "      <td>54.665043</td>\n",
       "    </tr>\n",
       "    <tr>\n",
       "      <th>1</th>\n",
       "      <td>2</td>\n",
       "      <td>9778</td>\n",
       "      <td>Ice Cube</td>\n",
       "      <td>24.423</td>\n",
       "      <td>James 'Desolation' Williams</td>\n",
       "      <td>1</td>\n",
       "      <td>10016</td>\n",
       "      <td>Ghosts of Mars</td>\n",
       "      <td>2001-08-24</td>\n",
       "      <td>en</td>\n",
       "      <td>[{'id': 28, 'name': 'Action'}, {'id': 27, 'nam...</td>\n",
       "      <td>28000000</td>\n",
       "      <td>14010832</td>\n",
       "      <td>4.9</td>\n",
       "      <td>5.700365</td>\n",
       "    </tr>\n",
       "    <tr>\n",
       "      <th>2</th>\n",
       "      <td>1</td>\n",
       "      <td>2230</td>\n",
       "      <td>Pam Grier</td>\n",
       "      <td>22.806</td>\n",
       "      <td>Commander Helena Braddock</td>\n",
       "      <td>2</td>\n",
       "      <td>10016</td>\n",
       "      <td>Ghosts of Mars</td>\n",
       "      <td>2001-08-24</td>\n",
       "      <td>en</td>\n",
       "      <td>[{'id': 28, 'name': 'Action'}, {'id': 27, 'nam...</td>\n",
       "      <td>28000000</td>\n",
       "      <td>14010832</td>\n",
       "      <td>4.9</td>\n",
       "      <td>9.963459</td>\n",
       "    </tr>\n",
       "    <tr>\n",
       "      <th>3</th>\n",
       "      <td>2</td>\n",
       "      <td>976</td>\n",
       "      <td>Jason Statham</td>\n",
       "      <td>199.055</td>\n",
       "      <td>Sgt. Jericho Butler</td>\n",
       "      <td>3</td>\n",
       "      <td>10016</td>\n",
       "      <td>Ghosts of Mars</td>\n",
       "      <td>2001-08-24</td>\n",
       "      <td>en</td>\n",
       "      <td>[{'id': 28, 'name': 'Action'}, {'id': 27, 'nam...</td>\n",
       "      <td>28000000</td>\n",
       "      <td>14010832</td>\n",
       "      <td>4.9</td>\n",
       "      <td>21.948843</td>\n",
       "    </tr>\n",
       "    <tr>\n",
       "      <th>4</th>\n",
       "      <td>1</td>\n",
       "      <td>20387</td>\n",
       "      <td>Clea DuVall</td>\n",
       "      <td>21.220</td>\n",
       "      <td>Bashira Kincaid</td>\n",
       "      <td>4</td>\n",
       "      <td>10016</td>\n",
       "      <td>Ghosts of Mars</td>\n",
       "      <td>2001-08-24</td>\n",
       "      <td>en</td>\n",
       "      <td>[{'id': 28, 'name': 'Action'}, {'id': 27, 'nam...</td>\n",
       "      <td>28000000</td>\n",
       "      <td>14010832</td>\n",
       "      <td>4.9</td>\n",
       "      <td>0.219245</td>\n",
       "    </tr>\n",
       "    <tr>\n",
       "      <th>...</th>\n",
       "      <td>...</td>\n",
       "      <td>...</td>\n",
       "      <td>...</td>\n",
       "      <td>...</td>\n",
       "      <td>...</td>\n",
       "      <td>...</td>\n",
       "      <td>...</td>\n",
       "      <td>...</td>\n",
       "      <td>...</td>\n",
       "      <td>...</td>\n",
       "      <td>...</td>\n",
       "      <td>...</td>\n",
       "      <td>...</td>\n",
       "      <td>...</td>\n",
       "      <td>...</td>\n",
       "    </tr>\n",
       "    <tr>\n",
       "      <th>307001</th>\n",
       "      <td>1</td>\n",
       "      <td>8857</td>\n",
       "      <td>Debbie Reynolds</td>\n",
       "      <td>20.281</td>\n",
       "      <td>Self (archive footage)</td>\n",
       "      <td>8</td>\n",
       "      <td>844511</td>\n",
       "      <td>Sœur Sourire : Qui a tué la voix de Dieu ?</td>\n",
       "      <td>2021-06-11</td>\n",
       "      <td>fr</td>\n",
       "      <td>[{'id': 99, 'name': 'Documentary'}, {'id': 104...</td>\n",
       "      <td>0</td>\n",
       "      <td>0</td>\n",
       "      <td>7.1</td>\n",
       "      <td>1.480497</td>\n",
       "    </tr>\n",
       "    <tr>\n",
       "      <th>307002</th>\n",
       "      <td>1</td>\n",
       "      <td>164094</td>\n",
       "      <td>Marin Ireland</td>\n",
       "      <td>15.430</td>\n",
       "      <td>Anna</td>\n",
       "      <td>0</td>\n",
       "      <td>589496</td>\n",
       "      <td>Megafauna</td>\n",
       "      <td>2010-06-04</td>\n",
       "      <td>en</td>\n",
       "      <td>[{'id': 18, 'name': 'Drama'}, {'id': 10749, 'n...</td>\n",
       "      <td>0</td>\n",
       "      <td>0</td>\n",
       "      <td>6.7</td>\n",
       "      <td>2.172020</td>\n",
       "    </tr>\n",
       "    <tr>\n",
       "      <th>307003</th>\n",
       "      <td>2</td>\n",
       "      <td>58769</td>\n",
       "      <td>Stephen Colbert</td>\n",
       "      <td>4.737</td>\n",
       "      <td>Self (archive footage)</td>\n",
       "      <td>12</td>\n",
       "      <td>376261</td>\n",
       "      <td>Weiner</td>\n",
       "      <td>2016-05-20</td>\n",
       "      <td>en</td>\n",
       "      <td>[{'id': 99, 'name': 'Documentary'}]</td>\n",
       "      <td>0</td>\n",
       "      <td>0</td>\n",
       "      <td>7.6</td>\n",
       "      <td>1.222304</td>\n",
       "    </tr>\n",
       "    <tr>\n",
       "      <th>307004</th>\n",
       "      <td>2</td>\n",
       "      <td>33663</td>\n",
       "      <td>Donald Trump</td>\n",
       "      <td>18.380</td>\n",
       "      <td>Self (archive footage)</td>\n",
       "      <td>16</td>\n",
       "      <td>376261</td>\n",
       "      <td>Weiner</td>\n",
       "      <td>2016-05-20</td>\n",
       "      <td>en</td>\n",
       "      <td>[{'id': 99, 'name': 'Documentary'}]</td>\n",
       "      <td>0</td>\n",
       "      <td>0</td>\n",
       "      <td>7.6</td>\n",
       "      <td>1.009139</td>\n",
       "    </tr>\n",
       "    <tr>\n",
       "      <th>307005</th>\n",
       "      <td>2</td>\n",
       "      <td>10367</td>\n",
       "      <td>John Waters</td>\n",
       "      <td>10.797</td>\n",
       "      <td>Self (archive footage)</td>\n",
       "      <td>17</td>\n",
       "      <td>376261</td>\n",
       "      <td>Weiner</td>\n",
       "      <td>2016-05-20</td>\n",
       "      <td>en</td>\n",
       "      <td>[{'id': 99, 'name': 'Documentary'}]</td>\n",
       "      <td>0</td>\n",
       "      <td>0</td>\n",
       "      <td>7.6</td>\n",
       "      <td>0.961931</td>\n",
       "    </tr>\n",
       "  </tbody>\n",
       "</table>\n",
       "<p>307006 rows × 15 columns</p>\n",
       "</div>"
      ],
      "text/plain": [
       "        gender  actor_id                name  popularity  \\\n",
       "0            1     57395  Natasha Henstridge      49.626   \n",
       "1            2      9778            Ice Cube      24.423   \n",
       "2            1      2230           Pam Grier      22.806   \n",
       "3            2       976       Jason Statham     199.055   \n",
       "4            1     20387         Clea DuVall      21.220   \n",
       "...        ...       ...                 ...         ...   \n",
       "307001       1      8857     Debbie Reynolds      20.281   \n",
       "307002       1    164094       Marin Ireland      15.430   \n",
       "307003       2     58769     Stephen Colbert       4.737   \n",
       "307004       2     33663        Donald Trump      18.380   \n",
       "307005       2     10367         John Waters      10.797   \n",
       "\n",
       "                          character  order  movie_id  \\\n",
       "0               Lt. Melanie Ballard      0     10016   \n",
       "1       James 'Desolation' Williams      1     10016   \n",
       "2         Commander Helena Braddock      2     10016   \n",
       "3               Sgt. Jericho Butler      3     10016   \n",
       "4                   Bashira Kincaid      4     10016   \n",
       "...                             ...    ...       ...   \n",
       "307001       Self (archive footage)      8    844511   \n",
       "307002                         Anna      0    589496   \n",
       "307003       Self (archive footage)     12    376261   \n",
       "307004       Self (archive footage)     16    376261   \n",
       "307005       Self (archive footage)     17    376261   \n",
       "\n",
       "                                    original_title release_date  \\\n",
       "0                                   Ghosts of Mars   2001-08-24   \n",
       "1                                   Ghosts of Mars   2001-08-24   \n",
       "2                                   Ghosts of Mars   2001-08-24   \n",
       "3                                   Ghosts of Mars   2001-08-24   \n",
       "4                                   Ghosts of Mars   2001-08-24   \n",
       "...                                            ...          ...   \n",
       "307001  Sœur Sourire : Qui a tué la voix de Dieu ?   2021-06-11   \n",
       "307002                                   Megafauna   2010-06-04   \n",
       "307003                                      Weiner   2016-05-20   \n",
       "307004                                      Weiner   2016-05-20   \n",
       "307005                                      Weiner   2016-05-20   \n",
       "\n",
       "       original_language                                             genres  \\\n",
       "0                     en  [{'id': 28, 'name': 'Action'}, {'id': 27, 'nam...   \n",
       "1                     en  [{'id': 28, 'name': 'Action'}, {'id': 27, 'nam...   \n",
       "2                     en  [{'id': 28, 'name': 'Action'}, {'id': 27, 'nam...   \n",
       "3                     en  [{'id': 28, 'name': 'Action'}, {'id': 27, 'nam...   \n",
       "4                     en  [{'id': 28, 'name': 'Action'}, {'id': 27, 'nam...   \n",
       "...                  ...                                                ...   \n",
       "307001                fr  [{'id': 99, 'name': 'Documentary'}, {'id': 104...   \n",
       "307002                en  [{'id': 18, 'name': 'Drama'}, {'id': 10749, 'n...   \n",
       "307003                en                [{'id': 99, 'name': 'Documentary'}]   \n",
       "307004                en                [{'id': 99, 'name': 'Documentary'}]   \n",
       "307005                en                [{'id': 99, 'name': 'Documentary'}]   \n",
       "\n",
       "          budget   revenue  imdb_average_rating  scaled_portion  \n",
       "0       28000000  14010832                  4.9       54.665043  \n",
       "1       28000000  14010832                  4.9        5.700365  \n",
       "2       28000000  14010832                  4.9        9.963459  \n",
       "3       28000000  14010832                  4.9       21.948843  \n",
       "4       28000000  14010832                  4.9        0.219245  \n",
       "...          ...       ...                  ...             ...  \n",
       "307001         0         0                  7.1        1.480497  \n",
       "307002         0         0                  6.7        2.172020  \n",
       "307003         0         0                  7.6        1.222304  \n",
       "307004         0         0                  7.6        1.009139  \n",
       "307005         0         0                  7.6        0.961931  \n",
       "\n",
       "[307006 rows x 15 columns]"
      ]
     },
     "metadata": {},
     "output_type": "display_data"
    }
   ],
   "source": [
    "# Add order and scaled_portion columns from tmdb_id2portions_df to full_actors_df using movie_id and actor_id\n",
    "# full_actors_df has a column named 'order' and tmdb_id2portions_df has a column named 'cmu_order'\n",
    "# if there is a match between movie_id and actor_id, add the order and scaled_portion columns to full_actors_df\n",
    "# if there is no match, keep the value of order as the one in full_actors and perform this function to get scaled_portion get_portion_by_order_logscale(order)\n",
    "\n",
    "def get_portion_by_order_logscale(order):\n",
    "    return np.power(np.e, 0.7756578 - 0.04791*order)\n",
    "\n",
    "# create column scaled_portion in full_actors_df by applying get_portion_by_order_logscale(order) to order\n",
    "full_actors_df['scaled_portion'] = full_actors_df['order'].apply(get_portion_by_order_logscale)\n",
    "# TODO if there is a match between movie_id and actor_id, replace the values of scaled_portion and order in full_actors_df with the ones in tmdb_id2portions_df\n",
    "\n",
    "\n",
    "merged_df = full_actors_df.merge(tmdb_id2portions_df, on=['movie_id', 'actor_id'], how='left')\n",
    "\n",
    "\n",
    "# Update values in full_actors_df with corresponding values from tmdb_id2portions_df\n",
    "full_actors_df['scaled_portion'].update(merged_df['scaled_portion_y'])\n",
    "full_actors_df['order'].update(merged_df['order_y'])\n",
    "\n",
    "display(full_actors_df)"
   ]
  },
  {
   "cell_type": "code",
   "execution_count": 48,
   "metadata": {},
   "outputs": [
    {
     "data": {
      "text/html": [
       "<div>\n",
       "<style scoped>\n",
       "    .dataframe tbody tr th:only-of-type {\n",
       "        vertical-align: middle;\n",
       "    }\n",
       "\n",
       "    .dataframe tbody tr th {\n",
       "        vertical-align: top;\n",
       "    }\n",
       "\n",
       "    .dataframe thead th {\n",
       "        text-align: right;\n",
       "    }\n",
       "</style>\n",
       "<table border=\"1\" class=\"dataframe\">\n",
       "  <thead>\n",
       "    <tr style=\"text-align: right;\">\n",
       "      <th></th>\n",
       "      <th>name</th>\n",
       "      <th>gender</th>\n",
       "      <th>popularity</th>\n",
       "      <th>release_date</th>\n",
       "      <th>genres</th>\n",
       "      <th>budget</th>\n",
       "      <th>revenue</th>\n",
       "      <th>imdb_ratings</th>\n",
       "      <th>order</th>\n",
       "      <th>scaled_portion</th>\n",
       "      <th>career_length</th>\n",
       "      <th>number_of_movies</th>\n",
       "    </tr>\n",
       "  </thead>\n",
       "  <tbody>\n",
       "    <tr>\n",
       "      <th>0</th>\n",
       "      <td>\"Weird Al\" Yankovic</td>\n",
       "      <td>2</td>\n",
       "      <td>[4.883, 13.081, 13.081, 13.081, 13.081, 5.609,...</td>\n",
       "      <td>[1985-09-25, 1988-10-21, 1988-12-02, 1989-07-2...</td>\n",
       "      <td>[[{'id': 35, 'name': 'Comedy'}, {'id': 10402, ...</td>\n",
       "      <td>[0, 3000000, 12000000, 5000000, 23000000, 0, 3...</td>\n",
       "      <td>[0, 343786, 78756177, 6157157, 86930411, 0, 51...</td>\n",
       "      <td>[7.5, 5.7, 7.6, 6.9, 6.9, 8.4, 6.5, 5.3, 8.9, ...</td>\n",
       "      <td>[0, 16, 11, 0, 32, 1, 35, 13, 0, 6, 3, 0, 0, 2...</td>\n",
       "      <td>[2.172020412396208, 0.2688172043010753, 0.0377...</td>\n",
       "      <td>38</td>\n",
       "      <td>52</td>\n",
       "    </tr>\n",
       "    <tr>\n",
       "      <th>1</th>\n",
       "      <td>50 Cent</td>\n",
       "      <td>2</td>\n",
       "      <td>[10.69, 10.69, 10.69, 10.69, 10.69, 14.999, 11...</td>\n",
       "      <td>[2003-04-15, 2003-04-22, 2003-08-03, 2004-08-3...</td>\n",
       "      <td>[[{'id': 10402, 'name': 'Music'}, {'id': 99, '...</td>\n",
       "      <td>[0, 0, 0, 0, 0, 300000, 0, 40000000, 0, 0, 0, ...</td>\n",
       "      <td>[0, 0, 0, 0, 0, 0, 0, 46442528, 0, 0, 0, 0, 49...</td>\n",
       "      <td>[5.7, 4.4, 7.2, 6.8, 6.3, 7.4, 7.6, 5.4, 5.8, ...</td>\n",
       "      <td>[0, 0, 1, 1, 1, 1, 68, 0, 1, 0, 1, 2, 4, 11, 4...</td>\n",
       "      <td>[2.172020412396208, 2.172020412396208, 2.07041...</td>\n",
       "      <td>20</td>\n",
       "      <td>47</td>\n",
       "    </tr>\n",
       "    <tr>\n",
       "      <th>2</th>\n",
       "      <td>A Martinez</td>\n",
       "      <td>2</td>\n",
       "      <td>[12.119, 15.752, 11.636, 12.119, 12.119, 12.11...</td>\n",
       "      <td>[1968-10-01, 1972-01-13, 1972-02-21, 1973-01-0...</td>\n",
       "      <td>[[], [{'id': 37, 'name': 'Western'}, {'id': 12...</td>\n",
       "      <td>[0, 6000000, 0, 0, 0, 0, 0, 0, 0, 0, 0, 0, 0, ...</td>\n",
       "      <td>[0, 7500000, 0, 0, 0, 0, 0, 0, 0, 0, 0, 0, 0, ...</td>\n",
       "      <td>[5.5, 7.4, 7.1, 5.7, 5.8, 5.4, 6.1, 6.5, 7.5, ...</td>\n",
       "      <td>[10, 11, 11, 2, 0, 7, 9, 1, 5, 4, 2, 5, 6, 7, ...</td>\n",
       "      <td>[1.3452203114842156, 1.2822903308751898, 1.282...</td>\n",
       "      <td>54</td>\n",
       "      <td>53</td>\n",
       "    </tr>\n",
       "    <tr>\n",
       "      <th>3</th>\n",
       "      <td>A.C. Peterson</td>\n",
       "      <td>2</td>\n",
       "      <td>[18.63, 7.378, 8.201, 18.63, 8.201, 10.299, 7....</td>\n",
       "      <td>[1984-12-26, 1985-07-28, 1986-11-29, 1987-09-2...</td>\n",
       "      <td>[[{'id': 18, 'name': 'Drama'}, {'id': 10749, '...</td>\n",
       "      <td>[11000000, 0, 0, 0, 0, 0, 0, 16000000, 0, 0, 0...</td>\n",
       "      <td>[4385312, 0, 0, 1733017, 0, 0, 0, 4409328, 465...</td>\n",
       "      <td>[6.1, 4.7, 5.7, 5.9, 5.5, 6.0, 5.0, 6.2, 5.3, ...</td>\n",
       "      <td>[55, 18, 15, 32, 9, 8, 14, 3, 11, 17, 17, 20, ...</td>\n",
       "      <td>[0.1557672769529184, 0.9169317839048822, 1.058...</td>\n",
       "      <td>37</td>\n",
       "      <td>65</td>\n",
       "    </tr>\n",
       "    <tr>\n",
       "      <th>4</th>\n",
       "      <td>A.J. Buckley</td>\n",
       "      <td>2</td>\n",
       "      <td>[14.75, 9.869, 9.655, 14.75, 9.655, 9.655, 9.6...</td>\n",
       "      <td>[1998-07-24, 1999-05-18, 1999-10-17, 2000-07-1...</td>\n",
       "      <td>[[{'id': 9648, 'name': 'Mystery'}, {'id': 27, ...</td>\n",
       "      <td>[15000000, 0, 0, 15000000, 0, 0, 0, 5000000, 0...</td>\n",
       "      <td>[17514980, 0, 0, 5217498, 0, 0, 0, 0, 1, 0, 0,...</td>\n",
       "      <td>[5.6, 3.7, 5.9, 4.6, 4.3, 4.8, 6.5, 5.3, 5.7, ...</td>\n",
       "      <td>[11, 2, 3, 13, 6, 12, 9, 9, 2, 4, 6, 19, 4, 1,...</td>\n",
       "      <td>[1.1524073558716077, 1.9735575952260926, 1.881...</td>\n",
       "      <td>20</td>\n",
       "      <td>30</td>\n",
       "    </tr>\n",
       "    <tr>\n",
       "      <th>...</th>\n",
       "      <td>...</td>\n",
       "      <td>...</td>\n",
       "      <td>...</td>\n",
       "      <td>...</td>\n",
       "      <td>...</td>\n",
       "      <td>...</td>\n",
       "      <td>...</td>\n",
       "      <td>...</td>\n",
       "      <td>...</td>\n",
       "      <td>...</td>\n",
       "      <td>...</td>\n",
       "      <td>...</td>\n",
       "    </tr>\n",
       "    <tr>\n",
       "      <th>8051</th>\n",
       "      <td>Óscar Jaenada</td>\n",
       "      <td>2</td>\n",
       "      <td>[11.329, 11.329, 9.549, 8.092, 11.329, 7.667, ...</td>\n",
       "      <td>[2001-01-05, 2003-09-12, 2003-09-26, 2004-08-2...</td>\n",
       "      <td>[[{'id': 10749, 'name': 'Romance'}, {'id': 18,...</td>\n",
       "      <td>[0, 0, 0, 0, 0, 0, 0, 0, 0, 0, 0, 0, 40000000,...</td>\n",
       "      <td>[0, 0, 959831, 0, 0, 0, 0, 0, 0, 0, 0, 0, 8638...</td>\n",
       "      <td>[6.5, 6.1, 7.6, 4.7, 5.8, 4.2, 6.0, 6.2, 5.7, ...</td>\n",
       "      <td>[4, 6, 0, 0, 3, 1, 0, 0, 0, 2, 0, 0, 7, 9, 23,...</td>\n",
       "      <td>[1.7932288110394172, 1.6293771088922553, 2.172...</td>\n",
       "      <td>22</td>\n",
       "      <td>40</td>\n",
       "    </tr>\n",
       "    <tr>\n",
       "      <th>8052</th>\n",
       "      <td>Özcan Deniz</td>\n",
       "      <td>2</td>\n",
       "      <td>[14.049, 12.583, 12.175, 12.175, 15.729, 12.17...</td>\n",
       "      <td>[2002-12-06, 2003-03-27, 2003-10-16, 2004-02-2...</td>\n",
       "      <td>[[{'id': 35, 'name': 'Comedy'}], [{'id': 35, '...</td>\n",
       "      <td>[0, 0, 0, 0, 0, 0, 0, 0, 0, 0, 0, 0, 0]</td>\n",
       "      <td>[0, 0, 0, 0, 5000000, 0, 0, 0, 0, 0, 0, 0, 0]</td>\n",
       "      <td>[4.6, 4.9, 3.6, 7.4, 1.5, 5.5, 5.2, 6.2, 5.0, ...</td>\n",
       "      <td>[2, 0, 0, 1, 1, 2, 0, 1, 0, 0, 5, 0, 1]</td>\n",
       "      <td>[1.9735575952260926, 0.2140026491817839, 2.172...</td>\n",
       "      <td>15</td>\n",
       "      <td>13</td>\n",
       "    </tr>\n",
       "    <tr>\n",
       "      <th>8053</th>\n",
       "      <td>Úrsula Corberó</td>\n",
       "      <td>1</td>\n",
       "      <td>[53.548, 27.525, 27.525, 53.548, 27.525, 27.52...</td>\n",
       "      <td>[2011-12-28, 2013-02-05, 2013-04-06, 2013-11-1...</td>\n",
       "      <td>[[{'id': 27, 'name': 'Horror'}], [{'id': 35, '...</td>\n",
       "      <td>[4362560, 0, 0, 0, 0, 0, 869115, 0, 0, 0, 0, 8...</td>\n",
       "      <td>[0, 0, 0, 850259, 0, 0, 1018486, 0, 0, 0, 0, 3...</td>\n",
       "      <td>[3.7, 5.7, 3.8, 5.6, 5.8, 4.5, 6.6, 4.6, 5.5, ...</td>\n",
       "      <td>[1, 1, 0, 3, 4, 1, 7, 0, 2, 1, 0, 3]</td>\n",
       "      <td>[0.2674304152660129, 2.0704123700052235, 2.172...</td>\n",
       "      <td>10</td>\n",
       "      <td>12</td>\n",
       "    </tr>\n",
       "    <tr>\n",
       "      <th>8054</th>\n",
       "      <td>Şükrü Özyıldız</td>\n",
       "      <td>2</td>\n",
       "      <td>[28.837, 24.124, 28.837, 28.837, 26.226, 24.12...</td>\n",
       "      <td>[2013-09-13, 2015-02-06, 2016-01-20, 2016-10-2...</td>\n",
       "      <td>[[{'id': 10749, 'name': 'Romance'}, {'id': 18,...</td>\n",
       "      <td>[0, 0, 0, 0, 1705235, 0, 0, 0, 0]</td>\n",
       "      <td>[0, 0, 0, 0, 3501037, 0, 0, 0, 0]</td>\n",
       "      <td>[4.7, 6.0, 5.3, 7.1, 7.0, 6.8, 5.3, 6.2, 4.9]</td>\n",
       "      <td>[1, 0, 1, 5, 9, 5, 1, 3, 1]</td>\n",
       "      <td>[2.0704123700052235, 2.172020412396208, 2.0704...</td>\n",
       "      <td>10</td>\n",
       "      <td>9</td>\n",
       "    </tr>\n",
       "    <tr>\n",
       "      <th>8055</th>\n",
       "      <td>​Christopher Lowell</td>\n",
       "      <td>2</td>\n",
       "      <td>[20.746, 12.048, 20.746, 20.746, 20.746, 12.04...</td>\n",
       "      <td>[2007-01-26, 2007-04-24, 2009-09-05, 2011-08-0...</td>\n",
       "      <td>[[{'id': 35, 'name': 'Comedy'}, {'id': 18, 'na...</td>\n",
       "      <td>[5000000, 0, 25000000, 25000000, 0, 0, 6000000...</td>\n",
       "      <td>[0, 0, 166842739, 216639112, 19684, 0, 3485127...</td>\n",
       "      <td>[5.5, 6.4, 7.4, 8.1, 5.7, 5.1, 6.7, 5.0, 5.4, ...</td>\n",
       "      <td>[5, 3, 15, 11, 4, 4, 3, 12, 6, 5, 6, 15, 5, 2]</td>\n",
       "      <td>[1.7093408015120044, 1.881233728170186, 1.1378...</td>\n",
       "      <td>16</td>\n",
       "      <td>14</td>\n",
       "    </tr>\n",
       "  </tbody>\n",
       "</table>\n",
       "<p>8056 rows × 12 columns</p>\n",
       "</div>"
      ],
      "text/plain": [
       "                     name  gender  \\\n",
       "0     \"Weird Al\" Yankovic       2   \n",
       "1                 50 Cent       2   \n",
       "2              A Martinez       2   \n",
       "3           A.C. Peterson       2   \n",
       "4            A.J. Buckley       2   \n",
       "...                   ...     ...   \n",
       "8051        Óscar Jaenada       2   \n",
       "8052          Özcan Deniz       2   \n",
       "8053       Úrsula Corberó       1   \n",
       "8054       Şükrü Özyıldız       2   \n",
       "8055  ​Christopher Lowell       2   \n",
       "\n",
       "                                             popularity  \\\n",
       "0     [4.883, 13.081, 13.081, 13.081, 13.081, 5.609,...   \n",
       "1     [10.69, 10.69, 10.69, 10.69, 10.69, 14.999, 11...   \n",
       "2     [12.119, 15.752, 11.636, 12.119, 12.119, 12.11...   \n",
       "3     [18.63, 7.378, 8.201, 18.63, 8.201, 10.299, 7....   \n",
       "4     [14.75, 9.869, 9.655, 14.75, 9.655, 9.655, 9.6...   \n",
       "...                                                 ...   \n",
       "8051  [11.329, 11.329, 9.549, 8.092, 11.329, 7.667, ...   \n",
       "8052  [14.049, 12.583, 12.175, 12.175, 15.729, 12.17...   \n",
       "8053  [53.548, 27.525, 27.525, 53.548, 27.525, 27.52...   \n",
       "8054  [28.837, 24.124, 28.837, 28.837, 26.226, 24.12...   \n",
       "8055  [20.746, 12.048, 20.746, 20.746, 20.746, 12.04...   \n",
       "\n",
       "                                           release_date  \\\n",
       "0     [1985-09-25, 1988-10-21, 1988-12-02, 1989-07-2...   \n",
       "1     [2003-04-15, 2003-04-22, 2003-08-03, 2004-08-3...   \n",
       "2     [1968-10-01, 1972-01-13, 1972-02-21, 1973-01-0...   \n",
       "3     [1984-12-26, 1985-07-28, 1986-11-29, 1987-09-2...   \n",
       "4     [1998-07-24, 1999-05-18, 1999-10-17, 2000-07-1...   \n",
       "...                                                 ...   \n",
       "8051  [2001-01-05, 2003-09-12, 2003-09-26, 2004-08-2...   \n",
       "8052  [2002-12-06, 2003-03-27, 2003-10-16, 2004-02-2...   \n",
       "8053  [2011-12-28, 2013-02-05, 2013-04-06, 2013-11-1...   \n",
       "8054  [2013-09-13, 2015-02-06, 2016-01-20, 2016-10-2...   \n",
       "8055  [2007-01-26, 2007-04-24, 2009-09-05, 2011-08-0...   \n",
       "\n",
       "                                                 genres  \\\n",
       "0     [[{'id': 35, 'name': 'Comedy'}, {'id': 10402, ...   \n",
       "1     [[{'id': 10402, 'name': 'Music'}, {'id': 99, '...   \n",
       "2     [[], [{'id': 37, 'name': 'Western'}, {'id': 12...   \n",
       "3     [[{'id': 18, 'name': 'Drama'}, {'id': 10749, '...   \n",
       "4     [[{'id': 9648, 'name': 'Mystery'}, {'id': 27, ...   \n",
       "...                                                 ...   \n",
       "8051  [[{'id': 10749, 'name': 'Romance'}, {'id': 18,...   \n",
       "8052  [[{'id': 35, 'name': 'Comedy'}], [{'id': 35, '...   \n",
       "8053  [[{'id': 27, 'name': 'Horror'}], [{'id': 35, '...   \n",
       "8054  [[{'id': 10749, 'name': 'Romance'}, {'id': 18,...   \n",
       "8055  [[{'id': 35, 'name': 'Comedy'}, {'id': 18, 'na...   \n",
       "\n",
       "                                                 budget  \\\n",
       "0     [0, 3000000, 12000000, 5000000, 23000000, 0, 3...   \n",
       "1     [0, 0, 0, 0, 0, 300000, 0, 40000000, 0, 0, 0, ...   \n",
       "2     [0, 6000000, 0, 0, 0, 0, 0, 0, 0, 0, 0, 0, 0, ...   \n",
       "3     [11000000, 0, 0, 0, 0, 0, 0, 16000000, 0, 0, 0...   \n",
       "4     [15000000, 0, 0, 15000000, 0, 0, 0, 5000000, 0...   \n",
       "...                                                 ...   \n",
       "8051  [0, 0, 0, 0, 0, 0, 0, 0, 0, 0, 0, 0, 40000000,...   \n",
       "8052            [0, 0, 0, 0, 0, 0, 0, 0, 0, 0, 0, 0, 0]   \n",
       "8053  [4362560, 0, 0, 0, 0, 0, 869115, 0, 0, 0, 0, 8...   \n",
       "8054                  [0, 0, 0, 0, 1705235, 0, 0, 0, 0]   \n",
       "8055  [5000000, 0, 25000000, 25000000, 0, 0, 6000000...   \n",
       "\n",
       "                                                revenue  \\\n",
       "0     [0, 343786, 78756177, 6157157, 86930411, 0, 51...   \n",
       "1     [0, 0, 0, 0, 0, 0, 0, 46442528, 0, 0, 0, 0, 49...   \n",
       "2     [0, 7500000, 0, 0, 0, 0, 0, 0, 0, 0, 0, 0, 0, ...   \n",
       "3     [4385312, 0, 0, 1733017, 0, 0, 0, 4409328, 465...   \n",
       "4     [17514980, 0, 0, 5217498, 0, 0, 0, 0, 1, 0, 0,...   \n",
       "...                                                 ...   \n",
       "8051  [0, 0, 959831, 0, 0, 0, 0, 0, 0, 0, 0, 0, 8638...   \n",
       "8052      [0, 0, 0, 0, 5000000, 0, 0, 0, 0, 0, 0, 0, 0]   \n",
       "8053  [0, 0, 0, 850259, 0, 0, 1018486, 0, 0, 0, 0, 3...   \n",
       "8054                  [0, 0, 0, 0, 3501037, 0, 0, 0, 0]   \n",
       "8055  [0, 0, 166842739, 216639112, 19684, 0, 3485127...   \n",
       "\n",
       "                                           imdb_ratings  \\\n",
       "0     [7.5, 5.7, 7.6, 6.9, 6.9, 8.4, 6.5, 5.3, 8.9, ...   \n",
       "1     [5.7, 4.4, 7.2, 6.8, 6.3, 7.4, 7.6, 5.4, 5.8, ...   \n",
       "2     [5.5, 7.4, 7.1, 5.7, 5.8, 5.4, 6.1, 6.5, 7.5, ...   \n",
       "3     [6.1, 4.7, 5.7, 5.9, 5.5, 6.0, 5.0, 6.2, 5.3, ...   \n",
       "4     [5.6, 3.7, 5.9, 4.6, 4.3, 4.8, 6.5, 5.3, 5.7, ...   \n",
       "...                                                 ...   \n",
       "8051  [6.5, 6.1, 7.6, 4.7, 5.8, 4.2, 6.0, 6.2, 5.7, ...   \n",
       "8052  [4.6, 4.9, 3.6, 7.4, 1.5, 5.5, 5.2, 6.2, 5.0, ...   \n",
       "8053  [3.7, 5.7, 3.8, 5.6, 5.8, 4.5, 6.6, 4.6, 5.5, ...   \n",
       "8054      [4.7, 6.0, 5.3, 7.1, 7.0, 6.8, 5.3, 6.2, 4.9]   \n",
       "8055  [5.5, 6.4, 7.4, 8.1, 5.7, 5.1, 6.7, 5.0, 5.4, ...   \n",
       "\n",
       "                                                  order  \\\n",
       "0     [0, 16, 11, 0, 32, 1, 35, 13, 0, 6, 3, 0, 0, 2...   \n",
       "1     [0, 0, 1, 1, 1, 1, 68, 0, 1, 0, 1, 2, 4, 11, 4...   \n",
       "2     [10, 11, 11, 2, 0, 7, 9, 1, 5, 4, 2, 5, 6, 7, ...   \n",
       "3     [55, 18, 15, 32, 9, 8, 14, 3, 11, 17, 17, 20, ...   \n",
       "4     [11, 2, 3, 13, 6, 12, 9, 9, 2, 4, 6, 19, 4, 1,...   \n",
       "...                                                 ...   \n",
       "8051  [4, 6, 0, 0, 3, 1, 0, 0, 0, 2, 0, 0, 7, 9, 23,...   \n",
       "8052            [2, 0, 0, 1, 1, 2, 0, 1, 0, 0, 5, 0, 1]   \n",
       "8053               [1, 1, 0, 3, 4, 1, 7, 0, 2, 1, 0, 3]   \n",
       "8054                        [1, 0, 1, 5, 9, 5, 1, 3, 1]   \n",
       "8055     [5, 3, 15, 11, 4, 4, 3, 12, 6, 5, 6, 15, 5, 2]   \n",
       "\n",
       "                                         scaled_portion  career_length  \\\n",
       "0     [2.172020412396208, 0.2688172043010753, 0.0377...             38   \n",
       "1     [2.172020412396208, 2.172020412396208, 2.07041...             20   \n",
       "2     [1.3452203114842156, 1.2822903308751898, 1.282...             54   \n",
       "3     [0.1557672769529184, 0.9169317839048822, 1.058...             37   \n",
       "4     [1.1524073558716077, 1.9735575952260926, 1.881...             20   \n",
       "...                                                 ...            ...   \n",
       "8051  [1.7932288110394172, 1.6293771088922553, 2.172...             22   \n",
       "8052  [1.9735575952260926, 0.2140026491817839, 2.172...             15   \n",
       "8053  [0.2674304152660129, 2.0704123700052235, 2.172...             10   \n",
       "8054  [2.0704123700052235, 2.172020412396208, 2.0704...             10   \n",
       "8055  [1.7093408015120044, 1.881233728170186, 1.1378...             16   \n",
       "\n",
       "      number_of_movies  \n",
       "0                   52  \n",
       "1                   47  \n",
       "2                   53  \n",
       "3                   65  \n",
       "4                   30  \n",
       "...                ...  \n",
       "8051                40  \n",
       "8052                13  \n",
       "8053                12  \n",
       "8054                 9  \n",
       "8055                14  \n",
       "\n",
       "[8056 rows x 12 columns]"
      ]
     },
     "metadata": {},
     "output_type": "display_data"
    }
   ],
   "source": [
    "# reorganize the dataframe by the name of the actor and the release date of the movie\n",
    "full_actors_df = full_actors_df.sort_values(by=['name', 'release_date'])\n",
    "full_actors_df.reset_index(drop=True, inplace=True)\n",
    "\n",
    "# calculate the number of movies each actor has played in and add the column number_of_movies\n",
    "number_of_movies = full_actors_df.groupby('name')['movie_id'].nunique()\n",
    "number_of_movies_df = pd.DataFrame(number_of_movies)\n",
    "number_of_movies_df.reset_index(inplace=True)\n",
    "number_of_movies_df.rename(columns={'movie_id': 'number_of_movies'}, inplace=True)\n",
    "\n",
    "# Group the actors by name and concatenate all their other features\n",
    "grouped_actors_df = full_actors_df.groupby('name').agg({\n",
    "    # get the first element of gender, since it is the same for all rows\n",
    "    'gender': lambda x: x.iloc[0],\n",
    "    'popularity': lambda x: list(x),\n",
    "    'release_date': lambda x: list(x),\n",
    "    'genres': lambda x: list(x),\n",
    "    'budget': lambda x: list(x),\n",
    "    'revenue': lambda x: list(x),\n",
    "    'imdb_average_rating': lambda x: list(x),\n",
    "    'order': lambda x: list(x),\n",
    "    'scaled_portion': lambda x: list(x)\n",
    "})\n",
    "\n",
    "grouped_actors_df['career_length'] = grouped_actors_df['release_date'].apply(\n",
    "    lambda x: (max(pd.to_datetime(x).year) - min(pd.to_datetime(x).year)) if len(x) >= 2 else 0)\n",
    "\n",
    "# Add column number of movie from dataframe number_of_movies_df using the name as the key\n",
    "grouped_actors_df = pd.merge(grouped_actors_df, number_of_movies_df, on='name', how='inner')\n",
    "grouped_actors_df.reset_index(drop=True, inplace=True)\n",
    "grouped_actors_df.to_csv('../Data/preprocessed_data/grouped_actors_db.csv', index=False)\n",
    "# rename imdb_average_rating to imdb_ratings\n",
    "grouped_actors_df = grouped_actors_df.rename(columns={'imdb_average_rating': 'imdb_ratings'})\n",
    "display(grouped_actors_df)"
   ]
  },
  {
   "cell_type": "markdown",
   "metadata": {},
   "source": [
    "### Dividing datasets"
   ]
  },
  {
   "cell_type": "code",
   "execution_count": 108,
   "metadata": {},
   "outputs": [],
   "source": [
    "# Divide the actors into three groups based on their career length\n",
    "group1_df = grouped_actors_df[grouped_actors_df['career_length'] < 20]\n",
    "group2_df = grouped_actors_df[(grouped_actors_df['career_length'] >= 20) & (grouped_actors_df['career_length'] < 40)]\n",
    "group3_df = grouped_actors_df[grouped_actors_df['career_length'] >= 40]"
   ]
  },
  {
   "cell_type": "code",
   "execution_count": 122,
   "metadata": {},
   "outputs": [],
   "source": [
    "# Defining constants \n",
    "avg_columns = ['budget', 'revenue', 'imdb_ratings', 'order', 'popularity', 'scaled_portion']\n",
    "std_columns = ['order', 'budget', 'scaled_portion']\n",
    "\n",
    "def genres_stats_per_period(row, start_column, end_column):\n",
    "    \"\"\"\n",
    "    Calculates statistics related to movie genres for a specific actor during a specified time period.\n",
    "\n",
    "    Parameters:\n",
    "    - row (pd.Series): A row of a DataFrame containing information about an actor's movies.\n",
    "    - start_column (str or None): The column representing the start date of the specified time period.\n",
    "                                  If None, all movies are considered without a time constraint.\n",
    "    - end_column (str): The column representing the end date of the specified time period.\n",
    "\n",
    "    Returns:\n",
    "    - list: A list containing two elements:\n",
    "        1. The number of different genres an actor played in during the specified time period.\n",
    "        2. The most frequent genre for the actor during the time period. If no genres are present, returns None.\n",
    "    \"\"\"\n",
    "\n",
    "    # Initialize a dictionary to count the occurrences of each genre\n",
    "    genres_counts = {}\n",
    "    \n",
    "    # Extract genres and release dates for movies associated with the actor\n",
    "    genres_per_actor = row[\"genres\"]\n",
    "    release_dates_per_actor = row['release_date']\n",
    "    \n",
    "    # Iterate through movies and count genre occurrences based on the specified time period\n",
    "    for genres_per_movie, release_date in zip(genres_per_actor, release_dates_per_actor):\n",
    "        # For Group 1, start_column is missing as all members belong to the same time period\n",
    "        if start_column is None or row[start_column] <= release_date <= row[end_column]:\n",
    "            for genre in genres_per_movie:\n",
    "                genres_counts[genre[\"name\"]] = genres_counts.get(genre[\"name\"], 0) + 1\n",
    "    \n",
    "    # Calculate genres diversity (number of different genres)\n",
    "    n_genres = len(genres_counts)\n",
    "    \n",
    "    # Find the most frequent genre for an actor during the time period\n",
    "    if n_genres > 0:\n",
    "        main_genre = sorted(genres_counts.items(), key=lambda item: item[1])[-1][0]\n",
    "    else:\n",
    "        main_genre = None\n",
    "    \n",
    "    # Return a list with the calculated statistics\n",
    "    return [n_genres, main_genre]\n",
    "\n",
    "def calculate_average(df, col, iterations):\n",
    "    \"\"\"\n",
    "    Calculates the average value for a specified column in a DataFrame over multiple time periods.\n",
    "\n",
    "    Parameters:\n",
    "    - df (pd.DataFrame): The DataFrame containing information about actors and their movies.\n",
    "    - col (str): The column for which the average is calculated.\n",
    "    - iterations (int): The number of time periods to divide the actor's career.\n",
    "\n",
    "    Returns:\n",
    "    None\n",
    "    \"\"\"\n",
    "    for i in range(iterations):\n",
    "        df[f'avg_{col}_{i}'] = df.apply(lambda row: np.mean([val for val, date in zip(row[col], row['release_date']) if row[f'start_date_{i+1}'] <= date <= row[f'end_date_{i+1}']]), axis=1)\n",
    "        \n",
    "def calculate_std(df, col, iterations):\n",
    "    \"\"\"\n",
    "    Calculates the standard deviation for a specified column in a DataFrame over multiple time periods.\n",
    "\n",
    "    Parameters:\n",
    "    - df (pd.DataFrame): The DataFrame containing information about actors and their movies.\n",
    "    - col (str): The column for which the standard deviation is calculated.\n",
    "    - iterations (int): The number of time periods to divide the actor's career.\n",
    "\n",
    "    Returns:\n",
    "    None\n",
    "    \"\"\"\n",
    "    for i in range(iterations):\n",
    "        df[f'std_{col}_{i}'] = df.apply(lambda row: np.std([val for val, date in zip(row[col], row['release_date']) if row[f'start_date_{i+1}'] <= date <= row[f'end_date_{i+1}']]), axis=1)\n",
    "\n",
    "def get_count_intervals(df, iterations):\n",
    "    \"\"\"\n",
    "    Counts the number of movies within each time period for a DataFrame.\n",
    "\n",
    "    Parameters:\n",
    "    - df (pd.DataFrame): The DataFrame containing information about actors and their movies.\n",
    "    - iterations (int): The number of time periods to divide the actor's career.\n",
    "\n",
    "    Returns:\n",
    "    None\n",
    "    \"\"\"\n",
    "    for i in range(iterations):\n",
    "        df[f'count_interval_{i+1}'] = df.apply(lambda row: sum(start <= date <= end for date in row['release_date'] for start, end in [(row[f'start_date_{i+1}'], row[f'end_date_{i+1}'])]), axis=1)\n",
    "\n",
    "\n",
    "def initialize_date_helpers(df, iterations):\n",
    "    \"\"\"\n",
    "    Initializes date-related helper columns for time period analysis in a DataFrame.\n",
    "\n",
    "    Parameters:\n",
    "    - df (pd.DataFrame): The DataFrame containing information about actors and their movies.\n",
    "    - iterations (int): The number of time periods to divide the actor's career.\n",
    "\n",
    "    Returns:\n",
    "    None\n",
    "    \"\"\"\n",
    "    # Convert release_date to a list of datetime objects\n",
    "    df['release_date'] = df['release_date'].apply(lambda x: [datetime.strptime(date, \"%Y-%m-%d\") for date in x])\n",
    "    # Calculate the time interval for each period\n",
    "    df['interval'] = (df['career_length'] // iterations) * 365\n",
    "\n"
   ]
  },
  {
   "cell_type": "code",
   "execution_count": 123,
   "metadata": {},
   "outputs": [],
   "source": [
    "# code for group 1\n",
    "group1_divided_df = group1_df.copy()\n",
    "\n",
    "# calculate mean from full_actors_df of revenue and budget\n",
    "avg_revenue = full_actors_df['revenue'].mean()\n",
    "avg_budget = full_actors_df['budget'].mean()\n",
    "\n",
    "# replace 0 values in revenue and budget with the mean. each element in revenue or budget is a list of values\n",
    "# if one of those values is 0, replace it with the mean\n",
    "group1_divided_df['revenue'] = group1_divided_df['revenue'].apply(lambda x: [avg_revenue if val == 0 else val for val in x])\n",
    "group1_divided_df['budget'] = group1_divided_df['budget'].apply(lambda x: [avg_budget if val == 0 else val for val in x])\n",
    "\n",
    "# calculate the mean in average and revenue and replace the Nan and 0 values with the mean\n",
    "group1_divided_df['avg_revenue_0'] = group1_divided_df['revenue'].apply(lambda x: np.mean(x) if isinstance(x, list) else x)\n",
    "group1_divided_df['avg_budget_0'] = group1_divided_df['budget'].apply(lambda x: np.mean(x) if isinstance(x, list) else x)\n",
    "group1_divided_df['std_budget_0'] = group1_divided_df['budget'].apply(lambda x: np.std(x) if isinstance(x, list) else x)\n",
    "group1_divided_df['avg_imdb_rating_0'] = group1_divided_df['imdb_ratings'].apply(lambda x: np.mean(x) if isinstance(x, list) else x)\n",
    "group1_divided_df['avg_order_0'] = group1_divided_df['order'].apply(lambda x: np.mean(x) if isinstance(x, list) else x)\n",
    "group1_divided_df['std_order_0'] = group1_divided_df['order'].apply(lambda x: np.std(x) if isinstance(x, list) else x)\n",
    "group1_divided_df['avg_popularity_0'] = group1_divided_df['popularity'].apply(lambda x: np.mean(x) if isinstance(x, list) else x)\n",
    "group1_divided_df['avg_scaled_portion_0'] = group1_divided_df['scaled_portion'].apply(lambda x: np.mean(x) if isinstance(x, list) else x)\n"
   ]
  },
  {
   "cell_type": "code",
   "execution_count": 124,
   "metadata": {},
   "outputs": [
    {
     "data": {
      "text/html": [
       "<div>\n",
       "<style scoped>\n",
       "    .dataframe tbody tr th:only-of-type {\n",
       "        vertical-align: middle;\n",
       "    }\n",
       "\n",
       "    .dataframe tbody tr th {\n",
       "        vertical-align: top;\n",
       "    }\n",
       "\n",
       "    .dataframe thead th {\n",
       "        text-align: right;\n",
       "    }\n",
       "</style>\n",
       "<table border=\"1\" class=\"dataframe\">\n",
       "  <thead>\n",
       "    <tr style=\"text-align: right;\">\n",
       "      <th></th>\n",
       "      <th>name</th>\n",
       "      <th>gender</th>\n",
       "      <th>genres</th>\n",
       "      <th>career_length</th>\n",
       "      <th>number_of_movies</th>\n",
       "      <th>avg_revenue_0</th>\n",
       "      <th>avg_budget_0</th>\n",
       "      <th>std_budget_0</th>\n",
       "      <th>avg_imdb_rating_0</th>\n",
       "      <th>avg_order_0</th>\n",
       "      <th>std_order_0</th>\n",
       "      <th>avg_popularity_0</th>\n",
       "      <th>avg_scaled_portion_0</th>\n",
       "      <th>n_genres</th>\n",
       "      <th>main_genre</th>\n",
       "    </tr>\n",
       "  </thead>\n",
       "  <tbody>\n",
       "    <tr>\n",
       "      <th>7</th>\n",
       "      <td>Aaron Abrams</td>\n",
       "      <td>2</td>\n",
       "      <td>[[{'id': 28, 'name': 'Action'}, {'id': 35, 'na...</td>\n",
       "      <td>17</td>\n",
       "      <td>32</td>\n",
       "      <td>3.119534e+07</td>\n",
       "      <td>1.512310e+07</td>\n",
       "      <td>1.632834e+07</td>\n",
       "      <td>6.059375</td>\n",
       "      <td>9.031250</td>\n",
       "      <td>14.092295</td>\n",
       "      <td>9.070594</td>\n",
       "      <td>2.844965</td>\n",
       "      <td>14</td>\n",
       "      <td>Drama</td>\n",
       "    </tr>\n",
       "    <tr>\n",
       "      <th>10</th>\n",
       "      <td>Aaron Dean Eisenberg</td>\n",
       "      <td>2</td>\n",
       "      <td>[[{'id': 27, 'name': 'Horror'}, {'id': 878, 'n...</td>\n",
       "      <td>8</td>\n",
       "      <td>2</td>\n",
       "      <td>2.986808e+07</td>\n",
       "      <td>9.955799e+06</td>\n",
       "      <td>0.000000e+00</td>\n",
       "      <td>5.150000</td>\n",
       "      <td>2.500000</td>\n",
       "      <td>2.500000</td>\n",
       "      <td>15.179000</td>\n",
       "      <td>1.940681</td>\n",
       "      <td>4</td>\n",
       "      <td>Crime</td>\n",
       "    </tr>\n",
       "    <tr>\n",
       "      <th>11</th>\n",
       "      <td>Aaron Dessner</td>\n",
       "      <td>2</td>\n",
       "      <td>[[{'id': 99, 'name': 'Documentary'}, {'id': 10...</td>\n",
       "      <td>14</td>\n",
       "      <td>4</td>\n",
       "      <td>2.243543e+07</td>\n",
       "      <td>9.955799e+06</td>\n",
       "      <td>0.000000e+00</td>\n",
       "      <td>8.025000</td>\n",
       "      <td>1.250000</td>\n",
       "      <td>0.829156</td>\n",
       "      <td>8.354000</td>\n",
       "      <td>2.047387</td>\n",
       "      <td>3</td>\n",
       "      <td>Music</td>\n",
       "    </tr>\n",
       "    <tr>\n",
       "      <th>14</th>\n",
       "      <td>Aaron Hill</td>\n",
       "      <td>2</td>\n",
       "      <td>[[{'id': 35, 'name': 'Comedy'}], [{'id': 878, ...</td>\n",
       "      <td>8</td>\n",
       "      <td>11</td>\n",
       "      <td>1.025616e+08</td>\n",
       "      <td>2.629809e+07</td>\n",
       "      <td>5.526248e+07</td>\n",
       "      <td>5.072727</td>\n",
       "      <td>8.909091</td>\n",
       "      <td>6.598272</td>\n",
       "      <td>18.326818</td>\n",
       "      <td>2.624149</td>\n",
       "      <td>10</td>\n",
       "      <td>Comedy</td>\n",
       "    </tr>\n",
       "    <tr>\n",
       "      <th>15</th>\n",
       "      <td>Aaron Himelstein</td>\n",
       "      <td>2</td>\n",
       "      <td>[[{'id': 18, 'name': 'Drama'}, {'id': 35, 'nam...</td>\n",
       "      <td>16</td>\n",
       "      <td>16</td>\n",
       "      <td>1.709818e+08</td>\n",
       "      <td>4.674076e+07</td>\n",
       "      <td>9.130570e+07</td>\n",
       "      <td>5.918750</td>\n",
       "      <td>15.687500</td>\n",
       "      <td>15.994994</td>\n",
       "      <td>17.487375</td>\n",
       "      <td>1.259751</td>\n",
       "      <td>13</td>\n",
       "      <td>Comedy</td>\n",
       "    </tr>\n",
       "    <tr>\n",
       "      <th>...</th>\n",
       "      <td>...</td>\n",
       "      <td>...</td>\n",
       "      <td>...</td>\n",
       "      <td>...</td>\n",
       "      <td>...</td>\n",
       "      <td>...</td>\n",
       "      <td>...</td>\n",
       "      <td>...</td>\n",
       "      <td>...</td>\n",
       "      <td>...</td>\n",
       "      <td>...</td>\n",
       "      <td>...</td>\n",
       "      <td>...</td>\n",
       "      <td>...</td>\n",
       "      <td>...</td>\n",
       "    </tr>\n",
       "    <tr>\n",
       "      <th>8050</th>\n",
       "      <td>Élodie Yung</td>\n",
       "      <td>1</td>\n",
       "      <td>[[{'id': 18, 'name': 'Drama'}, {'id': 28, 'nam...</td>\n",
       "      <td>16</td>\n",
       "      <td>13</td>\n",
       "      <td>9.073018e+07</td>\n",
       "      <td>3.592574e+07</td>\n",
       "      <td>4.767198e+07</td>\n",
       "      <td>5.853846</td>\n",
       "      <td>8.615385</td>\n",
       "      <td>14.969397</td>\n",
       "      <td>22.092615</td>\n",
       "      <td>1.397435</td>\n",
       "      <td>9</td>\n",
       "      <td>Action</td>\n",
       "    </tr>\n",
       "    <tr>\n",
       "      <th>8052</th>\n",
       "      <td>Özcan Deniz</td>\n",
       "      <td>2</td>\n",
       "      <td>[[{'id': 35, 'name': 'Comedy'}], [{'id': 35, '...</td>\n",
       "      <td>15</td>\n",
       "      <td>13</td>\n",
       "      <td>2.795515e+07</td>\n",
       "      <td>9.955799e+06</td>\n",
       "      <td>1.862645e-09</td>\n",
       "      <td>5.153846</td>\n",
       "      <td>1.000000</td>\n",
       "      <td>1.358732</td>\n",
       "      <td>12.655308</td>\n",
       "      <td>3.567478</td>\n",
       "      <td>7</td>\n",
       "      <td>Drama</td>\n",
       "    </tr>\n",
       "    <tr>\n",
       "      <th>8053</th>\n",
       "      <td>Úrsula Corberó</td>\n",
       "      <td>1</td>\n",
       "      <td>[[{'id': 27, 'name': 'Horror'}], [{'id': 35, '...</td>\n",
       "      <td>10</td>\n",
       "      <td>12</td>\n",
       "      <td>2.563715e+07</td>\n",
       "      <td>1.523616e+07</td>\n",
       "      <td>2.211742e+07</td>\n",
       "      <td>5.425000</td>\n",
       "      <td>1.916667</td>\n",
       "      <td>1.977302</td>\n",
       "      <td>36.653333</td>\n",
       "      <td>1.839761</td>\n",
       "      <td>11</td>\n",
       "      <td>Comedy</td>\n",
       "    </tr>\n",
       "    <tr>\n",
       "      <th>8054</th>\n",
       "      <td>Şükrü Özyıldız</td>\n",
       "      <td>2</td>\n",
       "      <td>[[{'id': 10749, 'name': 'Romance'}, {'id': 18,...</td>\n",
       "      <td>10</td>\n",
       "      <td>9</td>\n",
       "      <td>2.693841e+07</td>\n",
       "      <td>9.039070e+06</td>\n",
       "      <td>2.592902e+06</td>\n",
       "      <td>5.922222</td>\n",
       "      <td>2.888889</td>\n",
       "      <td>2.766644</td>\n",
       "      <td>27.499556</td>\n",
       "      <td>1.907203</td>\n",
       "      <td>8</td>\n",
       "      <td>Comedy</td>\n",
       "    </tr>\n",
       "    <tr>\n",
       "      <th>8055</th>\n",
       "      <td>​Christopher Lowell</td>\n",
       "      <td>2</td>\n",
       "      <td>[[{'id': 35, 'name': 'Comedy'}, {'id': 18, 'na...</td>\n",
       "      <td>16</td>\n",
       "      <td>14</td>\n",
       "      <td>4.571339e+07</td>\n",
       "      <td>1.146843e+07</td>\n",
       "      <td>5.737294e+06</td>\n",
       "      <td>6.085714</td>\n",
       "      <td>6.857143</td>\n",
       "      <td>4.290474</td>\n",
       "      <td>15.905286</td>\n",
       "      <td>1.843289</td>\n",
       "      <td>9</td>\n",
       "      <td>Drama</td>\n",
       "    </tr>\n",
       "  </tbody>\n",
       "</table>\n",
       "<p>2677 rows × 15 columns</p>\n",
       "</div>"
      ],
      "text/plain": [
       "                      name  gender  \\\n",
       "7             Aaron Abrams       2   \n",
       "10    Aaron Dean Eisenberg       2   \n",
       "11           Aaron Dessner       2   \n",
       "14              Aaron Hill       2   \n",
       "15        Aaron Himelstein       2   \n",
       "...                    ...     ...   \n",
       "8050           Élodie Yung       1   \n",
       "8052           Özcan Deniz       2   \n",
       "8053        Úrsula Corberó       1   \n",
       "8054        Şükrü Özyıldız       2   \n",
       "8055   ​Christopher Lowell       2   \n",
       "\n",
       "                                                 genres  career_length  \\\n",
       "7     [[{'id': 28, 'name': 'Action'}, {'id': 35, 'na...             17   \n",
       "10    [[{'id': 27, 'name': 'Horror'}, {'id': 878, 'n...              8   \n",
       "11    [[{'id': 99, 'name': 'Documentary'}, {'id': 10...             14   \n",
       "14    [[{'id': 35, 'name': 'Comedy'}], [{'id': 878, ...              8   \n",
       "15    [[{'id': 18, 'name': 'Drama'}, {'id': 35, 'nam...             16   \n",
       "...                                                 ...            ...   \n",
       "8050  [[{'id': 18, 'name': 'Drama'}, {'id': 28, 'nam...             16   \n",
       "8052  [[{'id': 35, 'name': 'Comedy'}], [{'id': 35, '...             15   \n",
       "8053  [[{'id': 27, 'name': 'Horror'}], [{'id': 35, '...             10   \n",
       "8054  [[{'id': 10749, 'name': 'Romance'}, {'id': 18,...             10   \n",
       "8055  [[{'id': 35, 'name': 'Comedy'}, {'id': 18, 'na...             16   \n",
       "\n",
       "      number_of_movies  avg_revenue_0  avg_budget_0  std_budget_0  \\\n",
       "7                   32   3.119534e+07  1.512310e+07  1.632834e+07   \n",
       "10                   2   2.986808e+07  9.955799e+06  0.000000e+00   \n",
       "11                   4   2.243543e+07  9.955799e+06  0.000000e+00   \n",
       "14                  11   1.025616e+08  2.629809e+07  5.526248e+07   \n",
       "15                  16   1.709818e+08  4.674076e+07  9.130570e+07   \n",
       "...                ...            ...           ...           ...   \n",
       "8050                13   9.073018e+07  3.592574e+07  4.767198e+07   \n",
       "8052                13   2.795515e+07  9.955799e+06  1.862645e-09   \n",
       "8053                12   2.563715e+07  1.523616e+07  2.211742e+07   \n",
       "8054                 9   2.693841e+07  9.039070e+06  2.592902e+06   \n",
       "8055                14   4.571339e+07  1.146843e+07  5.737294e+06   \n",
       "\n",
       "      avg_imdb_rating_0  avg_order_0  std_order_0  avg_popularity_0  \\\n",
       "7              6.059375     9.031250    14.092295          9.070594   \n",
       "10             5.150000     2.500000     2.500000         15.179000   \n",
       "11             8.025000     1.250000     0.829156          8.354000   \n",
       "14             5.072727     8.909091     6.598272         18.326818   \n",
       "15             5.918750    15.687500    15.994994         17.487375   \n",
       "...                 ...          ...          ...               ...   \n",
       "8050           5.853846     8.615385    14.969397         22.092615   \n",
       "8052           5.153846     1.000000     1.358732         12.655308   \n",
       "8053           5.425000     1.916667     1.977302         36.653333   \n",
       "8054           5.922222     2.888889     2.766644         27.499556   \n",
       "8055           6.085714     6.857143     4.290474         15.905286   \n",
       "\n",
       "      avg_scaled_portion_0  n_genres main_genre  \n",
       "7                 2.844965        14      Drama  \n",
       "10                1.940681         4      Crime  \n",
       "11                2.047387         3      Music  \n",
       "14                2.624149        10     Comedy  \n",
       "15                1.259751        13     Comedy  \n",
       "...                    ...       ...        ...  \n",
       "8050              1.397435         9     Action  \n",
       "8052              3.567478         7      Drama  \n",
       "8053              1.839761        11     Comedy  \n",
       "8054              1.907203         8     Comedy  \n",
       "8055              1.843289         9      Drama  \n",
       "\n",
       "[2677 rows x 15 columns]"
      ]
     },
     "metadata": {},
     "output_type": "display_data"
    }
   ],
   "source": [
    "# calculate number of genres and main one for group 1\n",
    "group1_divided_df[[\"n_genres\", \"main_genre\"]] = group1_divided_df.apply(genres_stats_per_period, \n",
    "                                                                      start_column=None, end_column=None, \n",
    "                                                                      axis=1, result_type=\"expand\")\n",
    " \n",
    "group1_divided_df = group1_divided_df.drop(['release_date', 'budget', 'revenue', 'imdb_ratings', 'order', 'popularity', 'scaled_portion'], axis=1)\n",
    "\n",
    "display(group1_divided_df)"
   ]
  },
  {
   "cell_type": "code",
   "execution_count": 125,
   "metadata": {},
   "outputs": [],
   "source": [
    "# code for group 2\n",
    "group2_divided_df = group2_df.copy()\n",
    "\n",
    "initialize_date_helpers(group2_divided_df, 2)\n",
    "\n",
    "# Initialize columns for date ranges\n",
    "group2_divided_df['start_date_1'] = group2_divided_df.apply(lambda row: min(row['release_date']), axis=1)\n",
    "group2_divided_df['end_date_1'] = group2_divided_df.apply(lambda row: min(row['release_date']) + timedelta(days=row['interval']), axis=1)\n",
    "group2_divided_df['start_date_2'] = group2_divided_df.apply(lambda row: min(row['release_date']) + timedelta(days=row['interval']), axis=1)\n",
    "group2_divided_df['end_date_2'] = group2_divided_df.apply(lambda row: max(row['release_date']), axis=1)\n",
    "\n",
    "get_count_intervals(group2_divided_df, 2)\n",
    "\n",
    "# Define the lambda function as a constant\n",
    "mean_transformer_group_2 = lambda x: [\n",
    "        np.mean(x[:group2_divided_df['count_interval_1'].iloc[0]]) if (val == 0 or pd.isna(val)) else val \n",
    "        for val in x[:group2_divided_df['count_interval_1'].iloc[0]]\n",
    "    ] + [ \n",
    "        np.mean(x[group2_divided_df['count_interval_1'].iloc[0]:]) if (val == 0 or pd.isna(val)) else val \n",
    "        for val in x[group2_divided_df['count_interval_1'].iloc[0]:]\n",
    "    ] if isinstance(x, list) else x\n",
    "\n",
    "group2_divided_df['revenue'] = group2_divided_df['revenue'].apply(mean_transformer_group_2)\n",
    "group2_divided_df['budget'] = group2_divided_df['budget'].apply(mean_transformer_group_2)\n",
    "\n",
    "for col in avg_columns:\n",
    "    calculate_average(group2_divided_df, col, 2)\n",
    "\n",
    "for col in std_columns:\n",
    "    calculate_std(group2_divided_df, col, 2)\n"
   ]
  },
  {
   "cell_type": "code",
   "execution_count": 119,
   "metadata": {},
   "outputs": [
    {
     "data": {
      "text/html": [
       "<div>\n",
       "<style scoped>\n",
       "    .dataframe tbody tr th:only-of-type {\n",
       "        vertical-align: middle;\n",
       "    }\n",
       "\n",
       "    .dataframe tbody tr th {\n",
       "        vertical-align: top;\n",
       "    }\n",
       "\n",
       "    .dataframe thead th {\n",
       "        text-align: right;\n",
       "    }\n",
       "</style>\n",
       "<table border=\"1\" class=\"dataframe\">\n",
       "  <thead>\n",
       "    <tr style=\"text-align: right;\">\n",
       "      <th></th>\n",
       "      <th>name</th>\n",
       "      <th>gender</th>\n",
       "      <th>genres</th>\n",
       "      <th>career_length</th>\n",
       "      <th>number_of_movies</th>\n",
       "      <th>start_date_1</th>\n",
       "      <th>end_date_1</th>\n",
       "      <th>start_date_2</th>\n",
       "      <th>end_date_2</th>\n",
       "      <th>count_interval_1</th>\n",
       "      <th>...</th>\n",
       "      <th>std_order_0</th>\n",
       "      <th>std_order_1</th>\n",
       "      <th>std_budget_0</th>\n",
       "      <th>std_budget_1</th>\n",
       "      <th>std_scaled_portion_0</th>\n",
       "      <th>std_scaled_portion_1</th>\n",
       "      <th>n_genres_0</th>\n",
       "      <th>main_genre_0</th>\n",
       "      <th>n_genres_1</th>\n",
       "      <th>main_genre_1</th>\n",
       "    </tr>\n",
       "  </thead>\n",
       "  <tbody>\n",
       "    <tr>\n",
       "      <th>0</th>\n",
       "      <td>\"Weird Al\" Yankovic</td>\n",
       "      <td>2</td>\n",
       "      <td>[[{'id': 35, 'name': 'Comedy'}, {'id': 10402, ...</td>\n",
       "      <td>38</td>\n",
       "      <td>52</td>\n",
       "      <td>1985-09-25</td>\n",
       "      <td>2004-09-20</td>\n",
       "      <td>2004-09-20</td>\n",
       "      <td>2023-03-11</td>\n",
       "      <td>16</td>\n",
       "      <td>...</td>\n",
       "      <td>10.899935</td>\n",
       "      <td>14.854516</td>\n",
       "      <td>9.398928e+06</td>\n",
       "      <td>5.637931e+06</td>\n",
       "      <td>10.730810</td>\n",
       "      <td>0.604905</td>\n",
       "      <td>9.0</td>\n",
       "      <td>Comedy</td>\n",
       "      <td>12</td>\n",
       "      <td>Comedy</td>\n",
       "    </tr>\n",
       "    <tr>\n",
       "      <th>1</th>\n",
       "      <td>50 Cent</td>\n",
       "      <td>2</td>\n",
       "      <td>[[{'id': 10402, 'name': 'Music'}, {'id': 99, '...</td>\n",
       "      <td>20</td>\n",
       "      <td>47</td>\n",
       "      <td>2003-04-15</td>\n",
       "      <td>2013-04-12</td>\n",
       "      <td>2013-04-12</td>\n",
       "      <td>2023-09-15</td>\n",
       "      <td>31</td>\n",
       "      <td>...</td>\n",
       "      <td>15.418410</td>\n",
       "      <td>10.734728</td>\n",
       "      <td>1.441294e+07</td>\n",
       "      <td>2.691620e+07</td>\n",
       "      <td>20.873328</td>\n",
       "      <td>0.494129</td>\n",
       "      <td>11.0</td>\n",
       "      <td>Drama</td>\n",
       "      <td>9</td>\n",
       "      <td>Action</td>\n",
       "    </tr>\n",
       "    <tr>\n",
       "      <th>3</th>\n",
       "      <td>A.C. Peterson</td>\n",
       "      <td>2</td>\n",
       "      <td>[[{'id': 18, 'name': 'Drama'}, {'id': 10749, '...</td>\n",
       "      <td>37</td>\n",
       "      <td>65</td>\n",
       "      <td>1984-12-26</td>\n",
       "      <td>2002-12-22</td>\n",
       "      <td>2002-12-22</td>\n",
       "      <td>2021-11-25</td>\n",
       "      <td>31</td>\n",
       "      <td>...</td>\n",
       "      <td>10.213435</td>\n",
       "      <td>9.101931</td>\n",
       "      <td>1.566100e+07</td>\n",
       "      <td>1.789655e+07</td>\n",
       "      <td>5.552407</td>\n",
       "      <td>1.973435</td>\n",
       "      <td>13.0</td>\n",
       "      <td>Drama</td>\n",
       "      <td>14</td>\n",
       "      <td>Drama</td>\n",
       "    </tr>\n",
       "    <tr>\n",
       "      <th>4</th>\n",
       "      <td>A.J. Buckley</td>\n",
       "      <td>2</td>\n",
       "      <td>[[{'id': 9648, 'name': 'Mystery'}, {'id': 27, ...</td>\n",
       "      <td>20</td>\n",
       "      <td>30</td>\n",
       "      <td>1998-07-24</td>\n",
       "      <td>2008-07-21</td>\n",
       "      <td>2008-07-21</td>\n",
       "      <td>2018-04-20</td>\n",
       "      <td>23</td>\n",
       "      <td>...</td>\n",
       "      <td>8.801315</td>\n",
       "      <td>3.374575</td>\n",
       "      <td>2.043894e+07</td>\n",
       "      <td>6.092845e+07</td>\n",
       "      <td>6.988732</td>\n",
       "      <td>15.322809</td>\n",
       "      <td>15.0</td>\n",
       "      <td>Drama</td>\n",
       "      <td>11</td>\n",
       "      <td>Drama</td>\n",
       "    </tr>\n",
       "    <tr>\n",
       "      <th>5</th>\n",
       "      <td>A.J. Cook</td>\n",
       "      <td>1</td>\n",
       "      <td>[[{'id': 28, 'name': 'Action'}, {'id': 12, 'na...</td>\n",
       "      <td>22</td>\n",
       "      <td>20</td>\n",
       "      <td>1997-01-29</td>\n",
       "      <td>2008-01-27</td>\n",
       "      <td>2008-01-27</td>\n",
       "      <td>2019-04-09</td>\n",
       "      <td>14</td>\n",
       "      <td>...</td>\n",
       "      <td>4.778780</td>\n",
       "      <td>5.335937</td>\n",
       "      <td>8.573666e+06</td>\n",
       "      <td>4.099458e+06</td>\n",
       "      <td>12.372910</td>\n",
       "      <td>0.604581</td>\n",
       "      <td>12.0</td>\n",
       "      <td>Horror</td>\n",
       "      <td>7</td>\n",
       "      <td>Drama</td>\n",
       "    </tr>\n",
       "    <tr>\n",
       "      <th>...</th>\n",
       "      <td>...</td>\n",
       "      <td>...</td>\n",
       "      <td>...</td>\n",
       "      <td>...</td>\n",
       "      <td>...</td>\n",
       "      <td>...</td>\n",
       "      <td>...</td>\n",
       "      <td>...</td>\n",
       "      <td>...</td>\n",
       "      <td>...</td>\n",
       "      <td>...</td>\n",
       "      <td>...</td>\n",
       "      <td>...</td>\n",
       "      <td>...</td>\n",
       "      <td>...</td>\n",
       "      <td>...</td>\n",
       "      <td>...</td>\n",
       "      <td>...</td>\n",
       "      <td>...</td>\n",
       "      <td>...</td>\n",
       "      <td>...</td>\n",
       "    </tr>\n",
       "    <tr>\n",
       "      <th>8039</th>\n",
       "      <td>Zoe McLellan</td>\n",
       "      <td>1</td>\n",
       "      <td>[[{'id': 18, 'name': 'Drama'}], [{'id': 18, 'n...</td>\n",
       "      <td>25</td>\n",
       "      <td>15</td>\n",
       "      <td>1994-10-14</td>\n",
       "      <td>2006-10-11</td>\n",
       "      <td>2006-10-11</td>\n",
       "      <td>2019-11-22</td>\n",
       "      <td>9</td>\n",
       "      <td>...</td>\n",
       "      <td>11.333333</td>\n",
       "      <td>2.211083</td>\n",
       "      <td>1.375177e+07</td>\n",
       "      <td>3.726780e+05</td>\n",
       "      <td>4.897721</td>\n",
       "      <td>0.194322</td>\n",
       "      <td>9.0</td>\n",
       "      <td>Drama</td>\n",
       "      <td>7</td>\n",
       "      <td>Thriller</td>\n",
       "    </tr>\n",
       "    <tr>\n",
       "      <th>8041</th>\n",
       "      <td>Zoe Saldaña</td>\n",
       "      <td>1</td>\n",
       "      <td>[[{'id': 18, 'name': 'Drama'}, {'id': 10402, '...</td>\n",
       "      <td>23</td>\n",
       "      <td>62</td>\n",
       "      <td>2000-05-12</td>\n",
       "      <td>2011-05-10</td>\n",
       "      <td>2011-05-10</td>\n",
       "      <td>2023-09-13</td>\n",
       "      <td>27</td>\n",
       "      <td>...</td>\n",
       "      <td>5.349000</td>\n",
       "      <td>17.543741</td>\n",
       "      <td>5.537850e+07</td>\n",
       "      <td>1.160016e+08</td>\n",
       "      <td>8.855613</td>\n",
       "      <td>3.884243</td>\n",
       "      <td>13.0</td>\n",
       "      <td>Comedy</td>\n",
       "      <td>16</td>\n",
       "      <td>Adventure</td>\n",
       "    </tr>\n",
       "    <tr>\n",
       "      <th>8043</th>\n",
       "      <td>Zooey Deschanel</td>\n",
       "      <td>1</td>\n",
       "      <td>[[{'id': 35, 'name': 'Comedy'}, {'id': 18, 'na...</td>\n",
       "      <td>24</td>\n",
       "      <td>47</td>\n",
       "      <td>1999-09-24</td>\n",
       "      <td>2011-09-21</td>\n",
       "      <td>2011-09-21</td>\n",
       "      <td>2023-10-12</td>\n",
       "      <td>35</td>\n",
       "      <td>...</td>\n",
       "      <td>3.652676</td>\n",
       "      <td>10.435982</td>\n",
       "      <td>2.532732e+07</td>\n",
       "      <td>4.035433e+07</td>\n",
       "      <td>9.075384</td>\n",
       "      <td>0.547771</td>\n",
       "      <td>15.0</td>\n",
       "      <td>Comedy</td>\n",
       "      <td>12</td>\n",
       "      <td>Music</td>\n",
       "    </tr>\n",
       "    <tr>\n",
       "      <th>8044</th>\n",
       "      <td>Zosia Mamet</td>\n",
       "      <td>1</td>\n",
       "      <td>[[{'id': 10770, 'name': 'TV Movie'}, {'id': 18...</td>\n",
       "      <td>29</td>\n",
       "      <td>26</td>\n",
       "      <td>1994-08-04</td>\n",
       "      <td>2008-07-31</td>\n",
       "      <td>2008-07-31</td>\n",
       "      <td>2023-10-12</td>\n",
       "      <td>3</td>\n",
       "      <td>...</td>\n",
       "      <td>5.436502</td>\n",
       "      <td>8.239102</td>\n",
       "      <td>9.074537e+06</td>\n",
       "      <td>1.840423e+06</td>\n",
       "      <td>0.288632</td>\n",
       "      <td>1.354696</td>\n",
       "      <td>7.0</td>\n",
       "      <td>Drama</td>\n",
       "      <td>12</td>\n",
       "      <td>Comedy</td>\n",
       "    </tr>\n",
       "    <tr>\n",
       "      <th>8051</th>\n",
       "      <td>Óscar Jaenada</td>\n",
       "      <td>2</td>\n",
       "      <td>[[{'id': 10749, 'name': 'Romance'}, {'id': 18,...</td>\n",
       "      <td>22</td>\n",
       "      <td>40</td>\n",
       "      <td>2001-01-05</td>\n",
       "      <td>2012-01-03</td>\n",
       "      <td>2012-01-03</td>\n",
       "      <td>2023-03-16</td>\n",
       "      <td>22</td>\n",
       "      <td>...</td>\n",
       "      <td>5.348978</td>\n",
       "      <td>3.309172</td>\n",
       "      <td>7.888578e+07</td>\n",
       "      <td>1.489366e+07</td>\n",
       "      <td>0.585381</td>\n",
       "      <td>0.276925</td>\n",
       "      <td>13.0</td>\n",
       "      <td>Drama</td>\n",
       "      <td>12</td>\n",
       "      <td>Drama</td>\n",
       "    </tr>\n",
       "  </tbody>\n",
       "</table>\n",
       "<p>3573 rows × 33 columns</p>\n",
       "</div>"
      ],
      "text/plain": [
       "                     name  gender  \\\n",
       "0     \"Weird Al\" Yankovic       2   \n",
       "1                 50 Cent       2   \n",
       "3           A.C. Peterson       2   \n",
       "4            A.J. Buckley       2   \n",
       "5               A.J. Cook       1   \n",
       "...                   ...     ...   \n",
       "8039         Zoe McLellan       1   \n",
       "8041          Zoe Saldaña       1   \n",
       "8043      Zooey Deschanel       1   \n",
       "8044          Zosia Mamet       1   \n",
       "8051        Óscar Jaenada       2   \n",
       "\n",
       "                                                 genres  career_length  \\\n",
       "0     [[{'id': 35, 'name': 'Comedy'}, {'id': 10402, ...             38   \n",
       "1     [[{'id': 10402, 'name': 'Music'}, {'id': 99, '...             20   \n",
       "3     [[{'id': 18, 'name': 'Drama'}, {'id': 10749, '...             37   \n",
       "4     [[{'id': 9648, 'name': 'Mystery'}, {'id': 27, ...             20   \n",
       "5     [[{'id': 28, 'name': 'Action'}, {'id': 12, 'na...             22   \n",
       "...                                                 ...            ...   \n",
       "8039  [[{'id': 18, 'name': 'Drama'}], [{'id': 18, 'n...             25   \n",
       "8041  [[{'id': 18, 'name': 'Drama'}, {'id': 10402, '...             23   \n",
       "8043  [[{'id': 35, 'name': 'Comedy'}, {'id': 18, 'na...             24   \n",
       "8044  [[{'id': 10770, 'name': 'TV Movie'}, {'id': 18...             29   \n",
       "8051  [[{'id': 10749, 'name': 'Romance'}, {'id': 18,...             22   \n",
       "\n",
       "      number_of_movies start_date_1 end_date_1 start_date_2 end_date_2  \\\n",
       "0                   52   1985-09-25 2004-09-20   2004-09-20 2023-03-11   \n",
       "1                   47   2003-04-15 2013-04-12   2013-04-12 2023-09-15   \n",
       "3                   65   1984-12-26 2002-12-22   2002-12-22 2021-11-25   \n",
       "4                   30   1998-07-24 2008-07-21   2008-07-21 2018-04-20   \n",
       "5                   20   1997-01-29 2008-01-27   2008-01-27 2019-04-09   \n",
       "...                ...          ...        ...          ...        ...   \n",
       "8039                15   1994-10-14 2006-10-11   2006-10-11 2019-11-22   \n",
       "8041                62   2000-05-12 2011-05-10   2011-05-10 2023-09-13   \n",
       "8043                47   1999-09-24 2011-09-21   2011-09-21 2023-10-12   \n",
       "8044                26   1994-08-04 2008-07-31   2008-07-31 2023-10-12   \n",
       "8051                40   2001-01-05 2012-01-03   2012-01-03 2023-03-16   \n",
       "\n",
       "      count_interval_1  ...  std_order_0  std_order_1  std_budget_0  \\\n",
       "0                   16  ...    10.899935    14.854516  9.398928e+06   \n",
       "1                   31  ...    15.418410    10.734728  1.441294e+07   \n",
       "3                   31  ...    10.213435     9.101931  1.566100e+07   \n",
       "4                   23  ...     8.801315     3.374575  2.043894e+07   \n",
       "5                   14  ...     4.778780     5.335937  8.573666e+06   \n",
       "...                ...  ...          ...          ...           ...   \n",
       "8039                 9  ...    11.333333     2.211083  1.375177e+07   \n",
       "8041                27  ...     5.349000    17.543741  5.537850e+07   \n",
       "8043                35  ...     3.652676    10.435982  2.532732e+07   \n",
       "8044                 3  ...     5.436502     8.239102  9.074537e+06   \n",
       "8051                22  ...     5.348978     3.309172  7.888578e+07   \n",
       "\n",
       "      std_budget_1  std_scaled_portion_0  std_scaled_portion_1  n_genres_0  \\\n",
       "0     5.637931e+06             10.730810              0.604905         9.0   \n",
       "1     2.691620e+07             20.873328              0.494129        11.0   \n",
       "3     1.789655e+07              5.552407              1.973435        13.0   \n",
       "4     6.092845e+07              6.988732             15.322809        15.0   \n",
       "5     4.099458e+06             12.372910              0.604581        12.0   \n",
       "...            ...                   ...                   ...         ...   \n",
       "8039  3.726780e+05              4.897721              0.194322         9.0   \n",
       "8041  1.160016e+08              8.855613              3.884243        13.0   \n",
       "8043  4.035433e+07              9.075384              0.547771        15.0   \n",
       "8044  1.840423e+06              0.288632              1.354696         7.0   \n",
       "8051  1.489366e+07              0.585381              0.276925        13.0   \n",
       "\n",
       "      main_genre_0  n_genres_1  main_genre_1  \n",
       "0           Comedy          12        Comedy  \n",
       "1            Drama           9        Action  \n",
       "3            Drama          14         Drama  \n",
       "4            Drama          11         Drama  \n",
       "5           Horror           7         Drama  \n",
       "...            ...         ...           ...  \n",
       "8039         Drama           7      Thriller  \n",
       "8041        Comedy          16     Adventure  \n",
       "8043        Comedy          12         Music  \n",
       "8044         Drama          12        Comedy  \n",
       "8051         Drama          12         Drama  \n",
       "\n",
       "[3573 rows x 33 columns]"
      ]
     },
     "metadata": {},
     "output_type": "display_data"
    }
   ],
   "source": [
    "# calculate number of genres and main one for the first time period\n",
    "group2_divided_df[[\"n_genres_0\", \"main_genre_0\"]] = group2_divided_df.apply(genres_stats_per_period, \n",
    "                                              start_column=\"start_date_1\", \n",
    "                                              end_column=\"end_date_1\", \n",
    "                                              axis=1, result_type=\"expand\")\n",
    "# calculate number of genres and main one for the second time period\n",
    "group2_divided_df[[\"n_genres_1\", \"main_genre_1\"]] = group2_divided_df.apply(genres_stats_per_period, \n",
    "                                              start_column=\"start_date_2\", \n",
    "                                              end_column=\"end_date_2\", \n",
    "                                              axis=1, result_type=\"expand\")\n",
    " \n",
    " # Drop unnecessary columns\n",
    "group2_divided_df = group2_divided_df.drop(['release_date', 'budget', 'revenue', 'imdb_ratings', 'order', 'popularity', 'interval','scaled_portion'], axis=1)\n",
    "display(group2_divided_df)"
   ]
  },
  {
   "cell_type": "code",
   "execution_count": null,
   "metadata": {},
   "outputs": [],
   "source": [
    "group3_divided_df = group3_df.copy()\n",
    "\n",
    "initialize_date_helpers(group3_divided_df, 3)\n",
    "\n",
    "# Initialize columns for date ranges\n",
    "group3_divided_df['start_date_1'] = group3_divided_df.apply(lambda row: min(row['release_date']), axis=1)\n",
    "group3_divided_df['end_date_1'] = group3_divided_df.apply(lambda row: min(row['release_date']) + timedelta(days=row['interval']), axis=1)\n",
    "group3_divided_df['start_date_2'] = group3_divided_df.apply(lambda row: min(row['release_date']) + timedelta(days=row['interval']), axis=1)\n",
    "group3_divided_df['end_date_2'] = group3_divided_df.apply(lambda row: min(row['release_date']) + timedelta(days=row['interval'] * 2), axis=1)\n",
    "group3_divided_df['start_date_3'] = group3_divided_df.apply(lambda row: min(row['release_date']) + timedelta(days=row['interval'] * 2 ), axis=1)\n",
    "group3_divided_df['end_date_3'] = group3_divided_df.apply(lambda row: max(row['release_date']), axis=1)\n",
    "\n",
    "# Count the number of release dates within each time slot\n",
    "group3_divided_df['count_interval_1'] = group3_divided_df.apply(lambda row: sum(start <= date <= end for date in row['release_date'] for start, end in [(row['start_date_1'], row['end_date_1'])]), axis=1)\n",
    "group3_divided_df['count_interval_2'] = group3_divided_df.apply(lambda row: sum(start <= date <= end for date in row['release_date'] for start, end in [(row['start_date_2'], row['end_date_2'])]), axis=1)\n",
    "group3_divided_df['count_interval_3'] = group3_divided_df.apply(lambda row: sum(start <= date <= end for date in row['release_date'] for start, end in [(row['start_date_3'], row['end_date_3'])]), axis=1)\n",
    "\n",
    "# Define the lambda function as a constant\n",
    "mean_transformer_group_3 = lambda x: [\n",
    "            np.mean(x[:group3_divided_df['count_interval_1'].iloc[0]]) if (val == 0 or pd.isna(val)) else val\n",
    "            for val in x[:group3_divided_df['count_interval_1'].iloc[0]]\n",
    "        ] + [\n",
    "            np.mean(x[group3_divided_df['count_interval_1'].iloc[0]:group3_divided_df['count_interval_2'].iloc[0]])\n",
    "            if (val == 0 or pd.isna(val)) else val\n",
    "            for val in x[group3_divided_df['count_interval_1'].iloc[0]:group3_divided_df['count_interval_2'].iloc[0]]\n",
    "        ] + [\n",
    "            np.mean(x[group3_divided_df['count_interval_2'].iloc[0]:]) if (val == 0 or pd.isna(val)) else val\n",
    "            for val in x[group3_divided_df['count_interval_2'].iloc[0]:]\n",
    "        ] if isinstance(x, list) else x\n",
    "\n",
    "group3_divided_df['revenue'] = group3_divided_df['revenue'].apply(mean_transformer_group_3)\n",
    "group3_divided_df['budget'] = group3_divided_df['budget'].apply(mean_transformer_group_3)\n",
    "\n",
    "# Calculate the average budget, revenue, IMDb rating, popularity and order for each period\n",
    "for col in avg_columns:\n",
    "    calculate_average(group3_divided_df, col, 3)\n",
    "\n",
    "# Calculate the standard deviation of budget and order for each period\n",
    "for col in std_columns:\n",
    "    calculate_std(group3_divided_df, col, 3)"
   ]
  },
  {
   "cell_type": "code",
   "execution_count": 117,
   "metadata": {},
   "outputs": [
    {
     "data": {
      "text/html": [
       "<div>\n",
       "<style scoped>\n",
       "    .dataframe tbody tr th:only-of-type {\n",
       "        vertical-align: middle;\n",
       "    }\n",
       "\n",
       "    .dataframe tbody tr th {\n",
       "        vertical-align: top;\n",
       "    }\n",
       "\n",
       "    .dataframe thead th {\n",
       "        text-align: right;\n",
       "    }\n",
       "</style>\n",
       "<table border=\"1\" class=\"dataframe\">\n",
       "  <thead>\n",
       "    <tr style=\"text-align: right;\">\n",
       "      <th></th>\n",
       "      <th>name</th>\n",
       "      <th>gender</th>\n",
       "      <th>genres</th>\n",
       "      <th>career_length</th>\n",
       "      <th>number_of_movies</th>\n",
       "      <th>start_date_1</th>\n",
       "      <th>end_date_1</th>\n",
       "      <th>start_date_2</th>\n",
       "      <th>end_date_2</th>\n",
       "      <th>start_date_3</th>\n",
       "      <th>...</th>\n",
       "      <th>std_budget_2</th>\n",
       "      <th>std_scaled_portion_0</th>\n",
       "      <th>std_scaled_portion_1</th>\n",
       "      <th>std_scaled_portion_2</th>\n",
       "      <th>n_genres_0</th>\n",
       "      <th>main_genre_0</th>\n",
       "      <th>n_genres_1</th>\n",
       "      <th>main_genre_1</th>\n",
       "      <th>n_genres_2</th>\n",
       "      <th>main_genre_2</th>\n",
       "    </tr>\n",
       "  </thead>\n",
       "  <tbody>\n",
       "    <tr>\n",
       "      <th>2</th>\n",
       "      <td>A Martinez</td>\n",
       "      <td>2</td>\n",
       "      <td>[[], [{'id': 37, 'name': 'Western'}, {'id': 12...</td>\n",
       "      <td>54</td>\n",
       "      <td>53</td>\n",
       "      <td>1968-10-01</td>\n",
       "      <td>1986-09-27</td>\n",
       "      <td>1986-09-27</td>\n",
       "      <td>2004-09-22</td>\n",
       "      <td>2004-09-22</td>\n",
       "      <td>...</td>\n",
       "      <td>9.603345e+06</td>\n",
       "      <td>0.287090</td>\n",
       "      <td>8.464379</td>\n",
       "      <td>21.454497</td>\n",
       "      <td>11.0</td>\n",
       "      <td>Drama</td>\n",
       "      <td>12.0</td>\n",
       "      <td>Drama</td>\n",
       "      <td>12.0</td>\n",
       "      <td>Drama</td>\n",
       "    </tr>\n",
       "    <tr>\n",
       "      <th>6</th>\n",
       "      <td>Aamir Khan</td>\n",
       "      <td>2</td>\n",
       "      <td>[[{'id': 10402, 'name': 'Music'}, {'id': 28, '...</td>\n",
       "      <td>49</td>\n",
       "      <td>61</td>\n",
       "      <td>1973-02-18</td>\n",
       "      <td>1989-02-14</td>\n",
       "      <td>1989-02-14</td>\n",
       "      <td>2005-02-10</td>\n",
       "      <td>2005-02-10</td>\n",
       "      <td>...</td>\n",
       "      <td>1.361822e+07</td>\n",
       "      <td>15.373898</td>\n",
       "      <td>26.233021</td>\n",
       "      <td>17.962109</td>\n",
       "      <td>4.0</td>\n",
       "      <td>Drama</td>\n",
       "      <td>11.0</td>\n",
       "      <td>Drama</td>\n",
       "      <td>13.0</td>\n",
       "      <td>Drama</td>\n",
       "    </tr>\n",
       "    <tr>\n",
       "      <th>31</th>\n",
       "      <td>Abby Dalton</td>\n",
       "      <td>1</td>\n",
       "      <td>[[{'id': 80, 'name': 'Crime'}, {'id': 10402, '...</td>\n",
       "      <td>51</td>\n",
       "      <td>15</td>\n",
       "      <td>1957-04-01</td>\n",
       "      <td>1974-03-28</td>\n",
       "      <td>1974-03-28</td>\n",
       "      <td>1991-03-24</td>\n",
       "      <td>1991-03-24</td>\n",
       "      <td>...</td>\n",
       "      <td>3.755523e+04</td>\n",
       "      <td>0.635700</td>\n",
       "      <td>0.246530</td>\n",
       "      <td>0.218109</td>\n",
       "      <td>8.0</td>\n",
       "      <td>Drama</td>\n",
       "      <td>5.0</td>\n",
       "      <td>Science Fiction</td>\n",
       "      <td>4.0</td>\n",
       "      <td>Horror</td>\n",
       "    </tr>\n",
       "    <tr>\n",
       "      <th>35</th>\n",
       "      <td>Abe Vigoda</td>\n",
       "      <td>2</td>\n",
       "      <td>[[{'id': 18, 'name': 'Drama'}], [{'id': 18, 'n...</td>\n",
       "      <td>43</td>\n",
       "      <td>44</td>\n",
       "      <td>1965-11-10</td>\n",
       "      <td>1979-11-07</td>\n",
       "      <td>1979-11-07</td>\n",
       "      <td>1993-11-03</td>\n",
       "      <td>1993-11-03</td>\n",
       "      <td>...</td>\n",
       "      <td>8.504267e+06</td>\n",
       "      <td>0.512652</td>\n",
       "      <td>0.775737</td>\n",
       "      <td>0.852583</td>\n",
       "      <td>8.0</td>\n",
       "      <td>TV Movie</td>\n",
       "      <td>14.0</td>\n",
       "      <td>Comedy</td>\n",
       "      <td>12.0</td>\n",
       "      <td>Comedy</td>\n",
       "    </tr>\n",
       "    <tr>\n",
       "      <th>42</th>\n",
       "      <td>Adam Arkin</td>\n",
       "      <td>2</td>\n",
       "      <td>[[{'id': 18, 'name': 'Drama'}, {'id': 35, 'nam...</td>\n",
       "      <td>52</td>\n",
       "      <td>48</td>\n",
       "      <td>1969-01-01</td>\n",
       "      <td>1985-12-28</td>\n",
       "      <td>1985-12-28</td>\n",
       "      <td>2002-12-24</td>\n",
       "      <td>2002-12-24</td>\n",
       "      <td>...</td>\n",
       "      <td>1.598163e+07</td>\n",
       "      <td>0.389605</td>\n",
       "      <td>1.855158</td>\n",
       "      <td>0.469792</td>\n",
       "      <td>8.0</td>\n",
       "      <td>Comedy</td>\n",
       "      <td>11.0</td>\n",
       "      <td>Drama</td>\n",
       "      <td>10.0</td>\n",
       "      <td>Drama</td>\n",
       "    </tr>\n",
       "    <tr>\n",
       "      <th>...</th>\n",
       "      <td>...</td>\n",
       "      <td>...</td>\n",
       "      <td>...</td>\n",
       "      <td>...</td>\n",
       "      <td>...</td>\n",
       "      <td>...</td>\n",
       "      <td>...</td>\n",
       "      <td>...</td>\n",
       "      <td>...</td>\n",
       "      <td>...</td>\n",
       "      <td>...</td>\n",
       "      <td>...</td>\n",
       "      <td>...</td>\n",
       "      <td>...</td>\n",
       "      <td>...</td>\n",
       "      <td>...</td>\n",
       "      <td>...</td>\n",
       "      <td>...</td>\n",
       "      <td>...</td>\n",
       "      <td>...</td>\n",
       "      <td>...</td>\n",
       "    </tr>\n",
       "    <tr>\n",
       "      <th>7955</th>\n",
       "      <td>Yorgo Voyagis</td>\n",
       "      <td>2</td>\n",
       "      <td>[[{'id': 18, 'name': 'Drama'}], [{'id': 18, 'n...</td>\n",
       "      <td>57</td>\n",
       "      <td>38</td>\n",
       "      <td>1964-12-14</td>\n",
       "      <td>1983-12-10</td>\n",
       "      <td>1983-12-10</td>\n",
       "      <td>2002-12-05</td>\n",
       "      <td>2002-12-05</td>\n",
       "      <td>...</td>\n",
       "      <td>5.030202e+06</td>\n",
       "      <td>0.782055</td>\n",
       "      <td>0.512323</td>\n",
       "      <td>0.617594</td>\n",
       "      <td>9.0</td>\n",
       "      <td>Drama</td>\n",
       "      <td>15.0</td>\n",
       "      <td>Drama</td>\n",
       "      <td>4.0</td>\n",
       "      <td>Drama</td>\n",
       "    </tr>\n",
       "    <tr>\n",
       "      <th>7964</th>\n",
       "      <td>Yuen Wah</td>\n",
       "      <td>2</td>\n",
       "      <td>[[{'id': 28, 'name': 'Action'}], [{'id': 18, '...</td>\n",
       "      <td>61</td>\n",
       "      <td>152</td>\n",
       "      <td>1962-12-05</td>\n",
       "      <td>1982-11-30</td>\n",
       "      <td>1982-11-30</td>\n",
       "      <td>2002-11-25</td>\n",
       "      <td>2002-11-25</td>\n",
       "      <td>...</td>\n",
       "      <td>3.080774e+07</td>\n",
       "      <td>1.661940</td>\n",
       "      <td>4.281629</td>\n",
       "      <td>0.626003</td>\n",
       "      <td>10.0</td>\n",
       "      <td>Action</td>\n",
       "      <td>12.0</td>\n",
       "      <td>Action</td>\n",
       "      <td>14.0</td>\n",
       "      <td>Action</td>\n",
       "    </tr>\n",
       "    <tr>\n",
       "      <th>7980</th>\n",
       "      <td>Yuko Tanaka</td>\n",
       "      <td>1</td>\n",
       "      <td>[[{'id': 18, 'name': 'Drama'}], [{'id': 18, 'n...</td>\n",
       "      <td>42</td>\n",
       "      <td>36</td>\n",
       "      <td>1981-01-08</td>\n",
       "      <td>1995-01-05</td>\n",
       "      <td>1995-01-05</td>\n",
       "      <td>2009-01-01</td>\n",
       "      <td>2009-01-01</td>\n",
       "      <td>...</td>\n",
       "      <td>0.000000e+00</td>\n",
       "      <td>8.587393</td>\n",
       "      <td>6.738326</td>\n",
       "      <td>0.250652</td>\n",
       "      <td>7.0</td>\n",
       "      <td>Drama</td>\n",
       "      <td>5.0</td>\n",
       "      <td>Drama</td>\n",
       "      <td>5.0</td>\n",
       "      <td>Drama</td>\n",
       "    </tr>\n",
       "    <tr>\n",
       "      <th>8046</th>\n",
       "      <td>Zoë Wanamaker</td>\n",
       "      <td>1</td>\n",
       "      <td>[[{'id': 18, 'name': 'Drama'}, {'id': 10752, '...</td>\n",
       "      <td>46</td>\n",
       "      <td>36</td>\n",
       "      <td>1973-04-19</td>\n",
       "      <td>1988-04-15</td>\n",
       "      <td>1988-04-15</td>\n",
       "      <td>2003-04-12</td>\n",
       "      <td>2003-04-12</td>\n",
       "      <td>...</td>\n",
       "      <td>6.867499e+06</td>\n",
       "      <td>0.257594</td>\n",
       "      <td>0.684702</td>\n",
       "      <td>0.891459</td>\n",
       "      <td>6.0</td>\n",
       "      <td>Drama</td>\n",
       "      <td>9.0</td>\n",
       "      <td>Drama</td>\n",
       "      <td>12.0</td>\n",
       "      <td>Drama</td>\n",
       "    </tr>\n",
       "    <tr>\n",
       "      <th>8048</th>\n",
       "      <td>Ángela Molina</td>\n",
       "      <td>1</td>\n",
       "      <td>[[{'id': 80, 'name': 'Crime'}], [{'id': 35, 'n...</td>\n",
       "      <td>48</td>\n",
       "      <td>121</td>\n",
       "      <td>1975-02-01</td>\n",
       "      <td>1991-01-28</td>\n",
       "      <td>1991-01-28</td>\n",
       "      <td>2007-01-24</td>\n",
       "      <td>2007-01-24</td>\n",
       "      <td>...</td>\n",
       "      <td>5.960007e+06</td>\n",
       "      <td>4.334082</td>\n",
       "      <td>2.314821</td>\n",
       "      <td>0.479187</td>\n",
       "      <td>11.0</td>\n",
       "      <td>Drama</td>\n",
       "      <td>15.0</td>\n",
       "      <td>Drama</td>\n",
       "      <td>14.0</td>\n",
       "      <td>Drama</td>\n",
       "    </tr>\n",
       "  </tbody>\n",
       "</table>\n",
       "<p>1806 rows × 47 columns</p>\n",
       "</div>"
      ],
      "text/plain": [
       "               name  gender  \\\n",
       "2        A Martinez       2   \n",
       "6        Aamir Khan       2   \n",
       "31      Abby Dalton       1   \n",
       "35       Abe Vigoda       2   \n",
       "42       Adam Arkin       2   \n",
       "...             ...     ...   \n",
       "7955  Yorgo Voyagis       2   \n",
       "7964       Yuen Wah       2   \n",
       "7980    Yuko Tanaka       1   \n",
       "8046  Zoë Wanamaker       1   \n",
       "8048  Ángela Molina       1   \n",
       "\n",
       "                                                 genres  career_length  \\\n",
       "2     [[], [{'id': 37, 'name': 'Western'}, {'id': 12...             54   \n",
       "6     [[{'id': 10402, 'name': 'Music'}, {'id': 28, '...             49   \n",
       "31    [[{'id': 80, 'name': 'Crime'}, {'id': 10402, '...             51   \n",
       "35    [[{'id': 18, 'name': 'Drama'}], [{'id': 18, 'n...             43   \n",
       "42    [[{'id': 18, 'name': 'Drama'}, {'id': 35, 'nam...             52   \n",
       "...                                                 ...            ...   \n",
       "7955  [[{'id': 18, 'name': 'Drama'}], [{'id': 18, 'n...             57   \n",
       "7964  [[{'id': 28, 'name': 'Action'}], [{'id': 18, '...             61   \n",
       "7980  [[{'id': 18, 'name': 'Drama'}], [{'id': 18, 'n...             42   \n",
       "8046  [[{'id': 18, 'name': 'Drama'}, {'id': 10752, '...             46   \n",
       "8048  [[{'id': 80, 'name': 'Crime'}], [{'id': 35, 'n...             48   \n",
       "\n",
       "      number_of_movies start_date_1 end_date_1 start_date_2 end_date_2  \\\n",
       "2                   53   1968-10-01 1986-09-27   1986-09-27 2004-09-22   \n",
       "6                   61   1973-02-18 1989-02-14   1989-02-14 2005-02-10   \n",
       "31                  15   1957-04-01 1974-03-28   1974-03-28 1991-03-24   \n",
       "35                  44   1965-11-10 1979-11-07   1979-11-07 1993-11-03   \n",
       "42                  48   1969-01-01 1985-12-28   1985-12-28 2002-12-24   \n",
       "...                ...          ...        ...          ...        ...   \n",
       "7955                38   1964-12-14 1983-12-10   1983-12-10 2002-12-05   \n",
       "7964               152   1962-12-05 1982-11-30   1982-11-30 2002-11-25   \n",
       "7980                36   1981-01-08 1995-01-05   1995-01-05 2009-01-01   \n",
       "8046                36   1973-04-19 1988-04-15   1988-04-15 2003-04-12   \n",
       "8048               121   1975-02-01 1991-01-28   1991-01-28 2007-01-24   \n",
       "\n",
       "     start_date_3  ...  std_budget_2  std_scaled_portion_0  \\\n",
       "2      2004-09-22  ...  9.603345e+06              0.287090   \n",
       "6      2005-02-10  ...  1.361822e+07             15.373898   \n",
       "31     1991-03-24  ...  3.755523e+04              0.635700   \n",
       "35     1993-11-03  ...  8.504267e+06              0.512652   \n",
       "42     2002-12-24  ...  1.598163e+07              0.389605   \n",
       "...           ...  ...           ...                   ...   \n",
       "7955   2002-12-05  ...  5.030202e+06              0.782055   \n",
       "7964   2002-11-25  ...  3.080774e+07              1.661940   \n",
       "7980   2009-01-01  ...  0.000000e+00              8.587393   \n",
       "8046   2003-04-12  ...  6.867499e+06              0.257594   \n",
       "8048   2007-01-24  ...  5.960007e+06              4.334082   \n",
       "\n",
       "      std_scaled_portion_1  std_scaled_portion_2  n_genres_0  main_genre_0  \\\n",
       "2                 8.464379             21.454497        11.0         Drama   \n",
       "6                26.233021             17.962109         4.0         Drama   \n",
       "31                0.246530              0.218109         8.0         Drama   \n",
       "35                0.775737              0.852583         8.0      TV Movie   \n",
       "42                1.855158              0.469792         8.0        Comedy   \n",
       "...                    ...                   ...         ...           ...   \n",
       "7955              0.512323              0.617594         9.0         Drama   \n",
       "7964              4.281629              0.626003        10.0        Action   \n",
       "7980              6.738326              0.250652         7.0         Drama   \n",
       "8046              0.684702              0.891459         6.0         Drama   \n",
       "8048              2.314821              0.479187        11.0         Drama   \n",
       "\n",
       "      n_genres_1     main_genre_1  n_genres_2  main_genre_2  \n",
       "2           12.0            Drama        12.0         Drama  \n",
       "6           11.0            Drama        13.0         Drama  \n",
       "31           5.0  Science Fiction         4.0        Horror  \n",
       "35          14.0           Comedy        12.0        Comedy  \n",
       "42          11.0            Drama        10.0         Drama  \n",
       "...          ...              ...         ...           ...  \n",
       "7955        15.0            Drama         4.0         Drama  \n",
       "7964        12.0           Action        14.0        Action  \n",
       "7980         5.0            Drama         5.0         Drama  \n",
       "8046         9.0            Drama        12.0         Drama  \n",
       "8048        15.0            Drama        14.0         Drama  \n",
       "\n",
       "[1806 rows x 47 columns]"
      ]
     },
     "metadata": {},
     "output_type": "display_data"
    }
   ],
   "source": [
    "# calculate number of genres and main one for the each time period\n",
    "group3_divided_df[[\"n_genres_0\", \"main_genre_0\"]] = group3_divided_df.apply(genres_stats_per_period, \n",
    "                                              start_column=\"start_date_1\", \n",
    "                                              end_column=\"end_date_1\", \n",
    "                                              axis=1, result_type=\"expand\")\n",
    "group3_divided_df[[\"n_genres_1\", \"main_genre_1\"]] = group3_divided_df.apply(genres_stats_per_period, \n",
    "                                              start_column=\"start_date_2\", \n",
    "                                              end_column=\"end_date_2\", \n",
    "                                              axis=1, result_type=\"expand\")\n",
    "group3_divided_df[[\"n_genres_2\", \"main_genre_2\"]] = group3_divided_df.apply(genres_stats_per_period, \n",
    "                                              start_column=\"start_date_3\", \n",
    "                                              end_column=\"end_date_3\", \n",
    "                                              axis=1, result_type=\"expand\")\n",
    " \n",
    "# Drop unnecessary columns\n",
    "group3_divided_df = group3_divided_df.drop(['release_date', 'budget', 'revenue', 'imdb_ratings', 'order', 'popularity', 'interval', 'scaled_portion'], axis=1)\n",
    "display(group3_divided_df)\n"
   ]
  },
  {
   "cell_type": "code",
   "execution_count": 120,
   "metadata": {},
   "outputs": [],
   "source": [
    "# save the dataframes into csv files \n",
    "group1_divided_df.to_csv('../Data/preprocessed_data/group1_divided_df.csv', index=True)\n",
    "group2_divided_df.to_csv('../Data/preprocessed_data/group2_divided_df.csv', index=True)\n",
    "group3_divided_df.to_csv('../Data/preprocessed_data/group3_divided_df.csv', index=True)\n",
    "# merge all the dataframes into one\n",
    "merged_grouped_actors = pd.concat([group1_divided_df, group2_divided_df, group3_divided_df])\n",
    "merged_grouped_actors.to_csv('../Data/preprocessed_data/merged_grouped_actors_db.csv', index=True)"
   ]
  },
  {
   "cell_type": "markdown",
   "metadata": {},
   "source": [
    "## 3. Plot visualization"
   ]
  },
  {
   "cell_type": "code",
   "execution_count": 126,
   "metadata": {},
   "outputs": [],
   "source": [
    "import pandas as pd\n",
    "full_actors_filtered_df = pd.read_csv('../Data/preprocessed_data/full_actors_filtered_db.csv')\n",
    "\n",
    "group1_df = pd.read_csv('../Data/preprocessed_data/group1_divided_df.csv')\n",
    "group2_df = pd.read_csv('../Data/preprocessed_data/group2_divided_df.csv')\n",
    "group3_df = pd.read_csv('../Data/preprocessed_data/group3_divided_df.csv')"
   ]
  },
  {
   "cell_type": "code",
   "execution_count": 127,
   "metadata": {},
   "outputs": [],
   "source": [
    "# Defining constants\n",
    "rgba_light_yellow = (255, 255, 100, 0.5)\n",
    "rgba_light_orange = (255, 165, 0, 0.5)\n",
    "rgba_light_red = (240, 128, 128, 0.5)\n",
    "\n",
    "# Defining functions\n",
    "def create_px_figure(actor_movies_sorted: pd.DataFrame, actor_name: str) -> px.scatter:\n",
    "    \"\"\"\n",
    "    Create a Plotly Express scatter plot figure based on actor movie data.\n",
    "\n",
    "    Parameters:\n",
    "    - actor_movies_sorted (pd.DataFrame): DataFrame containing sorted movie data for an actor.\n",
    "    - actor_name (str): The name of the actor for whom the plot is generated.\n",
    "\n",
    "    Returns:\n",
    "    - px.scatter: A Plotly Express scatter plot figure.\n",
    "    \"\"\"\n",
    "    # Create a scatter plot figure using Plotly Express\n",
    "    fig = px.scatter(actor_movies_sorted, x='release_date', y='imdb_average_rating',\n",
    "                     hover_data=['original_title', 'order'],\n",
    "                     labels={'imdb_average_rating': 'IMDb Rating', 'release_date': 'Release Year', 'original_title': 'Movie name', 'order': 'Order'},\n",
    "                     title=f'Career Evolution based on Movie Ratings for Actor {actor_name}')\n",
    "\n",
    "    return fig\n",
    "\n",
    "\n",
    "def update_figure_display(fig: go.Figure, actor_movies_sorted: pd.DataFrame, start_date, end_date):\n",
    "    \"\"\"\n",
    "    Update the display of a Plotly figure based on actor movie data.\n",
    "\n",
    "    Parameters:\n",
    "    - fig (go.Figure): The Plotly figure to be updated.\n",
    "    - actor_movies_sorted (pd.DataFrame): DataFrame containing sorted movie data for an actor.\n",
    "    - start_date: The starting date for the x-axis range.\n",
    "    - end_date: The ending date for the x-axis range.\n",
    "\n",
    "    Returns:\n",
    "    - None\n",
    "    \"\"\"\n",
    "    # Set specific colors based on the order of the datapoint\n",
    "    fig.update_traces(marker=dict(color=actor_movies_sorted['order'].map({\n",
    "        0: 'red', 1: 'red',\n",
    "        2: 'yellowgreen', 3: 'yellowgreen', 4: 'yellowgreen', 5: 'yellowgreen'\n",
    "    })))\n",
    "\n",
    "    # Set the range of the x-axis\n",
    "    fig.update_layout(xaxis=dict(range=[start_date, end_date]))\n",
    "\n",
    "\n",
    "def add_shape(fig: go.Figure, x_start, x_end, color: tuple):\n",
    "    \"\"\"\n",
    "    Add a rectangular shape to the given Plotly figure.\n",
    "\n",
    "    Parameters:\n",
    "    - fig (go.Figure): The Plotly figure to which the shape will be added.\n",
    "    - x_start: The starting x-coordinate of the rectangle.\n",
    "    - x_end: The ending x-coordinate of the rectangle.\n",
    "    - color (tuple): A tuple representing the color in the format (R, G, B, Alpha).\n",
    "\n",
    "    Returns:\n",
    "    - None\n",
    "    \"\"\"\n",
    "    fig.add_shape(\n",
    "        go.layout.Shape(\n",
    "            type=\"rect\",\n",
    "            x0=x_start,\n",
    "            x1=x_end,\n",
    "            y0=0,\n",
    "            y1=11,\n",
    "            fillcolor=f\"rgba{color}\",\n",
    "            opacity=0.5,\n",
    "            layer=\"below\",\n",
    "            line_width=0,\n",
    "        \n",
    "        )\n",
    "    )\n",
    "\n",
    "def get_movies_sorted(actor_id: int) -> tuple:\n",
    "    \"\"\"\n",
    "    Get sorted movies and actor name based on actor ID.\n",
    "\n",
    "    Parameters:\n",
    "    - actor_id (int): The unique identifier of the actor.\n",
    "\n",
    "    Returns:\n",
    "    - tuple: A tuple containing the sorted DataFrame of movies and the actor's name.\n",
    "    \"\"\"\n",
    "    actor_movies_sorted = full_actors_df[full_actors_df['actor_id'] == actor_id].sort_values(by='release_date')\n",
    "    actor_name = actor_movies_sorted['name'].values[0]\n",
    "\n",
    "    return actor_movies_sorted, actor_name\n",
    "\n",
    "def get_release_dates(actor_names: list, full_actors_filtered_df: pd.DataFrame) -> tuple:\n",
    "    \"\"\"\n",
    "    Get the first and last release dates for movies of given actors.\n",
    "\n",
    "    Parameters:\n",
    "    - actor_names (list): A list of actor names for whom release dates are to be determined.\n",
    "    - full_actors_filtered_df (pd.DataFrame): DataFrame containing movie data for all actors.\n",
    "\n",
    "    Returns:\n",
    "    - tuple: A tuple containing the first and last release dates in the format ('YYYY-MM-DD', 'YYYY-MM-DD').\n",
    "    \"\"\"\n",
    "    # Get actor IDs for the given actor names\n",
    "    actor_ids = [full_actors_df[full_actors_df['name'] == name]['actor_id'].iloc[0] for name in actor_names]\n",
    "\n",
    "    # Get first and last release dates for each actor\n",
    "    first_release_dates = [full_actors_df[full_actors_df['actor_id'] == actor_id]['release_date'].min() for actor_id in actor_ids]\n",
    "    last_release_dates = [full_actors_df[full_actors_df['actor_id'] == actor_id]['release_date'].max() for actor_id in actor_ids]\n",
    "\n",
    "    # Find the overall earliest and latest release dates\n",
    "    first_release_date = min(first_release_dates)\n",
    "    last_release_date = max(last_release_dates)\n",
    "\n",
    "    # Adjust start and end dates by adding/subtracting 1 year\n",
    "    start_date = datetime.strptime(first_release_date, '%Y-%m-%d') - timedelta(days=365)\n",
    "    end_date = datetime.strptime(last_release_date, '%Y-%m-%d') + timedelta(days=365)\n",
    "\n",
    "    # Convert back to string format\n",
    "    first_release_date = start_date.strftime('%Y-%m-%d')\n",
    "    last_release_date = end_date.strftime('%Y-%m-%d')\n",
    "\n",
    "    return first_release_date, last_release_date"
   ]
  },
  {
   "cell_type": "code",
   "execution_count": 128,
   "metadata": {},
   "outputs": [],
   "source": [
    "def plot_movies_ratings_1(actor_id, start_date, end_date):\n",
    "    actor_movies_sorted, actor_name = get_movies_sorted(actor_id)\n",
    "    fig = create_px_figure(actor_movies_sorted, actor_name)\n",
    "\n",
    "    add_shape(fig, \n",
    "              actor_movies_sorted['release_date'].min(), \n",
    "              actor_movies_sorted['release_date'].max(),\n",
    "              rgba_light_yellow)\n",
    "\n",
    "    update_figure_display(fig, actor_movies_sorted, start_date, end_date)\n",
    "    \n",
    "    pio.write_html(fig, file='group1_example_career_evolution.html')\n",
    "    \n",
    "    fig.show()"
   ]
  },
  {
   "cell_type": "code",
   "execution_count": 129,
   "metadata": {},
   "outputs": [],
   "source": [
    "def plot_movies_ratings_2(actor_id, start_date, end_date):\n",
    "    actor_movies_sorted, actor_name = get_movies_sorted(actor_id)\n",
    "    # get dates of separation\n",
    "    date_middle = group2_df[group2_df['name'] == actor_name]['start_date_2'].values[0]\n",
    "    \n",
    "    fig = create_px_figure(actor_movies_sorted, actor_name)\n",
    "\n",
    "    add_shape(fig,\n",
    "                actor_movies_sorted['release_date'].min(),\n",
    "                date_middle,\n",
    "                rgba_light_yellow)\n",
    "\n",
    "    add_shape(fig,\n",
    "                date_middle,\n",
    "                actor_movies_sorted['release_date'].max(),\n",
    "                rgba_light_orange)\n",
    "\n",
    "\n",
    "    update_figure_display(fig, actor_movies_sorted, start_date, end_date)\n",
    "\n",
    "    # Save the figure as an HTML file\n",
    "    pio.write_html(fig, file='group2_example_career_evolution.html')\n",
    "    \n",
    "    fig.show()\n"
   ]
  },
  {
   "cell_type": "code",
   "execution_count": 130,
   "metadata": {},
   "outputs": [],
   "source": [
    "def plot_movies_ratings_3(actor_id, start_date, end_date):\n",
    "    actor_movies_sorted, actor_name = get_movies_sorted(actor_id)\n",
    "    # get dates of separation\n",
    "    date_middle_1 = group3_df[group3_df['name'] == actor_name]['start_date_2'].values[0]\n",
    "    date_middle_2 = group3_df[group3_df['name'] == actor_name]['start_date_3'].values[0]\n",
    "    \n",
    "    fig = create_px_figure(actor_movies_sorted, actor_name)\n",
    "\n",
    "    add_shape(fig,\n",
    "                actor_movies_sorted['release_date'].min(),\n",
    "                date_middle_1,\n",
    "                rgba_light_yellow)\n",
    "    \n",
    "    add_shape(fig,\n",
    "                date_middle_1,\n",
    "                date_middle_2,\n",
    "                rgba_light_orange)\n",
    "\n",
    "    add_shape(fig,\n",
    "                date_middle_2,\n",
    "                actor_movies_sorted['release_date'].max(),\n",
    "                rgba_light_red)\n",
    "\n",
    "    update_figure_display(fig, actor_movies_sorted, start_date, end_date)\n",
    "    \n",
    "    pio.write_html(fig, file='group3_example_career_evolution.html')\n",
    "    \n",
    "    fig.show()"
   ]
  },
  {
   "cell_type": "code",
   "execution_count": 131,
   "metadata": {},
   "outputs": [
    {
     "data": {
      "application/vnd.plotly.v1+json": {
       "config": {
        "plotlyServerURL": "https://plot.ly"
       },
       "data": [
        {
         "customdata": [
          [
           "Nausea II",
           2
          ],
          [
           "Arranged",
           0
          ],
          [
           "The Last 15",
           1
          ],
          [
           "The Marconi Bros",
           7
          ],
          [
           "Explicit Ills",
           8
          ],
          [
           "Turn the River",
           12
          ],
          [
           "Breaking Upwards",
           0
          ],
          [
           "Washingtonienne",
           2
          ],
          [
           "State of Play",
           20
          ],
          [
           "Armless",
           3
          ],
          [
           "Shadows & Lies",
           5
          ],
          [
           "Salt",
           17
          ],
          [
           "The Other Guys",
           24
          ],
          [
           "All Good Things",
           42
          ],
          [
           "Stuck Between Stations",
           0
          ],
          [
           "Lola Versus",
           2
          ],
          [
           "Consumed",
           0
          ],
          [
           "Confirmation",
           5
          ],
          [
           "Band Aid",
           0
          ],
          [
           "How It Ends",
           0
          ],
          [
           "A Good Person",
           4
          ],
          [
           "Beau Is Afraid",
           7
          ]
         ],
         "hovertemplate": "Release Year=%{x}<br>IMDb Rating=%{y}<br>Movie name=%{customdata[0]}<br>Order=%{customdata[1]}<extra></extra>",
         "legendgroup": "",
         "marker": {
          "color": [
           "yellowgreen",
           "red",
           "red",
           null,
           null,
           null,
           "red",
           "yellowgreen",
           null,
           "yellowgreen",
           "yellowgreen",
           null,
           null,
           null,
           "red",
           "yellowgreen",
           "red",
           "yellowgreen",
           "red",
           "red",
           "yellowgreen",
           null
          ],
          "symbol": "circle"
         },
         "mode": "markers",
         "name": "",
         "orientation": "v",
         "showlegend": false,
         "type": "scatter",
         "x": [
          "2004-12-11",
          "2007-03-10",
          "2007-03-30",
          "2008-01-01",
          "2008-03-08",
          "2008-05-09",
          "2009-03-14",
          "2009-04-01",
          "2009-04-17",
          "2010-01-22",
          "2010-04-25",
          "2010-07-21",
          "2010-08-06",
          "2010-12-03",
          "2011-11-04",
          "2012-04-24",
          "2015-06-01",
          "2016-04-16",
          "2017-06-02",
          "2021-07-20",
          "2023-03-23",
          "2023-04-14"
         ],
         "xaxis": "x",
         "y": [
          4.8,
          7.3,
          5.8,
          4.4,
          5.5,
          5.8,
          6,
          6,
          7.1,
          5.2,
          4.1,
          6.4,
          6.6,
          6.3,
          6.3,
          5.5,
          5.6,
          6.8,
          6.6,
          5.3,
          7,
          6.8
         ],
         "yaxis": "y"
        }
       ],
       "layout": {
        "legend": {
         "tracegroupgap": 0
        },
        "shapes": [
         {
          "fillcolor": "rgba(255, 255, 100, 0.5)",
          "layer": "below",
          "line": {
           "width": 0
          },
          "opacity": 0.5,
          "type": "rect",
          "x0": "2004-12-11",
          "x1": "2023-04-14",
          "y0": 0,
          "y1": 11
         }
        ],
        "template": {
         "data": {
          "bar": [
           {
            "error_x": {
             "color": "#2a3f5f"
            },
            "error_y": {
             "color": "#2a3f5f"
            },
            "marker": {
             "line": {
              "color": "#E5ECF6",
              "width": 0.5
             },
             "pattern": {
              "fillmode": "overlay",
              "size": 10,
              "solidity": 0.2
             }
            },
            "type": "bar"
           }
          ],
          "barpolar": [
           {
            "marker": {
             "line": {
              "color": "#E5ECF6",
              "width": 0.5
             },
             "pattern": {
              "fillmode": "overlay",
              "size": 10,
              "solidity": 0.2
             }
            },
            "type": "barpolar"
           }
          ],
          "carpet": [
           {
            "aaxis": {
             "endlinecolor": "#2a3f5f",
             "gridcolor": "white",
             "linecolor": "white",
             "minorgridcolor": "white",
             "startlinecolor": "#2a3f5f"
            },
            "baxis": {
             "endlinecolor": "#2a3f5f",
             "gridcolor": "white",
             "linecolor": "white",
             "minorgridcolor": "white",
             "startlinecolor": "#2a3f5f"
            },
            "type": "carpet"
           }
          ],
          "choropleth": [
           {
            "colorbar": {
             "outlinewidth": 0,
             "ticks": ""
            },
            "type": "choropleth"
           }
          ],
          "contour": [
           {
            "colorbar": {
             "outlinewidth": 0,
             "ticks": ""
            },
            "colorscale": [
             [
              0,
              "#0d0887"
             ],
             [
              0.1111111111111111,
              "#46039f"
             ],
             [
              0.2222222222222222,
              "#7201a8"
             ],
             [
              0.3333333333333333,
              "#9c179e"
             ],
             [
              0.4444444444444444,
              "#bd3786"
             ],
             [
              0.5555555555555556,
              "#d8576b"
             ],
             [
              0.6666666666666666,
              "#ed7953"
             ],
             [
              0.7777777777777778,
              "#fb9f3a"
             ],
             [
              0.8888888888888888,
              "#fdca26"
             ],
             [
              1,
              "#f0f921"
             ]
            ],
            "type": "contour"
           }
          ],
          "contourcarpet": [
           {
            "colorbar": {
             "outlinewidth": 0,
             "ticks": ""
            },
            "type": "contourcarpet"
           }
          ],
          "heatmap": [
           {
            "colorbar": {
             "outlinewidth": 0,
             "ticks": ""
            },
            "colorscale": [
             [
              0,
              "#0d0887"
             ],
             [
              0.1111111111111111,
              "#46039f"
             ],
             [
              0.2222222222222222,
              "#7201a8"
             ],
             [
              0.3333333333333333,
              "#9c179e"
             ],
             [
              0.4444444444444444,
              "#bd3786"
             ],
             [
              0.5555555555555556,
              "#d8576b"
             ],
             [
              0.6666666666666666,
              "#ed7953"
             ],
             [
              0.7777777777777778,
              "#fb9f3a"
             ],
             [
              0.8888888888888888,
              "#fdca26"
             ],
             [
              1,
              "#f0f921"
             ]
            ],
            "type": "heatmap"
           }
          ],
          "heatmapgl": [
           {
            "colorbar": {
             "outlinewidth": 0,
             "ticks": ""
            },
            "colorscale": [
             [
              0,
              "#0d0887"
             ],
             [
              0.1111111111111111,
              "#46039f"
             ],
             [
              0.2222222222222222,
              "#7201a8"
             ],
             [
              0.3333333333333333,
              "#9c179e"
             ],
             [
              0.4444444444444444,
              "#bd3786"
             ],
             [
              0.5555555555555556,
              "#d8576b"
             ],
             [
              0.6666666666666666,
              "#ed7953"
             ],
             [
              0.7777777777777778,
              "#fb9f3a"
             ],
             [
              0.8888888888888888,
              "#fdca26"
             ],
             [
              1,
              "#f0f921"
             ]
            ],
            "type": "heatmapgl"
           }
          ],
          "histogram": [
           {
            "marker": {
             "pattern": {
              "fillmode": "overlay",
              "size": 10,
              "solidity": 0.2
             }
            },
            "type": "histogram"
           }
          ],
          "histogram2d": [
           {
            "colorbar": {
             "outlinewidth": 0,
             "ticks": ""
            },
            "colorscale": [
             [
              0,
              "#0d0887"
             ],
             [
              0.1111111111111111,
              "#46039f"
             ],
             [
              0.2222222222222222,
              "#7201a8"
             ],
             [
              0.3333333333333333,
              "#9c179e"
             ],
             [
              0.4444444444444444,
              "#bd3786"
             ],
             [
              0.5555555555555556,
              "#d8576b"
             ],
             [
              0.6666666666666666,
              "#ed7953"
             ],
             [
              0.7777777777777778,
              "#fb9f3a"
             ],
             [
              0.8888888888888888,
              "#fdca26"
             ],
             [
              1,
              "#f0f921"
             ]
            ],
            "type": "histogram2d"
           }
          ],
          "histogram2dcontour": [
           {
            "colorbar": {
             "outlinewidth": 0,
             "ticks": ""
            },
            "colorscale": [
             [
              0,
              "#0d0887"
             ],
             [
              0.1111111111111111,
              "#46039f"
             ],
             [
              0.2222222222222222,
              "#7201a8"
             ],
             [
              0.3333333333333333,
              "#9c179e"
             ],
             [
              0.4444444444444444,
              "#bd3786"
             ],
             [
              0.5555555555555556,
              "#d8576b"
             ],
             [
              0.6666666666666666,
              "#ed7953"
             ],
             [
              0.7777777777777778,
              "#fb9f3a"
             ],
             [
              0.8888888888888888,
              "#fdca26"
             ],
             [
              1,
              "#f0f921"
             ]
            ],
            "type": "histogram2dcontour"
           }
          ],
          "mesh3d": [
           {
            "colorbar": {
             "outlinewidth": 0,
             "ticks": ""
            },
            "type": "mesh3d"
           }
          ],
          "parcoords": [
           {
            "line": {
             "colorbar": {
              "outlinewidth": 0,
              "ticks": ""
             }
            },
            "type": "parcoords"
           }
          ],
          "pie": [
           {
            "automargin": true,
            "type": "pie"
           }
          ],
          "scatter": [
           {
            "fillpattern": {
             "fillmode": "overlay",
             "size": 10,
             "solidity": 0.2
            },
            "type": "scatter"
           }
          ],
          "scatter3d": [
           {
            "line": {
             "colorbar": {
              "outlinewidth": 0,
              "ticks": ""
             }
            },
            "marker": {
             "colorbar": {
              "outlinewidth": 0,
              "ticks": ""
             }
            },
            "type": "scatter3d"
           }
          ],
          "scattercarpet": [
           {
            "marker": {
             "colorbar": {
              "outlinewidth": 0,
              "ticks": ""
             }
            },
            "type": "scattercarpet"
           }
          ],
          "scattergeo": [
           {
            "marker": {
             "colorbar": {
              "outlinewidth": 0,
              "ticks": ""
             }
            },
            "type": "scattergeo"
           }
          ],
          "scattergl": [
           {
            "marker": {
             "colorbar": {
              "outlinewidth": 0,
              "ticks": ""
             }
            },
            "type": "scattergl"
           }
          ],
          "scattermapbox": [
           {
            "marker": {
             "colorbar": {
              "outlinewidth": 0,
              "ticks": ""
             }
            },
            "type": "scattermapbox"
           }
          ],
          "scatterpolar": [
           {
            "marker": {
             "colorbar": {
              "outlinewidth": 0,
              "ticks": ""
             }
            },
            "type": "scatterpolar"
           }
          ],
          "scatterpolargl": [
           {
            "marker": {
             "colorbar": {
              "outlinewidth": 0,
              "ticks": ""
             }
            },
            "type": "scatterpolargl"
           }
          ],
          "scatterternary": [
           {
            "marker": {
             "colorbar": {
              "outlinewidth": 0,
              "ticks": ""
             }
            },
            "type": "scatterternary"
           }
          ],
          "surface": [
           {
            "colorbar": {
             "outlinewidth": 0,
             "ticks": ""
            },
            "colorscale": [
             [
              0,
              "#0d0887"
             ],
             [
              0.1111111111111111,
              "#46039f"
             ],
             [
              0.2222222222222222,
              "#7201a8"
             ],
             [
              0.3333333333333333,
              "#9c179e"
             ],
             [
              0.4444444444444444,
              "#bd3786"
             ],
             [
              0.5555555555555556,
              "#d8576b"
             ],
             [
              0.6666666666666666,
              "#ed7953"
             ],
             [
              0.7777777777777778,
              "#fb9f3a"
             ],
             [
              0.8888888888888888,
              "#fdca26"
             ],
             [
              1,
              "#f0f921"
             ]
            ],
            "type": "surface"
           }
          ],
          "table": [
           {
            "cells": {
             "fill": {
              "color": "#EBF0F8"
             },
             "line": {
              "color": "white"
             }
            },
            "header": {
             "fill": {
              "color": "#C8D4E3"
             },
             "line": {
              "color": "white"
             }
            },
            "type": "table"
           }
          ]
         },
         "layout": {
          "annotationdefaults": {
           "arrowcolor": "#2a3f5f",
           "arrowhead": 0,
           "arrowwidth": 1
          },
          "autotypenumbers": "strict",
          "coloraxis": {
           "colorbar": {
            "outlinewidth": 0,
            "ticks": ""
           }
          },
          "colorscale": {
           "diverging": [
            [
             0,
             "#8e0152"
            ],
            [
             0.1,
             "#c51b7d"
            ],
            [
             0.2,
             "#de77ae"
            ],
            [
             0.3,
             "#f1b6da"
            ],
            [
             0.4,
             "#fde0ef"
            ],
            [
             0.5,
             "#f7f7f7"
            ],
            [
             0.6,
             "#e6f5d0"
            ],
            [
             0.7,
             "#b8e186"
            ],
            [
             0.8,
             "#7fbc41"
            ],
            [
             0.9,
             "#4d9221"
            ],
            [
             1,
             "#276419"
            ]
           ],
           "sequential": [
            [
             0,
             "#0d0887"
            ],
            [
             0.1111111111111111,
             "#46039f"
            ],
            [
             0.2222222222222222,
             "#7201a8"
            ],
            [
             0.3333333333333333,
             "#9c179e"
            ],
            [
             0.4444444444444444,
             "#bd3786"
            ],
            [
             0.5555555555555556,
             "#d8576b"
            ],
            [
             0.6666666666666666,
             "#ed7953"
            ],
            [
             0.7777777777777778,
             "#fb9f3a"
            ],
            [
             0.8888888888888888,
             "#fdca26"
            ],
            [
             1,
             "#f0f921"
            ]
           ],
           "sequentialminus": [
            [
             0,
             "#0d0887"
            ],
            [
             0.1111111111111111,
             "#46039f"
            ],
            [
             0.2222222222222222,
             "#7201a8"
            ],
            [
             0.3333333333333333,
             "#9c179e"
            ],
            [
             0.4444444444444444,
             "#bd3786"
            ],
            [
             0.5555555555555556,
             "#d8576b"
            ],
            [
             0.6666666666666666,
             "#ed7953"
            ],
            [
             0.7777777777777778,
             "#fb9f3a"
            ],
            [
             0.8888888888888888,
             "#fdca26"
            ],
            [
             1,
             "#f0f921"
            ]
           ]
          },
          "colorway": [
           "#636efa",
           "#EF553B",
           "#00cc96",
           "#ab63fa",
           "#FFA15A",
           "#19d3f3",
           "#FF6692",
           "#B6E880",
           "#FF97FF",
           "#FECB52"
          ],
          "font": {
           "color": "#2a3f5f"
          },
          "geo": {
           "bgcolor": "white",
           "lakecolor": "white",
           "landcolor": "#E5ECF6",
           "showlakes": true,
           "showland": true,
           "subunitcolor": "white"
          },
          "hoverlabel": {
           "align": "left"
          },
          "hovermode": "closest",
          "mapbox": {
           "style": "light"
          },
          "paper_bgcolor": "white",
          "plot_bgcolor": "#E5ECF6",
          "polar": {
           "angularaxis": {
            "gridcolor": "white",
            "linecolor": "white",
            "ticks": ""
           },
           "bgcolor": "#E5ECF6",
           "radialaxis": {
            "gridcolor": "white",
            "linecolor": "white",
            "ticks": ""
           }
          },
          "scene": {
           "xaxis": {
            "backgroundcolor": "#E5ECF6",
            "gridcolor": "white",
            "gridwidth": 2,
            "linecolor": "white",
            "showbackground": true,
            "ticks": "",
            "zerolinecolor": "white"
           },
           "yaxis": {
            "backgroundcolor": "#E5ECF6",
            "gridcolor": "white",
            "gridwidth": 2,
            "linecolor": "white",
            "showbackground": true,
            "ticks": "",
            "zerolinecolor": "white"
           },
           "zaxis": {
            "backgroundcolor": "#E5ECF6",
            "gridcolor": "white",
            "gridwidth": 2,
            "linecolor": "white",
            "showbackground": true,
            "ticks": "",
            "zerolinecolor": "white"
           }
          },
          "shapedefaults": {
           "line": {
            "color": "#2a3f5f"
           }
          },
          "ternary": {
           "aaxis": {
            "gridcolor": "white",
            "linecolor": "white",
            "ticks": ""
           },
           "baxis": {
            "gridcolor": "white",
            "linecolor": "white",
            "ticks": ""
           },
           "bgcolor": "#E5ECF6",
           "caxis": {
            "gridcolor": "white",
            "linecolor": "white",
            "ticks": ""
           }
          },
          "title": {
           "x": 0.05
          },
          "xaxis": {
           "automargin": true,
           "gridcolor": "white",
           "linecolor": "white",
           "ticks": "",
           "title": {
            "standoff": 15
           },
           "zerolinecolor": "white",
           "zerolinewidth": 2
          },
          "yaxis": {
           "automargin": true,
           "gridcolor": "white",
           "linecolor": "white",
           "ticks": "",
           "title": {
            "standoff": 15
           },
           "zerolinecolor": "white",
           "zerolinewidth": 2
          }
         }
        },
        "title": {
         "text": "Career Evolution based on Movie Ratings for Actor Zoe Lister-Jones"
        },
        "xaxis": {
         "anchor": "y",
         "domain": [
          0,
          1
         ],
         "range": [
          "1961-12-05",
          "2024-07-30"
         ],
         "title": {
          "text": "Release Year"
         }
        },
        "yaxis": {
         "anchor": "x",
         "domain": [
          0,
          1
         ],
         "title": {
          "text": "IMDb Rating"
         }
        }
       }
      }
     },
     "metadata": {},
     "output_type": "display_data"
    },
    {
     "data": {
      "application/vnd.plotly.v1+json": {
       "config": {
        "plotlyServerURL": "https://plot.ly"
       },
       "data": [
        {
         "customdata": [
          [
           "Mrs. Soffel",
           55
          ],
          [
           "Murder in Space",
           18
          ],
          [
           "One Police Plaza",
           15
          ],
          [
           "The Big Town",
           32
          ],
          [
           "Rolling Vengeance",
           9
          ],
          [
           "Hot Paint",
           8
          ],
          [
           "Payoff",
           14
          ],
          [
           "Run",
           3
          ],
          [
           "The Hitman",
           11
          ],
          [
           "Diagnosis Murder: The House on Sycamore Street",
           17
          ],
          [
           "Dirty Work",
           17
          ],
          [
           "Stay Tuned",
           20
          ],
          [
           "Born to Run",
           11
          ],
          [
           "Intersection",
           10
          ],
          [
           "City Boy",
           3
          ],
          [
           "Bad Company",
           18
          ],
          [
           "The Ranger, the Cook and a Hole in the Sky",
           10
          ],
          [
           "Broken Trust",
           24
          ],
          [
           "Giant Mine",
           9
          ],
          [
           "The Don's Analyst",
           16
          ],
          [
           "Let Me Call You Sweetheart",
           14
          ],
          [
           "Face Down",
           21
          ],
          [
           "Blackheart",
           4
          ],
          [
           "The Defenders: Choice of Evils",
           16
          ],
          [
           "Killer Deal",
           7
          ],
          [
           "Perfect Murder, Perfect Town: JonBenét and the City of Boulder",
           36
          ],
          [
           "Shanghai Noon",
           14
          ],
          [
           "A Glimpse of Hell",
           8
          ],
          [
           "Who Is Cletis Tout?",
           16
          ],
          [
           "D-Tox",
           13
          ],
          [
           "Narc",
           12
          ],
          [
           "Agent Cody Banks",
           31
          ],
          [
           "Deathlands",
           4
          ],
          [
           "Defending Our Kids: The Julie Posey Story",
           5
          ],
          [
           "The Cradle Will Fall",
           3
          ],
          [
           "Martha behind Bars",
           4
          ],
          [
           "Crossing",
           5
          ],
          [
           "Shooter",
           10
          ],
          [
           "Perfect Child",
           5
          ],
          [
           "Second Sight",
           4
          ],
          [
           "The Other Woman",
           4
          ],
          [
           "Carny",
           1
          ],
          [
           "Defendor",
           8
          ],
          [
           "GravyTrain",
           5
          ],
          [
           "Paradox",
           3
          ],
          [
           "Sucker Punch",
           13
          ],
          [
           "The Case for Christmas",
           7
          ],
          [
           "The Samaritan",
           4
          ],
          [
           "The Conspiracy",
           4
          ],
          [
           "Cold Spring",
           4
          ],
          [
           "A Single Shot",
           16
          ],
          [
           "The Art of the Steal",
           20
          ],
          [
           "Pride of Lions",
           15
          ],
          [
           "88",
           11
          ],
          [
           "A Christmas Horror Story",
           12
          ],
          [
           "On the Twelfth Day of Christmas",
           4
          ],
          [
           "He Never Died",
           27
          ],
          [
           "Spark: A Space Tail",
           6
          ],
          [
           "Dark Harvest",
           1
          ],
          [
           "The Stakelander",
           3
          ],
          [
           "Molly's Game",
           43
          ],
          [
           "Recall",
           10
          ],
          [
           "We",
           2
          ],
          [
           "Flashback",
           7
          ],
          [
           "The Last Christmas",
           2
          ]
         ],
         "hovertemplate": "Release Year=%{x}<br>IMDb Rating=%{y}<br>Movie name=%{customdata[0]}<br>Order=%{customdata[1]}<extra></extra>",
         "legendgroup": "",
         "marker": {
          "color": [
           null,
           null,
           null,
           null,
           null,
           null,
           null,
           "yellowgreen",
           null,
           null,
           null,
           null,
           null,
           null,
           "yellowgreen",
           null,
           null,
           null,
           null,
           null,
           null,
           null,
           "yellowgreen",
           null,
           null,
           null,
           null,
           null,
           null,
           null,
           null,
           null,
           "yellowgreen",
           "yellowgreen",
           "yellowgreen",
           "yellowgreen",
           "yellowgreen",
           null,
           "yellowgreen",
           "yellowgreen",
           "yellowgreen",
           "red",
           null,
           "yellowgreen",
           "yellowgreen",
           null,
           null,
           "yellowgreen",
           "yellowgreen",
           "yellowgreen",
           null,
           null,
           null,
           null,
           null,
           "yellowgreen",
           null,
           null,
           "red",
           "yellowgreen",
           null,
           null,
           "yellowgreen",
           null,
           "yellowgreen"
          ],
          "symbol": "circle"
         },
         "mode": "markers",
         "name": "",
         "orientation": "v",
         "showlegend": false,
         "type": "scatter",
         "x": [
          "1984-12-26",
          "1985-07-28",
          "1986-11-29",
          "1987-09-25",
          "1987-10-02",
          "1988-03-20",
          "1991-01-10",
          "1991-02-01",
          "1991-05-01",
          "1992-05-01",
          "1992-07-22",
          "1992-08-14",
          "1993-08-02",
          "1994-01-21",
          "1994-05-02",
          "1995-01-20",
          "1995-06-15",
          "1995-08-06",
          "1996-12-08",
          "1997-09-06",
          "1997-10-26",
          "1997-11-15",
          "1998-01-01",
          "1998-01-18",
          "1999-03-25",
          "2000-02-27",
          "2000-05-26",
          "2001-03-18",
          "2001-09-12",
          "2002-01-04",
          "2002-01-14",
          "2003-03-14",
          "2003-05-17",
          "2003-07-23",
          "2004-01-01",
          "2005-09-25",
          "2007-01-01",
          "2007-03-22",
          "2007-08-06",
          "2007-12-01",
          "2008-06-21",
          "2009-04-24",
          "2009-09-12",
          "2010-01-01",
          "2010-01-01",
          "2011-03-24",
          "2011-11-19",
          "2012-03-02",
          "2012-08-23",
          "2013-01-04",
          "2013-09-19",
          "2013-09-20",
          "2014-06-03",
          "2015-01-06",
          "2015-07-20",
          "2015-12-12",
          "2015-12-18",
          "2016-04-22",
          "2016-09-02",
          "2016-10-14",
          "2017-12-07",
          "2018-07-03",
          "2019-01-26",
          "2020-10-08",
          "2021-11-25"
         ],
         "xaxis": "x",
         "y": [
          6.1,
          4.7,
          5.7,
          5.9,
          5.5,
          6,
          5,
          6.2,
          5.3,
          6.8,
          4.5,
          6.2,
          4.3,
          5.3,
          5.9,
          5.4,
          6.4,
          5.7,
          6.6,
          4.9,
          4.9,
          5.5,
          4.6,
          5.5,
          4.8,
          6.1,
          6.6,
          6,
          6.3,
          5.3,
          7.1,
          5.1,
          3.5,
          5.6,
          5.4,
          5.3,
          3.9,
          7.1,
          5,
          4.9,
          5.2,
          4.2,
          6.7,
          4,
          4.6,
          6,
          5.9,
          5.6,
          6.3,
          4.7,
          5.7,
          6.3,
          3.7,
          4.9,
          5.8,
          6.8,
          6.3,
          4.4,
          4.7,
          5.3,
          7.4,
          3.1,
          5.5,
          5.3,
          7
         ],
         "yaxis": "y"
        }
       ],
       "layout": {
        "legend": {
         "tracegroupgap": 0
        },
        "shapes": [
         {
          "fillcolor": "rgba(255, 255, 100, 0.5)",
          "layer": "below",
          "line": {
           "width": 0
          },
          "opacity": 0.5,
          "type": "rect",
          "x0": "1984-12-26",
          "x1": "2002-12-22",
          "y0": 0,
          "y1": 11
         },
         {
          "fillcolor": "rgba(255, 165, 0, 0.5)",
          "layer": "below",
          "line": {
           "width": 0
          },
          "opacity": 0.5,
          "type": "rect",
          "x0": "2002-12-22",
          "x1": "2021-11-25",
          "y0": 0,
          "y1": 11
         }
        ],
        "template": {
         "data": {
          "bar": [
           {
            "error_x": {
             "color": "#2a3f5f"
            },
            "error_y": {
             "color": "#2a3f5f"
            },
            "marker": {
             "line": {
              "color": "#E5ECF6",
              "width": 0.5
             },
             "pattern": {
              "fillmode": "overlay",
              "size": 10,
              "solidity": 0.2
             }
            },
            "type": "bar"
           }
          ],
          "barpolar": [
           {
            "marker": {
             "line": {
              "color": "#E5ECF6",
              "width": 0.5
             },
             "pattern": {
              "fillmode": "overlay",
              "size": 10,
              "solidity": 0.2
             }
            },
            "type": "barpolar"
           }
          ],
          "carpet": [
           {
            "aaxis": {
             "endlinecolor": "#2a3f5f",
             "gridcolor": "white",
             "linecolor": "white",
             "minorgridcolor": "white",
             "startlinecolor": "#2a3f5f"
            },
            "baxis": {
             "endlinecolor": "#2a3f5f",
             "gridcolor": "white",
             "linecolor": "white",
             "minorgridcolor": "white",
             "startlinecolor": "#2a3f5f"
            },
            "type": "carpet"
           }
          ],
          "choropleth": [
           {
            "colorbar": {
             "outlinewidth": 0,
             "ticks": ""
            },
            "type": "choropleth"
           }
          ],
          "contour": [
           {
            "colorbar": {
             "outlinewidth": 0,
             "ticks": ""
            },
            "colorscale": [
             [
              0,
              "#0d0887"
             ],
             [
              0.1111111111111111,
              "#46039f"
             ],
             [
              0.2222222222222222,
              "#7201a8"
             ],
             [
              0.3333333333333333,
              "#9c179e"
             ],
             [
              0.4444444444444444,
              "#bd3786"
             ],
             [
              0.5555555555555556,
              "#d8576b"
             ],
             [
              0.6666666666666666,
              "#ed7953"
             ],
             [
              0.7777777777777778,
              "#fb9f3a"
             ],
             [
              0.8888888888888888,
              "#fdca26"
             ],
             [
              1,
              "#f0f921"
             ]
            ],
            "type": "contour"
           }
          ],
          "contourcarpet": [
           {
            "colorbar": {
             "outlinewidth": 0,
             "ticks": ""
            },
            "type": "contourcarpet"
           }
          ],
          "heatmap": [
           {
            "colorbar": {
             "outlinewidth": 0,
             "ticks": ""
            },
            "colorscale": [
             [
              0,
              "#0d0887"
             ],
             [
              0.1111111111111111,
              "#46039f"
             ],
             [
              0.2222222222222222,
              "#7201a8"
             ],
             [
              0.3333333333333333,
              "#9c179e"
             ],
             [
              0.4444444444444444,
              "#bd3786"
             ],
             [
              0.5555555555555556,
              "#d8576b"
             ],
             [
              0.6666666666666666,
              "#ed7953"
             ],
             [
              0.7777777777777778,
              "#fb9f3a"
             ],
             [
              0.8888888888888888,
              "#fdca26"
             ],
             [
              1,
              "#f0f921"
             ]
            ],
            "type": "heatmap"
           }
          ],
          "heatmapgl": [
           {
            "colorbar": {
             "outlinewidth": 0,
             "ticks": ""
            },
            "colorscale": [
             [
              0,
              "#0d0887"
             ],
             [
              0.1111111111111111,
              "#46039f"
             ],
             [
              0.2222222222222222,
              "#7201a8"
             ],
             [
              0.3333333333333333,
              "#9c179e"
             ],
             [
              0.4444444444444444,
              "#bd3786"
             ],
             [
              0.5555555555555556,
              "#d8576b"
             ],
             [
              0.6666666666666666,
              "#ed7953"
             ],
             [
              0.7777777777777778,
              "#fb9f3a"
             ],
             [
              0.8888888888888888,
              "#fdca26"
             ],
             [
              1,
              "#f0f921"
             ]
            ],
            "type": "heatmapgl"
           }
          ],
          "histogram": [
           {
            "marker": {
             "pattern": {
              "fillmode": "overlay",
              "size": 10,
              "solidity": 0.2
             }
            },
            "type": "histogram"
           }
          ],
          "histogram2d": [
           {
            "colorbar": {
             "outlinewidth": 0,
             "ticks": ""
            },
            "colorscale": [
             [
              0,
              "#0d0887"
             ],
             [
              0.1111111111111111,
              "#46039f"
             ],
             [
              0.2222222222222222,
              "#7201a8"
             ],
             [
              0.3333333333333333,
              "#9c179e"
             ],
             [
              0.4444444444444444,
              "#bd3786"
             ],
             [
              0.5555555555555556,
              "#d8576b"
             ],
             [
              0.6666666666666666,
              "#ed7953"
             ],
             [
              0.7777777777777778,
              "#fb9f3a"
             ],
             [
              0.8888888888888888,
              "#fdca26"
             ],
             [
              1,
              "#f0f921"
             ]
            ],
            "type": "histogram2d"
           }
          ],
          "histogram2dcontour": [
           {
            "colorbar": {
             "outlinewidth": 0,
             "ticks": ""
            },
            "colorscale": [
             [
              0,
              "#0d0887"
             ],
             [
              0.1111111111111111,
              "#46039f"
             ],
             [
              0.2222222222222222,
              "#7201a8"
             ],
             [
              0.3333333333333333,
              "#9c179e"
             ],
             [
              0.4444444444444444,
              "#bd3786"
             ],
             [
              0.5555555555555556,
              "#d8576b"
             ],
             [
              0.6666666666666666,
              "#ed7953"
             ],
             [
              0.7777777777777778,
              "#fb9f3a"
             ],
             [
              0.8888888888888888,
              "#fdca26"
             ],
             [
              1,
              "#f0f921"
             ]
            ],
            "type": "histogram2dcontour"
           }
          ],
          "mesh3d": [
           {
            "colorbar": {
             "outlinewidth": 0,
             "ticks": ""
            },
            "type": "mesh3d"
           }
          ],
          "parcoords": [
           {
            "line": {
             "colorbar": {
              "outlinewidth": 0,
              "ticks": ""
             }
            },
            "type": "parcoords"
           }
          ],
          "pie": [
           {
            "automargin": true,
            "type": "pie"
           }
          ],
          "scatter": [
           {
            "fillpattern": {
             "fillmode": "overlay",
             "size": 10,
             "solidity": 0.2
            },
            "type": "scatter"
           }
          ],
          "scatter3d": [
           {
            "line": {
             "colorbar": {
              "outlinewidth": 0,
              "ticks": ""
             }
            },
            "marker": {
             "colorbar": {
              "outlinewidth": 0,
              "ticks": ""
             }
            },
            "type": "scatter3d"
           }
          ],
          "scattercarpet": [
           {
            "marker": {
             "colorbar": {
              "outlinewidth": 0,
              "ticks": ""
             }
            },
            "type": "scattercarpet"
           }
          ],
          "scattergeo": [
           {
            "marker": {
             "colorbar": {
              "outlinewidth": 0,
              "ticks": ""
             }
            },
            "type": "scattergeo"
           }
          ],
          "scattergl": [
           {
            "marker": {
             "colorbar": {
              "outlinewidth": 0,
              "ticks": ""
             }
            },
            "type": "scattergl"
           }
          ],
          "scattermapbox": [
           {
            "marker": {
             "colorbar": {
              "outlinewidth": 0,
              "ticks": ""
             }
            },
            "type": "scattermapbox"
           }
          ],
          "scatterpolar": [
           {
            "marker": {
             "colorbar": {
              "outlinewidth": 0,
              "ticks": ""
             }
            },
            "type": "scatterpolar"
           }
          ],
          "scatterpolargl": [
           {
            "marker": {
             "colorbar": {
              "outlinewidth": 0,
              "ticks": ""
             }
            },
            "type": "scatterpolargl"
           }
          ],
          "scatterternary": [
           {
            "marker": {
             "colorbar": {
              "outlinewidth": 0,
              "ticks": ""
             }
            },
            "type": "scatterternary"
           }
          ],
          "surface": [
           {
            "colorbar": {
             "outlinewidth": 0,
             "ticks": ""
            },
            "colorscale": [
             [
              0,
              "#0d0887"
             ],
             [
              0.1111111111111111,
              "#46039f"
             ],
             [
              0.2222222222222222,
              "#7201a8"
             ],
             [
              0.3333333333333333,
              "#9c179e"
             ],
             [
              0.4444444444444444,
              "#bd3786"
             ],
             [
              0.5555555555555556,
              "#d8576b"
             ],
             [
              0.6666666666666666,
              "#ed7953"
             ],
             [
              0.7777777777777778,
              "#fb9f3a"
             ],
             [
              0.8888888888888888,
              "#fdca26"
             ],
             [
              1,
              "#f0f921"
             ]
            ],
            "type": "surface"
           }
          ],
          "table": [
           {
            "cells": {
             "fill": {
              "color": "#EBF0F8"
             },
             "line": {
              "color": "white"
             }
            },
            "header": {
             "fill": {
              "color": "#C8D4E3"
             },
             "line": {
              "color": "white"
             }
            },
            "type": "table"
           }
          ]
         },
         "layout": {
          "annotationdefaults": {
           "arrowcolor": "#2a3f5f",
           "arrowhead": 0,
           "arrowwidth": 1
          },
          "autotypenumbers": "strict",
          "coloraxis": {
           "colorbar": {
            "outlinewidth": 0,
            "ticks": ""
           }
          },
          "colorscale": {
           "diverging": [
            [
             0,
             "#8e0152"
            ],
            [
             0.1,
             "#c51b7d"
            ],
            [
             0.2,
             "#de77ae"
            ],
            [
             0.3,
             "#f1b6da"
            ],
            [
             0.4,
             "#fde0ef"
            ],
            [
             0.5,
             "#f7f7f7"
            ],
            [
             0.6,
             "#e6f5d0"
            ],
            [
             0.7,
             "#b8e186"
            ],
            [
             0.8,
             "#7fbc41"
            ],
            [
             0.9,
             "#4d9221"
            ],
            [
             1,
             "#276419"
            ]
           ],
           "sequential": [
            [
             0,
             "#0d0887"
            ],
            [
             0.1111111111111111,
             "#46039f"
            ],
            [
             0.2222222222222222,
             "#7201a8"
            ],
            [
             0.3333333333333333,
             "#9c179e"
            ],
            [
             0.4444444444444444,
             "#bd3786"
            ],
            [
             0.5555555555555556,
             "#d8576b"
            ],
            [
             0.6666666666666666,
             "#ed7953"
            ],
            [
             0.7777777777777778,
             "#fb9f3a"
            ],
            [
             0.8888888888888888,
             "#fdca26"
            ],
            [
             1,
             "#f0f921"
            ]
           ],
           "sequentialminus": [
            [
             0,
             "#0d0887"
            ],
            [
             0.1111111111111111,
             "#46039f"
            ],
            [
             0.2222222222222222,
             "#7201a8"
            ],
            [
             0.3333333333333333,
             "#9c179e"
            ],
            [
             0.4444444444444444,
             "#bd3786"
            ],
            [
             0.5555555555555556,
             "#d8576b"
            ],
            [
             0.6666666666666666,
             "#ed7953"
            ],
            [
             0.7777777777777778,
             "#fb9f3a"
            ],
            [
             0.8888888888888888,
             "#fdca26"
            ],
            [
             1,
             "#f0f921"
            ]
           ]
          },
          "colorway": [
           "#636efa",
           "#EF553B",
           "#00cc96",
           "#ab63fa",
           "#FFA15A",
           "#19d3f3",
           "#FF6692",
           "#B6E880",
           "#FF97FF",
           "#FECB52"
          ],
          "font": {
           "color": "#2a3f5f"
          },
          "geo": {
           "bgcolor": "white",
           "lakecolor": "white",
           "landcolor": "#E5ECF6",
           "showlakes": true,
           "showland": true,
           "subunitcolor": "white"
          },
          "hoverlabel": {
           "align": "left"
          },
          "hovermode": "closest",
          "mapbox": {
           "style": "light"
          },
          "paper_bgcolor": "white",
          "plot_bgcolor": "#E5ECF6",
          "polar": {
           "angularaxis": {
            "gridcolor": "white",
            "linecolor": "white",
            "ticks": ""
           },
           "bgcolor": "#E5ECF6",
           "radialaxis": {
            "gridcolor": "white",
            "linecolor": "white",
            "ticks": ""
           }
          },
          "scene": {
           "xaxis": {
            "backgroundcolor": "#E5ECF6",
            "gridcolor": "white",
            "gridwidth": 2,
            "linecolor": "white",
            "showbackground": true,
            "ticks": "",
            "zerolinecolor": "white"
           },
           "yaxis": {
            "backgroundcolor": "#E5ECF6",
            "gridcolor": "white",
            "gridwidth": 2,
            "linecolor": "white",
            "showbackground": true,
            "ticks": "",
            "zerolinecolor": "white"
           },
           "zaxis": {
            "backgroundcolor": "#E5ECF6",
            "gridcolor": "white",
            "gridwidth": 2,
            "linecolor": "white",
            "showbackground": true,
            "ticks": "",
            "zerolinecolor": "white"
           }
          },
          "shapedefaults": {
           "line": {
            "color": "#2a3f5f"
           }
          },
          "ternary": {
           "aaxis": {
            "gridcolor": "white",
            "linecolor": "white",
            "ticks": ""
           },
           "baxis": {
            "gridcolor": "white",
            "linecolor": "white",
            "ticks": ""
           },
           "bgcolor": "#E5ECF6",
           "caxis": {
            "gridcolor": "white",
            "linecolor": "white",
            "ticks": ""
           }
          },
          "title": {
           "x": 0.05
          },
          "xaxis": {
           "automargin": true,
           "gridcolor": "white",
           "linecolor": "white",
           "ticks": "",
           "title": {
            "standoff": 15
           },
           "zerolinecolor": "white",
           "zerolinewidth": 2
          },
          "yaxis": {
           "automargin": true,
           "gridcolor": "white",
           "linecolor": "white",
           "ticks": "",
           "title": {
            "standoff": 15
           },
           "zerolinecolor": "white",
           "zerolinewidth": 2
          }
         }
        },
        "title": {
         "text": "Career Evolution based on Movie Ratings for Actor A.C. Peterson"
        },
        "xaxis": {
         "anchor": "y",
         "domain": [
          0,
          1
         ],
         "range": [
          "1961-12-05",
          "2024-07-30"
         ],
         "title": {
          "text": "Release Year"
         }
        },
        "yaxis": {
         "anchor": "x",
         "domain": [
          0,
          1
         ],
         "title": {
          "text": "IMDb Rating"
         }
        }
       }
      }
     },
     "metadata": {},
     "output_type": "display_data"
    },
    {
     "data": {
      "application/vnd.plotly.v1+json": {
       "config": {
        "plotlyServerURL": "https://plot.ly"
       },
       "data": [
        {
         "customdata": [
          [
           "大小黄天霸",
           7
          ],
          [
           "秦香蓮",
           3
          ],
          [
           "大醉俠",
           43
          ],
          [
           "荒江女俠",
           13
          ],
          [
           "刀不留人",
           9
          ],
          [
           "鬼怒川",
           9
          ],
          [
           "精武門",
           19
          ],
          [
           "Dang kou tan",
           10
          ],
          [
           "合氣道",
           11
          ],
          [
           "唐人客",
           7
          ],
          [
           "黑店",
           8
          ],
          [
           "埋伏",
           13
          ],
          [
           "顶天立地",
           1
          ],
          [
           "麒麟掌",
           6
          ],
          [
           "码头大决斗",
           10
          ],
          [
           "刁手怪招",
           0
          ],
          [
           "北地胭脂",
           4
          ],
          [
           "女警察",
           5
          ],
          [
           "铁娃",
           11
          ],
          [
           "石破天惊",
           11
          ],
          [
           "Enter the Dragon",
           14
          ],
          [
           "Chu Ba",
           8
          ],
          [
           "Crash! Che botte... strippo strappo stroppio",
           13
          ],
          [
           "Kung Fu Killers",
           12
          ],
          [
           "惡虎村",
           12
          ],
          [
           "金瓶雙艷",
           10
          ],
          [
           "花飛滿城春",
           3
          ],
          [
           "拍案驚奇",
           0
          ],
          [
           "Jin mao shi wang",
           4
          ],
          [
           "密宗聖手",
           8
          ],
          [
           "新精武門",
           0
          ],
          [
           "少林門",
           2
          ],
          [
           "風雨雙流星",
           0
          ],
          [
           "少林木人巷",
           0
          ],
          [
           "三十六迷形拳",
           0
          ],
          [
           "Long she xia ying",
           4
          ],
          [
           "劍花煙雨江南",
           0
          ],
          [
           "黑帶恨",
           0
          ],
          [
           "蛇形刁手",
           0
          ],
          [
           "蛇鶴八步",
           0
          ],
          [
           "飛渡捲雲山",
           0
          ],
          [
           "招半式闖江湖",
           0
          ],
          [
           "醉拳",
           0
          ],
          [
           "拳精",
           0
          ],
          [
           "笑拳怪招",
           0
          ],
          [
           "龍拳",
           0
          ],
          [
           "師弟出馬",
           0
          ],
          [
           "The Big Brawl",
           0
          ],
          [
           "The Cannonball Run",
           9
          ],
          [
           "龍少爺",
           0
          ],
          [
           "伊賀忍法帖",
           11
          ],
          [
           "迷你特攻隊",
           0
          ],
          [
           "龍騰虎躍",
           0
          ],
          [
           "奇謀妙計五福星",
           6
          ],
          [
           "A計劃",
           0
          ],
          [
           "Zhi zun shen tou",
           4
          ],
          [
           "Bruce Lee: The Legend",
           5
          ],
          [
           "神勇雙響炮",
           19
          ],
          [
           "Cannonball Run II",
           12
          ],
          [
           "快餐車",
           0
          ],
          [
           "福星高照",
           1
          ],
          [
           "The Protector",
           0
          ],
          [
           "夏日福星",
           6
          ],
          [
           "龍的心",
           0
          ],
          [
           "警察故事",
           0
          ],
          [
           "扭計雜牌軍",
           18
          ],
          [
           "龍兄虎弟",
           0
          ],
          [
           "A計劃續集",
           0
          ],
          [
           "飛龍猛將",
           0
          ],
          [
           "警察故事續集",
           0
          ],
          [
           "奇蹟",
           0
          ],
          [
           "The Best of the Martial Arts Films",
           2
          ],
          [
           "火燒島",
           1
          ],
          [
           "飛鷹計劃",
           0
          ],
          [
           "Bruce Lee and Kung Fu Mania",
           1
          ],
          [
           "西藏小子",
           4
          ],
          [
           "双龙会",
           0
          ],
          [
           "警察故事 III：超級警察",
           0
          ],
          [
           "城市獵人",
           0
          ],
          [
           "重案組",
           0
          ],
          [
           "超級警察2",
           12
          ],
          [
           "The Life of Bruce Lee",
           1
          ],
          [
           "醉拳二",
           0
          ],
          [
           "紅番區",
           0
          ],
          [
           "Top Fighter",
           1
          ],
          [
           "Eastern Heroes: The Video Magazine - Volume 1",
           1
          ],
          [
           "霹靂火",
           0
          ],
          [
           "警察故事4之簡單任務",
           0
          ],
          [
           "Jackie Chan - From Stuntman to Superstar",
           0
          ],
          [
           "Top Fighter 2",
           16
          ],
          [
           "一個好人",
           0
          ],
          [
           "The Path of the Dragon",
           1
          ],
          [
           "我是誰",
           0
          ],
          [
           "An Alan Smithee Film: Burn, Hollywood, Burn",
           6
          ],
          [
           "Bruce Lee: In His Own Words",
           1
          ],
          [
           "成龍的傳奇",
           0
          ],
          [
           "Masters of the Martial Arts Presented by Wesley Snipes",
           1
          ],
          [
           "Rush Hour",
           0
          ],
          [
           "Bruce Lee: The Legend Lives On",
           1
          ],
          [
           "喜劇之王",
           14
          ],
          [
           "玻璃樽",
           0
          ],
          [
           "成龍的特技",
           0
          ],
          [
           "特警新人類",
           8
          ],
          [
           "Augustin, roi du kung-fu",
           4
          ],
          [
           "Shanghai Noon",
           0
          ],
          [
           "Bruce Lee: A Warrior's Journey",
           1
          ],
          [
           "Hong Kong Superstars",
           1
          ],
          [
           "Jackie Chan's Hong Kong Tour",
           0
          ],
          [
           "特務迷城",
           0
          ],
          [
           "Rush Hour 2",
           0
          ],
          [
           "The Unbeatable Bruce Lee",
           1
          ],
          [
           "Ultimate Fights from the Movies",
           1
          ],
          [
           "The Art of Action: Martial Arts in the Movies",
           1
          ],
          [
           "The Tuxedo",
           0
          ],
          [
           "Jackie Chan: Fast, Funny and Furious",
           0
          ],
          [
           "金雞",
           12
          ],
          [
           "Chop Socky: Cinema Hong Kong",
           0
          ],
          [
           "Shanghai Knights",
           0
          ],
          [
           "千機變",
           4
          ],
          [
           "The Medallion",
           0
          ],
          [
           "Traces of a Dragon: Jackie Chan & His Lost Family",
           0
          ],
          [
           "金雞2",
           14
          ],
          [
           "大佬愛美麗",
           13
          ],
          [
           "Around the World in 80 Days",
           0
          ],
          [
           "千機變II花都大戰",
           11
          ],
          [
           "新警察故事",
           0
          ],
          [
           "神話",
           0
          ],
          [
           "四大天王",
           3
          ],
          [
           "寶貝計劃",
           0
          ],
          [
           "Rush Hour 3",
           0
          ],
          [
           "A Touch of Beijing",
           0
          ],
          [
           "The Forbidden Kingdom",
           0
          ],
          [
           "Kung Fu Panda",
           4
          ],
          [
           "2008年第29届北京奥运会闭幕式",
           9
          ],
          [
           "新宿事件",
           0
          ],
          [
           "How Bruce Lee Changed the World",
           1
          ],
          [
           "Xun zhao Cheng Long",
           1
          ],
          [
           "建国大业",
           8
          ],
          [
           "世博總動員: 世博冠軍湖絲仔",
           0
          ],
          [
           "The Spy Next Door",
           0
          ],
          [
           "大兵小将",
           0
          ],
          [
           "The Karate Kid",
           1
          ],
          [
           "Kung Fu Panda Holiday",
           9
          ],
          [
           "新少林寺",
           3
          ],
          [
           "Kung Fu Panda 2",
           4
          ],
          [
           "辛亥革命",
           0
          ],
          [
           "Final Cut: Hölgyeim és uraim",
           10
          ],
          [
           "I Am Bruce Lee",
           13
          ],
          [
           "十二生肖",
           0
          ],
          [
           "私人订制",
           7
          ],
          [
           "警察故事2013",
           0
          ],
          [
           "救火英雄",
           9
          ],
          [
           "緣來是遊戲",
           14
          ],
          [
           "天將雄師",
           0
          ],
          [
           "西游记之大圣归来",
           8
          ],
          [
           "Kung Fu Panda 3",
           5
          ],
          [
           "我們的那時．此刻",
           2
          ],
          [
           "Skiptrace",
           0
          ],
          [
           "The Master: A LEGO Ninjago Short",
           0
          ],
          [
           "铁道飞虎",
           0
          ],
          [
           "功夫瑜伽",
           0
          ],
          [
           "Earth: One Amazing Day",
           1
          ],
          [
           "The Nut Job 2: Nutty by Nature",
           10
          ],
          [
           "WildAid: Jackie Chan & Pangolins",
           0
          ],
          [
           "The Lego Ninjago Movie",
           8
          ],
          [
           "The Foreigner",
           1
          ],
          [
           "机器之血",
           0
          ],
          [
           "解忧杂货店",
           0
          ],
          [
           "神探蒲松齡",
           0
          ],
          [
           "Iron Fists and Kung Fu Kicks",
           58
          ],
          [
           "Тайна печати Дракона",
           1
          ],
          [
           "攀登者",
           8
          ],
          [
           "急先锋",
           0
          ],
          [
           "Wish Dragon",
           37
          ],
          [
           "總是有愛在隔離",
           3
          ],
          [
           "Jackie Chan - Humour, gloire et kung-fu",
           0
          ],
          [
           "曾经相爱的我们",
           5
          ],
          [
           "龙马精神",
           0
          ],
          [
           "Hidden Strike",
           0
          ],
          [
           "Teenage Mutant Ninja Turtles: Mutant Mayhem",
           11
          ]
         ],
         "hovertemplate": "Release Year=%{x}<br>IMDb Rating=%{y}<br>Movie name=%{customdata[0]}<br>Order=%{customdata[1]}<extra></extra>",
         "legendgroup": "",
         "marker": {
          "color": [
           null,
           "yellowgreen",
           null,
           null,
           null,
           null,
           null,
           null,
           null,
           null,
           null,
           null,
           "red",
           null,
           null,
           "red",
           "yellowgreen",
           "yellowgreen",
           null,
           null,
           null,
           null,
           null,
           null,
           null,
           null,
           "yellowgreen",
           "red",
           "yellowgreen",
           null,
           "red",
           "yellowgreen",
           "red",
           "red",
           "red",
           "yellowgreen",
           "red",
           "red",
           "red",
           "red",
           "red",
           "red",
           "red",
           "red",
           "red",
           "red",
           "red",
           "red",
           null,
           "red",
           null,
           "red",
           "red",
           null,
           "red",
           "yellowgreen",
           "yellowgreen",
           null,
           null,
           "red",
           "red",
           "red",
           null,
           "red",
           "red",
           null,
           "red",
           "red",
           "red",
           "red",
           "red",
           "yellowgreen",
           "red",
           "red",
           "red",
           "yellowgreen",
           "red",
           "red",
           "red",
           "red",
           null,
           "red",
           "red",
           "red",
           "red",
           "red",
           "red",
           "red",
           "red",
           null,
           "red",
           "red",
           "red",
           null,
           "red",
           "red",
           "red",
           "red",
           "red",
           null,
           "red",
           "red",
           null,
           "yellowgreen",
           "red",
           "red",
           "red",
           "red",
           "red",
           "red",
           "red",
           "red",
           "red",
           "red",
           "red",
           null,
           "red",
           "red",
           "yellowgreen",
           "red",
           "red",
           null,
           null,
           "red",
           null,
           "red",
           "red",
           "yellowgreen",
           "red",
           "red",
           "red",
           "red",
           "yellowgreen",
           null,
           "red",
           "red",
           "red",
           null,
           "red",
           "red",
           "red",
           "red",
           null,
           "yellowgreen",
           "yellowgreen",
           "red",
           null,
           null,
           "red",
           null,
           "red",
           null,
           null,
           "red",
           null,
           "yellowgreen",
           "yellowgreen",
           "red",
           "red",
           "red",
           "red",
           "red",
           null,
           "red",
           null,
           "red",
           "red",
           "red",
           "red",
           null,
           "red",
           null,
           "red",
           null,
           "yellowgreen",
           "red",
           "yellowgreen",
           "red",
           "red",
           null
          ],
          "symbol": "circle"
         },
         "mode": "markers",
         "name": "",
         "orientation": "v",
         "showlegend": false,
         "type": "scatter",
         "x": [
          "1962-12-05",
          "1964-07-18",
          "1966-04-07",
          "1970-02-27",
          "1971-04-30",
          "1971-05-12",
          "1972-03-22",
          "1972-05-17",
          "1972-10-01",
          "1972-10-04",
          "1972-12-16",
          "1973-01-05",
          "1973-01-12",
          "1973-03-01",
          "1973-03-05",
          "1973-03-31",
          "1973-04-05",
          "1973-04-26",
          "1973-05-09",
          "1973-05-23",
          "1973-08-17",
          "1973-09-01",
          "1973-11-29",
          "1974-01-01",
          "1974-01-12",
          "1974-01-17",
          "1975-02-08",
          "1975-12-05",
          "1975-12-21",
          "1976-02-20",
          "1976-07-08",
          "1976-07-15",
          "1976-08-21",
          "1976-10-10",
          "1977-01-01",
          "1977-05-13",
          "1977-07-22",
          "1978-01-01",
          "1978-03-01",
          "1978-03-08",
          "1978-04-27",
          "1978-06-30",
          "1978-10-05",
          "1978-11-23",
          "1979-02-17",
          "1979-04-21",
          "1980-02-09",
          "1980-08-18",
          "1981-06-19",
          "1982-01-21",
          "1982-12-18",
          "1983-02-13",
          "1983-03-04",
          "1983-07-07",
          "1983-12-22",
          "1984-01-01",
          "1984-01-01",
          "1984-02-22",
          "1984-06-29",
          "1984-08-17",
          "1985-02-10",
          "1985-07-10",
          "1985-08-15",
          "1985-09-14",
          "1985-12-14",
          "1986-07-25",
          "1986-08-16",
          "1987-08-19",
          "1988-02-11",
          "1988-08-13",
          "1989-06-15",
          "1990-01-01",
          "1990-03-28",
          "1991-02-07",
          "1992-01-01",
          "1992-01-10",
          "1992-01-15",
          "1992-07-04",
          "1993-01-01",
          "1993-06-24",
          "1993-10-21",
          "1994-01-01",
          "1994-02-03",
          "1995-01-21",
          "1995-06-15",
          "1995-07-22",
          "1995-09-08",
          "1996-02-10",
          "1996-08-30",
          "1996-09-10",
          "1997-01-31",
          "1998-01-01",
          "1998-01-17",
          "1998-02-20",
          "1998-07-01",
          "1998-07-17",
          "1998-08-18",
          "1998-09-18",
          "1999-01-01",
          "1999-02-08",
          "1999-02-12",
          "1999-03-30",
          "1999-06-18",
          "1999-08-25",
          "2000-05-26",
          "2000-10-22",
          "2001-01-01",
          "2001-01-01",
          "2001-01-18",
          "2001-08-03",
          "2001-12-18",
          "2002-04-16",
          "2002-06-01",
          "2002-09-27",
          "2002-12-10",
          "2002-12-26",
          "2003-01-01",
          "2003-02-06",
          "2003-03-08",
          "2003-08-15",
          "2003-08-22",
          "2003-12-24",
          "2004-04-08",
          "2004-06-16",
          "2004-08-12",
          "2004-09-23",
          "2005-05-11",
          "2006-04-05",
          "2006-09-28",
          "2007-08-08",
          "2008-01-01",
          "2008-04-18",
          "2008-06-04",
          "2008-08-24",
          "2009-03-22",
          "2009-05-17",
          "2009-07-03",
          "2009-09-17",
          "2010-01-01",
          "2010-01-15",
          "2010-02-14",
          "2010-06-10",
          "2010-11-26",
          "2011-01-20",
          "2011-05-25",
          "2011-07-03",
          "2012-02-04",
          "2012-02-09",
          "2012-12-20",
          "2013-12-20",
          "2013-12-24",
          "2014-01-02",
          "2014-05-23",
          "2015-02-19",
          "2015-07-10",
          "2016-01-23",
          "2016-03-04",
          "2016-07-21",
          "2016-09-22",
          "2016-12-23",
          "2017-01-27",
          "2017-08-04",
          "2017-08-11",
          "2017-08-22",
          "2017-09-21",
          "2017-09-28",
          "2017-12-18",
          "2017-12-29",
          "2019-02-05",
          "2019-08-14",
          "2019-08-16",
          "2019-09-30",
          "2020-09-30",
          "2021-01-15",
          "2021-04-22",
          "2021-08-04",
          "2021-12-10",
          "2023-04-07",
          "2023-07-06",
          "2023-07-31"
         ],
         "xaxis": "x",
         "y": [
          5.6,
          6.9,
          6.9,
          6.2,
          6.3,
          5.9,
          7.2,
          5.6,
          6.8,
          4.9,
          7.3,
          6.5,
          4.3,
          6.3,
          5.1,
          5.2,
          5.9,
          3.6,
          5.9,
          5.6,
          7.6,
          5.5,
          4.4,
          6.6,
          5.8,
          5.7,
          5.3,
          6.5,
          6.3,
          6.1,
          5.5,
          6,
          4.9,
          6.4,
          5,
          5.5,
          5.3,
          5.7,
          7.3,
          6.4,
          5.6,
          5.6,
          7.4,
          5.8,
          6.6,
          6.1,
          7.1,
          5.7,
          6.2,
          6.3,
          5.7,
          4.5,
          5,
          6.6,
          7.3,
          4,
          7.1,
          6.1,
          5,
          7,
          6.3,
          5.7,
          6.2,
          6.3,
          7.5,
          5.7,
          6.9,
          7,
          7.1,
          7.1,
          6.9,
          7.1,
          5.7,
          7.2,
          6.7,
          6,
          6.4,
          6.9,
          6.3,
          6.7,
          6.1,
          7.1,
          7.5,
          6.7,
          6.2,
          8.2,
          6.3,
          6.6,
          5.2,
          6.8,
          6.2,
          6.5,
          6.8,
          3.5,
          6.6,
          6.8,
          6.6,
          7,
          7.3,
          7.2,
          6,
          7.6,
          5.9,
          6.5,
          6.6,
          8,
          7.6,
          6.7,
          5.8,
          6.7,
          7.1,
          6,
          6.7,
          5.4,
          6.5,
          7.1,
          7.1,
          6.2,
          5.5,
          5.2,
          7,
          6.4,
          5.5,
          5.8,
          4.8,
          6.9,
          6.1,
          6.8,
          6.6,
          6.2,
          8.3,
          6.5,
          7.6,
          6,
          6.9,
          7.7,
          3.9,
          4.9,
          3.6,
          5.4,
          6.9,
          6.2,
          6.7,
          6.8,
          7.2,
          5.7,
          8,
          7.4,
          6,
          5.2,
          5.9,
          6.2,
          6.7,
          5.9,
          6.7,
          7.1,
          7.2,
          5.6,
          6.1,
          5.8,
          5.2,
          7.8,
          5.5,
          5.8,
          6,
          7,
          5.1,
          5.1,
          4.9,
          6.7,
          4.7,
          5.5,
          4.7,
          7.2,
          4.6,
          6.1,
          5.2,
          6.3,
          5.3,
          7.2
         ],
         "yaxis": "y"
        }
       ],
       "layout": {
        "legend": {
         "tracegroupgap": 0
        },
        "shapes": [
         {
          "fillcolor": "rgba(255, 255, 100, 0.5)",
          "layer": "below",
          "line": {
           "width": 0
          },
          "opacity": 0.5,
          "type": "rect",
          "x0": "1962-12-05",
          "x1": "1982-11-30",
          "y0": 0,
          "y1": 11
         },
         {
          "fillcolor": "rgba(255, 165, 0, 0.5)",
          "layer": "below",
          "line": {
           "width": 0
          },
          "opacity": 0.5,
          "type": "rect",
          "x0": "1982-11-30",
          "x1": "2002-11-25",
          "y0": 0,
          "y1": 11
         },
         {
          "fillcolor": "rgba(240, 128, 128, 0.5)",
          "layer": "below",
          "line": {
           "width": 0
          },
          "opacity": 0.5,
          "type": "rect",
          "x0": "2002-11-25",
          "x1": "2023-07-31",
          "y0": 0,
          "y1": 11
         }
        ],
        "template": {
         "data": {
          "bar": [
           {
            "error_x": {
             "color": "#2a3f5f"
            },
            "error_y": {
             "color": "#2a3f5f"
            },
            "marker": {
             "line": {
              "color": "#E5ECF6",
              "width": 0.5
             },
             "pattern": {
              "fillmode": "overlay",
              "size": 10,
              "solidity": 0.2
             }
            },
            "type": "bar"
           }
          ],
          "barpolar": [
           {
            "marker": {
             "line": {
              "color": "#E5ECF6",
              "width": 0.5
             },
             "pattern": {
              "fillmode": "overlay",
              "size": 10,
              "solidity": 0.2
             }
            },
            "type": "barpolar"
           }
          ],
          "carpet": [
           {
            "aaxis": {
             "endlinecolor": "#2a3f5f",
             "gridcolor": "white",
             "linecolor": "white",
             "minorgridcolor": "white",
             "startlinecolor": "#2a3f5f"
            },
            "baxis": {
             "endlinecolor": "#2a3f5f",
             "gridcolor": "white",
             "linecolor": "white",
             "minorgridcolor": "white",
             "startlinecolor": "#2a3f5f"
            },
            "type": "carpet"
           }
          ],
          "choropleth": [
           {
            "colorbar": {
             "outlinewidth": 0,
             "ticks": ""
            },
            "type": "choropleth"
           }
          ],
          "contour": [
           {
            "colorbar": {
             "outlinewidth": 0,
             "ticks": ""
            },
            "colorscale": [
             [
              0,
              "#0d0887"
             ],
             [
              0.1111111111111111,
              "#46039f"
             ],
             [
              0.2222222222222222,
              "#7201a8"
             ],
             [
              0.3333333333333333,
              "#9c179e"
             ],
             [
              0.4444444444444444,
              "#bd3786"
             ],
             [
              0.5555555555555556,
              "#d8576b"
             ],
             [
              0.6666666666666666,
              "#ed7953"
             ],
             [
              0.7777777777777778,
              "#fb9f3a"
             ],
             [
              0.8888888888888888,
              "#fdca26"
             ],
             [
              1,
              "#f0f921"
             ]
            ],
            "type": "contour"
           }
          ],
          "contourcarpet": [
           {
            "colorbar": {
             "outlinewidth": 0,
             "ticks": ""
            },
            "type": "contourcarpet"
           }
          ],
          "heatmap": [
           {
            "colorbar": {
             "outlinewidth": 0,
             "ticks": ""
            },
            "colorscale": [
             [
              0,
              "#0d0887"
             ],
             [
              0.1111111111111111,
              "#46039f"
             ],
             [
              0.2222222222222222,
              "#7201a8"
             ],
             [
              0.3333333333333333,
              "#9c179e"
             ],
             [
              0.4444444444444444,
              "#bd3786"
             ],
             [
              0.5555555555555556,
              "#d8576b"
             ],
             [
              0.6666666666666666,
              "#ed7953"
             ],
             [
              0.7777777777777778,
              "#fb9f3a"
             ],
             [
              0.8888888888888888,
              "#fdca26"
             ],
             [
              1,
              "#f0f921"
             ]
            ],
            "type": "heatmap"
           }
          ],
          "heatmapgl": [
           {
            "colorbar": {
             "outlinewidth": 0,
             "ticks": ""
            },
            "colorscale": [
             [
              0,
              "#0d0887"
             ],
             [
              0.1111111111111111,
              "#46039f"
             ],
             [
              0.2222222222222222,
              "#7201a8"
             ],
             [
              0.3333333333333333,
              "#9c179e"
             ],
             [
              0.4444444444444444,
              "#bd3786"
             ],
             [
              0.5555555555555556,
              "#d8576b"
             ],
             [
              0.6666666666666666,
              "#ed7953"
             ],
             [
              0.7777777777777778,
              "#fb9f3a"
             ],
             [
              0.8888888888888888,
              "#fdca26"
             ],
             [
              1,
              "#f0f921"
             ]
            ],
            "type": "heatmapgl"
           }
          ],
          "histogram": [
           {
            "marker": {
             "pattern": {
              "fillmode": "overlay",
              "size": 10,
              "solidity": 0.2
             }
            },
            "type": "histogram"
           }
          ],
          "histogram2d": [
           {
            "colorbar": {
             "outlinewidth": 0,
             "ticks": ""
            },
            "colorscale": [
             [
              0,
              "#0d0887"
             ],
             [
              0.1111111111111111,
              "#46039f"
             ],
             [
              0.2222222222222222,
              "#7201a8"
             ],
             [
              0.3333333333333333,
              "#9c179e"
             ],
             [
              0.4444444444444444,
              "#bd3786"
             ],
             [
              0.5555555555555556,
              "#d8576b"
             ],
             [
              0.6666666666666666,
              "#ed7953"
             ],
             [
              0.7777777777777778,
              "#fb9f3a"
             ],
             [
              0.8888888888888888,
              "#fdca26"
             ],
             [
              1,
              "#f0f921"
             ]
            ],
            "type": "histogram2d"
           }
          ],
          "histogram2dcontour": [
           {
            "colorbar": {
             "outlinewidth": 0,
             "ticks": ""
            },
            "colorscale": [
             [
              0,
              "#0d0887"
             ],
             [
              0.1111111111111111,
              "#46039f"
             ],
             [
              0.2222222222222222,
              "#7201a8"
             ],
             [
              0.3333333333333333,
              "#9c179e"
             ],
             [
              0.4444444444444444,
              "#bd3786"
             ],
             [
              0.5555555555555556,
              "#d8576b"
             ],
             [
              0.6666666666666666,
              "#ed7953"
             ],
             [
              0.7777777777777778,
              "#fb9f3a"
             ],
             [
              0.8888888888888888,
              "#fdca26"
             ],
             [
              1,
              "#f0f921"
             ]
            ],
            "type": "histogram2dcontour"
           }
          ],
          "mesh3d": [
           {
            "colorbar": {
             "outlinewidth": 0,
             "ticks": ""
            },
            "type": "mesh3d"
           }
          ],
          "parcoords": [
           {
            "line": {
             "colorbar": {
              "outlinewidth": 0,
              "ticks": ""
             }
            },
            "type": "parcoords"
           }
          ],
          "pie": [
           {
            "automargin": true,
            "type": "pie"
           }
          ],
          "scatter": [
           {
            "fillpattern": {
             "fillmode": "overlay",
             "size": 10,
             "solidity": 0.2
            },
            "type": "scatter"
           }
          ],
          "scatter3d": [
           {
            "line": {
             "colorbar": {
              "outlinewidth": 0,
              "ticks": ""
             }
            },
            "marker": {
             "colorbar": {
              "outlinewidth": 0,
              "ticks": ""
             }
            },
            "type": "scatter3d"
           }
          ],
          "scattercarpet": [
           {
            "marker": {
             "colorbar": {
              "outlinewidth": 0,
              "ticks": ""
             }
            },
            "type": "scattercarpet"
           }
          ],
          "scattergeo": [
           {
            "marker": {
             "colorbar": {
              "outlinewidth": 0,
              "ticks": ""
             }
            },
            "type": "scattergeo"
           }
          ],
          "scattergl": [
           {
            "marker": {
             "colorbar": {
              "outlinewidth": 0,
              "ticks": ""
             }
            },
            "type": "scattergl"
           }
          ],
          "scattermapbox": [
           {
            "marker": {
             "colorbar": {
              "outlinewidth": 0,
              "ticks": ""
             }
            },
            "type": "scattermapbox"
           }
          ],
          "scatterpolar": [
           {
            "marker": {
             "colorbar": {
              "outlinewidth": 0,
              "ticks": ""
             }
            },
            "type": "scatterpolar"
           }
          ],
          "scatterpolargl": [
           {
            "marker": {
             "colorbar": {
              "outlinewidth": 0,
              "ticks": ""
             }
            },
            "type": "scatterpolargl"
           }
          ],
          "scatterternary": [
           {
            "marker": {
             "colorbar": {
              "outlinewidth": 0,
              "ticks": ""
             }
            },
            "type": "scatterternary"
           }
          ],
          "surface": [
           {
            "colorbar": {
             "outlinewidth": 0,
             "ticks": ""
            },
            "colorscale": [
             [
              0,
              "#0d0887"
             ],
             [
              0.1111111111111111,
              "#46039f"
             ],
             [
              0.2222222222222222,
              "#7201a8"
             ],
             [
              0.3333333333333333,
              "#9c179e"
             ],
             [
              0.4444444444444444,
              "#bd3786"
             ],
             [
              0.5555555555555556,
              "#d8576b"
             ],
             [
              0.6666666666666666,
              "#ed7953"
             ],
             [
              0.7777777777777778,
              "#fb9f3a"
             ],
             [
              0.8888888888888888,
              "#fdca26"
             ],
             [
              1,
              "#f0f921"
             ]
            ],
            "type": "surface"
           }
          ],
          "table": [
           {
            "cells": {
             "fill": {
              "color": "#EBF0F8"
             },
             "line": {
              "color": "white"
             }
            },
            "header": {
             "fill": {
              "color": "#C8D4E3"
             },
             "line": {
              "color": "white"
             }
            },
            "type": "table"
           }
          ]
         },
         "layout": {
          "annotationdefaults": {
           "arrowcolor": "#2a3f5f",
           "arrowhead": 0,
           "arrowwidth": 1
          },
          "autotypenumbers": "strict",
          "coloraxis": {
           "colorbar": {
            "outlinewidth": 0,
            "ticks": ""
           }
          },
          "colorscale": {
           "diverging": [
            [
             0,
             "#8e0152"
            ],
            [
             0.1,
             "#c51b7d"
            ],
            [
             0.2,
             "#de77ae"
            ],
            [
             0.3,
             "#f1b6da"
            ],
            [
             0.4,
             "#fde0ef"
            ],
            [
             0.5,
             "#f7f7f7"
            ],
            [
             0.6,
             "#e6f5d0"
            ],
            [
             0.7,
             "#b8e186"
            ],
            [
             0.8,
             "#7fbc41"
            ],
            [
             0.9,
             "#4d9221"
            ],
            [
             1,
             "#276419"
            ]
           ],
           "sequential": [
            [
             0,
             "#0d0887"
            ],
            [
             0.1111111111111111,
             "#46039f"
            ],
            [
             0.2222222222222222,
             "#7201a8"
            ],
            [
             0.3333333333333333,
             "#9c179e"
            ],
            [
             0.4444444444444444,
             "#bd3786"
            ],
            [
             0.5555555555555556,
             "#d8576b"
            ],
            [
             0.6666666666666666,
             "#ed7953"
            ],
            [
             0.7777777777777778,
             "#fb9f3a"
            ],
            [
             0.8888888888888888,
             "#fdca26"
            ],
            [
             1,
             "#f0f921"
            ]
           ],
           "sequentialminus": [
            [
             0,
             "#0d0887"
            ],
            [
             0.1111111111111111,
             "#46039f"
            ],
            [
             0.2222222222222222,
             "#7201a8"
            ],
            [
             0.3333333333333333,
             "#9c179e"
            ],
            [
             0.4444444444444444,
             "#bd3786"
            ],
            [
             0.5555555555555556,
             "#d8576b"
            ],
            [
             0.6666666666666666,
             "#ed7953"
            ],
            [
             0.7777777777777778,
             "#fb9f3a"
            ],
            [
             0.8888888888888888,
             "#fdca26"
            ],
            [
             1,
             "#f0f921"
            ]
           ]
          },
          "colorway": [
           "#636efa",
           "#EF553B",
           "#00cc96",
           "#ab63fa",
           "#FFA15A",
           "#19d3f3",
           "#FF6692",
           "#B6E880",
           "#FF97FF",
           "#FECB52"
          ],
          "font": {
           "color": "#2a3f5f"
          },
          "geo": {
           "bgcolor": "white",
           "lakecolor": "white",
           "landcolor": "#E5ECF6",
           "showlakes": true,
           "showland": true,
           "subunitcolor": "white"
          },
          "hoverlabel": {
           "align": "left"
          },
          "hovermode": "closest",
          "mapbox": {
           "style": "light"
          },
          "paper_bgcolor": "white",
          "plot_bgcolor": "#E5ECF6",
          "polar": {
           "angularaxis": {
            "gridcolor": "white",
            "linecolor": "white",
            "ticks": ""
           },
           "bgcolor": "#E5ECF6",
           "radialaxis": {
            "gridcolor": "white",
            "linecolor": "white",
            "ticks": ""
           }
          },
          "scene": {
           "xaxis": {
            "backgroundcolor": "#E5ECF6",
            "gridcolor": "white",
            "gridwidth": 2,
            "linecolor": "white",
            "showbackground": true,
            "ticks": "",
            "zerolinecolor": "white"
           },
           "yaxis": {
            "backgroundcolor": "#E5ECF6",
            "gridcolor": "white",
            "gridwidth": 2,
            "linecolor": "white",
            "showbackground": true,
            "ticks": "",
            "zerolinecolor": "white"
           },
           "zaxis": {
            "backgroundcolor": "#E5ECF6",
            "gridcolor": "white",
            "gridwidth": 2,
            "linecolor": "white",
            "showbackground": true,
            "ticks": "",
            "zerolinecolor": "white"
           }
          },
          "shapedefaults": {
           "line": {
            "color": "#2a3f5f"
           }
          },
          "ternary": {
           "aaxis": {
            "gridcolor": "white",
            "linecolor": "white",
            "ticks": ""
           },
           "baxis": {
            "gridcolor": "white",
            "linecolor": "white",
            "ticks": ""
           },
           "bgcolor": "#E5ECF6",
           "caxis": {
            "gridcolor": "white",
            "linecolor": "white",
            "ticks": ""
           }
          },
          "title": {
           "x": 0.05
          },
          "xaxis": {
           "automargin": true,
           "gridcolor": "white",
           "linecolor": "white",
           "ticks": "",
           "title": {
            "standoff": 15
           },
           "zerolinecolor": "white",
           "zerolinewidth": 2
          },
          "yaxis": {
           "automargin": true,
           "gridcolor": "white",
           "linecolor": "white",
           "ticks": "",
           "title": {
            "standoff": 15
           },
           "zerolinecolor": "white",
           "zerolinewidth": 2
          }
         }
        },
        "title": {
         "text": "Career Evolution based on Movie Ratings for Actor Jackie Chan"
        },
        "xaxis": {
         "anchor": "y",
         "domain": [
          0,
          1
         ],
         "range": [
          "1961-12-05",
          "2024-07-30"
         ],
         "title": {
          "text": "Release Year"
         }
        },
        "yaxis": {
         "anchor": "x",
         "domain": [
          0,
          1
         ],
         "title": {
          "text": "IMDb Rating"
         }
        }
       }
      }
     },
     "metadata": {},
     "output_type": "display_data"
    }
   ],
   "source": [
    "# Example plots\n",
    "actor_names = ['Zoe Lister-Jones', 'A.C. Peterson', 'Jackie Chan']\n",
    "actor_ids = [full_actors_df[full_actors_df['name'] == name]['actor_id'].iloc[0] for name in actor_names]\n",
    "\n",
    "first_release_date, last_release_date = get_release_dates(actor_names, full_actors_df)\n",
    "\n",
    "plot_movies_ratings_1(actor_ids[0], first_release_date, last_release_date)\n",
    "plot_movies_ratings_2(actor_ids[1], first_release_date, last_release_date)\n",
    "plot_movies_ratings_3(actor_ids[2], first_release_date, last_release_date)"
   ]
  }
 ],
 "metadata": {
  "kernelspec": {
   "display_name": "base",
   "language": "python",
   "name": "python3"
  },
  "language_info": {
   "codemirror_mode": {
    "name": "ipython",
    "version": 3
   },
   "file_extension": ".py",
   "mimetype": "text/x-python",
   "name": "python",
   "nbconvert_exporter": "python",
   "pygments_lexer": "ipython3",
   "version": "3.10.13"
  }
 },
 "nbformat": 4,
 "nbformat_minor": 2
}
