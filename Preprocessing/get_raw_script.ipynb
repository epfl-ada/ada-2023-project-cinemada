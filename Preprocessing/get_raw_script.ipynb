{
 "cells": [
  {
   "cell_type": "markdown",
   "id": "38b768ec-810b-4b7c-9aaf-3ac91f24ce38",
   "metadata": {},
   "source": [
    "# Lead role preprocessing\n",
    "\n",
    "A very important piece of information to validate our hypothesis, but one that is very difficult to obtain, is the importance of the actors' roles within each movie. To get reliable information on this, we looked at the free public data available and found the script data for the most directly relevant movies. Our goal is to compute how much of a role each character plays, given the movie plot data we have and the names of the characters in each movie. As a first step, we prepared a script that would be our gold label, from which we calculated the percentage of each character in the movie. We used this script and mapped it to the plot to train and validate our AI model.\n",
    "\n",
    "## 1. Script crawling\n",
    "\n",
    "To crawl the scripts, we selected https://imsdb.com and wrote a crawler for it. As the site is very old, the templates between the script documents are very different, and the crawling difficulty is high.\n",
    "\n",
    "### A. Downloading the scripts\n",
    " \n",
    "```bash\n",
    "python Preprocessing/script_crawling/get_script_urls.py\n",
    "```\n",
    "Running the script above will produce scripts_urls.json, which contains meta information of urls we are going to crawl."
   ]
  },
  {
   "cell_type": "code",
   "execution_count": 245,
   "id": "147e901a-dd1a-44f1-b4d1-29c2320dbef0",
   "metadata": {
    "tags": []
   },
   "outputs": [],
   "source": [
    "import os\n",
    "from tqdm.notebook import tqdm\n",
    "import json\n",
    "from collections import defaultdict\n",
    "import re\n",
    "import pandas as pd\n",
    "from pathlib import Path\n",
    "root_path = Path('../')"
   ]
  },
  {
   "cell_type": "code",
   "execution_count": 370,
   "id": "2678d516-3ba5-4b62-955c-0d1d0b956a03",
   "metadata": {
    "tags": []
   },
   "outputs": [
    {
     "name": "stdout",
     "output_type": "stream",
     "text": [
      "Total number of script: 1187\n",
      "Scripts with release date field : 641 \n",
      "\twith script date field: 677 \n"
     ]
    }
   ],
   "source": [
    "scripts_urls= json.load(open('scripts_urls.json'))\n",
    "print(f\"Total number of script: {len(scripts_urls)}\")\n",
    "print(f\"Scripts with release date field : {len([ x for x in scripts_urls if 'release_date' in x])} \")\n",
    "print(f\"\\twith script date field: {len([ x for x in scripts_urls if 'script_date' in x])} \")"
   ]
  },
  {
   "cell_type": "markdown",
   "id": "9e1370ea-fd2d-4025-9b07-890ec07432c9",
   "metadata": {},
   "source": [
    "Since our movie data doens't have any movie identifier, it's release date is very important feature to map movie with tmdb data with high accuracy.\n",
    "\n",
    "Running **download_scripts.py** will produce url2pairs.json, which has beautifulsoup object that contain complex web component including our target scripts."
   ]
  },
  {
   "cell_type": "code",
   "execution_count": 13,
   "id": "4011fbbb-5f81-45ae-8f31-5dee402b5cab",
   "metadata": {
    "tags": []
   },
   "outputs": [],
   "source": [
    "url2pairs = json.load(open('url2pairs.json'))"
   ]
  },
  {
   "cell_type": "markdown",
   "id": "73c2e3d0-559d-44b3-8fca-cd080cdff4d3",
   "metadata": {},
   "source": [
    "### B. Mapping TMDB Movie id by using movie name, year\n",
    "\n",
    "```bash\n",
    "python Preprocessing/script_crawling/scripts_tmdb_matching.py\n",
    "```\n",
    "Run above code will generate mapping of movies to TMDB, *scripts_urls.json*. TMDB search API will retuen several movies when we send the movie name as query. Among the results, we eliminated all but one sample that exactly fulfills the year condition. If released_year exists, use it as top prioroty. If not, pick closer to script_date, but after script_date.\n",
    "\n",
    "After matching by strict rules, in order to expand our dataset, we labeled 104 unmatched data by checking movie plot and actor's name by human labor. About 127 samples are ambigous to match or hard to find corresponding movie. In total, we could get 1060 scripts with reliable TMDB_id mapping."
   ]
  },
  {
   "cell_type": "code",
   "execution_count": 110,
   "id": "8dcd3baa-3711-4dc3-9abd-a35bcf91b0a6",
   "metadata": {
    "tags": []
   },
   "outputs": [],
   "source": [
    "manual_matching = json.load(open('manual_matching.json')) # Handcrafted Mapping. Was so painful.."
   ]
  },
  {
   "cell_type": "code",
   "execution_count": 197,
   "id": "085f409f-6cf2-4a1d-b597-25a5b15e2606",
   "metadata": {
    "tags": []
   },
   "outputs": [],
   "source": [
    "scripts_urls = json.load(open('tmdb_matched_scripts_urls.json','w')) # total 1060 sample matched."
   ]
  },
  {
   "cell_type": "markdown",
   "id": "3250bedc-95b5-4459-8431-40bfc3569162",
   "metadata": {
    "tags": []
   },
   "source": [
    "### C. Matching movie plots by TMDB_id\n",
    "```bash\n",
    "python Preprocessing/movie_plot_join.py\n",
    "```\n",
    "Executing the script above will produce *tmdb_id2plot.json*, a mapper with the movie plot from diverse sources and tmdb_id.\n",
    "we have three major sources for the movie plots.\n",
    "1. Our original CMU plot data. https://www.cs.cmu.edu/~ark/personas/\n",
    "2. MPST movie plot. https://www.kaggle.com/datasets/cryptexcode/mpst-movie-plot-synopses-with-tags\n",
    "3. Wikipedia movie plot. https://www.kaggle.com/datasets/jrobischon/wikipedia-movie-plots\n",
    "\n",
    "CMU data has freedase id, MPST data has imdb id, and wikipedia plot has only the name. So the priority is MPST > CMU > Wikipedia plot. We primary used MPST and CMU for mapping, and from wikiplot, we only used one-one strict string matching for movie name since it doesn't have strong identifier. In total, we could obtain 1041 movie plots. Only 19 scripts are removed.\n",
    "\n",
    "- valid matching by mpst: 942\n",
    "- valid matching by cmu: 917\n",
    "- additional backups from wiki data : 30\n",
    "- We have total : 1041"
   ]
  },
  {
   "cell_type": "code",
   "execution_count": 372,
   "id": "4ba3e476-3060-4127-babe-456034923ceb",
   "metadata": {
    "tags": []
   },
   "outputs": [],
   "source": [
    "tmdb_id2plot = json.load(open('tmdb_id2plot.json'))"
   ]
  },
  {
   "cell_type": "markdown",
   "id": "6d0fbe58-572a-4b44-9e35-4420a2aa733b",
   "metadata": {
    "jupyter": {
     "outputs_hidden": true
    },
    "tags": []
   },
   "source": [
    "## Step 3. Parsing character's script\n",
    "Strategy : map script's speaker to tmdb character list."
   ]
  },
  {
   "cell_type": "markdown",
   "id": "13d06d75-b770-48f9-a33e-e1ac88aa1a2a",
   "metadata": {},
   "source": [
    "#### Classification rule\n",
    "**Count the number of space or '\\t' in front of the line.**\n",
    "\n",
    "Assumption : **same type of instruction will share same indent in a single script.**"
   ]
  },
  {
   "cell_type": "markdown",
   "id": "988bedda-9299-47d6-8c0d-325643375da3",
   "metadata": {},
   "source": [
    "Final schema of matched scripts\n",
    "```json\n",
    "tmdb_id2matched_scripts = {\n",
    "    tmdb_id: {\n",
    "        'scripts': [{\n",
    "            'tmdb_credit': tmdb_credit_obj,\n",
    "            'portion': float,\n",
    "            'spoken_syllables': int,\n",
    "            'num_script': int,\n",
    "            'script_text': {\n",
    "                1: \"1st script. order starts from 1.\",\n",
    "                }\n",
    "            }\n",
    "        ],\n",
    "        'statistics': {\n",
    "            'total_spoken_syllables': int,\n",
    "            'total_spoken_words': int,\n",
    "            'original_character_count': int,\n",
    "            'matched_character_count': int,\n",
    "        },\n",
    "        'url': str\n",
    "    }\n",
    "}\n",
    "```"
   ]
  },
  {
   "cell_type": "markdown",
   "id": "792572e9-8122-41b0-904a-9ee3650e8eb2",
   "metadata": {},
   "source": [
    "## Step 4. Calculating each character's share of the overall script\n",
    "Estimate speaking time by the number of syllables in each sentense.\n"
   ]
  },
  {
   "cell_type": "markdown",
   "id": "67403647-2ad9-4f09-a5dc-966181601f6b",
   "metadata": {},
   "source": [
    "# Training model\n",
    "## 1. Training Setting (Problem Definition)\n",
    "Input: f\"Estimate the portion of {character} in float form from this plot:{plot}\"\n",
    "\n",
    "Output: float(0~1)\n"
   ]
  },
  {
   "cell_type": "code",
   "execution_count": 2,
   "id": "64931b7b-cf9b-4e8b-a308-b7851b52458c",
   "metadata": {
    "tags": []
   },
   "outputs": [
    {
     "name": "stdout",
     "output_type": "stream",
     "text": [
      "Total script num: 942\n",
      "Total actors num: 13760\n"
     ]
    }
   ],
   "source": [
    "import json\n",
    "tmdb_id2matched_scripts = json.load(open('tmdb_id2matched_scripts.json'))\n",
    "tmdb_id2plot = json.load(open('tmdb_id2plot.json'))\n",
    "print(f\"Total script num: {len(tmdb_id2matched_scripts.keys())}\")\n",
    "print(f\"Total actors num: {sum([len(x['scripts']) for x in tmdb_id2matched_scripts.values()])}\")"
   ]
  },
  {
   "cell_type": "markdown",
   "id": "bd63b697-abfb-42d1-adfb-2b4246c74a5f",
   "metadata": {},
   "source": [
    "split train : eval : test = 8:1:1"
   ]
  },
  {
   "cell_type": "code",
   "execution_count": 380,
   "id": "c431cbe4-9454-4af7-a933-f439ab24e666",
   "metadata": {
    "tags": []
   },
   "outputs": [
    {
     "name": "stdout",
     "output_type": "stream",
     "text": [
      "Train Set: 11668\n",
      "\tUnique docs: 709\n",
      "\n",
      "Evaluation Set: 792\n",
      "\tUnique docs: 94\n",
      "\n",
      "Test Set: 791\n",
      "\tUnique docs: 94\n",
      "\n"
     ]
    }
   ],
   "source": [
    "scripts_in_sets = json.load(open('plot_portion_dataset.json'))\n",
    "for k, v in scripts_in_sets.items():\n",
    "    print(f\"{k.title()} Set: {len(v)}\\n\\tUnique docs: {len(list(set([i['tmdb_id'] for i in v])))}\\n\")"
   ]
  },
  {
   "cell_type": "markdown",
   "id": "040c1a8d-21de-490c-a8de-a80a790477c6",
   "metadata": {},
   "source": [
    "## 2. Implement LLM models benchmark\n",
    "### a. Fine-tuning T5\n",
    "- T5-large : Trainable. \n",
    "\n",
    "with T5-large, we finetuned t5-large model on total 11668 datapoint for one epoch.\n",
    "```python\n",
    "f\"Predict the percentage of a movie's plot that a character takes up.\\nCharacter: {character_name} \\nPlot: {plot}\"\n",
    "```\n",
    "We released our model on huggingface. https://huggingface.co/Hyeongdon/t5-large-character_plot_portion\n",
    "\n",
    "\n",
    "### b. Instruction tuned-LLM\n",
    "\n",
    "API inference available:\n",
    "- ChatGPT-3.5\n",
    "- ChatGPT-4\n",
    "\n",
    "While chatGPT, force model generation with json format and request estimate the portion of all characters at once. In case of chatgpt failure, when it does not return value for requested field, replace it with linear regression model predicted output.\n",
    "\n",
    "To compare with \n",
    "```python\n",
    "prompt = f\"\"\"Estimate the percentage of the script that each character represents from the movie plot.\n",
    "[Characters]: {characters_str}\n",
    "[Plot]: {eval_tmdb_id2s[tmdb_id][0]['plot']}\n",
    "\n",
    "Estimate the percentage of the script that each character represents from the movie plot mentioned above. Return the portion of every character in a JSON dictionary, with the character name as key and portion as value.\"\"\"\n",
    "```\n",
    "\n",
    "\n",
    "### c. Heuristic baseline\n",
    "- order field in tmdb_credit: the order in credit data of tbdb correlates with his/her importance. \n",
    "- linear regression tuned on order: Fit simple linear regression with order as single feature.\n",
    "- counting character_name on plot\n",
    "\n",
    "Obtained Simple Linear regression models\n",
    "```python\n",
    "def get_portion_by_order_logscale(order):\n",
    "    return np.power(np.e, 0.7756578 - 0.04791 * order)\n",
    "\n",
    "def get_portion_by_order(order):\n",
    "    return max(5.689275 - 0.122673 * order, 0.001)\n",
    "```\n",
    "\n",
    "## 3. Comparison and Model selection\n",
    "For the fare comparison of the model, all model's output would be scaled to make sum of all portions in single plot would be 100.\n",
    "```bash\n",
    "Preprocessing/evaluation_models.py\n",
    "```\n",
    "Running the script above will generate *validation_pred.json* file, which contain all model output for our validation set.\n",
    "Correlation with gold label, accuracy and f1 score for leading role prediction of threshould 10% will be used as evaluation crietria."
   ]
  },
  {
   "cell_type": "code",
   "execution_count": 360,
   "id": "ea482c3b-cf3a-48a9-894e-65b6cbae3d79",
   "metadata": {
    "tags": []
   },
   "outputs": [
    {
     "data": {
      "text/html": [
       "<div>\n",
       "<style scoped>\n",
       "    .dataframe tbody tr th:only-of-type {\n",
       "        vertical-align: middle;\n",
       "    }\n",
       "\n",
       "    .dataframe tbody tr th {\n",
       "        vertical-align: top;\n",
       "    }\n",
       "\n",
       "    .dataframe thead th {\n",
       "        text-align: right;\n",
       "    }\n",
       "</style>\n",
       "<table border=\"1\" class=\"dataframe\">\n",
       "  <thead>\n",
       "    <tr style=\"text-align: right;\">\n",
       "      <th></th>\n",
       "      <th>linear</th>\n",
       "      <th>log-linear</th>\n",
       "      <th>tmdb_order</th>\n",
       "      <th>T5-large</th>\n",
       "      <th>ChatGPT-3.5</th>\n",
       "      <th>ChatGPT-4</th>\n",
       "      <th>Y</th>\n",
       "    </tr>\n",
       "  </thead>\n",
       "  <tbody>\n",
       "    <tr>\n",
       "      <th>Y</th>\n",
       "      <td>0.372206</td>\n",
       "      <td>0.486409</td>\n",
       "      <td>-0.307976</td>\n",
       "      <td>0.7577</td>\n",
       "      <td>0.777683</td>\n",
       "      <td>0.828316</td>\n",
       "      <td>1.0</td>\n",
       "    </tr>\n",
       "  </tbody>\n",
       "</table>\n",
       "</div>"
      ],
      "text/plain": [
       "     linear  log-linear  tmdb_order  T5-large  ChatGPT-3.5  ChatGPT-4    Y\n",
       "Y  0.372206    0.486409   -0.307976    0.7577     0.777683   0.828316  1.0"
      ]
     },
     "execution_count": 360,
     "metadata": {},
     "output_type": "execute_result"
    }
   ],
   "source": [
    "validation_pred = json.load(open('validation_pred.json'))\n",
    "corr_dict = defaultdict(list)\n",
    "for v in validation_set:\n",
    "    for model, lookup in validation_pred.items():\n",
    "        corr_dict[model].append(lookup[v['tmdb_id']][str(v['character_id'])])\n",
    "    corr_dict['Y'].append(v['portion'])\n",
    "pd.DataFrame(corr_dict).corr()[['Y']].T"
   ]
  },
  {
   "cell_type": "code",
   "execution_count": 383,
   "id": "300cb406-983d-4b37-9c53-5e77cf5e25ed",
   "metadata": {
    "tags": []
   },
   "outputs": [],
   "source": [
    "import pandas as pd\n",
    "import seaborn as sns\n",
    "import matplotlib.pyplot as plt\n",
    "import numpy as np\n",
    "from sklearn.metrics import accuracy_score, f1_score, roc_auc_score\n",
    "\n",
    "result_dict = corr_dict.copy()\n",
    "def classify_scores(scores):\n",
    "    return [1 if score > 10 else 0 for score in scores]\n",
    "\n",
    "for k,v in result_dict.items():\n",
    "    result_dict[k] = classify_scores(v)\n",
    "\n",
    "Models = []\n",
    "ACC = []\n",
    "F1 = []\n",
    "AUC = []\n",
    "for model_name, model_predictions in result_dict.items():\n",
    "    if model_name not in  ['Y','tmdb_order']:\n",
    "        Models.append(model_name)\n",
    "        ACC.append(accuracy_score(result_dict['Y'], model_predictions))\n",
    "        F1.append(f1_score(result_dict['Y'], model_predictions))\n",
    "        AUC.append(roc_auc_score(y_true_classified, model_predictions))"
   ]
  },
  {
   "cell_type": "code",
   "execution_count": 387,
   "id": "4214f90b-3aa7-4520-83fb-6e3d489dc876",
   "metadata": {
    "tags": []
   },
   "outputs": [
    {
     "data": {
      "image/png": "[encoded data removed]",
      "text/plain": [
       "<Figure size 1200x800 with 1 Axes>"
      ]
     },
     "metadata": {},
     "output_type": "display_data"
    }
   ],
   "source": [
    "data = {\n",
    "    'Accuracy': ACC,\n",
    "    'F1 Score': F1,\n",
    "    'AUC': AUC,\n",
    "    'Model': Models\n",
    "}\n",
    "\n",
    "df = pd.DataFrame(data)\n",
    "df = df.melt(id_vars='Model', var_name='Metric', value_name='Score')\n",
    "\n",
    "plt.figure(figsize=(12, 8))\n",
    "sns.barplot(data=df, x='Model', y='Score', hue='Metric')\n",
    "\n",
    "plt.title('Performance of Different ML Models')\n",
    "plt.xlabel('Models')\n",
    "plt.ylabel('Scores')\n",
    "\n",
    "plt.legend(title='Metric')\n",
    "plt.tight_layout()\n",
    "plt.show()"
   ]
  },
  {
   "cell_type": "code",
   "execution_count": null,
   "id": "c9aeb55a-8626-493d-a395-053b3c53ddd8",
   "metadata": {},
   "outputs": [],
   "source": []
  }
 ],
 "metadata": {
  "kernelspec": {
   "display_name": "Python 3 (ipykernel)",
   "language": "python",
   "name": "python3"
  },
  "language_info": {
   "codemirror_mode": {
    "name": "ipython",
    "version": 3
   },
   "file_extension": ".py",
   "mimetype": "text/x-python",
   "name": "python",
   "nbconvert_exporter": "python",
   "pygments_lexer": "ipython3",
   "version": "3.11.5"
  }
 },
 "nbformat": 4,
 "nbformat_minor": 5
}
