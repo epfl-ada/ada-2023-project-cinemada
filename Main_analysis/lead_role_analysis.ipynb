{
 "cells": [
  {
   "cell_type": "code",
   "execution_count": 13,
   "metadata": {},
   "outputs": [],
   "source": [
    "import pandas as pd\n",
    "import numpy as np\n",
    "import matplotlib.pyplot as plt\n",
    "import seaborn as sns\n",
    "import ast\n",
    "from scipy.stats import gaussian_kde"
   ]
  },
  {
   "cell_type": "code",
   "execution_count": 14,
   "metadata": {},
   "outputs": [],
   "source": [
    "char_df = pd.read_csv('..\\Data\\preprocessed_data\\char_with_roles_filtered.csv')"
   ]
  },
  {
   "cell_type": "code",
   "execution_count": 15,
   "metadata": {},
   "outputs": [
    {
     "data": {
      "text/html": [
       "<div>\n",
       "<style scoped>\n",
       "    .dataframe tbody tr th:only-of-type {\n",
       "        vertical-align: middle;\n",
       "    }\n",
       "\n",
       "    .dataframe tbody tr th {\n",
       "        vertical-align: top;\n",
       "    }\n",
       "\n",
       "    .dataframe thead th {\n",
       "        text-align: right;\n",
       "    }\n",
       "</style>\n",
       "<table border=\"1\" class=\"dataframe\">\n",
       "  <thead>\n",
       "    <tr style=\"text-align: right;\">\n",
       "      <th></th>\n",
       "      <th>Wiki ID</th>\n",
       "      <th>movie ID</th>\n",
       "      <th>release date</th>\n",
       "      <th>char name</th>\n",
       "      <th>DOB</th>\n",
       "      <th>gender</th>\n",
       "      <th>heght</th>\n",
       "      <th>ethnicity</th>\n",
       "      <th>actor name</th>\n",
       "      <th>actor age</th>\n",
       "      <th>map ID</th>\n",
       "      <th>char ID</th>\n",
       "      <th>actor ID</th>\n",
       "      <th>role</th>\n",
       "    </tr>\n",
       "  </thead>\n",
       "  <tbody>\n",
       "    <tr>\n",
       "      <th>0</th>\n",
       "      <td>975900</td>\n",
       "      <td>/m/03vyhn</td>\n",
       "      <td>2001-08-24</td>\n",
       "      <td>Akooshay</td>\n",
       "      <td>1958-08-26</td>\n",
       "      <td>F</td>\n",
       "      <td>1.620</td>\n",
       "      <td>NaN</td>\n",
       "      <td>Wanda De Jesus</td>\n",
       "      <td>42.0</td>\n",
       "      <td>/m/0bgchxw</td>\n",
       "      <td>/m/0bgcj3x</td>\n",
       "      <td>/m/03wcfv7</td>\n",
       "      <td>0</td>\n",
       "    </tr>\n",
       "    <tr>\n",
       "      <th>1</th>\n",
       "      <td>975900</td>\n",
       "      <td>/m/03vyhn</td>\n",
       "      <td>2001-08-24</td>\n",
       "      <td>Lieutenant Melanie Ballard</td>\n",
       "      <td>1974-08-15</td>\n",
       "      <td>F</td>\n",
       "      <td>1.780</td>\n",
       "      <td>/m/044038p</td>\n",
       "      <td>Natasha Henstridge</td>\n",
       "      <td>27.0</td>\n",
       "      <td>/m/0jys3m</td>\n",
       "      <td>/m/0bgchn4</td>\n",
       "      <td>/m/0346l4</td>\n",
       "      <td>8</td>\n",
       "    </tr>\n",
       "    <tr>\n",
       "      <th>2</th>\n",
       "      <td>975900</td>\n",
       "      <td>/m/03vyhn</td>\n",
       "      <td>2001-08-24</td>\n",
       "      <td>Desolation Williams</td>\n",
       "      <td>1969-06-15</td>\n",
       "      <td>M</td>\n",
       "      <td>1.727</td>\n",
       "      <td>/m/0x67</td>\n",
       "      <td>Ice Cube</td>\n",
       "      <td>32.0</td>\n",
       "      <td>/m/0jys3g</td>\n",
       "      <td>/m/0bgchn_</td>\n",
       "      <td>/m/01vw26l</td>\n",
       "      <td>4</td>\n",
       "    </tr>\n",
       "    <tr>\n",
       "      <th>3</th>\n",
       "      <td>975900</td>\n",
       "      <td>/m/03vyhn</td>\n",
       "      <td>2001-08-24</td>\n",
       "      <td>Sgt Jericho Butler</td>\n",
       "      <td>1967-09-12</td>\n",
       "      <td>M</td>\n",
       "      <td>1.750</td>\n",
       "      <td>NaN</td>\n",
       "      <td>Jason Statham</td>\n",
       "      <td>33.0</td>\n",
       "      <td>/m/02vchl6</td>\n",
       "      <td>/m/0bgchnq</td>\n",
       "      <td>/m/034hyc</td>\n",
       "      <td>3</td>\n",
       "    </tr>\n",
       "    <tr>\n",
       "      <th>4</th>\n",
       "      <td>975900</td>\n",
       "      <td>/m/03vyhn</td>\n",
       "      <td>2001-08-24</td>\n",
       "      <td>Bashira Kincaid</td>\n",
       "      <td>1977-09-25</td>\n",
       "      <td>F</td>\n",
       "      <td>1.650</td>\n",
       "      <td>NaN</td>\n",
       "      <td>Clea DuVall</td>\n",
       "      <td>23.0</td>\n",
       "      <td>/m/02vbb3r</td>\n",
       "      <td>/m/0bgchp9</td>\n",
       "      <td>/m/01y9xg</td>\n",
       "      <td>0</td>\n",
       "    </tr>\n",
       "  </tbody>\n",
       "</table>\n",
       "</div>"
      ],
      "text/plain": [
       "   Wiki ID   movie ID release date                   char name         DOB  \\\n",
       "0   975900  /m/03vyhn   2001-08-24                    Akooshay  1958-08-26   \n",
       "1   975900  /m/03vyhn   2001-08-24  Lieutenant Melanie Ballard  1974-08-15   \n",
       "2   975900  /m/03vyhn   2001-08-24         Desolation Williams  1969-06-15   \n",
       "3   975900  /m/03vyhn   2001-08-24          Sgt Jericho Butler  1967-09-12   \n",
       "4   975900  /m/03vyhn   2001-08-24             Bashira Kincaid  1977-09-25   \n",
       "\n",
       "  gender  heght   ethnicity          actor name  actor age      map ID  \\\n",
       "0      F  1.620         NaN      Wanda De Jesus       42.0  /m/0bgchxw   \n",
       "1      F  1.780  /m/044038p  Natasha Henstridge       27.0   /m/0jys3m   \n",
       "2      M  1.727     /m/0x67            Ice Cube       32.0   /m/0jys3g   \n",
       "3      M  1.750         NaN       Jason Statham       33.0  /m/02vchl6   \n",
       "4      F  1.650         NaN         Clea DuVall       23.0  /m/02vbb3r   \n",
       "\n",
       "      char ID    actor ID  role  \n",
       "0  /m/0bgcj3x  /m/03wcfv7     0  \n",
       "1  /m/0bgchn4   /m/0346l4     8  \n",
       "2  /m/0bgchn_  /m/01vw26l     4  \n",
       "3  /m/0bgchnq   /m/034hyc     3  \n",
       "4  /m/0bgchp9   /m/01y9xg     0  "
      ]
     },
     "execution_count": 15,
     "metadata": {},
     "output_type": "execute_result"
    }
   ],
   "source": [
    "char_df.head()"
   ]
  },
  {
   "cell_type": "code",
   "execution_count": 16,
   "metadata": {},
   "outputs": [],
   "source": [
    "char_df['sum_role'] = char_df.groupby('Wiki ID')['role'].transform('sum')\n",
    "char_df['role_ratio'] = char_df['role'] / char_df['sum_role']\n",
    "char_df = char_df.drop(columns=['sum_role'])"
   ]
  },
  {
   "cell_type": "code",
   "execution_count": 17,
   "metadata": {},
   "outputs": [
    {
     "data": {
      "text/html": [
       "<div>\n",
       "<style scoped>\n",
       "    .dataframe tbody tr th:only-of-type {\n",
       "        vertical-align: middle;\n",
       "    }\n",
       "\n",
       "    .dataframe tbody tr th {\n",
       "        vertical-align: top;\n",
       "    }\n",
       "\n",
       "    .dataframe thead th {\n",
       "        text-align: right;\n",
       "    }\n",
       "</style>\n",
       "<table border=\"1\" class=\"dataframe\">\n",
       "  <thead>\n",
       "    <tr style=\"text-align: right;\">\n",
       "      <th></th>\n",
       "      <th>Wiki ID</th>\n",
       "      <th>movie ID</th>\n",
       "      <th>release date</th>\n",
       "      <th>char name</th>\n",
       "      <th>DOB</th>\n",
       "      <th>gender</th>\n",
       "      <th>heght</th>\n",
       "      <th>ethnicity</th>\n",
       "      <th>actor name</th>\n",
       "      <th>actor age</th>\n",
       "      <th>map ID</th>\n",
       "      <th>char ID</th>\n",
       "      <th>actor ID</th>\n",
       "      <th>role</th>\n",
       "      <th>role_ratio</th>\n",
       "    </tr>\n",
       "  </thead>\n",
       "  <tbody>\n",
       "    <tr>\n",
       "      <th>0</th>\n",
       "      <td>975900</td>\n",
       "      <td>/m/03vyhn</td>\n",
       "      <td>2001-08-24</td>\n",
       "      <td>Akooshay</td>\n",
       "      <td>1958-08-26</td>\n",
       "      <td>F</td>\n",
       "      <td>1.620</td>\n",
       "      <td>NaN</td>\n",
       "      <td>Wanda De Jesus</td>\n",
       "      <td>42.0</td>\n",
       "      <td>/m/0bgchxw</td>\n",
       "      <td>/m/0bgcj3x</td>\n",
       "      <td>/m/03wcfv7</td>\n",
       "      <td>0</td>\n",
       "      <td>0.000000</td>\n",
       "    </tr>\n",
       "    <tr>\n",
       "      <th>1</th>\n",
       "      <td>975900</td>\n",
       "      <td>/m/03vyhn</td>\n",
       "      <td>2001-08-24</td>\n",
       "      <td>Lieutenant Melanie Ballard</td>\n",
       "      <td>1974-08-15</td>\n",
       "      <td>F</td>\n",
       "      <td>1.780</td>\n",
       "      <td>/m/044038p</td>\n",
       "      <td>Natasha Henstridge</td>\n",
       "      <td>27.0</td>\n",
       "      <td>/m/0jys3m</td>\n",
       "      <td>/m/0bgchn4</td>\n",
       "      <td>/m/0346l4</td>\n",
       "      <td>8</td>\n",
       "      <td>0.470588</td>\n",
       "    </tr>\n",
       "    <tr>\n",
       "      <th>2</th>\n",
       "      <td>975900</td>\n",
       "      <td>/m/03vyhn</td>\n",
       "      <td>2001-08-24</td>\n",
       "      <td>Desolation Williams</td>\n",
       "      <td>1969-06-15</td>\n",
       "      <td>M</td>\n",
       "      <td>1.727</td>\n",
       "      <td>/m/0x67</td>\n",
       "      <td>Ice Cube</td>\n",
       "      <td>32.0</td>\n",
       "      <td>/m/0jys3g</td>\n",
       "      <td>/m/0bgchn_</td>\n",
       "      <td>/m/01vw26l</td>\n",
       "      <td>4</td>\n",
       "      <td>0.235294</td>\n",
       "    </tr>\n",
       "    <tr>\n",
       "      <th>3</th>\n",
       "      <td>975900</td>\n",
       "      <td>/m/03vyhn</td>\n",
       "      <td>2001-08-24</td>\n",
       "      <td>Sgt Jericho Butler</td>\n",
       "      <td>1967-09-12</td>\n",
       "      <td>M</td>\n",
       "      <td>1.750</td>\n",
       "      <td>NaN</td>\n",
       "      <td>Jason Statham</td>\n",
       "      <td>33.0</td>\n",
       "      <td>/m/02vchl6</td>\n",
       "      <td>/m/0bgchnq</td>\n",
       "      <td>/m/034hyc</td>\n",
       "      <td>3</td>\n",
       "      <td>0.176471</td>\n",
       "    </tr>\n",
       "    <tr>\n",
       "      <th>4</th>\n",
       "      <td>975900</td>\n",
       "      <td>/m/03vyhn</td>\n",
       "      <td>2001-08-24</td>\n",
       "      <td>Bashira Kincaid</td>\n",
       "      <td>1977-09-25</td>\n",
       "      <td>F</td>\n",
       "      <td>1.650</td>\n",
       "      <td>NaN</td>\n",
       "      <td>Clea DuVall</td>\n",
       "      <td>23.0</td>\n",
       "      <td>/m/02vbb3r</td>\n",
       "      <td>/m/0bgchp9</td>\n",
       "      <td>/m/01y9xg</td>\n",
       "      <td>0</td>\n",
       "      <td>0.000000</td>\n",
       "    </tr>\n",
       "  </tbody>\n",
       "</table>\n",
       "</div>"
      ],
      "text/plain": [
       "   Wiki ID   movie ID release date                   char name         DOB  \\\n",
       "0   975900  /m/03vyhn   2001-08-24                    Akooshay  1958-08-26   \n",
       "1   975900  /m/03vyhn   2001-08-24  Lieutenant Melanie Ballard  1974-08-15   \n",
       "2   975900  /m/03vyhn   2001-08-24         Desolation Williams  1969-06-15   \n",
       "3   975900  /m/03vyhn   2001-08-24          Sgt Jericho Butler  1967-09-12   \n",
       "4   975900  /m/03vyhn   2001-08-24             Bashira Kincaid  1977-09-25   \n",
       "\n",
       "  gender  heght   ethnicity          actor name  actor age      map ID  \\\n",
       "0      F  1.620         NaN      Wanda De Jesus       42.0  /m/0bgchxw   \n",
       "1      F  1.780  /m/044038p  Natasha Henstridge       27.0   /m/0jys3m   \n",
       "2      M  1.727     /m/0x67            Ice Cube       32.0   /m/0jys3g   \n",
       "3      M  1.750         NaN       Jason Statham       33.0  /m/02vchl6   \n",
       "4      F  1.650         NaN         Clea DuVall       23.0  /m/02vbb3r   \n",
       "\n",
       "      char ID    actor ID  role  role_ratio  \n",
       "0  /m/0bgcj3x  /m/03wcfv7     0    0.000000  \n",
       "1  /m/0bgchn4   /m/0346l4     8    0.470588  \n",
       "2  /m/0bgchn_  /m/01vw26l     4    0.235294  \n",
       "3  /m/0bgchnq   /m/034hyc     3    0.176471  \n",
       "4  /m/0bgchp9   /m/01y9xg     0    0.000000  "
      ]
     },
     "execution_count": 17,
     "metadata": {},
     "output_type": "execute_result"
    }
   ],
   "source": [
    "char_df.head()"
   ]
  },
  {
   "cell_type": "code",
   "execution_count": 18,
   "metadata": {},
   "outputs": [],
   "source": [
    "char_df.to_csv('..\\Data\\preprocessed_data\\char_with_roles_and_role_ratio.csv', index=False)"
   ]
  },
  {
   "cell_type": "markdown",
   "metadata": {},
   "source": [
    "We define 3 types of roles: lead, secondary, small:\n",
    "- if a character has no mentions in the synopsis, we consider it a small role\n",
    "- distinguishing between lead and secondary roles can be done after the observation of the distributions "
   ]
  },
  {
   "cell_type": "code",
   "execution_count": 46,
   "metadata": {},
   "outputs": [
    {
     "data": {
      "text/plain": [
       "<matplotlib.legend.Legend at 0x20c819d8430>"
      ]
     },
     "execution_count": 46,
     "metadata": {},
     "output_type": "execute_result"
    },
    {
     "data": {
      "image/png": "[encoded data removed]",
      "text/plain": [
       "<Figure size 576x576 with 1 Axes>"
      ]
     },
     "metadata": {},
     "output_type": "display_data"
    }
   ],
   "source": [
    "lead_and_secondary_roles = char_df[char_df[\"role_ratio\"] > 0.]\n",
    "graph = sns.displot(lead_and_secondary_roles[\"role_ratio\"], kde=True, height=8).set(\n",
    "    title=\"Ratio of Mentions per Character for lead and secondary roles\"\n",
    ")\n",
    "plt.axvline(0.425, 0.0, 10.0, linestyle='--', label=\"threshold\")\n",
    "sns.set(rc={'figure.figsize':(20.7,16.27)})\n",
    "plt.legend(loc='upper left')"
   ]
  },
  {
   "cell_type": "markdown",
   "metadata": {},
   "source": [
    "Threshold for separating lead and secondary roles is 0.42 as a local minimum of kernel density estimation of ratio of mentions distribution. The interpretation is that on average there are 2 main characters with a high ratio of mentions in each plot and few characters with a low ratio of mentions"
   ]
  },
  {
   "cell_type": "markdown",
   "metadata": {},
   "source": [
    "Now we assing type of role to each character in the dataframe"
   ]
  },
  {
   "cell_type": "code",
   "execution_count": 48,
   "metadata": {},
   "outputs": [],
   "source": [
    "LEAD_THRESHOLD = 0.42"
   ]
  },
  {
   "cell_type": "code",
   "execution_count": 49,
   "metadata": {},
   "outputs": [
    {
     "data": {
      "text/html": [
       "<div>\n",
       "<style scoped>\n",
       "    .dataframe tbody tr th:only-of-type {\n",
       "        vertical-align: middle;\n",
       "    }\n",
       "\n",
       "    .dataframe tbody tr th {\n",
       "        vertical-align: top;\n",
       "    }\n",
       "\n",
       "    .dataframe thead th {\n",
       "        text-align: right;\n",
       "    }\n",
       "</style>\n",
       "<table border=\"1\" class=\"dataframe\">\n",
       "  <thead>\n",
       "    <tr style=\"text-align: right;\">\n",
       "      <th></th>\n",
       "      <th>Wiki ID</th>\n",
       "      <th>movie ID</th>\n",
       "      <th>release date</th>\n",
       "      <th>char name</th>\n",
       "      <th>DOB</th>\n",
       "      <th>gender</th>\n",
       "      <th>heght</th>\n",
       "      <th>ethnicity</th>\n",
       "      <th>actor name</th>\n",
       "      <th>actor age</th>\n",
       "      <th>map ID</th>\n",
       "      <th>char ID</th>\n",
       "      <th>actor ID</th>\n",
       "      <th>role</th>\n",
       "      <th>role_ratio</th>\n",
       "    </tr>\n",
       "  </thead>\n",
       "  <tbody>\n",
       "    <tr>\n",
       "      <th>0</th>\n",
       "      <td>975900</td>\n",
       "      <td>/m/03vyhn</td>\n",
       "      <td>2001-08-24</td>\n",
       "      <td>Akooshay</td>\n",
       "      <td>1958-08-26</td>\n",
       "      <td>F</td>\n",
       "      <td>1.620</td>\n",
       "      <td>NaN</td>\n",
       "      <td>Wanda De Jesus</td>\n",
       "      <td>42.0</td>\n",
       "      <td>/m/0bgchxw</td>\n",
       "      <td>/m/0bgcj3x</td>\n",
       "      <td>/m/03wcfv7</td>\n",
       "      <td>small</td>\n",
       "      <td>0.000000</td>\n",
       "    </tr>\n",
       "    <tr>\n",
       "      <th>1</th>\n",
       "      <td>975900</td>\n",
       "      <td>/m/03vyhn</td>\n",
       "      <td>2001-08-24</td>\n",
       "      <td>Lieutenant Melanie Ballard</td>\n",
       "      <td>1974-08-15</td>\n",
       "      <td>F</td>\n",
       "      <td>1.780</td>\n",
       "      <td>/m/044038p</td>\n",
       "      <td>Natasha Henstridge</td>\n",
       "      <td>27.0</td>\n",
       "      <td>/m/0jys3m</td>\n",
       "      <td>/m/0bgchn4</td>\n",
       "      <td>/m/0346l4</td>\n",
       "      <td>lead</td>\n",
       "      <td>0.470588</td>\n",
       "    </tr>\n",
       "    <tr>\n",
       "      <th>2</th>\n",
       "      <td>975900</td>\n",
       "      <td>/m/03vyhn</td>\n",
       "      <td>2001-08-24</td>\n",
       "      <td>Desolation Williams</td>\n",
       "      <td>1969-06-15</td>\n",
       "      <td>M</td>\n",
       "      <td>1.727</td>\n",
       "      <td>/m/0x67</td>\n",
       "      <td>Ice Cube</td>\n",
       "      <td>32.0</td>\n",
       "      <td>/m/0jys3g</td>\n",
       "      <td>/m/0bgchn_</td>\n",
       "      <td>/m/01vw26l</td>\n",
       "      <td>secondary</td>\n",
       "      <td>0.235294</td>\n",
       "    </tr>\n",
       "    <tr>\n",
       "      <th>3</th>\n",
       "      <td>975900</td>\n",
       "      <td>/m/03vyhn</td>\n",
       "      <td>2001-08-24</td>\n",
       "      <td>Sgt Jericho Butler</td>\n",
       "      <td>1967-09-12</td>\n",
       "      <td>M</td>\n",
       "      <td>1.750</td>\n",
       "      <td>NaN</td>\n",
       "      <td>Jason Statham</td>\n",
       "      <td>33.0</td>\n",
       "      <td>/m/02vchl6</td>\n",
       "      <td>/m/0bgchnq</td>\n",
       "      <td>/m/034hyc</td>\n",
       "      <td>secondary</td>\n",
       "      <td>0.176471</td>\n",
       "    </tr>\n",
       "    <tr>\n",
       "      <th>4</th>\n",
       "      <td>975900</td>\n",
       "      <td>/m/03vyhn</td>\n",
       "      <td>2001-08-24</td>\n",
       "      <td>Bashira Kincaid</td>\n",
       "      <td>1977-09-25</td>\n",
       "      <td>F</td>\n",
       "      <td>1.650</td>\n",
       "      <td>NaN</td>\n",
       "      <td>Clea DuVall</td>\n",
       "      <td>23.0</td>\n",
       "      <td>/m/02vbb3r</td>\n",
       "      <td>/m/0bgchp9</td>\n",
       "      <td>/m/01y9xg</td>\n",
       "      <td>small</td>\n",
       "      <td>0.000000</td>\n",
       "    </tr>\n",
       "  </tbody>\n",
       "</table>\n",
       "</div>"
      ],
      "text/plain": [
       "   Wiki ID   movie ID release date                   char name         DOB  \\\n",
       "0   975900  /m/03vyhn   2001-08-24                    Akooshay  1958-08-26   \n",
       "1   975900  /m/03vyhn   2001-08-24  Lieutenant Melanie Ballard  1974-08-15   \n",
       "2   975900  /m/03vyhn   2001-08-24         Desolation Williams  1969-06-15   \n",
       "3   975900  /m/03vyhn   2001-08-24          Sgt Jericho Butler  1967-09-12   \n",
       "4   975900  /m/03vyhn   2001-08-24             Bashira Kincaid  1977-09-25   \n",
       "\n",
       "  gender  heght   ethnicity          actor name  actor age      map ID  \\\n",
       "0      F  1.620         NaN      Wanda De Jesus       42.0  /m/0bgchxw   \n",
       "1      F  1.780  /m/044038p  Natasha Henstridge       27.0   /m/0jys3m   \n",
       "2      M  1.727     /m/0x67            Ice Cube       32.0   /m/0jys3g   \n",
       "3      M  1.750         NaN       Jason Statham       33.0  /m/02vchl6   \n",
       "4      F  1.650         NaN         Clea DuVall       23.0  /m/02vbb3r   \n",
       "\n",
       "      char ID    actor ID       role  role_ratio  \n",
       "0  /m/0bgcj3x  /m/03wcfv7      small    0.000000  \n",
       "1  /m/0bgchn4   /m/0346l4       lead    0.470588  \n",
       "2  /m/0bgchn_  /m/01vw26l  secondary    0.235294  \n",
       "3  /m/0bgchnq   /m/034hyc  secondary    0.176471  \n",
       "4  /m/0bgchp9   /m/01y9xg      small    0.000000  "
      ]
     },
     "execution_count": 49,
     "metadata": {},
     "output_type": "execute_result"
    }
   ],
   "source": [
    "def define_role_type(x):\n",
    "    if x >= LEAD_THRESHOLD:\n",
    "        x = \"lead\"\n",
    "    elif 0 < x < LEAD_THRESHOLD:\n",
    "        x = \"secondary\"\n",
    "    else:\n",
    "        x = \"small\"\n",
    "    return x\n",
    "\n",
    "char_df[\"role\"] = char_df[\"role_ratio\"].apply(define_role_type)\n",
    "char_df.head()"
   ]
  },
  {
   "cell_type": "markdown",
   "metadata": {},
   "source": [
    "Let's examine the number of lead roles per actor"
   ]
  },
  {
   "cell_type": "code",
   "execution_count": 50,
   "metadata": {},
   "outputs": [
    {
     "data": {
      "text/plain": [
       "Mel Blanc            259\n",
       "Mohanlal              79\n",
       "Mammootty             73\n",
       "John Wayne            71\n",
       "Bette Davis           46\n",
       "                    ... \n",
       "Jean-Louis Sbille      1\n",
       "Laurie Mitchell        1\n",
       "Rosyam Nor             1\n",
       "Enzo the Dog           1\n",
       "Richard Dolman         1\n",
       "Name: actor name, Length: 8228, dtype: int64"
      ]
     },
     "execution_count": 50,
     "metadata": {},
     "output_type": "execute_result"
    }
   ],
   "source": [
    "lead_actors = char_df[char_df[\"role\"] == \"lead\"][\"actor name\"]\n",
    "lead_actors_counts = lead_actors.value_counts()\n",
    "lead_actors_counts"
   ]
  },
  {
   "cell_type": "markdown",
   "metadata": {},
   "source": [
    "Since a single lead role is the most frequent case, let's look on the number of lead roles for actors, who have played main characters multiple times. We also ignore Mel Blanc, who is regarded as the most prolific actor to ever work in Hollywood and obviously represents an extreme case"
   ]
  },
  {
   "cell_type": "code",
   "execution_count": 77,
   "metadata": {},
   "outputs": [
    {
     "data": {
      "text/plain": [
       "Text(0.5, 1.0, \"Distribution of numbers of lead roles in actor's career\")"
      ]
     },
     "execution_count": 77,
     "metadata": {},
     "output_type": "execute_result"
    },
    {
     "data": {
      "image/png": "[encoded data removed]",
      "text/plain": [
       "<Figure size 720x576 with 1 Axes>"
      ]
     },
     "metadata": {},
     "output_type": "display_data"
    }
   ],
   "source": [
    "lead_actors_counts.where((lead_actors_counts > 1) & (lead_actors_counts < 259)).plot(\n",
    "    kind=\"hist\", figsize=(10, 8), bins=20, log=True)\n",
    "plt.xlabel(\"Number of lead roles per actor\")\n",
    "plt.title(\"Distribution of numbers of lead roles in actor's career\", fontsize=15)"
   ]
  },
  {
   "cell_type": "markdown",
   "metadata": {},
   "source": [
    "Distribution of number of lead roles per actor is exponentially decreasing"
   ]
  },
  {
   "cell_type": "code",
   "execution_count": 78,
   "metadata": {},
   "outputs": [
    {
     "data": {
      "text/plain": [
       "Mel Blanc           130\n",
       "Amitabh Bachchan     62\n",
       "Amrish Puri          45\n",
       "Akshay Kumar         42\n",
       "Salman Khan          40\n",
       "                   ... \n",
       "Zuzana Fialová        1\n",
       "Oldřich Kaiser        1\n",
       "Ivan Barnev           1\n",
       "Josef Abrhám          1\n",
       "Norman Whitten        1\n",
       "Name: actor name, Length: 18409, dtype: int64"
      ]
     },
     "execution_count": 78,
     "metadata": {},
     "output_type": "execute_result"
    }
   ],
   "source": [
    "secondary_actors = char_df[char_df[\"role\"] == \"secondary\"][\"actor name\"]\n",
    "secondary_actors_counts = secondary_actors.value_counts()\n",
    "secondary_actors_counts"
   ]
  },
  {
   "cell_type": "code",
   "execution_count": 80,
   "metadata": {},
   "outputs": [
    {
     "name": "stdout",
     "output_type": "stream",
     "text": [
      "Index(['Mel Blanc', 'Mohanlal', 'Mammootty', 'John Wayne', 'Bette Davis',\n",
      "       'James Stewart', 'Joan Crawford', 'Barbara Stanwyck', 'Burt Lancaster',\n",
      "       'Gary Cooper',\n",
      "       ...\n",
      "       'Nathan Keyes', 'Jackie Coogan', 'Izabella Miko', 'Adriana Asti',\n",
      "       'Violante Placido', 'Anu Ansari', 'Kevin J. O'Connor', 'Kevin Conroy',\n",
      "       'Déborah François', 'Rosyam Nor'],\n",
      "      dtype='object', length=3939)\n"
     ]
    }
   ],
   "source": [
    "ser1 = lead_actors_counts.index\n",
    "ser2 = secondary_actors_counts.index\n",
    "intersect = ser1.intersection(ser2)\n",
    "print(intersect)"
   ]
  }
 ],
 "metadata": {
  "kernelspec": {
   "display_name": "Python 3",
   "language": "python",
   "name": "python3"
  },
  "language_info": {
   "codemirror_mode": {
    "name": "ipython",
    "version": 3
   },
   "file_extension": ".py",
   "mimetype": "text/x-python",
   "name": "python",
   "nbconvert_exporter": "python",
   "pygments_lexer": "ipython3",
   "version": "3.9.7"
  },
  "orig_nbformat": 4
 },
 "nbformat": 4,
 "nbformat_minor": 2
}
